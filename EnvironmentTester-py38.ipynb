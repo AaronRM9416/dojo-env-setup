{
 "cells": [
  {
   "cell_type": "markdown",
   "id": "884ad119",
   "metadata": {},
   "source": [
    "# Environment Tester"
   ]
  },
  {
   "cell_type": "markdown",
   "id": "f0f3bcbe",
   "metadata": {},
   "source": [
    "- The following notebook is meant to be a quick summary/verification of your computers environment.\n",
    "- Please run all of the cells to get all of the information displayed. \n",
    "    - Either Press `Shift + Enter` to run each cell \n",
    "    - OR Click on `Kernel`> `Restart & Run All`"
   ]
  },
  {
   "cell_type": "markdown",
   "id": "a6aeb364",
   "metadata": {},
   "source": [
    "## Conda"
   ]
  },
  {
   "cell_type": "code",
   "execution_count": 1,
   "id": "01fedf9a",
   "metadata": {
    "ExecuteTime": {
     "end_time": "2022-06-02T23:34:10.098086Z",
     "start_time": "2022-06-02T23:34:09.618604Z"
    }
   },
   "outputs": [
    {
     "name": "stdout",
     "output_type": "stream",
     "text": [
      "\n",
      "     active environment : dojo-env\n",
      "    active env location : /opt/homebrew/Caskroom/miniforge/base/envs/dojo-env\n",
      "            shell level : 2\n",
      "       user config file : /Users/codingdojo/.condarc\n",
      " populated config files : /opt/homebrew/Caskroom/miniforge/base/.condarc\n",
      "                          /Users/codingdojo/.condarc\n",
      "          conda version : 4.13.0\n",
      "    conda-build version : not installed\n",
      "         python version : 3.9.10.final.0\n",
      "       virtual packages : __osx=12.4=0\n",
      "                          __unix=0=0\n",
      "                          __archspec=1=arm64\n",
      "       base environment : /opt/homebrew/Caskroom/miniforge/base  (writable)\n",
      "      conda av data dir : /opt/homebrew/Caskroom/miniforge/base/etc/conda\n",
      "  conda av metadata url : None\n",
      "           channel URLs : https://repo.anaconda.com/pkgs/main/osx-arm64\n",
      "                          https://repo.anaconda.com/pkgs/main/noarch\n",
      "                          https://repo.anaconda.com/pkgs/r/osx-arm64\n",
      "                          https://repo.anaconda.com/pkgs/r/noarch\n",
      "                          https://conda.anaconda.org/conda-forge/osx-arm64\n",
      "                          https://conda.anaconda.org/conda-forge/noarch\n",
      "          package cache : /opt/homebrew/Caskroom/miniforge/base/pkgs\n",
      "                          /Users/codingdojo/.conda/pkgs\n",
      "       envs directories : /opt/homebrew/Caskroom/miniforge/base/envs\n",
      "                          /Users/codingdojo/.conda/envs\n",
      "               platform : osx-arm64\n",
      "             user-agent : conda/4.13.0 requests/2.27.1 CPython/3.9.10 Darwin/21.5.0 OSX/12.4\n",
      "                UID:GID : 502:20\n",
      "             netrc file : None\n",
      "           offline mode : False\n",
      "\n",
      "\n",
      "Note: you may need to restart the kernel to use updated packages.\n"
     ]
    }
   ],
   "source": [
    "## GET CURRENT ENVIRONMENT INFO\n",
    "%conda info"
   ]
  },
  {
   "cell_type": "code",
   "execution_count": 2,
   "id": "e83a69c5",
   "metadata": {
    "ExecuteTime": {
     "end_time": "2022-06-02T23:34:10.625887Z",
     "start_time": "2022-06-02T23:34:10.488622Z"
    }
   },
   "outputs": [
    {
     "name": "stdout",
     "output_type": "stream",
     "text": [
      "Python 3.8.13\r\n"
     ]
    }
   ],
   "source": [
    "## CHECK PYTHON VERSION (should be 3.8.13)\n",
    "!python --version"
   ]
  },
  {
   "cell_type": "code",
   "execution_count": 3,
   "id": "508c0333",
   "metadata": {
    "ExecuteTime": {
     "end_time": "2022-06-02T23:34:11.318323Z",
     "start_time": "2022-06-02T23:34:11.189147Z"
    }
   },
   "outputs": [
    {
     "name": "stdout",
     "output_type": "stream",
     "text": [
      "/opt/homebrew/Caskroom/miniforge/base/envs/dojo-env/bin/python\r\n"
     ]
    }
   ],
   "source": [
    "## Folder path to python\n",
    "!which python"
   ]
  },
  {
   "cell_type": "markdown",
   "id": "e024806d",
   "metadata": {},
   "source": [
    "## Python Packages"
   ]
  },
  {
   "cell_type": "code",
   "execution_count": 4,
   "id": "6fe05fcc",
   "metadata": {
    "ExecuteTime": {
     "end_time": "2022-06-02T23:34:50.920034Z",
     "start_time": "2022-06-02T23:34:50.912525Z"
    }
   },
   "outputs": [
    {
     "data": {
      "text/plain": [
       "'1.4.2'"
      ]
     },
     "execution_count": 4,
     "metadata": {},
     "output_type": "execute_result"
    }
   ],
   "source": [
    "# 1.4.2\n",
    "import pandas as pd\n",
    "pd.__version__"
   ]
  },
  {
   "cell_type": "code",
   "execution_count": 5,
   "id": "9948193a",
   "metadata": {
    "ExecuteTime": {
     "end_time": "2022-06-02T23:35:00.444841Z",
     "start_time": "2022-06-02T23:35:00.436061Z"
    }
   },
   "outputs": [
    {
     "data": {
      "text/plain": [
       "'1.22.4'"
      ]
     },
     "execution_count": 5,
     "metadata": {},
     "output_type": "execute_result"
    }
   ],
   "source": [
    "# 1.22.4\n",
    "import numpy as np\n",
    "np.__version__"
   ]
  },
  {
   "cell_type": "code",
   "execution_count": 6,
   "id": "c2dd7f0c",
   "metadata": {
    "ExecuteTime": {
     "end_time": "2022-06-02T23:35:02.884211Z",
     "start_time": "2022-06-02T23:35:01.559583Z"
    }
   },
   "outputs": [
    {
     "data": {
      "text/plain": [
       "'3.5.2'"
      ]
     },
     "execution_count": 6,
     "metadata": {},
     "output_type": "execute_result"
    }
   ],
   "source": [
    "# 3.5.2\n",
    "import matplotlib.pyplot as plt\n",
    "import matplotlib as mpl\n",
    "mpl.__version__"
   ]
  },
  {
   "cell_type": "code",
   "execution_count": 7,
   "id": "181a1dd9",
   "metadata": {
    "ExecuteTime": {
     "end_time": "2022-06-02T23:35:08.349827Z",
     "start_time": "2022-06-02T23:35:02.959974Z"
    }
   },
   "outputs": [
    {
     "data": {
      "text/plain": [
       "'0.11.2'"
      ]
     },
     "execution_count": 7,
     "metadata": {},
     "output_type": "execute_result"
    }
   ],
   "source": [
    "# 0.11.2\n",
    "import seaborn as sns\n",
    "sns.__version__"
   ]
  },
  {
   "cell_type": "code",
   "execution_count": 8,
   "id": "9aa602f4",
   "metadata": {
    "ExecuteTime": {
     "end_time": "2022-06-02T23:35:08.885706Z",
     "start_time": "2022-06-02T23:35:08.351740Z"
    }
   },
   "outputs": [
    {
     "data": {
      "text/plain": [
       "'1.1.1'"
      ]
     },
     "execution_count": 8,
     "metadata": {},
     "output_type": "execute_result"
    }
   ],
   "source": [
    "# 1.1.1\n",
    "import sklearn as sk\n",
    "from sklearn.preprocessing import StandardScaler\n",
    "sk.__version__"
   ]
  },
  {
   "cell_type": "code",
   "execution_count": 9,
   "id": "203919a5",
   "metadata": {
    "ExecuteTime": {
     "end_time": "2022-06-02T23:35:08.898164Z",
     "start_time": "2022-06-02T23:35:08.892159Z"
    }
   },
   "outputs": [
    {
     "data": {
      "text/plain": [
       "'1.8.1'"
      ]
     },
     "execution_count": 9,
     "metadata": {},
     "output_type": "execute_result"
    }
   ],
   "source": [
    "# 1.8.1\n",
    "import scipy as sp\n",
    "from scipy import stats\n",
    "sp.__version__"
   ]
  },
  {
   "cell_type": "code",
   "execution_count": 10,
   "id": "1abb33c6",
   "metadata": {
    "ExecuteTime": {
     "end_time": "2022-03-18T19:19:22.140260Z",
     "start_time": "2022-03-18T19:19:18.153787Z"
    }
   },
   "outputs": [
    {
     "data": {
      "text/plain": [
       "'0.13.2'"
      ]
     },
     "execution_count": 10,
     "metadata": {},
     "output_type": "execute_result"
    }
   ],
   "source": [
    "# 0.13.2\n",
    "import statsmodels\n",
    "import statsmodels.api as sm\n",
    "statsmodels.__version__"
   ]
  },
  {
   "cell_type": "code",
   "execution_count": 11,
   "id": "f5f8d93e",
   "metadata": {
    "ExecuteTime": {
     "end_time": "2022-06-02T23:35:14.986771Z",
     "start_time": "2022-06-02T23:35:14.979637Z"
    }
   },
   "outputs": [],
   "source": [
    "# # 1.21.18\n",
    "# import boto3\n",
    "# boto3.__version__"
   ]
  },
  {
   "cell_type": "code",
   "execution_count": 12,
   "id": "20bc3802",
   "metadata": {
    "ExecuteTime": {
     "end_time": "2022-06-02T23:35:15.400521Z",
     "start_time": "2022-06-02T23:35:15.375921Z"
    }
   },
   "outputs": [
    {
     "data": {
      "text/plain": [
       "'1.0.2'"
      ]
     },
     "execution_count": 12,
     "metadata": {},
     "output_type": "execute_result"
    }
   ],
   "source": [
    "# 1.0.2\n",
    "import pymysql\n",
    "pymysql.__version__"
   ]
  },
  {
   "cell_type": "code",
   "execution_count": 13,
   "id": "4a94f9bd",
   "metadata": {
    "ExecuteTime": {
     "end_time": "2022-06-02T23:35:20.613188Z",
     "start_time": "2022-06-02T23:35:16.569534Z"
    }
   },
   "outputs": [
    {
     "data": {
      "text/plain": [
       "'1.8.5'"
      ]
     },
     "execution_count": 13,
     "metadata": {},
     "output_type": "execute_result"
    }
   ],
   "source": [
    "# 1.8.5\n",
    "import pmdarima as pmd\n",
    "pmd.__version__"
   ]
  },
  {
   "cell_type": "code",
   "execution_count": 14,
   "id": "51e4025b",
   "metadata": {
    "ExecuteTime": {
     "end_time": "2022-06-02T23:35:24.248303Z",
     "start_time": "2022-06-02T23:35:20.621996Z"
    }
   },
   "outputs": [
    {
     "data": {
      "text/plain": [
       "'0.40.0'"
      ]
     },
     "execution_count": 14,
     "metadata": {},
     "output_type": "execute_result"
    }
   ],
   "source": [
    "# 0.40.0\n",
    "import shap\n",
    "shap.__version__"
   ]
  },
  {
   "cell_type": "code",
   "execution_count": 15,
   "id": "566ba727",
   "metadata": {
    "ExecuteTime": {
     "end_time": "2022-06-02T23:35:24.272232Z",
     "start_time": "2022-06-02T23:35:24.249822Z"
    }
   },
   "outputs": [
    {
     "data": {
      "text/plain": [
       "'0.9.1'"
      ]
     },
     "execution_count": 15,
     "metadata": {},
     "output_type": "execute_result"
    }
   ],
   "source": [
    "# 0.9.1\n",
    "import imblearn\n",
    "imblearn.__version__"
   ]
  },
  {
   "cell_type": "code",
   "execution_count": 16,
   "id": "fae01bba",
   "metadata": {
    "ExecuteTime": {
     "end_time": "2022-06-02T23:35:30.928678Z",
     "start_time": "2022-06-02T23:35:30.904661Z"
    }
   },
   "outputs": [
    {
     "data": {
      "text/plain": [
       "'0.6.7'"
      ]
     },
     "execution_count": 16,
     "metadata": {},
     "output_type": "execute_result"
    }
   ],
   "source": [
    "# 0.6.7\n",
    "import dython \n",
    "dython.__version__"
   ]
  },
  {
   "cell_type": "code",
   "execution_count": 17,
   "id": "267b2368",
   "metadata": {
    "ExecuteTime": {
     "end_time": "2022-06-02T23:35:47.380135Z",
     "start_time": "2022-06-02T23:35:47.367727Z"
    }
   },
   "outputs": [
    {
     "data": {
      "text/plain": [
       "'0.20.0'"
      ]
     },
     "execution_count": 17,
     "metadata": {},
     "output_type": "execute_result"
    }
   ],
   "source": [
    "# 0.20.0\n",
    "import mlxtend \n",
    "mlxtend.__version__"
   ]
  },
  {
   "cell_type": "code",
   "execution_count": 18,
   "id": "6bbc20ac",
   "metadata": {},
   "outputs": [
    {
     "data": {
      "text/plain": [
       "'0.2.7'"
      ]
     },
     "execution_count": 18,
     "metadata": {},
     "output_type": "execute_result"
    }
   ],
   "source": [
    "# 0.2.7\n",
    "import interpret\n",
    "interpret.__version__"
   ]
  },
  {
   "cell_type": "code",
   "execution_count": 19,
   "id": "003549e7",
   "metadata": {
    "ExecuteTime": {
     "end_time": "2022-03-18T19:19:22.227849Z",
     "start_time": "2022-03-18T19:19:22.226095Z"
    }
   },
   "outputs": [
    {
     "data": {
      "text/plain": [
       "'2.9.1'"
      ]
     },
     "execution_count": 19,
     "metadata": {},
     "output_type": "execute_result"
    }
   ],
   "source": [
    "## As long as m1 mac installed the m1 env, this should work\n",
    "import tensorflow as tf\n",
    "tf.__version__"
   ]
  },
  {
   "cell_type": "code",
   "execution_count": 39,
   "id": "e79a3309",
   "metadata": {},
   "outputs": [
    {
     "data": {
      "text/plain": [
       "'1.1.1'"
      ]
     },
     "execution_count": 39,
     "metadata": {},
     "output_type": "execute_result"
    }
   ],
   "source": [
    "# 1.1.1\n",
    "import sklearn\n",
    "sklearn.__version__"
   ]
  },
  {
   "cell_type": "markdown",
   "id": "e13c174c",
   "metadata": {},
   "source": [
    "## Jupyter Notebook Extensions"
   ]
  },
  {
   "cell_type": "code",
   "execution_count": 20,
   "id": "25b23bf3",
   "metadata": {
    "ExecuteTime": {
     "end_time": "2022-06-02T23:35:54.111142Z",
     "start_time": "2022-06-02T23:35:50.445620Z"
    }
   },
   "outputs": [
    {
     "name": "stdout",
     "output_type": "stream",
     "text": [
      "Collecting jupyter_contrib_nbextensions\n",
      "  Using cached jupyter_contrib_nbextensions-0.5.1-py2.py3-none-any.whl (20.9 MB)\n",
      "Collecting jupyter-nbextensions-configurator>=0.4.0\n",
      "  Using cached jupyter_nbextensions_configurator-0.4.1-py2.py3-none-any.whl\n",
      "Requirement already satisfied: nbconvert>=4.2 in /opt/homebrew/Caskroom/miniforge/base/envs/dojo-env/lib/python3.8/site-packages (from jupyter_contrib_nbextensions) (6.5.0)\n",
      "Collecting jupyter-contrib-core>=0.3.3\n",
      "  Using cached jupyter_contrib_core-0.3.3-py2.py3-none-any.whl (18 kB)\n",
      "Requirement already satisfied: jupyter-core in /opt/homebrew/Caskroom/miniforge/base/envs/dojo-env/lib/python3.8/site-packages (from jupyter_contrib_nbextensions) (4.10.0)\n",
      "Requirement already satisfied: ipython-genutils in /opt/homebrew/Caskroom/miniforge/base/envs/dojo-env/lib/python3.8/site-packages (from jupyter_contrib_nbextensions) (0.2.0)\n",
      "Requirement already satisfied: notebook>=4.0 in /opt/homebrew/Caskroom/miniforge/base/envs/dojo-env/lib/python3.8/site-packages (from jupyter_contrib_nbextensions) (6.4.11)\n",
      "Requirement already satisfied: traitlets>=4.1 in /opt/homebrew/Caskroom/miniforge/base/envs/dojo-env/lib/python3.8/site-packages (from jupyter_contrib_nbextensions) (5.2.2.post1)\n",
      "Collecting pyyaml\n",
      "  Using cached PyYAML-6.0-cp38-cp38-macosx_11_0_arm64.whl\n",
      "Collecting jupyter-latex-envs>=1.3.8\n",
      "  Using cached jupyter_latex_envs-1.4.6-py2.py3-none-any.whl\n",
      "Collecting jupyter-highlight-selected-word>=0.1.1\n",
      "  Using cached jupyter_highlight_selected_word-0.2.0-py2.py3-none-any.whl (11 kB)\n",
      "Requirement already satisfied: tornado in /opt/homebrew/Caskroom/miniforge/base/envs/dojo-env/lib/python3.8/site-packages (from jupyter_contrib_nbextensions) (6.1)\n",
      "Requirement already satisfied: lxml in /opt/homebrew/Caskroom/miniforge/base/envs/dojo-env/lib/python3.8/site-packages (from jupyter_contrib_nbextensions) (4.9.0)\n",
      "Requirement already satisfied: setuptools in /opt/homebrew/Caskroom/miniforge/base/envs/dojo-env/lib/python3.8/site-packages (from jupyter-contrib-core>=0.3.3->jupyter_contrib_nbextensions) (62.3.2)\n",
      "Requirement already satisfied: ipython in /opt/homebrew/Caskroom/miniforge/base/envs/dojo-env/lib/python3.8/site-packages (from jupyter-latex-envs>=1.3.8->jupyter_contrib_nbextensions) (8.4.0)\n",
      "Requirement already satisfied: jupyterlab-pygments in /opt/homebrew/Caskroom/miniforge/base/envs/dojo-env/lib/python3.8/site-packages (from nbconvert>=4.2->jupyter_contrib_nbextensions) (0.2.2)\n",
      "Requirement already satisfied: mistune<2,>=0.8.1 in /opt/homebrew/Caskroom/miniforge/base/envs/dojo-env/lib/python3.8/site-packages (from nbconvert>=4.2->jupyter_contrib_nbextensions) (0.8.4)\n",
      "Requirement already satisfied: packaging in /opt/homebrew/Caskroom/miniforge/base/envs/dojo-env/lib/python3.8/site-packages (from nbconvert>=4.2->jupyter_contrib_nbextensions) (21.3)\n",
      "Requirement already satisfied: MarkupSafe>=2.0 in /opt/homebrew/Caskroom/miniforge/base/envs/dojo-env/lib/python3.8/site-packages (from nbconvert>=4.2->jupyter_contrib_nbextensions) (2.1.1)\n",
      "Requirement already satisfied: pandocfilters>=1.4.1 in /opt/homebrew/Caskroom/miniforge/base/envs/dojo-env/lib/python3.8/site-packages (from nbconvert>=4.2->jupyter_contrib_nbextensions) (1.5.0)\n",
      "Requirement already satisfied: bleach in /opt/homebrew/Caskroom/miniforge/base/envs/dojo-env/lib/python3.8/site-packages (from nbconvert>=4.2->jupyter_contrib_nbextensions) (5.0.0)\n",
      "Requirement already satisfied: pygments>=2.4.1 in /opt/homebrew/Caskroom/miniforge/base/envs/dojo-env/lib/python3.8/site-packages (from nbconvert>=4.2->jupyter_contrib_nbextensions) (2.12.0)\n",
      "Requirement already satisfied: beautifulsoup4 in /opt/homebrew/Caskroom/miniforge/base/envs/dojo-env/lib/python3.8/site-packages (from nbconvert>=4.2->jupyter_contrib_nbextensions) (4.11.1)\n",
      "Requirement already satisfied: nbclient>=0.5.0 in /opt/homebrew/Caskroom/miniforge/base/envs/dojo-env/lib/python3.8/site-packages (from nbconvert>=4.2->jupyter_contrib_nbextensions) (0.6.4)\n",
      "Requirement already satisfied: defusedxml in /opt/homebrew/Caskroom/miniforge/base/envs/dojo-env/lib/python3.8/site-packages (from nbconvert>=4.2->jupyter_contrib_nbextensions) (0.7.1)\n",
      "Requirement already satisfied: jinja2>=3.0 in /opt/homebrew/Caskroom/miniforge/base/envs/dojo-env/lib/python3.8/site-packages (from nbconvert>=4.2->jupyter_contrib_nbextensions) (3.1.2)\n",
      "Requirement already satisfied: tinycss2 in /opt/homebrew/Caskroom/miniforge/base/envs/dojo-env/lib/python3.8/site-packages (from nbconvert>=4.2->jupyter_contrib_nbextensions) (1.1.1)\n",
      "Requirement already satisfied: entrypoints>=0.2.2 in /opt/homebrew/Caskroom/miniforge/base/envs/dojo-env/lib/python3.8/site-packages (from nbconvert>=4.2->jupyter_contrib_nbextensions) (0.4)\n",
      "Requirement already satisfied: nbformat>=5.1 in /opt/homebrew/Caskroom/miniforge/base/envs/dojo-env/lib/python3.8/site-packages (from nbconvert>=4.2->jupyter_contrib_nbextensions) (5.4.0)\n",
      "Requirement already satisfied: nest-asyncio>=1.5 in /opt/homebrew/Caskroom/miniforge/base/envs/dojo-env/lib/python3.8/site-packages (from notebook>=4.0->jupyter_contrib_nbextensions) (1.5.5)\n",
      "Requirement already satisfied: jupyter-client>=5.3.4 in /opt/homebrew/Caskroom/miniforge/base/envs/dojo-env/lib/python3.8/site-packages (from notebook>=4.0->jupyter_contrib_nbextensions) (7.3.1)\n",
      "Requirement already satisfied: prometheus-client in /opt/homebrew/Caskroom/miniforge/base/envs/dojo-env/lib/python3.8/site-packages (from notebook>=4.0->jupyter_contrib_nbextensions) (0.14.1)\n",
      "Requirement already satisfied: ipykernel in /opt/homebrew/Caskroom/miniforge/base/envs/dojo-env/lib/python3.8/site-packages (from notebook>=4.0->jupyter_contrib_nbextensions) (6.13.0)\n",
      "Requirement already satisfied: terminado>=0.8.3 in /opt/homebrew/Caskroom/miniforge/base/envs/dojo-env/lib/python3.8/site-packages (from notebook>=4.0->jupyter_contrib_nbextensions) (0.15.0)\n",
      "Requirement already satisfied: Send2Trash>=1.8.0 in /opt/homebrew/Caskroom/miniforge/base/envs/dojo-env/lib/python3.8/site-packages (from notebook>=4.0->jupyter_contrib_nbextensions) (1.8.0)\n",
      "Requirement already satisfied: argon2-cffi in /opt/homebrew/Caskroom/miniforge/base/envs/dojo-env/lib/python3.8/site-packages (from notebook>=4.0->jupyter_contrib_nbextensions) (21.3.0)\n",
      "Requirement already satisfied: pyzmq>=17 in /opt/homebrew/Caskroom/miniforge/base/envs/dojo-env/lib/python3.8/site-packages (from notebook>=4.0->jupyter_contrib_nbextensions) (23.1.0)\n",
      "Requirement already satisfied: python-dateutil>=2.8.2 in /opt/homebrew/Caskroom/miniforge/base/envs/dojo-env/lib/python3.8/site-packages (from jupyter-client>=5.3.4->notebook>=4.0->jupyter_contrib_nbextensions) (2.8.2)\n",
      "Requirement already satisfied: jsonschema>=2.6 in /opt/homebrew/Caskroom/miniforge/base/envs/dojo-env/lib/python3.8/site-packages (from nbformat>=5.1->nbconvert>=4.2->jupyter_contrib_nbextensions) (4.6.0)\n",
      "Requirement already satisfied: fastjsonschema in /opt/homebrew/Caskroom/miniforge/base/envs/dojo-env/lib/python3.8/site-packages (from nbformat>=5.1->nbconvert>=4.2->jupyter_contrib_nbextensions) (2.15.3)\n",
      "Requirement already satisfied: ptyprocess in /opt/homebrew/Caskroom/miniforge/base/envs/dojo-env/lib/python3.8/site-packages (from terminado>=0.8.3->notebook>=4.0->jupyter_contrib_nbextensions) (0.7.0)\n",
      "Requirement already satisfied: argon2-cffi-bindings in /opt/homebrew/Caskroom/miniforge/base/envs/dojo-env/lib/python3.8/site-packages (from argon2-cffi->notebook>=4.0->jupyter_contrib_nbextensions) (21.2.0)\n",
      "Requirement already satisfied: soupsieve>1.2 in /opt/homebrew/Caskroom/miniforge/base/envs/dojo-env/lib/python3.8/site-packages (from beautifulsoup4->nbconvert>=4.2->jupyter_contrib_nbextensions) (2.3.1)\n",
      "Requirement already satisfied: six>=1.9.0 in /opt/homebrew/Caskroom/miniforge/base/envs/dojo-env/lib/python3.8/site-packages (from bleach->nbconvert>=4.2->jupyter_contrib_nbextensions) (1.15.0)\n",
      "Requirement already satisfied: webencodings in /opt/homebrew/Caskroom/miniforge/base/envs/dojo-env/lib/python3.8/site-packages (from bleach->nbconvert>=4.2->jupyter_contrib_nbextensions) (0.5.1)\n",
      "Requirement already satisfied: appnope in /opt/homebrew/Caskroom/miniforge/base/envs/dojo-env/lib/python3.8/site-packages (from ipykernel->notebook>=4.0->jupyter_contrib_nbextensions) (0.1.3)\n",
      "Requirement already satisfied: psutil in /opt/homebrew/Caskroom/miniforge/base/envs/dojo-env/lib/python3.8/site-packages (from ipykernel->notebook>=4.0->jupyter_contrib_nbextensions) (5.9.1)\n",
      "Requirement already satisfied: matplotlib-inline>=0.1 in /opt/homebrew/Caskroom/miniforge/base/envs/dojo-env/lib/python3.8/site-packages (from ipykernel->notebook>=4.0->jupyter_contrib_nbextensions) (0.1.3)\n",
      "Requirement already satisfied: debugpy>=1.0 in /opt/homebrew/Caskroom/miniforge/base/envs/dojo-env/lib/python3.8/site-packages (from ipykernel->notebook>=4.0->jupyter_contrib_nbextensions) (1.6.0)\n"
     ]
    },
    {
     "name": "stdout",
     "output_type": "stream",
     "text": [
      "Requirement already satisfied: decorator in /opt/homebrew/Caskroom/miniforge/base/envs/dojo-env/lib/python3.8/site-packages (from ipython->jupyter-latex-envs>=1.3.8->jupyter_contrib_nbextensions) (5.1.1)\n",
      "Requirement already satisfied: pickleshare in /opt/homebrew/Caskroom/miniforge/base/envs/dojo-env/lib/python3.8/site-packages (from ipython->jupyter-latex-envs>=1.3.8->jupyter_contrib_nbextensions) (0.7.5)\n",
      "Requirement already satisfied: pexpect>4.3 in /opt/homebrew/Caskroom/miniforge/base/envs/dojo-env/lib/python3.8/site-packages (from ipython->jupyter-latex-envs>=1.3.8->jupyter_contrib_nbextensions) (4.8.0)\n",
      "Requirement already satisfied: backcall in /opt/homebrew/Caskroom/miniforge/base/envs/dojo-env/lib/python3.8/site-packages (from ipython->jupyter-latex-envs>=1.3.8->jupyter_contrib_nbextensions) (0.2.0)\n",
      "Requirement already satisfied: prompt-toolkit!=3.0.0,!=3.0.1,<3.1.0,>=2.0.0 in /opt/homebrew/Caskroom/miniforge/base/envs/dojo-env/lib/python3.8/site-packages (from ipython->jupyter-latex-envs>=1.3.8->jupyter_contrib_nbextensions) (3.0.29)\n",
      "Requirement already satisfied: stack-data in /opt/homebrew/Caskroom/miniforge/base/envs/dojo-env/lib/python3.8/site-packages (from ipython->jupyter-latex-envs>=1.3.8->jupyter_contrib_nbextensions) (0.2.0)\n",
      "Requirement already satisfied: jedi>=0.16 in /opt/homebrew/Caskroom/miniforge/base/envs/dojo-env/lib/python3.8/site-packages (from ipython->jupyter-latex-envs>=1.3.8->jupyter_contrib_nbextensions) (0.18.1)\n",
      "Requirement already satisfied: pyparsing!=3.0.5,>=2.0.2 in /opt/homebrew/Caskroom/miniforge/base/envs/dojo-env/lib/python3.8/site-packages (from packaging->nbconvert>=4.2->jupyter_contrib_nbextensions) (3.0.9)\n",
      "Requirement already satisfied: parso<0.9.0,>=0.8.0 in /opt/homebrew/Caskroom/miniforge/base/envs/dojo-env/lib/python3.8/site-packages (from jedi>=0.16->ipython->jupyter-latex-envs>=1.3.8->jupyter_contrib_nbextensions) (0.8.3)\n",
      "Requirement already satisfied: importlib-resources>=1.4.0 in /opt/homebrew/Caskroom/miniforge/base/envs/dojo-env/lib/python3.8/site-packages (from jsonschema>=2.6->nbformat>=5.1->nbconvert>=4.2->jupyter_contrib_nbextensions) (5.7.1)\n",
      "Requirement already satisfied: pyrsistent!=0.17.0,!=0.17.1,!=0.17.2,>=0.14.0 in /opt/homebrew/Caskroom/miniforge/base/envs/dojo-env/lib/python3.8/site-packages (from jsonschema>=2.6->nbformat>=5.1->nbconvert>=4.2->jupyter_contrib_nbextensions) (0.18.1)\n",
      "Requirement already satisfied: attrs>=17.4.0 in /opt/homebrew/Caskroom/miniforge/base/envs/dojo-env/lib/python3.8/site-packages (from jsonschema>=2.6->nbformat>=5.1->nbconvert>=4.2->jupyter_contrib_nbextensions) (21.4.0)\n",
      "Requirement already satisfied: wcwidth in /opt/homebrew/Caskroom/miniforge/base/envs/dojo-env/lib/python3.8/site-packages (from prompt-toolkit!=3.0.0,!=3.0.1,<3.1.0,>=2.0.0->ipython->jupyter-latex-envs>=1.3.8->jupyter_contrib_nbextensions) (0.2.5)\n",
      "Requirement already satisfied: cffi>=1.0.1 in /opt/homebrew/Caskroom/miniforge/base/envs/dojo-env/lib/python3.8/site-packages (from argon2-cffi-bindings->argon2-cffi->notebook>=4.0->jupyter_contrib_nbextensions) (1.15.0)\n",
      "Requirement already satisfied: executing in /opt/homebrew/Caskroom/miniforge/base/envs/dojo-env/lib/python3.8/site-packages (from stack-data->ipython->jupyter-latex-envs>=1.3.8->jupyter_contrib_nbextensions) (0.8.3)\n",
      "Requirement already satisfied: pure-eval in /opt/homebrew/Caskroom/miniforge/base/envs/dojo-env/lib/python3.8/site-packages (from stack-data->ipython->jupyter-latex-envs>=1.3.8->jupyter_contrib_nbextensions) (0.2.2)\n",
      "Requirement already satisfied: asttokens in /opt/homebrew/Caskroom/miniforge/base/envs/dojo-env/lib/python3.8/site-packages (from stack-data->ipython->jupyter-latex-envs>=1.3.8->jupyter_contrib_nbextensions) (2.0.5)\n",
      "Requirement already satisfied: pycparser in /opt/homebrew/Caskroom/miniforge/base/envs/dojo-env/lib/python3.8/site-packages (from cffi>=1.0.1->argon2-cffi-bindings->argon2-cffi->notebook>=4.0->jupyter_contrib_nbextensions) (2.21)\n",
      "Requirement already satisfied: zipp>=3.1.0 in /opt/homebrew/Caskroom/miniforge/base/envs/dojo-env/lib/python3.8/site-packages (from importlib-resources>=1.4.0->jsonschema>=2.6->nbformat>=5.1->nbconvert>=4.2->jupyter_contrib_nbextensions) (3.8.0)\n",
      "Installing collected packages: jupyter-highlight-selected-word, pyyaml, jupyter-latex-envs, jupyter-contrib-core, jupyter-nbextensions-configurator, jupyter_contrib_nbextensions\n",
      "Successfully installed jupyter-contrib-core-0.3.3 jupyter-highlight-selected-word-0.2.0 jupyter-latex-envs-1.4.6 jupyter-nbextensions-configurator-0.4.1 jupyter_contrib_nbextensions-0.5.1 pyyaml-6.0\n",
      "\u001b[32m[I 14:10:53 InstallContribNbextensionsApp]\u001b[m jupyter contrib nbextension install --user\n",
      "\u001b[32m[I 14:10:53 InstallContribNbextensionsApp]\u001b[m Installing jupyter_contrib_nbextensions nbextension files to jupyter data directory\n",
      "\u001b[32m[I 14:10:53 InstallContribNbextensionsApp]\u001b[m Installing /opt/homebrew/Caskroom/miniforge/base/envs/dojo-env/lib/python3.8/site-packages/jupyter_contrib_nbextensions/nbextensions/rubberband -> rubberband\n",
      "\u001b[33m[W 14:10:53 InstallContribNbextensionsApp]\u001b[m Out of date: /Users/codingdojo/Library/Jupyter/nbextensions/rubberband/icon.png\n",
      "\u001b[32m[I 14:10:53 InstallContribNbextensionsApp]\u001b[m Copying: /opt/homebrew/Caskroom/miniforge/base/envs/dojo-env/lib/python3.8/site-packages/jupyter_contrib_nbextensions/nbextensions/rubberband/icon.png -> /Users/codingdojo/Library/Jupyter/nbextensions/rubberband/icon.png\n",
      "\u001b[33m[W 14:10:53 InstallContribNbextensionsApp]\u001b[m Out of date: /Users/codingdojo/Library/Jupyter/nbextensions/rubberband/main.css\n",
      "\u001b[32m[I 14:10:53 InstallContribNbextensionsApp]\u001b[m Copying: /opt/homebrew/Caskroom/miniforge/base/envs/dojo-env/lib/python3.8/site-packages/jupyter_contrib_nbextensions/nbextensions/rubberband/main.css -> /Users/codingdojo/Library/Jupyter/nbextensions/rubberband/main.css\n",
      "\u001b[33m[W 14:10:53 InstallContribNbextensionsApp]\u001b[m Out of date: /Users/codingdojo/Library/Jupyter/nbextensions/rubberband/readme.md\n",
      "\u001b[32m[I 14:10:53 InstallContribNbextensionsApp]\u001b[m Copying: /opt/homebrew/Caskroom/miniforge/base/envs/dojo-env/lib/python3.8/site-packages/jupyter_contrib_nbextensions/nbextensions/rubberband/readme.md -> /Users/codingdojo/Library/Jupyter/nbextensions/rubberband/readme.md\n",
      "\u001b[33m[W 14:10:53 InstallContribNbextensionsApp]\u001b[m Out of date: /Users/codingdojo/Library/Jupyter/nbextensions/rubberband/main.js\n",
      "\u001b[32m[I 14:10:53 InstallContribNbextensionsApp]\u001b[m Copying: /opt/homebrew/Caskroom/miniforge/base/envs/dojo-env/lib/python3.8/site-packages/jupyter_contrib_nbextensions/nbextensions/rubberband/main.js -> /Users/codingdojo/Library/Jupyter/nbextensions/rubberband/main.js\n",
      "\u001b[33m[W 14:10:53 InstallContribNbextensionsApp]\u001b[m Out of date: /Users/codingdojo/Library/Jupyter/nbextensions/rubberband/rubberband.yaml\n",
      "\u001b[32m[I 14:10:53 InstallContribNbextensionsApp]\u001b[m Copying: /opt/homebrew/Caskroom/miniforge/base/envs/dojo-env/lib/python3.8/site-packages/jupyter_contrib_nbextensions/nbextensions/rubberband/rubberband.yaml -> /Users/codingdojo/Library/Jupyter/nbextensions/rubberband/rubberband.yaml\n",
      "\u001b[32m[I 14:10:53 InstallContribNbextensionsApp]\u001b[m - Validating: \u001b[32mOK\u001b[0m\n",
      "\u001b[32m[I 14:10:53 InstallContribNbextensionsApp]\u001b[m Installing /opt/homebrew/Caskroom/miniforge/base/envs/dojo-env/lib/python3.8/site-packages/jupyter_contrib_nbextensions/nbextensions/scroll_down -> scroll_down\n",
      "\u001b[33m[W 14:10:53 InstallContribNbextensionsApp]\u001b[m Out of date: /Users/codingdojo/Library/Jupyter/nbextensions/scroll_down/icon.png\n",
      "\u001b[32m[I 14:10:53 InstallContribNbextensionsApp]\u001b[m Copying: /opt/homebrew/Caskroom/miniforge/base/envs/dojo-env/lib/python3.8/site-packages/jupyter_contrib_nbextensions/nbextensions/scroll_down/icon.png -> /Users/codingdojo/Library/Jupyter/nbextensions/scroll_down/icon.png\n",
      "\u001b[33m[W 14:10:53 InstallContribNbextensionsApp]\u001b[m Out of date: /Users/codingdojo/Library/Jupyter/nbextensions/scroll_down/config.yaml\n",
      "\u001b[32m[I 14:10:53 InstallContribNbextensionsApp]\u001b[m Copying: /opt/homebrew/Caskroom/miniforge/base/envs/dojo-env/lib/python3.8/site-packages/jupyter_contrib_nbextensions/nbextensions/scroll_down/config.yaml -> /Users/codingdojo/Library/Jupyter/nbextensions/scroll_down/config.yaml\n",
      "\u001b[33m[W 14:10:53 InstallContribNbextensionsApp]\u001b[m Out of date: /Users/codingdojo/Library/Jupyter/nbextensions/scroll_down/readme.md\n",
      "\u001b[32m[I 14:10:53 InstallContribNbextensionsApp]\u001b[m Copying: /opt/homebrew/Caskroom/miniforge/base/envs/dojo-env/lib/python3.8/site-packages/jupyter_contrib_nbextensions/nbextensions/scroll_down/readme.md -> /Users/codingdojo/Library/Jupyter/nbextensions/scroll_down/readme.md\n",
      "\u001b[33m[W 14:10:53 InstallContribNbextensionsApp]\u001b[m Out of date: /Users/codingdojo/Library/Jupyter/nbextensions/scroll_down/main.js\n",
      "\u001b[32m[I 14:10:53 InstallContribNbextensionsApp]\u001b[m Copying: /opt/homebrew/Caskroom/miniforge/base/envs/dojo-env/lib/python3.8/site-packages/jupyter_contrib_nbextensions/nbextensions/scroll_down/main.js -> /Users/codingdojo/Library/Jupyter/nbextensions/scroll_down/main.js\n",
      "\u001b[32m[I 14:10:53 InstallContribNbextensionsApp]\u001b[m - Validating: \u001b[32mOK\u001b[0m\n",
      "\u001b[32m[I 14:10:53 InstallContribNbextensionsApp]\u001b[m Installing /opt/homebrew/Caskroom/miniforge/base/envs/dojo-env/lib/python3.8/site-packages/jupyter_contrib_nbextensions/nbextensions/hinterland -> hinterland\n",
      "\u001b[33m[W 14:10:53 InstallContribNbextensionsApp]\u001b[m Out of date: /Users/codingdojo/Library/Jupyter/nbextensions/hinterland/hinterland.yaml\n",
      "\u001b[32m[I 14:10:53 InstallContribNbextensionsApp]\u001b[m Copying: /opt/homebrew/Caskroom/miniforge/base/envs/dojo-env/lib/python3.8/site-packages/jupyter_contrib_nbextensions/nbextensions/hinterland/hinterland.yaml -> /Users/codingdojo/Library/Jupyter/nbextensions/hinterland/hinterland.yaml\n",
      "\u001b[33m[W 14:10:53 InstallContribNbextensionsApp]\u001b[m Out of date: /Users/codingdojo/Library/Jupyter/nbextensions/hinterland/hinterland.js\n",
      "\u001b[32m[I 14:10:53 InstallContribNbextensionsApp]\u001b[m Copying: /opt/homebrew/Caskroom/miniforge/base/envs/dojo-env/lib/python3.8/site-packages/jupyter_contrib_nbextensions/nbextensions/hinterland/hinterland.js -> /Users/codingdojo/Library/Jupyter/nbextensions/hinterland/hinterland.js\n",
      "\u001b[33m[W 14:10:53 InstallContribNbextensionsApp]\u001b[m Out of date: /Users/codingdojo/Library/Jupyter/nbextensions/hinterland/README.md\n",
      "\u001b[32m[I 14:10:53 InstallContribNbextensionsApp]\u001b[m Copying: /opt/homebrew/Caskroom/miniforge/base/envs/dojo-env/lib/python3.8/site-packages/jupyter_contrib_nbextensions/nbextensions/hinterland/README.md -> /Users/codingdojo/Library/Jupyter/nbextensions/hinterland/README.md\n",
      "\u001b[32m[I 14:10:53 InstallContribNbextensionsApp]\u001b[m - Validating: \u001b[32mOK\u001b[0m\n",
      "\u001b[32m[I 14:10:53 InstallContribNbextensionsApp]\u001b[m Installing /opt/homebrew/Caskroom/miniforge/base/envs/dojo-env/lib/python3.8/site-packages/jupyter_contrib_nbextensions/nbextensions/snippets -> snippets\n",
      "\u001b[33m[W 14:10:53 InstallContribNbextensionsApp]\u001b[m Out of date: /Users/codingdojo/Library/Jupyter/nbextensions/snippets/snippets.yaml\n",
      "\u001b[32m[I 14:10:53 InstallContribNbextensionsApp]\u001b[m Copying: /opt/homebrew/Caskroom/miniforge/base/envs/dojo-env/lib/python3.8/site-packages/jupyter_contrib_nbextensions/nbextensions/snippets/snippets.yaml -> /Users/codingdojo/Library/Jupyter/nbextensions/snippets/snippets.yaml\n",
      "\u001b[33m[W 14:10:53 InstallContribNbextensionsApp]\u001b[m Out of date: /Users/codingdojo/Library/Jupyter/nbextensions/snippets/snippets.json\n",
      "\u001b[32m[I 14:10:53 InstallContribNbextensionsApp]\u001b[m Copying: /opt/homebrew/Caskroom/miniforge/base/envs/dojo-env/lib/python3.8/site-packages/jupyter_contrib_nbextensions/nbextensions/snippets/snippets.json -> /Users/codingdojo/Library/Jupyter/nbextensions/snippets/snippets.json\n",
      "\u001b[33m[W 14:10:53 InstallContribNbextensionsApp]\u001b[m Out of date: /Users/codingdojo/Library/Jupyter/nbextensions/snippets/README.md\n",
      "\u001b[32m[I 14:10:53 InstallContribNbextensionsApp]\u001b[m Copying: /opt/homebrew/Caskroom/miniforge/base/envs/dojo-env/lib/python3.8/site-packages/jupyter_contrib_nbextensions/nbextensions/snippets/README.md -> /Users/codingdojo/Library/Jupyter/nbextensions/snippets/README.md\n",
      "\u001b[33m[W 14:10:53 InstallContribNbextensionsApp]\u001b[m Out of date: /Users/codingdojo/Library/Jupyter/nbextensions/snippets/main.js\n",
      "\u001b[32m[I 14:10:53 InstallContribNbextensionsApp]\u001b[m Copying: /opt/homebrew/Caskroom/miniforge/base/envs/dojo-env/lib/python3.8/site-packages/jupyter_contrib_nbextensions/nbextensions/snippets/main.js -> /Users/codingdojo/Library/Jupyter/nbextensions/snippets/main.js\n",
      "\u001b[33m[W 14:10:53 InstallContribNbextensionsApp]\u001b[m Out of date: /Users/codingdojo/Library/Jupyter/nbextensions/snippets/snippets-demo.gif\n",
      "\u001b[32m[I 14:10:53 InstallContribNbextensionsApp]\u001b[m Copying: /opt/homebrew/Caskroom/miniforge/base/envs/dojo-env/lib/python3.8/site-packages/jupyter_contrib_nbextensions/nbextensions/snippets/snippets-demo.gif -> /Users/codingdojo/Library/Jupyter/nbextensions/snippets/snippets-demo.gif\n",
      "\u001b[32m[I 14:10:53 InstallContribNbextensionsApp]\u001b[m - Validating: \u001b[32mOK\u001b[0m\n",
      "\u001b[32m[I 14:10:53 InstallContribNbextensionsApp]\u001b[m Installing /opt/homebrew/Caskroom/miniforge/base/envs/dojo-env/lib/python3.8/site-packages/jupyter_contrib_nbextensions/nbextensions/toggle_all_line_numbers -> toggle_all_line_numbers\n",
      "\u001b[33m[W 14:10:53 InstallContribNbextensionsApp]\u001b[m Out of date: /Users/codingdojo/Library/Jupyter/nbextensions/toggle_all_line_numbers/icon.png\n",
      "\u001b[32m[I 14:10:53 InstallContribNbextensionsApp]\u001b[m Copying: /opt/homebrew/Caskroom/miniforge/base/envs/dojo-env/lib/python3.8/site-packages/jupyter_contrib_nbextensions/nbextensions/toggle_all_line_numbers/icon.png -> /Users/codingdojo/Library/Jupyter/nbextensions/toggle_all_line_numbers/icon.png\n",
      "\u001b[33m[W 14:10:53 InstallContribNbextensionsApp]\u001b[m Out of date: /Users/codingdojo/Library/Jupyter/nbextensions/toggle_all_line_numbers/main.yaml\n",
      "\u001b[32m[I 14:10:53 InstallContribNbextensionsApp]\u001b[m Copying: /opt/homebrew/Caskroom/miniforge/base/envs/dojo-env/lib/python3.8/site-packages/jupyter_contrib_nbextensions/nbextensions/toggle_all_line_numbers/main.yaml -> /Users/codingdojo/Library/Jupyter/nbextensions/toggle_all_line_numbers/main.yaml\n",
      "\u001b[33m[W 14:10:53 InstallContribNbextensionsApp]\u001b[m Out of date: /Users/codingdojo/Library/Jupyter/nbextensions/toggle_all_line_numbers/readme.md\n",
      "\u001b[32m[I 14:10:53 InstallContribNbextensionsApp]\u001b[m Copying: /opt/homebrew/Caskroom/miniforge/base/envs/dojo-env/lib/python3.8/site-packages/jupyter_contrib_nbextensions/nbextensions/toggle_all_line_numbers/readme.md -> /Users/codingdojo/Library/Jupyter/nbextensions/toggle_all_line_numbers/readme.md\n",
      "\u001b[33m[W 14:10:53 InstallContribNbextensionsApp]\u001b[m Out of date: /Users/codingdojo/Library/Jupyter/nbextensions/toggle_all_line_numbers/main.js\n",
      "\u001b[32m[I 14:10:53 InstallContribNbextensionsApp]\u001b[m Copying: /opt/homebrew/Caskroom/miniforge/base/envs/dojo-env/lib/python3.8/site-packages/jupyter_contrib_nbextensions/nbextensions/toggle_all_line_numbers/main.js -> /Users/codingdojo/Library/Jupyter/nbextensions/toggle_all_line_numbers/main.js\n",
      "\u001b[32m[I 14:10:53 InstallContribNbextensionsApp]\u001b[m - Validating: \u001b[32mOK\u001b[0m\n",
      "\u001b[32m[I 14:10:53 InstallContribNbextensionsApp]\u001b[m Installing /opt/homebrew/Caskroom/miniforge/base/envs/dojo-env/lib/python3.8/site-packages/jupyter_contrib_nbextensions/nbextensions/notify -> notify\n",
      "\u001b[33m[W 14:10:53 InstallContribNbextensionsApp]\u001b[m Out of date: /Users/codingdojo/Library/Jupyter/nbextensions/notify/notify.js\n",
      "\u001b[32m[I 14:10:53 InstallContribNbextensionsApp]\u001b[m Copying: /opt/homebrew/Caskroom/miniforge/base/envs/dojo-env/lib/python3.8/site-packages/jupyter_contrib_nbextensions/nbextensions/notify/notify.js -> /Users/codingdojo/Library/Jupyter/nbextensions/notify/notify.js\n",
      "\u001b[33m[W 14:10:53 InstallContribNbextensionsApp]\u001b[m Out of date: /Users/codingdojo/Library/Jupyter/nbextensions/notify/notify.mp3\n",
      "\u001b[32m[I 14:10:53 InstallContribNbextensionsApp]\u001b[m Copying: /opt/homebrew/Caskroom/miniforge/base/envs/dojo-env/lib/python3.8/site-packages/jupyter_contrib_nbextensions/nbextensions/notify/notify.mp3 -> /Users/codingdojo/Library/Jupyter/nbextensions/notify/notify.mp3\n",
      "\u001b[33m[W 14:10:53 InstallContribNbextensionsApp]\u001b[m Out of date: /Users/codingdojo/Library/Jupyter/nbextensions/notify/readme.md\n",
      "\u001b[32m[I 14:10:53 InstallContribNbextensionsApp]\u001b[m Copying: /opt/homebrew/Caskroom/miniforge/base/envs/dojo-env/lib/python3.8/site-packages/jupyter_contrib_nbextensions/nbextensions/notify/readme.md -> /Users/codingdojo/Library/Jupyter/nbextensions/notify/readme.md\n",
      "\u001b[33m[W 14:10:53 InstallContribNbextensionsApp]\u001b[m Out of date: /Users/codingdojo/Library/Jupyter/nbextensions/notify/notify.yaml\n",
      "\u001b[32m[I 14:10:53 InstallContribNbextensionsApp]\u001b[m Copying: /opt/homebrew/Caskroom/miniforge/base/envs/dojo-env/lib/python3.8/site-packages/jupyter_contrib_nbextensions/nbextensions/notify/notify.yaml -> /Users/codingdojo/Library/Jupyter/nbextensions/notify/notify.yaml\n",
      "\u001b[33m[W 14:10:53 InstallContribNbextensionsApp]\u001b[m Out of date: /Users/codingdojo/Library/Jupyter/nbextensions/notify/notification.png\n",
      "\u001b[32m[I 14:10:53 InstallContribNbextensionsApp]\u001b[m Copying: /opt/homebrew/Caskroom/miniforge/base/envs/dojo-env/lib/python3.8/site-packages/jupyter_contrib_nbextensions/nbextensions/notify/notification.png -> /Users/codingdojo/Library/Jupyter/nbextensions/notify/notification.png\n",
      "\u001b[32m[I 14:10:53 InstallContribNbextensionsApp]\u001b[m - Validating: \u001b[32mOK\u001b[0m\n",
      "\u001b[32m[I 14:10:53 InstallContribNbextensionsApp]\u001b[m Installing /opt/homebrew/Caskroom/miniforge/base/envs/dojo-env/lib/python3.8/site-packages/jupyter_contrib_nbextensions/nbextensions/runtools -> runtools\n",
      "\u001b[33m[W 14:10:53 InstallContribNbextensionsApp]\u001b[m Out of date: /Users/codingdojo/Library/Jupyter/nbextensions/runtools/cellstate.js\n",
      "\u001b[32m[I 14:10:53 InstallContribNbextensionsApp]\u001b[m Copying: /opt/homebrew/Caskroom/miniforge/base/envs/dojo-env/lib/python3.8/site-packages/jupyter_contrib_nbextensions/nbextensions/runtools/cellstate.js -> /Users/codingdojo/Library/Jupyter/nbextensions/runtools/cellstate.js\n",
      "\u001b[33m[W 14:10:53 InstallContribNbextensionsApp]\u001b[m Out of date: /Users/codingdojo/Library/Jupyter/nbextensions/runtools/icon.png\n",
      "\u001b[32m[I 14:10:53 InstallContribNbextensionsApp]\u001b[m Copying: /opt/homebrew/Caskroom/miniforge/base/envs/dojo-env/lib/python3.8/site-packages/jupyter_contrib_nbextensions/nbextensions/runtools/icon.png -> /Users/codingdojo/Library/Jupyter/nbextensions/runtools/icon.png\n",
      "\u001b[33m[W 14:10:53 InstallContribNbextensionsApp]\u001b[m Out of date: /Users/codingdojo/Library/Jupyter/nbextensions/runtools/runtools_execute.png\n",
      "\u001b[32m[I 14:10:53 InstallContribNbextensionsApp]\u001b[m Copying: /opt/homebrew/Caskroom/miniforge/base/envs/dojo-env/lib/python3.8/site-packages/jupyter_contrib_nbextensions/nbextensions/runtools/runtools_execute.png -> /Users/codingdojo/Library/Jupyter/nbextensions/runtools/runtools_execute.png\n",
      "\u001b[33m[W 14:10:53 InstallContribNbextensionsApp]\u001b[m Out of date: /Users/codingdojo/Library/Jupyter/nbextensions/runtools/annotations.odg\n",
      "\u001b[32m[I 14:10:53 InstallContribNbextensionsApp]\u001b[m Copying: /opt/homebrew/Caskroom/miniforge/base/envs/dojo-env/lib/python3.8/site-packages/jupyter_contrib_nbextensions/nbextensions/runtools/annotations.odg -> /Users/codingdojo/Library/Jupyter/nbextensions/runtools/annotations.odg\n",
      "\u001b[33m[W 14:10:53 InstallContribNbextensionsApp]\u001b[m Out of date: /Users/codingdojo/Library/Jupyter/nbextensions/runtools/runtools.yaml\n",
      "\u001b[32m[I 14:10:53 InstallContribNbextensionsApp]\u001b[m Copying: /opt/homebrew/Caskroom/miniforge/base/envs/dojo-env/lib/python3.8/site-packages/jupyter_contrib_nbextensions/nbextensions/runtools/runtools.yaml -> /Users/codingdojo/Library/Jupyter/nbextensions/runtools/runtools.yaml\n",
      "\u001b[33m[W 14:10:53 InstallContribNbextensionsApp]\u001b[m Out of date: /Users/codingdojo/Library/Jupyter/nbextensions/runtools/main.css\n",
      "\u001b[32m[I 14:10:53 InstallContribNbextensionsApp]\u001b[m Copying: /opt/homebrew/Caskroom/miniforge/base/envs/dojo-env/lib/python3.8/site-packages/jupyter_contrib_nbextensions/nbextensions/runtools/main.css -> /Users/codingdojo/Library/Jupyter/nbextensions/runtools/main.css\n",
      "\u001b[33m[W 14:10:53 InstallContribNbextensionsApp]\u001b[m Out of date: /Users/codingdojo/Library/Jupyter/nbextensions/runtools/runtools_nb.png\n",
      "\u001b[32m[I 14:10:53 InstallContribNbextensionsApp]\u001b[m Copying: /opt/homebrew/Caskroom/miniforge/base/envs/dojo-env/lib/python3.8/site-packages/jupyter_contrib_nbextensions/nbextensions/runtools/runtools_nb.png -> /Users/codingdojo/Library/Jupyter/nbextensions/runtools/runtools_nb.png\n",
      "\u001b[33m[W 14:10:53 InstallContribNbextensionsApp]\u001b[m Out of date: /Users/codingdojo/Library/Jupyter/nbextensions/runtools/readme.md\n",
      "\u001b[32m[I 14:10:53 InstallContribNbextensionsApp]\u001b[m Copying: /opt/homebrew/Caskroom/miniforge/base/envs/dojo-env/lib/python3.8/site-packages/jupyter_contrib_nbextensions/nbextensions/runtools/readme.md -> /Users/codingdojo/Library/Jupyter/nbextensions/runtools/readme.md\n",
      "\u001b[33m[W 14:10:53 InstallContribNbextensionsApp]\u001b[m Out of date: /Users/codingdojo/Library/Jupyter/nbextensions/runtools/runtools_marker.png\n",
      "\u001b[32m[I 14:10:53 InstallContribNbextensionsApp]\u001b[m Copying: /opt/homebrew/Caskroom/miniforge/base/envs/dojo-env/lib/python3.8/site-packages/jupyter_contrib_nbextensions/nbextensions/runtools/runtools_marker.png -> /Users/codingdojo/Library/Jupyter/nbextensions/runtools/runtools_marker.png\n",
      "\u001b[33m[W 14:10:53 InstallContribNbextensionsApp]\u001b[m Out of date: /Users/codingdojo/Library/Jupyter/nbextensions/runtools/main.js\n",
      "\u001b[32m[I 14:10:53 InstallContribNbextensionsApp]\u001b[m Copying: /opt/homebrew/Caskroom/miniforge/base/envs/dojo-env/lib/python3.8/site-packages/jupyter_contrib_nbextensions/nbextensions/runtools/main.js -> /Users/codingdojo/Library/Jupyter/nbextensions/runtools/main.js\n",
      "\u001b[33m[W 14:10:53 InstallContribNbextensionsApp]\u001b[m Out of date: /Users/codingdojo/Library/Jupyter/nbextensions/runtools/runtools_show_hide.png\n",
      "\u001b[32m[I 14:10:53 InstallContribNbextensionsApp]\u001b[m Copying: /opt/homebrew/Caskroom/miniforge/base/envs/dojo-env/lib/python3.8/site-packages/jupyter_contrib_nbextensions/nbextensions/runtools/runtools_show_hide.png -> /Users/codingdojo/Library/Jupyter/nbextensions/runtools/runtools_show_hide.png\n",
      "\u001b[33m[W 14:10:53 InstallContribNbextensionsApp]\u001b[m Out of date: /Users/codingdojo/Library/Jupyter/nbextensions/runtools/runtools_lock.png\n",
      "\u001b[32m[I 14:10:53 InstallContribNbextensionsApp]\u001b[m Copying: /opt/homebrew/Caskroom/miniforge/base/envs/dojo-env/lib/python3.8/site-packages/jupyter_contrib_nbextensions/nbextensions/runtools/runtools_lock.png -> /Users/codingdojo/Library/Jupyter/nbextensions/runtools/runtools_lock.png\n",
      "\u001b[33m[W 14:10:53 InstallContribNbextensionsApp]\u001b[m Out of date: /Users/codingdojo/Library/Jupyter/nbextensions/runtools/demo.gif\n",
      "\u001b[32m[I 14:10:53 InstallContribNbextensionsApp]\u001b[m Copying: /opt/homebrew/Caskroom/miniforge/base/envs/dojo-env/lib/python3.8/site-packages/jupyter_contrib_nbextensions/nbextensions/runtools/demo.gif -> /Users/codingdojo/Library/Jupyter/nbextensions/runtools/demo.gif\n",
      "\u001b[33m[W 14:10:53 InstallContribNbextensionsApp]\u001b[m Out of date: /Users/codingdojo/Library/Jupyter/nbextensions/runtools/gutter.css\n",
      "\u001b[32m[I 14:10:53 InstallContribNbextensionsApp]\u001b[m Copying: /opt/homebrew/Caskroom/miniforge/base/envs/dojo-env/lib/python3.8/site-packages/jupyter_contrib_nbextensions/nbextensions/runtools/gutter.css -> /Users/codingdojo/Library/Jupyter/nbextensions/runtools/gutter.css\n",
      "\u001b[32m[I 14:10:53 InstallContribNbextensionsApp]\u001b[m - Validating: \u001b[32mOK\u001b[0m\n",
      "\u001b[32m[I 14:10:53 InstallContribNbextensionsApp]\u001b[m Installing /opt/homebrew/Caskroom/miniforge/base/envs/dojo-env/lib/python3.8/site-packages/jupyter_contrib_nbextensions/nbextensions/tree-filter -> tree-filter\n",
      "\u001b[33m[W 14:10:53 InstallContribNbextensionsApp]\u001b[m Out of date: /Users/codingdojo/Library/Jupyter/nbextensions/tree-filter/tree-filter.yaml\n",
      "\u001b[32m[I 14:10:53 InstallContribNbextensionsApp]\u001b[m Copying: /opt/homebrew/Caskroom/miniforge/base/envs/dojo-env/lib/python3.8/site-packages/jupyter_contrib_nbextensions/nbextensions/tree-filter/tree-filter.yaml -> /Users/codingdojo/Library/Jupyter/nbextensions/tree-filter/tree-filter.yaml\n",
      "\u001b[33m[W 14:10:53 InstallContribNbextensionsApp]\u001b[m Out of date: /Users/codingdojo/Library/Jupyter/nbextensions/tree-filter/index.js\n",
      "\u001b[32m[I 14:10:53 InstallContribNbextensionsApp]\u001b[m Copying: /opt/homebrew/Caskroom/miniforge/base/envs/dojo-env/lib/python3.8/site-packages/jupyter_contrib_nbextensions/nbextensions/tree-filter/index.js -> /Users/codingdojo/Library/Jupyter/nbextensions/tree-filter/index.js\n",
      "\u001b[33m[W 14:10:53 InstallContribNbextensionsApp]\u001b[m Out of date: /Users/codingdojo/Library/Jupyter/nbextensions/tree-filter/readme.md\n",
      "\u001b[32m[I 14:10:53 InstallContribNbextensionsApp]\u001b[m Copying: /opt/homebrew/Caskroom/miniforge/base/envs/dojo-env/lib/python3.8/site-packages/jupyter_contrib_nbextensions/nbextensions/tree-filter/readme.md -> /Users/codingdojo/Library/Jupyter/nbextensions/tree-filter/readme.md\n",
      "\u001b[33m[W 14:10:53 InstallContribNbextensionsApp]\u001b[m Out of date: /Users/codingdojo/Library/Jupyter/nbextensions/tree-filter/demo.gif\n",
      "\u001b[32m[I 14:10:53 InstallContribNbextensionsApp]\u001b[m Copying: /opt/homebrew/Caskroom/miniforge/base/envs/dojo-env/lib/python3.8/site-packages/jupyter_contrib_nbextensions/nbextensions/tree-filter/demo.gif -> /Users/codingdojo/Library/Jupyter/nbextensions/tree-filter/demo.gif\n",
      "\u001b[32m[I 14:10:53 InstallContribNbextensionsApp]\u001b[m - Validating: \u001b[32mOK\u001b[0m\n",
      "\u001b[32m[I 14:10:53 InstallContribNbextensionsApp]\u001b[m Installing /opt/homebrew/Caskroom/miniforge/base/envs/dojo-env/lib/python3.8/site-packages/jupyter_contrib_nbextensions/nbextensions/table_beautifier -> table_beautifier\n",
      "\u001b[33m[W 14:10:53 InstallContribNbextensionsApp]\u001b[m Out of date: /Users/codingdojo/Library/Jupyter/nbextensions/table_beautifier/main.css\n",
      "\u001b[32m[I 14:10:53 InstallContribNbextensionsApp]\u001b[m Copying: /opt/homebrew/Caskroom/miniforge/base/envs/dojo-env/lib/python3.8/site-packages/jupyter_contrib_nbextensions/nbextensions/table_beautifier/main.css -> /Users/codingdojo/Library/Jupyter/nbextensions/table_beautifier/main.css\n",
      "\u001b[33m[W 14:10:53 InstallContribNbextensionsApp]\u001b[m Out of date: /Users/codingdojo/Library/Jupyter/nbextensions/table_beautifier/README.md\n",
      "\u001b[32m[I 14:10:53 InstallContribNbextensionsApp]\u001b[m Copying: /opt/homebrew/Caskroom/miniforge/base/envs/dojo-env/lib/python3.8/site-packages/jupyter_contrib_nbextensions/nbextensions/table_beautifier/README.md -> /Users/codingdojo/Library/Jupyter/nbextensions/table_beautifier/README.md\n",
      "\u001b[33m[W 14:10:53 InstallContribNbextensionsApp]\u001b[m Out of date: /Users/codingdojo/Library/Jupyter/nbextensions/table_beautifier/main.js\n",
      "\u001b[32m[I 14:10:53 InstallContribNbextensionsApp]\u001b[m Copying: /opt/homebrew/Caskroom/miniforge/base/envs/dojo-env/lib/python3.8/site-packages/jupyter_contrib_nbextensions/nbextensions/table_beautifier/main.js -> /Users/codingdojo/Library/Jupyter/nbextensions/table_beautifier/main.js\n",
      "\u001b[33m[W 14:10:53 InstallContribNbextensionsApp]\u001b[m Out of date: /Users/codingdojo/Library/Jupyter/nbextensions/table_beautifier/table_beautifier.yaml\n",
      "\u001b[32m[I 14:10:53 InstallContribNbextensionsApp]\u001b[m Copying: /opt/homebrew/Caskroom/miniforge/base/envs/dojo-env/lib/python3.8/site-packages/jupyter_contrib_nbextensions/nbextensions/table_beautifier/table_beautifier.yaml -> /Users/codingdojo/Library/Jupyter/nbextensions/table_beautifier/table_beautifier.yaml\n",
      "\u001b[32m[I 14:10:53 InstallContribNbextensionsApp]\u001b[m - Validating: \u001b[32mOK\u001b[0m\n",
      "\u001b[32m[I 14:10:53 InstallContribNbextensionsApp]\u001b[m Installing /opt/homebrew/Caskroom/miniforge/base/envs/dojo-env/lib/python3.8/site-packages/jupyter_contrib_nbextensions/nbextensions/freeze -> freeze\n",
      "\u001b[33m[W 14:10:53 InstallContribNbextensionsApp]\u001b[m Out of date: /Users/codingdojo/Library/Jupyter/nbextensions/freeze/icon.png\n",
      "\u001b[32m[I 14:10:53 InstallContribNbextensionsApp]\u001b[m Copying: /opt/homebrew/Caskroom/miniforge/base/envs/dojo-env/lib/python3.8/site-packages/jupyter_contrib_nbextensions/nbextensions/freeze/icon.png -> /Users/codingdojo/Library/Jupyter/nbextensions/freeze/icon.png\n",
      "\u001b[33m[W 14:10:53 InstallContribNbextensionsApp]\u001b[m Out of date: /Users/codingdojo/Library/Jupyter/nbextensions/freeze/config.yaml\n",
      "\u001b[32m[I 14:10:53 InstallContribNbextensionsApp]\u001b[m Copying: /opt/homebrew/Caskroom/miniforge/base/envs/dojo-env/lib/python3.8/site-packages/jupyter_contrib_nbextensions/nbextensions/freeze/config.yaml -> /Users/codingdojo/Library/Jupyter/nbextensions/freeze/config.yaml\n",
      "\u001b[33m[W 14:10:53 InstallContribNbextensionsApp]\u001b[m Out of date: /Users/codingdojo/Library/Jupyter/nbextensions/freeze/readme.md\n",
      "\u001b[32m[I 14:10:53 InstallContribNbextensionsApp]\u001b[m Copying: /opt/homebrew/Caskroom/miniforge/base/envs/dojo-env/lib/python3.8/site-packages/jupyter_contrib_nbextensions/nbextensions/freeze/readme.md -> /Users/codingdojo/Library/Jupyter/nbextensions/freeze/readme.md\n",
      "\u001b[33m[W 14:10:53 InstallContribNbextensionsApp]\u001b[m Out of date: /Users/codingdojo/Library/Jupyter/nbextensions/freeze/main.js\n",
      "\u001b[32m[I 14:10:53 InstallContribNbextensionsApp]\u001b[m Copying: /opt/homebrew/Caskroom/miniforge/base/envs/dojo-env/lib/python3.8/site-packages/jupyter_contrib_nbextensions/nbextensions/freeze/main.js -> /Users/codingdojo/Library/Jupyter/nbextensions/freeze/main.js\n",
      "\u001b[32m[I 14:10:53 InstallContribNbextensionsApp]\u001b[m - Validating: \u001b[32mOK\u001b[0m\n",
      "\u001b[32m[I 14:10:53 InstallContribNbextensionsApp]\u001b[m Installing /opt/homebrew/Caskroom/miniforge/base/envs/dojo-env/lib/python3.8/site-packages/jupyter_contrib_nbextensions/nbextensions/exercise2 -> exercise2\n",
      "\u001b[33m[W 14:10:53 InstallContribNbextensionsApp]\u001b[m Out of date: /Users/codingdojo/Library/Jupyter/nbextensions/exercise2/icon.png\n",
      "\u001b[32m[I 14:10:53 InstallContribNbextensionsApp]\u001b[m Copying: /opt/homebrew/Caskroom/miniforge/base/envs/dojo-env/lib/python3.8/site-packages/jupyter_contrib_nbextensions/nbextensions/exercise2/icon.png -> /Users/codingdojo/Library/Jupyter/nbextensions/exercise2/icon.png\n",
      "\u001b[33m[W 14:10:53 InstallContribNbextensionsApp]\u001b[m Out of date: /Users/codingdojo/Library/Jupyter/nbextensions/exercise2/exercise2.yaml\n",
      "\u001b[32m[I 14:10:53 InstallContribNbextensionsApp]\u001b[m Copying: /opt/homebrew/Caskroom/miniforge/base/envs/dojo-env/lib/python3.8/site-packages/jupyter_contrib_nbextensions/nbextensions/exercise2/exercise2.yaml -> /Users/codingdojo/Library/Jupyter/nbextensions/exercise2/exercise2.yaml\n",
      "\u001b[33m[W 14:10:53 InstallContribNbextensionsApp]\u001b[m Out of date: /Users/codingdojo/Library/Jupyter/nbextensions/exercise2/main.css\n",
      "\u001b[32m[I 14:10:53 InstallContribNbextensionsApp]\u001b[m Copying: /opt/homebrew/Caskroom/miniforge/base/envs/dojo-env/lib/python3.8/site-packages/jupyter_contrib_nbextensions/nbextensions/exercise2/main.css -> /Users/codingdojo/Library/Jupyter/nbextensions/exercise2/main.css\n",
      "\u001b[33m[W 14:10:53 InstallContribNbextensionsApp]\u001b[m Out of date: /Users/codingdojo/Library/Jupyter/nbextensions/exercise2/image.gif\n",
      "\u001b[32m[I 14:10:53 InstallContribNbextensionsApp]\u001b[m Copying: /opt/homebrew/Caskroom/miniforge/base/envs/dojo-env/lib/python3.8/site-packages/jupyter_contrib_nbextensions/nbextensions/exercise2/image.gif -> /Users/codingdojo/Library/Jupyter/nbextensions/exercise2/image.gif\n",
      "\u001b[33m[W 14:10:53 InstallContribNbextensionsApp]\u001b[m Out of date: /Users/codingdojo/Library/Jupyter/nbextensions/exercise2/readme.md\n",
      "\u001b[32m[I 14:10:53 InstallContribNbextensionsApp]\u001b[m Copying: /opt/homebrew/Caskroom/miniforge/base/envs/dojo-env/lib/python3.8/site-packages/jupyter_contrib_nbextensions/nbextensions/exercise2/readme.md -> /Users/codingdojo/Library/Jupyter/nbextensions/exercise2/readme.md\n",
      "\u001b[33m[W 14:10:53 InstallContribNbextensionsApp]\u001b[m Out of date: /Users/codingdojo/Library/Jupyter/nbextensions/exercise2/main.js\n",
      "\u001b[32m[I 14:10:53 InstallContribNbextensionsApp]\u001b[m Copying: /opt/homebrew/Caskroom/miniforge/base/envs/dojo-env/lib/python3.8/site-packages/jupyter_contrib_nbextensions/nbextensions/exercise2/main.js -> /Users/codingdojo/Library/Jupyter/nbextensions/exercise2/main.js\n",
      "\u001b[32m[I 14:10:53 InstallContribNbextensionsApp]\u001b[m - Validating: \u001b[32mOK\u001b[0m\n",
      "\u001b[32m[I 14:10:53 InstallContribNbextensionsApp]\u001b[m Installing /opt/homebrew/Caskroom/miniforge/base/envs/dojo-env/lib/python3.8/site-packages/jupyter_contrib_nbextensions/nbextensions/execution_dependencies -> execution_dependencies\n",
      "\u001b[33m[W 14:10:53 InstallContribNbextensionsApp]\u001b[m Out of date: /Users/codingdojo/Library/Jupyter/nbextensions/execution_dependencies/execution_dependencies.yml\n",
      "\u001b[32m[I 14:10:53 InstallContribNbextensionsApp]\u001b[m Copying: /opt/homebrew/Caskroom/miniforge/base/envs/dojo-env/lib/python3.8/site-packages/jupyter_contrib_nbextensions/nbextensions/execution_dependencies/execution_dependencies.yml -> /Users/codingdojo/Library/Jupyter/nbextensions/execution_dependencies/execution_dependencies.yml\n",
      "\u001b[33m[W 14:10:53 InstallContribNbextensionsApp]\u001b[m Out of date: /Users/codingdojo/Library/Jupyter/nbextensions/execution_dependencies/README.md\n",
      "\u001b[32m[I 14:10:53 InstallContribNbextensionsApp]\u001b[m Copying: /opt/homebrew/Caskroom/miniforge/base/envs/dojo-env/lib/python3.8/site-packages/jupyter_contrib_nbextensions/nbextensions/execution_dependencies/README.md -> /Users/codingdojo/Library/Jupyter/nbextensions/execution_dependencies/README.md\n",
      "\u001b[33m[W 14:10:53 InstallContribNbextensionsApp]\u001b[m Out of date: /Users/codingdojo/Library/Jupyter/nbextensions/execution_dependencies/execution_dependencies.js\n",
      "\u001b[32m[I 14:10:53 InstallContribNbextensionsApp]\u001b[m Copying: /opt/homebrew/Caskroom/miniforge/base/envs/dojo-env/lib/python3.8/site-packages/jupyter_contrib_nbextensions/nbextensions/execution_dependencies/execution_dependencies.js -> /Users/codingdojo/Library/Jupyter/nbextensions/execution_dependencies/execution_dependencies.js\n",
      "\u001b[32m[I 14:10:53 InstallContribNbextensionsApp]\u001b[m - Validating: \u001b[32mOK\u001b[0m\n",
      "\u001b[32m[I 14:10:53 InstallContribNbextensionsApp]\u001b[m Installing /opt/homebrew/Caskroom/miniforge/base/envs/dojo-env/lib/python3.8/site-packages/jupyter_contrib_nbextensions/nbextensions/skill -> skill\n",
      "\u001b[33m[W 14:10:53 InstallContribNbextensionsApp]\u001b[m Out of date: /Users/codingdojo/Library/Jupyter/nbextensions/skill/skill.js\n",
      "\u001b[32m[I 14:10:53 InstallContribNbextensionsApp]\u001b[m Copying: /opt/homebrew/Caskroom/miniforge/base/envs/dojo-env/lib/python3.8/site-packages/jupyter_contrib_nbextensions/nbextensions/skill/skill.js -> /Users/codingdojo/Library/Jupyter/nbextensions/skill/skill.js\n",
      "\u001b[33m[W 14:10:53 InstallContribNbextensionsApp]\u001b[m Out of date: /Users/codingdojo/Library/Jupyter/nbextensions/skill/README.md\n",
      "\u001b[32m[I 14:10:53 InstallContribNbextensionsApp]\u001b[m Copying: /opt/homebrew/Caskroom/miniforge/base/envs/dojo-env/lib/python3.8/site-packages/jupyter_contrib_nbextensions/nbextensions/skill/README.md -> /Users/codingdojo/Library/Jupyter/nbextensions/skill/README.md\n",
      "\u001b[33m[W 14:10:53 InstallContribNbextensionsApp]\u001b[m Out of date: /Users/codingdojo/Library/Jupyter/nbextensions/skill/main.js\n",
      "\u001b[32m[I 14:10:53 InstallContribNbextensionsApp]\u001b[m Copying: /opt/homebrew/Caskroom/miniforge/base/envs/dojo-env/lib/python3.8/site-packages/jupyter_contrib_nbextensions/nbextensions/skill/main.js -> /Users/codingdojo/Library/Jupyter/nbextensions/skill/main.js\n",
      "\u001b[33m[W 14:10:53 InstallContribNbextensionsApp]\u001b[m Out of date: /Users/codingdojo/Library/Jupyter/nbextensions/skill/skill.yaml\n",
      "\u001b[32m[I 14:10:53 InstallContribNbextensionsApp]\u001b[m Copying: /opt/homebrew/Caskroom/miniforge/base/envs/dojo-env/lib/python3.8/site-packages/jupyter_contrib_nbextensions/nbextensions/skill/skill.yaml -> /Users/codingdojo/Library/Jupyter/nbextensions/skill/skill.yaml\n",
      "\u001b[32m[I 14:10:53 InstallContribNbextensionsApp]\u001b[m - Validating: \u001b[32mOK\u001b[0m\n",
      "\u001b[32m[I 14:10:53 InstallContribNbextensionsApp]\u001b[m Installing /opt/homebrew/Caskroom/miniforge/base/envs/dojo-env/lib/python3.8/site-packages/jupyter_contrib_nbextensions/nbextensions/splitcell -> splitcell\n",
      "\u001b[33m[W 14:10:53 InstallContribNbextensionsApp]\u001b[m Out of date: /Users/codingdojo/Library/Jupyter/nbextensions/splitcell/icon.png\n",
      "\u001b[32m[I 14:10:53 InstallContribNbextensionsApp]\u001b[m Copying: /opt/homebrew/Caskroom/miniforge/base/envs/dojo-env/lib/python3.8/site-packages/jupyter_contrib_nbextensions/nbextensions/splitcell/icon.png -> /Users/codingdojo/Library/Jupyter/nbextensions/splitcell/icon.png\n",
      "\u001b[33m[W 14:10:53 InstallContribNbextensionsApp]\u001b[m Out of date: /Users/codingdojo/Library/Jupyter/nbextensions/splitcell/readme.md\n",
      "\u001b[32m[I 14:10:53 InstallContribNbextensionsApp]\u001b[m Copying: /opt/homebrew/Caskroom/miniforge/base/envs/dojo-env/lib/python3.8/site-packages/jupyter_contrib_nbextensions/nbextensions/splitcell/readme.md -> /Users/codingdojo/Library/Jupyter/nbextensions/splitcell/readme.md\n",
      "\u001b[33m[W 14:10:53 InstallContribNbextensionsApp]\u001b[m Out of date: /Users/codingdojo/Library/Jupyter/nbextensions/splitcell/splitcell.yaml\n",
      "\u001b[32m[I 14:10:53 InstallContribNbextensionsApp]\u001b[m Copying: /opt/homebrew/Caskroom/miniforge/base/envs/dojo-env/lib/python3.8/site-packages/jupyter_contrib_nbextensions/nbextensions/splitcell/splitcell.yaml -> /Users/codingdojo/Library/Jupyter/nbextensions/splitcell/splitcell.yaml\n",
      "\u001b[33m[W 14:10:53 InstallContribNbextensionsApp]\u001b[m Out of date: /Users/codingdojo/Library/Jupyter/nbextensions/splitcell/splitcell.js\n",
      "\u001b[32m[I 14:10:53 InstallContribNbextensionsApp]\u001b[m Copying: /opt/homebrew/Caskroom/miniforge/base/envs/dojo-env/lib/python3.8/site-packages/jupyter_contrib_nbextensions/nbextensions/splitcell/splitcell.js -> /Users/codingdojo/Library/Jupyter/nbextensions/splitcell/splitcell.js\n",
      "\u001b[32m[I 14:10:53 InstallContribNbextensionsApp]\u001b[m - Validating: \u001b[32mOK\u001b[0m\n",
      "\u001b[32m[I 14:10:53 InstallContribNbextensionsApp]\u001b[m Installing /opt/homebrew/Caskroom/miniforge/base/envs/dojo-env/lib/python3.8/site-packages/jupyter_contrib_nbextensions/nbextensions/autosavetime -> autosavetime\n",
      "\u001b[33m[W 14:10:53 InstallContribNbextensionsApp]\u001b[m Out of date: /Users/codingdojo/Library/Jupyter/nbextensions/autosavetime/icon.png\n",
      "\u001b[32m[I 14:10:53 InstallContribNbextensionsApp]\u001b[m Copying: /opt/homebrew/Caskroom/miniforge/base/envs/dojo-env/lib/python3.8/site-packages/jupyter_contrib_nbextensions/nbextensions/autosavetime/icon.png -> /Users/codingdojo/Library/Jupyter/nbextensions/autosavetime/icon.png\n",
      "\u001b[33m[W 14:10:53 InstallContribNbextensionsApp]\u001b[m Out of date: /Users/codingdojo/Library/Jupyter/nbextensions/autosavetime/README.md\n",
      "\u001b[32m[I 14:10:53 InstallContribNbextensionsApp]\u001b[m Copying: /opt/homebrew/Caskroom/miniforge/base/envs/dojo-env/lib/python3.8/site-packages/jupyter_contrib_nbextensions/nbextensions/autosavetime/README.md -> /Users/codingdojo/Library/Jupyter/nbextensions/autosavetime/README.md\n",
      "\u001b[33m[W 14:10:53 InstallContribNbextensionsApp]\u001b[m Out of date: /Users/codingdojo/Library/Jupyter/nbextensions/autosavetime/autosavetime.yaml\n",
      "\u001b[32m[I 14:10:53 InstallContribNbextensionsApp]\u001b[m Copying: /opt/homebrew/Caskroom/miniforge/base/envs/dojo-env/lib/python3.8/site-packages/jupyter_contrib_nbextensions/nbextensions/autosavetime/autosavetime.yaml -> /Users/codingdojo/Library/Jupyter/nbextensions/autosavetime/autosavetime.yaml\n",
      "\u001b[33m[W 14:10:53 InstallContribNbextensionsApp]\u001b[m Out of date: /Users/codingdojo/Library/Jupyter/nbextensions/autosavetime/main.js\n",
      "\u001b[32m[I 14:10:53 InstallContribNbextensionsApp]\u001b[m Copying: /opt/homebrew/Caskroom/miniforge/base/envs/dojo-env/lib/python3.8/site-packages/jupyter_contrib_nbextensions/nbextensions/autosavetime/main.js -> /Users/codingdojo/Library/Jupyter/nbextensions/autosavetime/main.js\n",
      "\u001b[32m[I 14:10:53 InstallContribNbextensionsApp]\u001b[m - Validating: \u001b[32mOK\u001b[0m\n",
      "\u001b[32m[I 14:10:53 InstallContribNbextensionsApp]\u001b[m Installing /opt/homebrew/Caskroom/miniforge/base/envs/dojo-env/lib/python3.8/site-packages/jupyter_contrib_nbextensions/nbextensions/select_keymap -> select_keymap\n",
      "\u001b[33m[W 14:10:53 InstallContribNbextensionsApp]\u001b[m Out of date: /Users/codingdojo/Library/Jupyter/nbextensions/select_keymap/select_keymap.png\n",
      "\u001b[32m[I 14:10:53 InstallContribNbextensionsApp]\u001b[m Copying: /opt/homebrew/Caskroom/miniforge/base/envs/dojo-env/lib/python3.8/site-packages/jupyter_contrib_nbextensions/nbextensions/select_keymap/select_keymap.png -> /Users/codingdojo/Library/Jupyter/nbextensions/select_keymap/select_keymap.png\n"
     ]
    },
    {
     "name": "stdout",
     "output_type": "stream",
     "text": [
      "\u001b[33m[W 14:10:53 InstallContribNbextensionsApp]\u001b[m Out of date: /Users/codingdojo/Library/Jupyter/nbextensions/select_keymap/README.md\r\n",
      "\u001b[32m[I 14:10:53 InstallContribNbextensionsApp]\u001b[m Copying: /opt/homebrew/Caskroom/miniforge/base/envs/dojo-env/lib/python3.8/site-packages/jupyter_contrib_nbextensions/nbextensions/select_keymap/README.md -> /Users/codingdojo/Library/Jupyter/nbextensions/select_keymap/README.md\r\n",
      "\u001b[33m[W 14:10:53 InstallContribNbextensionsApp]\u001b[m Out of date: /Users/codingdojo/Library/Jupyter/nbextensions/select_keymap/main.js\r\n",
      "\u001b[32m[I 14:10:53 InstallContribNbextensionsApp]\u001b[m Copying: /opt/homebrew/Caskroom/miniforge/base/envs/dojo-env/lib/python3.8/site-packages/jupyter_contrib_nbextensions/nbextensions/select_keymap/main.js -> /Users/codingdojo/Library/Jupyter/nbextensions/select_keymap/main.js\r\n",
      "\u001b[33m[W 14:10:53 InstallContribNbextensionsApp]\u001b[m Out of date: /Users/codingdojo/Library/Jupyter/nbextensions/select_keymap/select_keymap.yaml\r\n",
      "\u001b[32m[I 14:10:53 InstallContribNbextensionsApp]\u001b[m Copying: /opt/homebrew/Caskroom/miniforge/base/envs/dojo-env/lib/python3.8/site-packages/jupyter_contrib_nbextensions/nbextensions/select_keymap/select_keymap.yaml -> /Users/codingdojo/Library/Jupyter/nbextensions/select_keymap/select_keymap.yaml\r\n",
      "\u001b[32m[I 14:10:53 InstallContribNbextensionsApp]\u001b[m - Validating: \u001b[32mOK\u001b[0m\r\n",
      "\u001b[32m[I 14:10:53 InstallContribNbextensionsApp]\u001b[m Installing /opt/homebrew/Caskroom/miniforge/base/envs/dojo-env/lib/python3.8/site-packages/jupyter_contrib_nbextensions/nbextensions/livemdpreview -> livemdpreview\r\n",
      "\u001b[33m[W 14:10:53 InstallContribNbextensionsApp]\u001b[m Out of date: /Users/codingdojo/Library/Jupyter/nbextensions/livemdpreview/livemdpreview.yml\r\n",
      "\u001b[32m[I 14:10:53 InstallContribNbextensionsApp]\u001b[m Copying: /opt/homebrew/Caskroom/miniforge/base/envs/dojo-env/lib/python3.8/site-packages/jupyter_contrib_nbextensions/nbextensions/livemdpreview/livemdpreview.yml -> /Users/codingdojo/Library/Jupyter/nbextensions/livemdpreview/livemdpreview.yml\r\n",
      "\u001b[33m[W 14:10:53 InstallContribNbextensionsApp]\u001b[m Out of date: /Users/codingdojo/Library/Jupyter/nbextensions/livemdpreview/livemdpreview.js\r\n",
      "\u001b[32m[I 14:10:53 InstallContribNbextensionsApp]\u001b[m Copying: /opt/homebrew/Caskroom/miniforge/base/envs/dojo-env/lib/python3.8/site-packages/jupyter_contrib_nbextensions/nbextensions/livemdpreview/livemdpreview.js -> /Users/codingdojo/Library/Jupyter/nbextensions/livemdpreview/livemdpreview.js\r\n",
      "\u001b[32m[I 14:10:53 InstallContribNbextensionsApp]\u001b[m - Validating: \u001b[32mOK\u001b[0m\r\n",
      "\u001b[32m[I 14:10:53 InstallContribNbextensionsApp]\u001b[m Installing /opt/homebrew/Caskroom/miniforge/base/envs/dojo-env/lib/python3.8/site-packages/jupyter_contrib_nbextensions/nbextensions/gist_it -> gist_it\r\n",
      "\u001b[33m[W 14:10:53 InstallContribNbextensionsApp]\u001b[m Out of date: /Users/codingdojo/Library/Jupyter/nbextensions/gist_it/icon.png\r\n",
      "\u001b[32m[I 14:10:53 InstallContribNbextensionsApp]\u001b[m Copying: /opt/homebrew/Caskroom/miniforge/base/envs/dojo-env/lib/python3.8/site-packages/jupyter_contrib_nbextensions/nbextensions/gist_it/icon.png -> /Users/codingdojo/Library/Jupyter/nbextensions/gist_it/icon.png\r\n",
      "\u001b[33m[W 14:10:53 InstallContribNbextensionsApp]\u001b[m Out of date: /Users/codingdojo/Library/Jupyter/nbextensions/gist_it/gist_it.yaml\r\n",
      "\u001b[32m[I 14:10:53 InstallContribNbextensionsApp]\u001b[m Copying: /opt/homebrew/Caskroom/miniforge/base/envs/dojo-env/lib/python3.8/site-packages/jupyter_contrib_nbextensions/nbextensions/gist_it/gist_it.yaml -> /Users/codingdojo/Library/Jupyter/nbextensions/gist_it/gist_it.yaml\r\n",
      "\u001b[33m[W 14:10:53 InstallContribNbextensionsApp]\u001b[m Out of date: /Users/codingdojo/Library/Jupyter/nbextensions/gist_it/readme.md\r\n",
      "\u001b[32m[I 14:10:53 InstallContribNbextensionsApp]\u001b[m Copying: /opt/homebrew/Caskroom/miniforge/base/envs/dojo-env/lib/python3.8/site-packages/jupyter_contrib_nbextensions/nbextensions/gist_it/readme.md -> /Users/codingdojo/Library/Jupyter/nbextensions/gist_it/readme.md\r\n",
      "\u001b[33m[W 14:10:53 InstallContribNbextensionsApp]\u001b[m Out of date: /Users/codingdojo/Library/Jupyter/nbextensions/gist_it/main.js\r\n",
      "\u001b[32m[I 14:10:53 InstallContribNbextensionsApp]\u001b[m Copying: /opt/homebrew/Caskroom/miniforge/base/envs/dojo-env/lib/python3.8/site-packages/jupyter_contrib_nbextensions/nbextensions/gist_it/main.js -> /Users/codingdojo/Library/Jupyter/nbextensions/gist_it/main.js\r\n",
      "\u001b[32m[I 14:10:53 InstallContribNbextensionsApp]\u001b[m - Validating: \u001b[32mOK\u001b[0m\r\n",
      "\u001b[32m[I 14:10:53 InstallContribNbextensionsApp]\u001b[m Installing /opt/homebrew/Caskroom/miniforge/base/envs/dojo-env/lib/python3.8/site-packages/jupyter_contrib_nbextensions/nbextensions/cell_filter -> cell_filter\r\n",
      "\u001b[33m[W 14:10:53 InstallContribNbextensionsApp]\u001b[m Out of date: /Users/codingdojo/Library/Jupyter/nbextensions/cell_filter/cell_filter.yml\r\n",
      "\u001b[32m[I 14:10:53 InstallContribNbextensionsApp]\u001b[m Copying: /opt/homebrew/Caskroom/miniforge/base/envs/dojo-env/lib/python3.8/site-packages/jupyter_contrib_nbextensions/nbextensions/cell_filter/cell_filter.yml -> /Users/codingdojo/Library/Jupyter/nbextensions/cell_filter/cell_filter.yml\r\n",
      "\u001b[33m[W 14:10:53 InstallContribNbextensionsApp]\u001b[m Out of date: /Users/codingdojo/Library/Jupyter/nbextensions/cell_filter/cell_filter.js\r\n",
      "\u001b[32m[I 14:10:53 InstallContribNbextensionsApp]\u001b[m Copying: /opt/homebrew/Caskroom/miniforge/base/envs/dojo-env/lib/python3.8/site-packages/jupyter_contrib_nbextensions/nbextensions/cell_filter/cell_filter.js -> /Users/codingdojo/Library/Jupyter/nbextensions/cell_filter/cell_filter.js\r\n",
      "\u001b[33m[W 14:10:53 InstallContribNbextensionsApp]\u001b[m Out of date: /Users/codingdojo/Library/Jupyter/nbextensions/cell_filter/README.md\r\n",
      "\u001b[32m[I 14:10:53 InstallContribNbextensionsApp]\u001b[m Copying: /opt/homebrew/Caskroom/miniforge/base/envs/dojo-env/lib/python3.8/site-packages/jupyter_contrib_nbextensions/nbextensions/cell_filter/README.md -> /Users/codingdojo/Library/Jupyter/nbextensions/cell_filter/README.md\r\n",
      "\u001b[32m[I 14:10:53 InstallContribNbextensionsApp]\u001b[m - Validating: \u001b[32mOK\u001b[0m\r\n",
      "\u001b[32m[I 14:10:53 InstallContribNbextensionsApp]\u001b[m Installing /opt/homebrew/Caskroom/miniforge/base/envs/dojo-env/lib/python3.8/site-packages/jupyter_contrib_nbextensions/nbextensions/scratchpad -> scratchpad\r\n",
      "\u001b[33m[W 14:10:53 InstallContribNbextensionsApp]\u001b[m Out of date: /Users/codingdojo/Library/Jupyter/nbextensions/scratchpad/LICENSE\r\n",
      "\u001b[32m[I 14:10:53 InstallContribNbextensionsApp]\u001b[m Copying: /opt/homebrew/Caskroom/miniforge/base/envs/dojo-env/lib/python3.8/site-packages/jupyter_contrib_nbextensions/nbextensions/scratchpad/LICENSE -> /Users/codingdojo/Library/Jupyter/nbextensions/scratchpad/LICENSE\r\n",
      "\u001b[33m[W 14:10:53 InstallContribNbextensionsApp]\u001b[m Out of date: /Users/codingdojo/Library/Jupyter/nbextensions/scratchpad/scratchpad.yaml\r\n",
      "\u001b[32m[I 14:10:53 InstallContribNbextensionsApp]\u001b[m Copying: /opt/homebrew/Caskroom/miniforge/base/envs/dojo-env/lib/python3.8/site-packages/jupyter_contrib_nbextensions/nbextensions/scratchpad/scratchpad.yaml -> /Users/codingdojo/Library/Jupyter/nbextensions/scratchpad/scratchpad.yaml\r\n",
      "\u001b[33m[W 14:10:53 InstallContribNbextensionsApp]\u001b[m Out of date: /Users/codingdojo/Library/Jupyter/nbextensions/scratchpad/README.md\r\n",
      "\u001b[32m[I 14:10:53 InstallContribNbextensionsApp]\u001b[m Copying: /opt/homebrew/Caskroom/miniforge/base/envs/dojo-env/lib/python3.8/site-packages/jupyter_contrib_nbextensions/nbextensions/scratchpad/README.md -> /Users/codingdojo/Library/Jupyter/nbextensions/scratchpad/README.md\r\n",
      "\u001b[33m[W 14:10:53 InstallContribNbextensionsApp]\u001b[m Out of date: /Users/codingdojo/Library/Jupyter/nbextensions/scratchpad/main.js\r\n",
      "\u001b[32m[I 14:10:53 InstallContribNbextensionsApp]\u001b[m Copying: /opt/homebrew/Caskroom/miniforge/base/envs/dojo-env/lib/python3.8/site-packages/jupyter_contrib_nbextensions/nbextensions/scratchpad/main.js -> /Users/codingdojo/Library/Jupyter/nbextensions/scratchpad/main.js\r\n",
      "\u001b[33m[W 14:10:53 InstallContribNbextensionsApp]\u001b[m Out of date: /Users/codingdojo/Library/Jupyter/nbextensions/scratchpad/scratchpad.css\r\n",
      "\u001b[32m[I 14:10:53 InstallContribNbextensionsApp]\u001b[m Copying: /opt/homebrew/Caskroom/miniforge/base/envs/dojo-env/lib/python3.8/site-packages/jupyter_contrib_nbextensions/nbextensions/scratchpad/scratchpad.css -> /Users/codingdojo/Library/Jupyter/nbextensions/scratchpad/scratchpad.css\r\n",
      "\u001b[33m[W 14:10:53 InstallContribNbextensionsApp]\u001b[m Out of date: /Users/codingdojo/Library/Jupyter/nbextensions/scratchpad/demo.gif\r\n",
      "\u001b[32m[I 14:10:53 InstallContribNbextensionsApp]\u001b[m Copying: /opt/homebrew/Caskroom/miniforge/base/envs/dojo-env/lib/python3.8/site-packages/jupyter_contrib_nbextensions/nbextensions/scratchpad/demo.gif -> /Users/codingdojo/Library/Jupyter/nbextensions/scratchpad/demo.gif\r\n",
      "\u001b[32m[I 14:10:53 InstallContribNbextensionsApp]\u001b[m - Validating: \u001b[32mOK\u001b[0m\r\n",
      "\u001b[32m[I 14:10:53 InstallContribNbextensionsApp]\u001b[m Installing /opt/homebrew/Caskroom/miniforge/base/envs/dojo-env/lib/python3.8/site-packages/jupyter_contrib_nbextensions/nbextensions/toc2 -> toc2\r\n",
      "\u001b[33m[W 14:10:53 InstallContribNbextensionsApp]\u001b[m Out of date: /Users/codingdojo/Library/Jupyter/nbextensions/toc2/toc2.yaml\r\n",
      "\u001b[32m[I 14:10:53 InstallContribNbextensionsApp]\u001b[m Copying: /opt/homebrew/Caskroom/miniforge/base/envs/dojo-env/lib/python3.8/site-packages/jupyter_contrib_nbextensions/nbextensions/toc2/toc2.yaml -> /Users/codingdojo/Library/Jupyter/nbextensions/toc2/toc2.yaml\r\n",
      "\u001b[33m[W 14:10:53 InstallContribNbextensionsApp]\u001b[m Out of date: /Users/codingdojo/Library/Jupyter/nbextensions/toc2/icon.png\r\n",
      "\u001b[32m[I 14:10:53 InstallContribNbextensionsApp]\u001b[m Copying: /opt/homebrew/Caskroom/miniforge/base/envs/dojo-env/lib/python3.8/site-packages/jupyter_contrib_nbextensions/nbextensions/toc2/icon.png -> /Users/codingdojo/Library/Jupyter/nbextensions/toc2/icon.png\r\n",
      "\u001b[33m[W 14:10:53 InstallContribNbextensionsApp]\u001b[m Out of date: /Users/codingdojo/Library/Jupyter/nbextensions/toc2/demo_dark.png\r\n",
      "\u001b[32m[I 14:10:53 InstallContribNbextensionsApp]\u001b[m Copying: /opt/homebrew/Caskroom/miniforge/base/envs/dojo-env/lib/python3.8/site-packages/jupyter_contrib_nbextensions/nbextensions/toc2/demo_dark.png -> /Users/codingdojo/Library/Jupyter/nbextensions/toc2/demo_dark.png\r\n",
      "\u001b[33m[W 14:10:53 InstallContribNbextensionsApp]\u001b[m Out of date: /Users/codingdojo/Library/Jupyter/nbextensions/toc2/main.css\r\n",
      "\u001b[32m[I 14:10:53 InstallContribNbextensionsApp]\u001b[m Copying: /opt/homebrew/Caskroom/miniforge/base/envs/dojo-env/lib/python3.8/site-packages/jupyter_contrib_nbextensions/nbextensions/toc2/main.css -> /Users/codingdojo/Library/Jupyter/nbextensions/toc2/main.css\r\n",
      "\u001b[33m[W 14:10:53 InstallContribNbextensionsApp]\u001b[m Out of date: /Users/codingdojo/Library/Jupyter/nbextensions/toc2/README.md\r\n",
      "\u001b[32m[I 14:10:53 InstallContribNbextensionsApp]\u001b[m Copying: /opt/homebrew/Caskroom/miniforge/base/envs/dojo-env/lib/python3.8/site-packages/jupyter_contrib_nbextensions/nbextensions/toc2/README.md -> /Users/codingdojo/Library/Jupyter/nbextensions/toc2/README.md\r\n",
      "\u001b[33m[W 14:10:53 InstallContribNbextensionsApp]\u001b[m Out of date: /Users/codingdojo/Library/Jupyter/nbextensions/toc2/main.js\r\n",
      "\u001b[32m[I 14:10:53 InstallContribNbextensionsApp]\u001b[m Copying: /opt/homebrew/Caskroom/miniforge/base/envs/dojo-env/lib/python3.8/site-packages/jupyter_contrib_nbextensions/nbextensions/toc2/main.js -> /Users/codingdojo/Library/Jupyter/nbextensions/toc2/main.js\r\n",
      "\u001b[33m[W 14:10:53 InstallContribNbextensionsApp]\u001b[m Out of date: /Users/codingdojo/Library/Jupyter/nbextensions/toc2/demo3.gif\r\n",
      "\u001b[32m[I 14:10:53 InstallContribNbextensionsApp]\u001b[m Copying: /opt/homebrew/Caskroom/miniforge/base/envs/dojo-env/lib/python3.8/site-packages/jupyter_contrib_nbextensions/nbextensions/toc2/demo3.gif -> /Users/codingdojo/Library/Jupyter/nbextensions/toc2/demo3.gif\r\n",
      "\u001b[33m[W 14:10:53 InstallContribNbextensionsApp]\u001b[m Out of date: /Users/codingdojo/Library/Jupyter/nbextensions/toc2/demo2.gif\r\n",
      "\u001b[32m[I 14:10:53 InstallContribNbextensionsApp]\u001b[m Copying: /opt/homebrew/Caskroom/miniforge/base/envs/dojo-env/lib/python3.8/site-packages/jupyter_contrib_nbextensions/nbextensions/toc2/demo2.gif -> /Users/codingdojo/Library/Jupyter/nbextensions/toc2/demo2.gif\r\n",
      "\u001b[33m[W 14:10:53 InstallContribNbextensionsApp]\u001b[m Out of date: /Users/codingdojo/Library/Jupyter/nbextensions/toc2/toc2.js\r\n",
      "\u001b[32m[I 14:10:53 InstallContribNbextensionsApp]\u001b[m Copying: /opt/homebrew/Caskroom/miniforge/base/envs/dojo-env/lib/python3.8/site-packages/jupyter_contrib_nbextensions/nbextensions/toc2/toc2.js -> /Users/codingdojo/Library/Jupyter/nbextensions/toc2/toc2.js\r\n",
      "\u001b[33m[W 14:10:53 InstallContribNbextensionsApp]\u001b[m Out of date: /Users/codingdojo/Library/Jupyter/nbextensions/toc2/demo.gif\r\n",
      "\u001b[32m[I 14:10:53 InstallContribNbextensionsApp]\u001b[m Copying: /opt/homebrew/Caskroom/miniforge/base/envs/dojo-env/lib/python3.8/site-packages/jupyter_contrib_nbextensions/nbextensions/toc2/demo.gif -> /Users/codingdojo/Library/Jupyter/nbextensions/toc2/demo.gif\r\n",
      "\u001b[33m[W 14:10:53 InstallContribNbextensionsApp]\u001b[m Out of date: /Users/codingdojo/Library/Jupyter/nbextensions/toc2/image.png\r\n",
      "\u001b[32m[I 14:10:53 InstallContribNbextensionsApp]\u001b[m Copying: /opt/homebrew/Caskroom/miniforge/base/envs/dojo-env/lib/python3.8/site-packages/jupyter_contrib_nbextensions/nbextensions/toc2/image.png -> /Users/codingdojo/Library/Jupyter/nbextensions/toc2/image.png\r\n",
      "\u001b[32m[I 14:10:53 InstallContribNbextensionsApp]\u001b[m - Validating: \u001b[32mOK\u001b[0m\r\n",
      "\u001b[32m[I 14:10:53 InstallContribNbextensionsApp]\u001b[m Installing /opt/homebrew/Caskroom/miniforge/base/envs/dojo-env/lib/python3.8/site-packages/jupyter_contrib_nbextensions/nbextensions/nbTranslate -> nbTranslate\r\n",
      "\u001b[33m[W 14:10:53 InstallContribNbextensionsApp]\u001b[m Out of date: /Users/codingdojo/Library/Jupyter/nbextensions/nbTranslate/nbTranslate.yaml\r\n",
      "\u001b[32m[I 14:10:53 InstallContribNbextensionsApp]\u001b[m Copying: /opt/homebrew/Caskroom/miniforge/base/envs/dojo-env/lib/python3.8/site-packages/jupyter_contrib_nbextensions/nbextensions/nbTranslate/nbTranslate.yaml -> /Users/codingdojo/Library/Jupyter/nbextensions/nbTranslate/nbTranslate.yaml\r\n",
      "\u001b[33m[W 14:10:53 InstallContribNbextensionsApp]\u001b[m Out of date: /Users/codingdojo/Library/Jupyter/nbextensions/nbTranslate/nbTranslate.js\r\n",
      "\u001b[32m[I 14:10:53 InstallContribNbextensionsApp]\u001b[m Copying: /opt/homebrew/Caskroom/miniforge/base/envs/dojo-env/lib/python3.8/site-packages/jupyter_contrib_nbextensions/nbextensions/nbTranslate/nbTranslate.js -> /Users/codingdojo/Library/Jupyter/nbextensions/nbTranslate/nbTranslate.js\r\n",
      "\u001b[33m[W 14:10:53 InstallContribNbextensionsApp]\u001b[m Out of date: /Users/codingdojo/Library/Jupyter/nbextensions/nbTranslate/README.md\r\n",
      "\u001b[32m[I 14:10:53 InstallContribNbextensionsApp]\u001b[m Copying: /opt/homebrew/Caskroom/miniforge/base/envs/dojo-env/lib/python3.8/site-packages/jupyter_contrib_nbextensions/nbextensions/nbTranslate/README.md -> /Users/codingdojo/Library/Jupyter/nbextensions/nbTranslate/README.md\r\n",
      "\u001b[33m[W 14:10:53 InstallContribNbextensionsApp]\u001b[m Out of date: /Users/codingdojo/Library/Jupyter/nbextensions/nbTranslate/main.js\r\n",
      "\u001b[32m[I 14:10:53 InstallContribNbextensionsApp]\u001b[m Copying: /opt/homebrew/Caskroom/miniforge/base/envs/dojo-env/lib/python3.8/site-packages/jupyter_contrib_nbextensions/nbextensions/nbTranslate/main.js -> /Users/codingdojo/Library/Jupyter/nbextensions/nbTranslate/main.js\r\n",
      "\u001b[33m[W 14:10:53 InstallContribNbextensionsApp]\u001b[m Out of date: /Users/codingdojo/Library/Jupyter/nbextensions/nbTranslate/demo1.gif\r\n",
      "\u001b[32m[I 14:10:53 InstallContribNbextensionsApp]\u001b[m Copying: /opt/homebrew/Caskroom/miniforge/base/envs/dojo-env/lib/python3.8/site-packages/jupyter_contrib_nbextensions/nbextensions/nbTranslate/demo1.gif -> /Users/codingdojo/Library/Jupyter/nbextensions/nbTranslate/demo1.gif\r\n",
      "\u001b[33m[W 14:10:53 InstallContribNbextensionsApp]\u001b[m Out of date: /Users/codingdojo/Library/Jupyter/nbextensions/nbTranslate/demo2.gif\r\n",
      "\u001b[32m[I 14:10:53 InstallContribNbextensionsApp]\u001b[m Copying: /opt/homebrew/Caskroom/miniforge/base/envs/dojo-env/lib/python3.8/site-packages/jupyter_contrib_nbextensions/nbextensions/nbTranslate/demo2.gif -> /Users/codingdojo/Library/Jupyter/nbextensions/nbTranslate/demo2.gif\r\n",
      "\u001b[33m[W 14:10:53 InstallContribNbextensionsApp]\u001b[m Out of date: /Users/codingdojo/Library/Jupyter/nbextensions/nbTranslate/languages.js\r\n",
      "\u001b[32m[I 14:10:53 InstallContribNbextensionsApp]\u001b[m Copying: /opt/homebrew/Caskroom/miniforge/base/envs/dojo-env/lib/python3.8/site-packages/jupyter_contrib_nbextensions/nbextensions/nbTranslate/languages.js -> /Users/codingdojo/Library/Jupyter/nbextensions/nbTranslate/languages.js\r\n",
      "\u001b[33m[W 14:10:53 InstallContribNbextensionsApp]\u001b[m Out of date: /Users/codingdojo/Library/Jupyter/nbextensions/nbTranslate/mutils.js\r\n",
      "\u001b[32m[I 14:10:53 InstallContribNbextensionsApp]\u001b[m Copying: /opt/homebrew/Caskroom/miniforge/base/envs/dojo-env/lib/python3.8/site-packages/jupyter_contrib_nbextensions/nbextensions/nbTranslate/mutils.js -> /Users/codingdojo/Library/Jupyter/nbextensions/nbTranslate/mutils.js\r\n",
      "\u001b[32m[I 14:10:53 InstallContribNbextensionsApp]\u001b[m - Validating: \u001b[32mOK\u001b[0m\r\n",
      "\u001b[32m[I 14:10:53 InstallContribNbextensionsApp]\u001b[m Installing /opt/homebrew/Caskroom/miniforge/base/envs/dojo-env/lib/python3.8/site-packages/jupyter_contrib_nbextensions/nbextensions/equation-numbering -> equation-numbering\r\n",
      "\u001b[33m[W 14:10:53 InstallContribNbextensionsApp]\u001b[m Out of date: /Users/codingdojo/Library/Jupyter/nbextensions/equation-numbering/icon.png\r\n",
      "\u001b[32m[I 14:10:53 InstallContribNbextensionsApp]\u001b[m Copying: /opt/homebrew/Caskroom/miniforge/base/envs/dojo-env/lib/python3.8/site-packages/jupyter_contrib_nbextensions/nbextensions/equation-numbering/icon.png -> /Users/codingdojo/Library/Jupyter/nbextensions/equation-numbering/icon.png\r\n",
      "\u001b[33m[W 14:10:53 InstallContribNbextensionsApp]\u001b[m Out of date: /Users/codingdojo/Library/Jupyter/nbextensions/equation-numbering/readme.md\r\n",
      "\u001b[32m[I 14:10:53 InstallContribNbextensionsApp]\u001b[m Copying: /opt/homebrew/Caskroom/miniforge/base/envs/dojo-env/lib/python3.8/site-packages/jupyter_contrib_nbextensions/nbextensions/equation-numbering/readme.md -> /Users/codingdojo/Library/Jupyter/nbextensions/equation-numbering/readme.md\r\n",
      "\u001b[33m[W 14:10:53 InstallContribNbextensionsApp]\u001b[m Out of date: /Users/codingdojo/Library/Jupyter/nbextensions/equation-numbering/main.js\r\n",
      "\u001b[32m[I 14:10:53 InstallContribNbextensionsApp]\u001b[m Copying: /opt/homebrew/Caskroom/miniforge/base/envs/dojo-env/lib/python3.8/site-packages/jupyter_contrib_nbextensions/nbextensions/equation-numbering/main.js -> /Users/codingdojo/Library/Jupyter/nbextensions/equation-numbering/main.js\r\n",
      "\u001b[33m[W 14:10:53 InstallContribNbextensionsApp]\u001b[m Out of date: /Users/codingdojo/Library/Jupyter/nbextensions/equation-numbering/info.yaml\r\n",
      "\u001b[32m[I 14:10:53 InstallContribNbextensionsApp]\u001b[m Copying: /opt/homebrew/Caskroom/miniforge/base/envs/dojo-env/lib/python3.8/site-packages/jupyter_contrib_nbextensions/nbextensions/equation-numbering/info.yaml -> /Users/codingdojo/Library/Jupyter/nbextensions/equation-numbering/info.yaml\r\n",
      "\u001b[33m[W 14:10:53 InstallContribNbextensionsApp]\u001b[m Out of date: /Users/codingdojo/Library/Jupyter/nbextensions/equation-numbering/button.png\r\n",
      "\u001b[32m[I 14:10:53 InstallContribNbextensionsApp]\u001b[m Copying: /opt/homebrew/Caskroom/miniforge/base/envs/dojo-env/lib/python3.8/site-packages/jupyter_contrib_nbextensions/nbextensions/equation-numbering/button.png -> /Users/codingdojo/Library/Jupyter/nbextensions/equation-numbering/button.png\r\n",
      "\u001b[32m[I 14:10:53 InstallContribNbextensionsApp]\u001b[m - Validating: \u001b[32mOK\u001b[0m\r\n",
      "\u001b[32m[I 14:10:53 InstallContribNbextensionsApp]\u001b[m Installing /opt/homebrew/Caskroom/miniforge/base/envs/dojo-env/lib/python3.8/site-packages/jupyter_contrib_nbextensions/nbextensions/navigation-hotkeys -> navigation-hotkeys\r\n",
      "\u001b[33m[W 14:10:53 InstallContribNbextensionsApp]\u001b[m Out of date: /Users/codingdojo/Library/Jupyter/nbextensions/navigation-hotkeys/icon.png\r\n",
      "\u001b[32m[I 14:10:53 InstallContribNbextensionsApp]\u001b[m Copying: /opt/homebrew/Caskroom/miniforge/base/envs/dojo-env/lib/python3.8/site-packages/jupyter_contrib_nbextensions/nbextensions/navigation-hotkeys/icon.png -> /Users/codingdojo/Library/Jupyter/nbextensions/navigation-hotkeys/icon.png\r\n",
      "\u001b[33m[W 14:10:53 InstallContribNbextensionsApp]\u001b[m Out of date: /Users/codingdojo/Library/Jupyter/nbextensions/navigation-hotkeys/readme.md\r\n",
      "\u001b[32m[I 14:10:53 InstallContribNbextensionsApp]\u001b[m Copying: /opt/homebrew/Caskroom/miniforge/base/envs/dojo-env/lib/python3.8/site-packages/jupyter_contrib_nbextensions/nbextensions/navigation-hotkeys/readme.md -> /Users/codingdojo/Library/Jupyter/nbextensions/navigation-hotkeys/readme.md\r\n",
      "\u001b[33m[W 14:10:53 InstallContribNbextensionsApp]\u001b[m Out of date: /Users/codingdojo/Library/Jupyter/nbextensions/navigation-hotkeys/main.js\r\n",
      "\u001b[32m[I 14:10:53 InstallContribNbextensionsApp]\u001b[m Copying: /opt/homebrew/Caskroom/miniforge/base/envs/dojo-env/lib/python3.8/site-packages/jupyter_contrib_nbextensions/nbextensions/navigation-hotkeys/main.js -> /Users/codingdojo/Library/Jupyter/nbextensions/navigation-hotkeys/main.js\r\n",
      "\u001b[33m[W 14:10:53 InstallContribNbextensionsApp]\u001b[m Out of date: /Users/codingdojo/Library/Jupyter/nbextensions/navigation-hotkeys/hotkeys.yaml\r\n",
      "\u001b[32m[I 14:10:53 InstallContribNbextensionsApp]\u001b[m Copying: /opt/homebrew/Caskroom/miniforge/base/envs/dojo-env/lib/python3.8/site-packages/jupyter_contrib_nbextensions/nbextensions/navigation-hotkeys/hotkeys.yaml -> /Users/codingdojo/Library/Jupyter/nbextensions/navigation-hotkeys/hotkeys.yaml\r\n",
      "\u001b[32m[I 14:10:53 InstallContribNbextensionsApp]\u001b[m - Validating: \u001b[32mOK\u001b[0m\r\n",
      "\u001b[32m[I 14:10:53 InstallContribNbextensionsApp]\u001b[m Installing /opt/homebrew/Caskroom/miniforge/base/envs/dojo-env/lib/python3.8/site-packages/jupyter_contrib_nbextensions/nbextensions/snippets_menu -> snippets_menu\r\n",
      "\u001b[33m[W 14:10:53 InstallContribNbextensionsApp]\u001b[m Out of date: /Users/codingdojo/Library/Jupyter/nbextensions/snippets_menu/snippets_menu.css\r\n",
      "\u001b[32m[I 14:10:53 InstallContribNbextensionsApp]\u001b[m Copying: /opt/homebrew/Caskroom/miniforge/base/envs/dojo-env/lib/python3.8/site-packages/jupyter_contrib_nbextensions/nbextensions/snippets_menu/snippets_menu.css -> /Users/codingdojo/Library/Jupyter/nbextensions/snippets_menu/snippets_menu.css\r\n",
      "\u001b[33m[W 14:10:53 InstallContribNbextensionsApp]\u001b[m Out of date: /Users/codingdojo/Library/Jupyter/nbextensions/snippets_menu/snippets_submenu_python.js\r\n",
      "\u001b[32m[I 14:10:53 InstallContribNbextensionsApp]\u001b[m Copying: /opt/homebrew/Caskroom/miniforge/base/envs/dojo-env/lib/python3.8/site-packages/jupyter_contrib_nbextensions/nbextensions/snippets_menu/snippets_submenu_python.js -> /Users/codingdojo/Library/Jupyter/nbextensions/snippets_menu/snippets_submenu_python.js\r\n",
      "\u001b[33m[W 14:10:53 InstallContribNbextensionsApp]\u001b[m Out of date: /Users/codingdojo/Library/Jupyter/nbextensions/snippets_menu/config.yaml\r\n",
      "\u001b[32m[I 14:10:53 InstallContribNbextensionsApp]\u001b[m Copying: /opt/homebrew/Caskroom/miniforge/base/envs/dojo-env/lib/python3.8/site-packages/jupyter_contrib_nbextensions/nbextensions/snippets_menu/config.yaml -> /Users/codingdojo/Library/Jupyter/nbextensions/snippets_menu/config.yaml\r\n",
      "\u001b[33m[W 14:10:53 InstallContribNbextensionsApp]\u001b[m Out of date: /Users/codingdojo/Library/Jupyter/nbextensions/snippets_menu/readme.md\r\n",
      "\u001b[32m[I 14:10:53 InstallContribNbextensionsApp]\u001b[m Copying: /opt/homebrew/Caskroom/miniforge/base/envs/dojo-env/lib/python3.8/site-packages/jupyter_contrib_nbextensions/nbextensions/snippets_menu/readme.md -> /Users/codingdojo/Library/Jupyter/nbextensions/snippets_menu/readme.md\r\n",
      "\u001b[33m[W 14:10:53 InstallContribNbextensionsApp]\u001b[m Out of date: /Users/codingdojo/Library/Jupyter/nbextensions/snippets_menu/main.js\r\n",
      "\u001b[32m[I 14:10:53 InstallContribNbextensionsApp]\u001b[m Copying: /opt/homebrew/Caskroom/miniforge/base/envs/dojo-env/lib/python3.8/site-packages/jupyter_contrib_nbextensions/nbextensions/snippets_menu/main.js -> /Users/codingdojo/Library/Jupyter/nbextensions/snippets_menu/main.js\r\n",
      "\u001b[33m[W 14:10:53 InstallContribNbextensionsApp]\u001b[m Out of date: /Users/codingdojo/Library/Jupyter/nbextensions/snippets_menu/snippets_submenu_markdown.js\r\n",
      "\u001b[32m[I 14:10:53 InstallContribNbextensionsApp]\u001b[m Copying: /opt/homebrew/Caskroom/miniforge/base/envs/dojo-env/lib/python3.8/site-packages/jupyter_contrib_nbextensions/nbextensions/snippets_menu/snippets_submenu_markdown.js -> /Users/codingdojo/Library/Jupyter/nbextensions/snippets_menu/snippets_submenu_markdown.js\r\n",
      "\u001b[33m[W 14:10:53 InstallContribNbextensionsApp]\u001b[m Out of date: /Users/codingdojo/Library/Jupyter/nbextensions/snippets_menu/thumbnail.png\r\n",
      "\u001b[32m[I 14:10:53 InstallContribNbextensionsApp]\u001b[m Copying: /opt/homebrew/Caskroom/miniforge/base/envs/dojo-env/lib/python3.8/site-packages/jupyter_contrib_nbextensions/nbextensions/snippets_menu/thumbnail.png -> /Users/codingdojo/Library/Jupyter/nbextensions/snippets_menu/thumbnail.png\r\n",
      "\u001b[33m[W 14:10:53 InstallContribNbextensionsApp]\u001b[m Out of date: /Users/codingdojo/Library/Jupyter/nbextensions/snippets_menu/screenshot1.png\r\n",
      "\u001b[32m[I 14:10:53 InstallContribNbextensionsApp]\u001b[m Copying: /opt/homebrew/Caskroom/miniforge/base/envs/dojo-env/lib/python3.8/site-packages/jupyter_contrib_nbextensions/nbextensions/snippets_menu/screenshot1.png -> /Users/codingdojo/Library/Jupyter/nbextensions/snippets_menu/screenshot1.png\r\n",
      "\u001b[33m[W 14:10:53 InstallContribNbextensionsApp]\u001b[m Out of date: /Users/codingdojo/Library/Jupyter/nbextensions/snippets_menu/screenshot2.png\r\n",
      "\u001b[32m[I 14:10:53 InstallContribNbextensionsApp]\u001b[m Copying: /opt/homebrew/Caskroom/miniforge/base/envs/dojo-env/lib/python3.8/site-packages/jupyter_contrib_nbextensions/nbextensions/snippets_menu/screenshot2.png -> /Users/codingdojo/Library/Jupyter/nbextensions/snippets_menu/screenshot2.png\r\n",
      "\u001b[33m[W 14:10:53 InstallContribNbextensionsApp]\u001b[m Out of date: /Users/codingdojo/Library/Jupyter/nbextensions/snippets_menu/screenshot3.png\r\n",
      "\u001b[32m[I 14:10:53 InstallContribNbextensionsApp]\u001b[m Copying: /opt/homebrew/Caskroom/miniforge/base/envs/dojo-env/lib/python3.8/site-packages/jupyter_contrib_nbextensions/nbextensions/snippets_menu/screenshot3.png -> /Users/codingdojo/Library/Jupyter/nbextensions/snippets_menu/screenshot3.png\r\n",
      "\u001b[33m[W 14:10:53 InstallContribNbextensionsApp]\u001b[m Out of date: /Users/codingdojo/Library/Jupyter/nbextensions/snippets_menu/examples_for_custom.js\r\n",
      "\u001b[32m[I 14:10:53 InstallContribNbextensionsApp]\u001b[m Copying: /opt/homebrew/Caskroom/miniforge/base/envs/dojo-env/lib/python3.8/site-packages/jupyter_contrib_nbextensions/nbextensions/snippets_menu/examples_for_custom.js -> /Users/codingdojo/Library/Jupyter/nbextensions/snippets_menu/examples_for_custom.js\r\n",
      "\u001b[33m[W 14:10:53 InstallContribNbextensionsApp]\u001b[m Out of date: /Users/codingdojo/Library/Jupyter/nbextensions/snippets_menu/snippets_submenus_python/numpy_ufuncs.js\r\n",
      "\u001b[32m[I 14:10:53 InstallContribNbextensionsApp]\u001b[m Copying: /opt/homebrew/Caskroom/miniforge/base/envs/dojo-env/lib/python3.8/site-packages/jupyter_contrib_nbextensions/nbextensions/snippets_menu/snippets_submenus_python/numpy_ufuncs.js -> /Users/codingdojo/Library/Jupyter/nbextensions/snippets_menu/snippets_submenus_python/numpy_ufuncs.js\r\n",
      "\u001b[33m[W 14:10:53 InstallContribNbextensionsApp]\u001b[m Out of date: /Users/codingdojo/Library/Jupyter/nbextensions/snippets_menu/snippets_submenus_python/numba.js\r\n",
      "\u001b[32m[I 14:10:53 InstallContribNbextensionsApp]\u001b[m Copying: /opt/homebrew/Caskroom/miniforge/base/envs/dojo-env/lib/python3.8/site-packages/jupyter_contrib_nbextensions/nbextensions/snippets_menu/snippets_submenus_python/numba.js -> /Users/codingdojo/Library/Jupyter/nbextensions/snippets_menu/snippets_submenus_python/numba.js\r\n",
      "\u001b[33m[W 14:10:53 InstallContribNbextensionsApp]\u001b[m Out of date: /Users/codingdojo/Library/Jupyter/nbextensions/snippets_menu/snippets_submenus_python/sympy_assumptions.js\r\n",
      "\u001b[32m[I 14:10:53 InstallContribNbextensionsApp]\u001b[m Copying: /opt/homebrew/Caskroom/miniforge/base/envs/dojo-env/lib/python3.8/site-packages/jupyter_contrib_nbextensions/nbextensions/snippets_menu/snippets_submenus_python/sympy_assumptions.js -> /Users/codingdojo/Library/Jupyter/nbextensions/snippets_menu/snippets_submenus_python/sympy_assumptions.js\r\n",
      "\u001b[33m[W 14:10:53 InstallContribNbextensionsApp]\u001b[m Out of date: /Users/codingdojo/Library/Jupyter/nbextensions/snippets_menu/snippets_submenus_python/sympy.js\r\n",
      "\u001b[32m[I 14:10:53 InstallContribNbextensionsApp]\u001b[m Copying: /opt/homebrew/Caskroom/miniforge/base/envs/dojo-env/lib/python3.8/site-packages/jupyter_contrib_nbextensions/nbextensions/snippets_menu/snippets_submenus_python/sympy.js -> /Users/codingdojo/Library/Jupyter/nbextensions/snippets_menu/snippets_submenus_python/sympy.js\r\n",
      "\u001b[33m[W 14:10:53 InstallContribNbextensionsApp]\u001b[m Out of date: /Users/codingdojo/Library/Jupyter/nbextensions/snippets_menu/snippets_submenus_python/numpy.js\r\n",
      "\u001b[32m[I 14:10:53 InstallContribNbextensionsApp]\u001b[m Copying: /opt/homebrew/Caskroom/miniforge/base/envs/dojo-env/lib/python3.8/site-packages/jupyter_contrib_nbextensions/nbextensions/snippets_menu/snippets_submenus_python/numpy.js -> /Users/codingdojo/Library/Jupyter/nbextensions/snippets_menu/snippets_submenus_python/numpy.js\r\n",
      "\u001b[33m[W 14:10:53 InstallContribNbextensionsApp]\u001b[m Out of date: /Users/codingdojo/Library/Jupyter/nbextensions/snippets_menu/snippets_submenus_python/astropy.js\r\n",
      "\u001b[32m[I 14:10:53 InstallContribNbextensionsApp]\u001b[m Copying: /opt/homebrew/Caskroom/miniforge/base/envs/dojo-env/lib/python3.8/site-packages/jupyter_contrib_nbextensions/nbextensions/snippets_menu/snippets_submenus_python/astropy.js -> /Users/codingdojo/Library/Jupyter/nbextensions/snippets_menu/snippets_submenus_python/astropy.js\r\n",
      "\u001b[33m[W 14:10:53 InstallContribNbextensionsApp]\u001b[m Out of date: /Users/codingdojo/Library/Jupyter/nbextensions/snippets_menu/snippets_submenus_python/pandas.js\r\n",
      "\u001b[32m[I 14:10:53 InstallContribNbextensionsApp]\u001b[m Copying: /opt/homebrew/Caskroom/miniforge/base/envs/dojo-env/lib/python3.8/site-packages/jupyter_contrib_nbextensions/nbextensions/snippets_menu/snippets_submenus_python/pandas.js -> /Users/codingdojo/Library/Jupyter/nbextensions/snippets_menu/snippets_submenus_python/pandas.js\r\n",
      "\u001b[33m[W 14:10:53 InstallContribNbextensionsApp]\u001b[m Out of date: /Users/codingdojo/Library/Jupyter/nbextensions/snippets_menu/snippets_submenus_python/numpy_polynomial.js\r\n",
      "\u001b[32m[I 14:10:53 InstallContribNbextensionsApp]\u001b[m Copying: /opt/homebrew/Caskroom/miniforge/base/envs/dojo-env/lib/python3.8/site-packages/jupyter_contrib_nbextensions/nbextensions/snippets_menu/snippets_submenus_python/numpy_polynomial.js -> /Users/codingdojo/Library/Jupyter/nbextensions/snippets_menu/snippets_submenus_python/numpy_polynomial.js\r\n",
      "\u001b[33m[W 14:10:53 InstallContribNbextensionsApp]\u001b[m Out of date: /Users/codingdojo/Library/Jupyter/nbextensions/snippets_menu/snippets_submenus_python/scipy_constants.js\r\n",
      "\u001b[32m[I 14:10:53 InstallContribNbextensionsApp]\u001b[m Copying: /opt/homebrew/Caskroom/miniforge/base/envs/dojo-env/lib/python3.8/site-packages/jupyter_contrib_nbextensions/nbextensions/snippets_menu/snippets_submenus_python/scipy_constants.js -> /Users/codingdojo/Library/Jupyter/nbextensions/snippets_menu/snippets_submenus_python/scipy_constants.js\r\n",
      "\u001b[33m[W 14:10:53 InstallContribNbextensionsApp]\u001b[m Out of date: /Users/codingdojo/Library/Jupyter/nbextensions/snippets_menu/snippets_submenus_python/matplotlib.js\r\n",
      "\u001b[32m[I 14:10:53 InstallContribNbextensionsApp]\u001b[m Copying: /opt/homebrew/Caskroom/miniforge/base/envs/dojo-env/lib/python3.8/site-packages/jupyter_contrib_nbextensions/nbextensions/snippets_menu/snippets_submenus_python/matplotlib.js -> /Users/codingdojo/Library/Jupyter/nbextensions/snippets_menu/snippets_submenus_python/matplotlib.js\r\n",
      "\u001b[33m[W 14:10:53 InstallContribNbextensionsApp]\u001b[m Out of date: /Users/codingdojo/Library/Jupyter/nbextensions/snippets_menu/snippets_submenus_python/sympy_functions.js\r\n",
      "\u001b[32m[I 14:10:53 InstallContribNbextensionsApp]\u001b[m Copying: /opt/homebrew/Caskroom/miniforge/base/envs/dojo-env/lib/python3.8/site-packages/jupyter_contrib_nbextensions/nbextensions/snippets_menu/snippets_submenus_python/sympy_functions.js -> /Users/codingdojo/Library/Jupyter/nbextensions/snippets_menu/snippets_submenus_python/sympy_functions.js\r\n",
      "\u001b[33m[W 14:10:53 InstallContribNbextensionsApp]\u001b[m Out of date: /Users/codingdojo/Library/Jupyter/nbextensions/snippets_menu/snippets_submenus_python/h5py.js\r\n",
      "\u001b[32m[I 14:10:53 InstallContribNbextensionsApp]\u001b[m Copying: /opt/homebrew/Caskroom/miniforge/base/envs/dojo-env/lib/python3.8/site-packages/jupyter_contrib_nbextensions/nbextensions/snippets_menu/snippets_submenus_python/h5py.js -> /Users/codingdojo/Library/Jupyter/nbextensions/snippets_menu/snippets_submenus_python/h5py.js\r\n",
      "\u001b[33m[W 14:10:53 InstallContribNbextensionsApp]\u001b[m Out of date: /Users/codingdojo/Library/Jupyter/nbextensions/snippets_menu/snippets_submenus_python/scipy_special.js\r\n",
      "\u001b[32m[I 14:10:53 InstallContribNbextensionsApp]\u001b[m Copying: /opt/homebrew/Caskroom/miniforge/base/envs/dojo-env/lib/python3.8/site-packages/jupyter_contrib_nbextensions/nbextensions/snippets_menu/snippets_submenus_python/scipy_special.js -> /Users/codingdojo/Library/Jupyter/nbextensions/snippets_menu/snippets_submenus_python/scipy_special.js\r\n",
      "\u001b[33m[W 14:10:53 InstallContribNbextensionsApp]\u001b[m Out of date: /Users/codingdojo/Library/Jupyter/nbextensions/snippets_menu/snippets_submenus_python/python_regex.js\r\n",
      "\u001b[32m[I 14:10:53 InstallContribNbextensionsApp]\u001b[m Copying: /opt/homebrew/Caskroom/miniforge/base/envs/dojo-env/lib/python3.8/site-packages/jupyter_contrib_nbextensions/nbextensions/snippets_menu/snippets_submenus_python/python_regex.js -> /Users/codingdojo/Library/Jupyter/nbextensions/snippets_menu/snippets_submenus_python/python_regex.js\r\n",
      "\u001b[33m[W 14:10:53 InstallContribNbextensionsApp]\u001b[m Out of date: /Users/codingdojo/Library/Jupyter/nbextensions/snippets_menu/snippets_submenus_python/python.js\r\n",
      "\u001b[32m[I 14:10:53 InstallContribNbextensionsApp]\u001b[m Copying: /opt/homebrew/Caskroom/miniforge/base/envs/dojo-env/lib/python3.8/site-packages/jupyter_contrib_nbextensions/nbextensions/snippets_menu/snippets_submenus_python/python.js -> /Users/codingdojo/Library/Jupyter/nbextensions/snippets_menu/snippets_submenus_python/python.js\r\n",
      "\u001b[33m[W 14:10:53 InstallContribNbextensionsApp]\u001b[m Out of date: /Users/codingdojo/Library/Jupyter/nbextensions/snippets_menu/snippets_submenus_python/scipy.js\r\n",
      "\u001b[32m[I 14:10:53 InstallContribNbextensionsApp]\u001b[m Copying: /opt/homebrew/Caskroom/miniforge/base/envs/dojo-env/lib/python3.8/site-packages/jupyter_contrib_nbextensions/nbextensions/snippets_menu/snippets_submenus_python/scipy.js -> /Users/codingdojo/Library/Jupyter/nbextensions/snippets_menu/snippets_submenus_python/scipy.js\r\n",
      "\u001b[32m[I 14:10:53 InstallContribNbextensionsApp]\u001b[m - Validating: \u001b[32mOK\u001b[0m\r\n",
      "\u001b[32m[I 14:10:53 InstallContribNbextensionsApp]\u001b[m Installing /opt/homebrew/Caskroom/miniforge/base/envs/dojo-env/lib/python3.8/site-packages/jupyter_contrib_nbextensions/nbextensions/printview -> printview\r\n",
      "\u001b[33m[W 14:10:53 InstallContribNbextensionsApp]\u001b[m Out of date: /Users/codingdojo/Library/Jupyter/nbextensions/printview/icon.png\r\n",
      "\u001b[32m[I 14:10:53 InstallContribNbextensionsApp]\u001b[m Copying: /opt/homebrew/Caskroom/miniforge/base/envs/dojo-env/lib/python3.8/site-packages/jupyter_contrib_nbextensions/nbextensions/printview/icon.png -> /Users/codingdojo/Library/Jupyter/nbextensions/printview/icon.png\r\n",
      "\u001b[33m[W 14:10:53 InstallContribNbextensionsApp]\u001b[m Out of date: /Users/codingdojo/Library/Jupyter/nbextensions/printview/printview-button.png\r\n",
      "\u001b[32m[I 14:10:53 InstallContribNbextensionsApp]\u001b[m Copying: /opt/homebrew/Caskroom/miniforge/base/envs/dojo-env/lib/python3.8/site-packages/jupyter_contrib_nbextensions/nbextensions/printview/printview-button.png -> /Users/codingdojo/Library/Jupyter/nbextensions/printview/printview-button.png\r\n",
      "\u001b[33m[W 14:10:53 InstallContribNbextensionsApp]\u001b[m Out of date: /Users/codingdojo/Library/Jupyter/nbextensions/printview/readme.md\r\n",
      "\u001b[32m[I 14:10:53 InstallContribNbextensionsApp]\u001b[m Copying: /opt/homebrew/Caskroom/miniforge/base/envs/dojo-env/lib/python3.8/site-packages/jupyter_contrib_nbextensions/nbextensions/printview/readme.md -> /Users/codingdojo/Library/Jupyter/nbextensions/printview/readme.md\r\n",
      "\u001b[33m[W 14:10:53 InstallContribNbextensionsApp]\u001b[m Out of date: /Users/codingdojo/Library/Jupyter/nbextensions/printview/main.js\r\n",
      "\u001b[32m[I 14:10:53 InstallContribNbextensionsApp]\u001b[m Copying: /opt/homebrew/Caskroom/miniforge/base/envs/dojo-env/lib/python3.8/site-packages/jupyter_contrib_nbextensions/nbextensions/printview/main.js -> /Users/codingdojo/Library/Jupyter/nbextensions/printview/main.js\r\n",
      "\u001b[33m[W 14:10:53 InstallContribNbextensionsApp]\u001b[m Out of date: /Users/codingdojo/Library/Jupyter/nbextensions/printview/printview.yaml\r\n",
      "\u001b[32m[I 14:10:53 InstallContribNbextensionsApp]\u001b[m Copying: /opt/homebrew/Caskroom/miniforge/base/envs/dojo-env/lib/python3.8/site-packages/jupyter_contrib_nbextensions/nbextensions/printview/printview.yaml -> /Users/codingdojo/Library/Jupyter/nbextensions/printview/printview.yaml\r\n",
      "\u001b[32m[I 14:10:53 InstallContribNbextensionsApp]\u001b[m - Validating: \u001b[32mOK\u001b[0m\r\n",
      "\u001b[32m[I 14:10:53 InstallContribNbextensionsApp]\u001b[m Installing /opt/homebrew/Caskroom/miniforge/base/envs/dojo-env/lib/python3.8/site-packages/jupyter_contrib_nbextensions/nbextensions/export_embedded -> export_embedded\r\n",
      "\u001b[33m[W 14:10:53 InstallContribNbextensionsApp]\u001b[m Out of date: /Users/codingdojo/Library/Jupyter/nbextensions/export_embedded/export_embedded.yaml\r\n",
      "\u001b[32m[I 14:10:53 InstallContribNbextensionsApp]\u001b[m Copying: /opt/homebrew/Caskroom/miniforge/base/envs/dojo-env/lib/python3.8/site-packages/jupyter_contrib_nbextensions/nbextensions/export_embedded/export_embedded.yaml -> /Users/codingdojo/Library/Jupyter/nbextensions/export_embedded/export_embedded.yaml\r\n",
      "\u001b[33m[W 14:10:53 InstallContribNbextensionsApp]\u001b[m Out of date: /Users/codingdojo/Library/Jupyter/nbextensions/export_embedded/icon.png\r\n",
      "\u001b[32m[I 14:10:53 InstallContribNbextensionsApp]\u001b[m Copying: /opt/homebrew/Caskroom/miniforge/base/envs/dojo-env/lib/python3.8/site-packages/jupyter_contrib_nbextensions/nbextensions/export_embedded/icon.png -> /Users/codingdojo/Library/Jupyter/nbextensions/export_embedded/icon.png\r\n",
      "\u001b[33m[W 14:10:53 InstallContribNbextensionsApp]\u001b[m Out of date: /Users/codingdojo/Library/Jupyter/nbextensions/export_embedded/readme.md\r\n",
      "\u001b[32m[I 14:10:53 InstallContribNbextensionsApp]\u001b[m Copying: /opt/homebrew/Caskroom/miniforge/base/envs/dojo-env/lib/python3.8/site-packages/jupyter_contrib_nbextensions/nbextensions/export_embedded/readme.md -> /Users/codingdojo/Library/Jupyter/nbextensions/export_embedded/readme.md\r\n",
      "\u001b[33m[W 14:10:53 InstallContribNbextensionsApp]\u001b[m Out of date: /Users/codingdojo/Library/Jupyter/nbextensions/export_embedded/main.js\r\n",
      "\u001b[32m[I 14:10:53 InstallContribNbextensionsApp]\u001b[m Copying: /opt/homebrew/Caskroom/miniforge/base/envs/dojo-env/lib/python3.8/site-packages/jupyter_contrib_nbextensions/nbextensions/export_embedded/main.js -> /Users/codingdojo/Library/Jupyter/nbextensions/export_embedded/main.js\r\n",
      "\u001b[32m[I 14:10:53 InstallContribNbextensionsApp]\u001b[m - Validating: \u001b[32mOK\u001b[0m\r\n",
      "\u001b[32m[I 14:10:53 InstallContribNbextensionsApp]\u001b[m Installing /opt/homebrew/Caskroom/miniforge/base/envs/dojo-env/lib/python3.8/site-packages/jupyter_contrib_nbextensions/nbextensions/autoscroll -> autoscroll\r\n",
      "\u001b[33m[W 14:10:53 InstallContribNbextensionsApp]\u001b[m Out of date: /Users/codingdojo/Library/Jupyter/nbextensions/autoscroll/icon.png\r\n",
      "\u001b[32m[I 14:10:53 InstallContribNbextensionsApp]\u001b[m Copying: /opt/homebrew/Caskroom/miniforge/base/envs/dojo-env/lib/python3.8/site-packages/jupyter_contrib_nbextensions/nbextensions/autoscroll/icon.png -> /Users/codingdojo/Library/Jupyter/nbextensions/autoscroll/icon.png\r\n",
      "\u001b[33m[W 14:10:53 InstallContribNbextensionsApp]\u001b[m Out of date: /Users/codingdojo/Library/Jupyter/nbextensions/autoscroll/autoscroll.yaml\r\n",
      "\u001b[32m[I 14:10:53 InstallContribNbextensionsApp]\u001b[m Copying: /opt/homebrew/Caskroom/miniforge/base/envs/dojo-env/lib/python3.8/site-packages/jupyter_contrib_nbextensions/nbextensions/autoscroll/autoscroll.yaml -> /Users/codingdojo/Library/Jupyter/nbextensions/autoscroll/autoscroll.yaml\r\n",
      "\u001b[33m[W 14:10:53 InstallContribNbextensionsApp]\u001b[m Out of date: /Users/codingdojo/Library/Jupyter/nbextensions/autoscroll/README.md\r\n",
      "\u001b[32m[I 14:10:53 InstallContribNbextensionsApp]\u001b[m Copying: /opt/homebrew/Caskroom/miniforge/base/envs/dojo-env/lib/python3.8/site-packages/jupyter_contrib_nbextensions/nbextensions/autoscroll/README.md -> /Users/codingdojo/Library/Jupyter/nbextensions/autoscroll/README.md\r\n",
      "\u001b[33m[W 14:10:53 InstallContribNbextensionsApp]\u001b[m Out of date: /Users/codingdojo/Library/Jupyter/nbextensions/autoscroll/main.js\r\n",
      "\u001b[32m[I 14:10:53 InstallContribNbextensionsApp]\u001b[m Copying: /opt/homebrew/Caskroom/miniforge/base/envs/dojo-env/lib/python3.8/site-packages/jupyter_contrib_nbextensions/nbextensions/autoscroll/main.js -> /Users/codingdojo/Library/Jupyter/nbextensions/autoscroll/main.js\r\n",
      "\u001b[32m[I 14:10:53 InstallContribNbextensionsApp]\u001b[m - Validating: \u001b[32mOK\u001b[0m\r\n",
      "\u001b[32m[I 14:10:53 InstallContribNbextensionsApp]\u001b[m Installing /opt/homebrew/Caskroom/miniforge/base/envs/dojo-env/lib/python3.8/site-packages/jupyter_contrib_nbextensions/nbextensions/hide_input -> hide_input\r\n",
      "\u001b[33m[W 14:10:53 InstallContribNbextensionsApp]\u001b[m Out of date: /Users/codingdojo/Library/Jupyter/nbextensions/hide_input/icon.png\r\n",
      "\u001b[32m[I 14:10:53 InstallContribNbextensionsApp]\u001b[m Copying: /opt/homebrew/Caskroom/miniforge/base/envs/dojo-env/lib/python3.8/site-packages/jupyter_contrib_nbextensions/nbextensions/hide_input/icon.png -> /Users/codingdojo/Library/Jupyter/nbextensions/hide_input/icon.png\r\n",
      "\u001b[33m[W 14:10:53 InstallContribNbextensionsApp]\u001b[m Out of date: /Users/codingdojo/Library/Jupyter/nbextensions/hide_input/readme.md\r\n",
      "\u001b[32m[I 14:10:53 InstallContribNbextensionsApp]\u001b[m Copying: /opt/homebrew/Caskroom/miniforge/base/envs/dojo-env/lib/python3.8/site-packages/jupyter_contrib_nbextensions/nbextensions/hide_input/readme.md -> /Users/codingdojo/Library/Jupyter/nbextensions/hide_input/readme.md\r\n",
      "\u001b[33m[W 14:10:53 InstallContribNbextensionsApp]\u001b[m Out of date: /Users/codingdojo/Library/Jupyter/nbextensions/hide_input/main.js\r\n",
      "\u001b[32m[I 14:10:53 InstallContribNbextensionsApp]\u001b[m Copying: /opt/homebrew/Caskroom/miniforge/base/envs/dojo-env/lib/python3.8/site-packages/jupyter_contrib_nbextensions/nbextensions/hide_input/main.js -> /Users/codingdojo/Library/Jupyter/nbextensions/hide_input/main.js\r\n",
      "\u001b[33m[W 14:10:53 InstallContribNbextensionsApp]\u001b[m Out of date: /Users/codingdojo/Library/Jupyter/nbextensions/hide_input/hide-input.yaml\r\n",
      "\u001b[32m[I 14:10:53 InstallContribNbextensionsApp]\u001b[m Copying: /opt/homebrew/Caskroom/miniforge/base/envs/dojo-env/lib/python3.8/site-packages/jupyter_contrib_nbextensions/nbextensions/hide_input/hide-input.yaml -> /Users/codingdojo/Library/Jupyter/nbextensions/hide_input/hide-input.yaml\r\n",
      "\u001b[32m[I 14:10:53 InstallContribNbextensionsApp]\u001b[m - Validating: \u001b[32mOK\u001b[0m\r\n",
      "\u001b[32m[I 14:10:53 InstallContribNbextensionsApp]\u001b[m Installing /opt/homebrew/Caskroom/miniforge/base/envs/dojo-env/lib/python3.8/site-packages/jupyter_contrib_nbextensions/nbextensions/hide_input_all -> hide_input_all\r\n",
      "\u001b[33m[W 14:10:53 InstallContribNbextensionsApp]\u001b[m Out of date: /Users/codingdojo/Library/Jupyter/nbextensions/hide_input_all/icon.png\r\n",
      "\u001b[32m[I 14:10:53 InstallContribNbextensionsApp]\u001b[m Copying: /opt/homebrew/Caskroom/miniforge/base/envs/dojo-env/lib/python3.8/site-packages/jupyter_contrib_nbextensions/nbextensions/hide_input_all/icon.png -> /Users/codingdojo/Library/Jupyter/nbextensions/hide_input_all/icon.png\r\n",
      "\u001b[33m[W 14:10:53 InstallContribNbextensionsApp]\u001b[m Out of date: /Users/codingdojo/Library/Jupyter/nbextensions/hide_input_all/hide_input_all.yaml\r\n",
      "\u001b[32m[I 14:10:53 InstallContribNbextensionsApp]\u001b[m Copying: /opt/homebrew/Caskroom/miniforge/base/envs/dojo-env/lib/python3.8/site-packages/jupyter_contrib_nbextensions/nbextensions/hide_input_all/hide_input_all.yaml -> /Users/codingdojo/Library/Jupyter/nbextensions/hide_input_all/hide_input_all.yaml\r\n",
      "\u001b[33m[W 14:10:53 InstallContribNbextensionsApp]\u001b[m Out of date: /Users/codingdojo/Library/Jupyter/nbextensions/hide_input_all/hide_input_all_show.png\r\n",
      "\u001b[32m[I 14:10:53 InstallContribNbextensionsApp]\u001b[m Copying: /opt/homebrew/Caskroom/miniforge/base/envs/dojo-env/lib/python3.8/site-packages/jupyter_contrib_nbextensions/nbextensions/hide_input_all/hide_input_all_show.png -> /Users/codingdojo/Library/Jupyter/nbextensions/hide_input_all/hide_input_all_show.png\r\n",
      "\u001b[33m[W 14:10:53 InstallContribNbextensionsApp]\u001b[m Out of date: /Users/codingdojo/Library/Jupyter/nbextensions/hide_input_all/readme.md\r\n",
      "\u001b[32m[I 14:10:53 InstallContribNbextensionsApp]\u001b[m Copying: /opt/homebrew/Caskroom/miniforge/base/envs/dojo-env/lib/python3.8/site-packages/jupyter_contrib_nbextensions/nbextensions/hide_input_all/readme.md -> /Users/codingdojo/Library/Jupyter/nbextensions/hide_input_all/readme.md\r\n",
      "\u001b[33m[W 14:10:53 InstallContribNbextensionsApp]\u001b[m Out of date: /Users/codingdojo/Library/Jupyter/nbextensions/hide_input_all/main.js\r\n",
      "\u001b[32m[I 14:10:53 InstallContribNbextensionsApp]\u001b[m Copying: /opt/homebrew/Caskroom/miniforge/base/envs/dojo-env/lib/python3.8/site-packages/jupyter_contrib_nbextensions/nbextensions/hide_input_all/main.js -> /Users/codingdojo/Library/Jupyter/nbextensions/hide_input_all/main.js\r\n",
      "\u001b[33m[W 14:10:53 InstallContribNbextensionsApp]\u001b[m Out of date: /Users/codingdojo/Library/Jupyter/nbextensions/hide_input_all/hide_input_all_hide.png\r\n",
      "\u001b[32m[I 14:10:53 InstallContribNbextensionsApp]\u001b[m Copying: /opt/homebrew/Caskroom/miniforge/base/envs/dojo-env/lib/python3.8/site-packages/jupyter_contrib_nbextensions/nbextensions/hide_input_all/hide_input_all_hide.png -> /Users/codingdojo/Library/Jupyter/nbextensions/hide_input_all/hide_input_all_hide.png\r\n",
      "\u001b[32m[I 14:10:53 InstallContribNbextensionsApp]\u001b[m - Validating: \u001b[32mOK\u001b[0m\r\n",
      "\u001b[32m[I 14:10:53 InstallContribNbextensionsApp]\u001b[m Installing /opt/homebrew/Caskroom/miniforge/base/envs/dojo-env/lib/python3.8/site-packages/jupyter_contrib_nbextensions/nbextensions/keyboard_shortcut_editor -> keyboard_shortcut_editor\r\n",
      "\u001b[33m[W 14:10:53 InstallContribNbextensionsApp]\u001b[m Out of date: /Users/codingdojo/Library/Jupyter/nbextensions/keyboard_shortcut_editor/keyboard_shortcut_editor.yaml\r\n",
      "\u001b[32m[I 14:10:53 InstallContribNbextensionsApp]\u001b[m Copying: /opt/homebrew/Caskroom/miniforge/base/envs/dojo-env/lib/python3.8/site-packages/jupyter_contrib_nbextensions/nbextensions/keyboard_shortcut_editor/keyboard_shortcut_editor.yaml -> /Users/codingdojo/Library/Jupyter/nbextensions/keyboard_shortcut_editor/keyboard_shortcut_editor.yaml\r\n",
      "\u001b[33m[W 14:10:53 InstallContribNbextensionsApp]\u001b[m Out of date: /Users/codingdojo/Library/Jupyter/nbextensions/keyboard_shortcut_editor/icon.png\r\n",
      "\u001b[32m[I 14:10:53 InstallContribNbextensionsApp]\u001b[m Copying: /opt/homebrew/Caskroom/miniforge/base/envs/dojo-env/lib/python3.8/site-packages/jupyter_contrib_nbextensions/nbextensions/keyboard_shortcut_editor/icon.png -> /Users/codingdojo/Library/Jupyter/nbextensions/keyboard_shortcut_editor/icon.png\r\n",
      "\u001b[33m[W 14:10:53 InstallContribNbextensionsApp]\u001b[m Out of date: /Users/codingdojo/Library/Jupyter/nbextensions/keyboard_shortcut_editor/readme_comma.png\r\n",
      "\u001b[32m[I 14:10:53 InstallContribNbextensionsApp]\u001b[m Copying: /opt/homebrew/Caskroom/miniforge/base/envs/dojo-env/lib/python3.8/site-packages/jupyter_contrib_nbextensions/nbextensions/keyboard_shortcut_editor/readme_comma.png -> /Users/codingdojo/Library/Jupyter/nbextensions/keyboard_shortcut_editor/readme_comma.png\r\n",
      "\u001b[33m[W 14:10:53 InstallContribNbextensionsApp]\u001b[m Out of date: /Users/codingdojo/Library/Jupyter/nbextensions/keyboard_shortcut_editor/readme_shortcut_editor_blank.png\r\n",
      "\u001b[32m[I 14:10:53 InstallContribNbextensionsApp]\u001b[m Copying: /opt/homebrew/Caskroom/miniforge/base/envs/dojo-env/lib/python3.8/site-packages/jupyter_contrib_nbextensions/nbextensions/keyboard_shortcut_editor/readme_shortcut_editor_blank.png -> /Users/codingdojo/Library/Jupyter/nbextensions/keyboard_shortcut_editor/readme_shortcut_editor_blank.png\r\n",
      "\u001b[33m[W 14:10:53 InstallContribNbextensionsApp]\u001b[m Out of date: /Users/codingdojo/Library/Jupyter/nbextensions/keyboard_shortcut_editor/readme_shortcut_editor_success.png\r\n",
      "\u001b[32m[I 14:10:53 InstallContribNbextensionsApp]\u001b[m Copying: /opt/homebrew/Caskroom/miniforge/base/envs/dojo-env/lib/python3.8/site-packages/jupyter_contrib_nbextensions/nbextensions/keyboard_shortcut_editor/readme_shortcut_editor_success.png -> /Users/codingdojo/Library/Jupyter/nbextensions/keyboard_shortcut_editor/readme_shortcut_editor_success.png\r\n",
      "\u001b[33m[W 14:10:53 InstallContribNbextensionsApp]\u001b[m Out of date: /Users/codingdojo/Library/Jupyter/nbextensions/keyboard_shortcut_editor/main.css\r\n",
      "\u001b[32m[I 14:10:53 InstallContribNbextensionsApp]\u001b[m Copying: /opt/homebrew/Caskroom/miniforge/base/envs/dojo-env/lib/python3.8/site-packages/jupyter_contrib_nbextensions/nbextensions/keyboard_shortcut_editor/main.css -> /Users/codingdojo/Library/Jupyter/nbextensions/keyboard_shortcut_editor/main.css\r\n",
      "\u001b[33m[W 14:10:53 InstallContribNbextensionsApp]\u001b[m Out of date: /Users/codingdojo/Library/Jupyter/nbextensions/keyboard_shortcut_editor/README.md\r\n",
      "\u001b[32m[I 14:10:53 InstallContribNbextensionsApp]\u001b[m Copying: /opt/homebrew/Caskroom/miniforge/base/envs/dojo-env/lib/python3.8/site-packages/jupyter_contrib_nbextensions/nbextensions/keyboard_shortcut_editor/README.md -> /Users/codingdojo/Library/Jupyter/nbextensions/keyboard_shortcut_editor/README.md\r\n",
      "\u001b[33m[W 14:10:53 InstallContribNbextensionsApp]\u001b[m Out of date: /Users/codingdojo/Library/Jupyter/nbextensions/keyboard_shortcut_editor/readme_reset_disabled.png\r\n",
      "\u001b[32m[I 14:10:53 InstallContribNbextensionsApp]\u001b[m Copying: /opt/homebrew/Caskroom/miniforge/base/envs/dojo-env/lib/python3.8/site-packages/jupyter_contrib_nbextensions/nbextensions/keyboard_shortcut_editor/readme_reset_disabled.png -> /Users/codingdojo/Library/Jupyter/nbextensions/keyboard_shortcut_editor/readme_reset_disabled.png\r\n",
      "\u001b[33m[W 14:10:53 InstallContribNbextensionsApp]\u001b[m Out of date: /Users/codingdojo/Library/Jupyter/nbextensions/keyboard_shortcut_editor/readme_add_new_link.png\r\n",
      "\u001b[32m[I 14:10:53 InstallContribNbextensionsApp]\u001b[m Copying: /opt/homebrew/Caskroom/miniforge/base/envs/dojo-env/lib/python3.8/site-packages/jupyter_contrib_nbextensions/nbextensions/keyboard_shortcut_editor/readme_add_new_link.png -> /Users/codingdojo/Library/Jupyter/nbextensions/keyboard_shortcut_editor/readme_add_new_link.png\r\n",
      "\u001b[33m[W 14:10:53 InstallContribNbextensionsApp]\u001b[m Out of date: /Users/codingdojo/Library/Jupyter/nbextensions/keyboard_shortcut_editor/main.js\r\n",
      "\u001b[32m[I 14:10:53 InstallContribNbextensionsApp]\u001b[m Copying: /opt/homebrew/Caskroom/miniforge/base/envs/dojo-env/lib/python3.8/site-packages/jupyter_contrib_nbextensions/nbextensions/keyboard_shortcut_editor/main.js -> /Users/codingdojo/Library/Jupyter/nbextensions/keyboard_shortcut_editor/main.js\r\n",
      "\u001b[33m[W 14:10:53 InstallContribNbextensionsApp]\u001b[m Out of date: /Users/codingdojo/Library/Jupyter/nbextensions/keyboard_shortcut_editor/readme_dropdown.png\r\n",
      "\u001b[32m[I 14:10:53 InstallContribNbextensionsApp]\u001b[m Copying: /opt/homebrew/Caskroom/miniforge/base/envs/dojo-env/lib/python3.8/site-packages/jupyter_contrib_nbextensions/nbextensions/keyboard_shortcut_editor/readme_dropdown.png -> /Users/codingdojo/Library/Jupyter/nbextensions/keyboard_shortcut_editor/readme_dropdown.png\r\n",
      "\u001b[33m[W 14:10:53 InstallContribNbextensionsApp]\u001b[m Out of date: /Users/codingdojo/Library/Jupyter/nbextensions/keyboard_shortcut_editor/quickhelp_shim.js\r\n",
      "\u001b[32m[I 14:10:53 InstallContribNbextensionsApp]\u001b[m Copying: /opt/homebrew/Caskroom/miniforge/base/envs/dojo-env/lib/python3.8/site-packages/jupyter_contrib_nbextensions/nbextensions/keyboard_shortcut_editor/quickhelp_shim.js -> /Users/codingdojo/Library/Jupyter/nbextensions/keyboard_shortcut_editor/quickhelp_shim.js\r\n",
      "\u001b[33m[W 14:10:53 InstallContribNbextensionsApp]\u001b[m Out of date: /Users/codingdojo/Library/Jupyter/nbextensions/keyboard_shortcut_editor/readme_add_new_select_action.png\r\n",
      "\u001b[32m[I 14:10:53 InstallContribNbextensionsApp]\u001b[m Copying: /opt/homebrew/Caskroom/miniforge/base/envs/dojo-env/lib/python3.8/site-packages/jupyter_contrib_nbextensions/nbextensions/keyboard_shortcut_editor/readme_add_new_select_action.png -> /Users/codingdojo/Library/Jupyter/nbextensions/keyboard_shortcut_editor/readme_add_new_select_action.png\r\n",
      "\u001b[33m[W 14:10:53 InstallContribNbextensionsApp]\u001b[m Out of date: /Users/codingdojo/Library/Jupyter/nbextensions/keyboard_shortcut_editor/kse_components.js\r\n",
      "\u001b[32m[I 14:10:53 InstallContribNbextensionsApp]\u001b[m Copying: /opt/homebrew/Caskroom/miniforge/base/envs/dojo-env/lib/python3.8/site-packages/jupyter_contrib_nbextensions/nbextensions/keyboard_shortcut_editor/kse_components.js -> /Users/codingdojo/Library/Jupyter/nbextensions/keyboard_shortcut_editor/kse_components.js\r\n",
      "\u001b[33m[W 14:10:53 InstallContribNbextensionsApp]\u001b[m Out of date: /Users/codingdojo/Library/Jupyter/nbextensions/keyboard_shortcut_editor/readme_undefined_key.png\r\n",
      "\u001b[32m[I 14:10:53 InstallContribNbextensionsApp]\u001b[m Copying: /opt/homebrew/Caskroom/miniforge/base/envs/dojo-env/lib/python3.8/site-packages/jupyter_contrib_nbextensions/nbextensions/keyboard_shortcut_editor/readme_undefined_key.png -> /Users/codingdojo/Library/Jupyter/nbextensions/keyboard_shortcut_editor/readme_undefined_key.png\r\n",
      "\u001b[33m[W 14:10:53 InstallContribNbextensionsApp]\u001b[m Out of date: /Users/codingdojo/Library/Jupyter/nbextensions/keyboard_shortcut_editor/readme_conflict.png\r\n",
      "\u001b[32m[I 14:10:53 InstallContribNbextensionsApp]\u001b[m Copying: /opt/homebrew/Caskroom/miniforge/base/envs/dojo-env/lib/python3.8/site-packages/jupyter_contrib_nbextensions/nbextensions/keyboard_shortcut_editor/readme_conflict.png -> /Users/codingdojo/Library/Jupyter/nbextensions/keyboard_shortcut_editor/readme_conflict.png\r\n",
      "\u001b[33m[W 14:10:53 InstallContribNbextensionsApp]\u001b[m Out of date: /Users/codingdojo/Library/Jupyter/nbextensions/keyboard_shortcut_editor/readme_menu_item.png\r\n",
      "\u001b[32m[I 14:10:53 InstallContribNbextensionsApp]\u001b[m Copying: /opt/homebrew/Caskroom/miniforge/base/envs/dojo-env/lib/python3.8/site-packages/jupyter_contrib_nbextensions/nbextensions/keyboard_shortcut_editor/readme_menu_item.png -> /Users/codingdojo/Library/Jupyter/nbextensions/keyboard_shortcut_editor/readme_menu_item.png\r\n",
      "\u001b[32m[I 14:10:53 InstallContribNbextensionsApp]\u001b[m - Validating: \u001b[32mOK\u001b[0m\r\n",
      "\u001b[32m[I 14:10:53 InstallContribNbextensionsApp]\u001b[m Installing /opt/homebrew/Caskroom/miniforge/base/envs/dojo-env/lib/python3.8/site-packages/jupyter_contrib_nbextensions/nbextensions/help_panel -> help_panel\r\n",
      "\u001b[33m[W 14:10:53 InstallContribNbextensionsApp]\u001b[m Out of date: /Users/codingdojo/Library/Jupyter/nbextensions/help_panel/icon.png\r\n",
      "\u001b[32m[I 14:10:53 InstallContribNbextensionsApp]\u001b[m Copying: /opt/homebrew/Caskroom/miniforge/base/envs/dojo-env/lib/python3.8/site-packages/jupyter_contrib_nbextensions/nbextensions/help_panel/icon.png -> /Users/codingdojo/Library/Jupyter/nbextensions/help_panel/icon.png\r\n",
      "\u001b[33m[W 14:10:53 InstallContribNbextensionsApp]\u001b[m Out of date: /Users/codingdojo/Library/Jupyter/nbextensions/help_panel/help_panel_ext.png\r\n",
      "\u001b[32m[I 14:10:53 InstallContribNbextensionsApp]\u001b[m Copying: /opt/homebrew/Caskroom/miniforge/base/envs/dojo-env/lib/python3.8/site-packages/jupyter_contrib_nbextensions/nbextensions/help_panel/help_panel_ext.png -> /Users/codingdojo/Library/Jupyter/nbextensions/help_panel/help_panel_ext.png\r\n",
      "\u001b[33m[W 14:10:53 InstallContribNbextensionsApp]\u001b[m Out of date: /Users/codingdojo/Library/Jupyter/nbextensions/help_panel/readme.md\r\n",
      "\u001b[32m[I 14:10:53 InstallContribNbextensionsApp]\u001b[m Copying: /opt/homebrew/Caskroom/miniforge/base/envs/dojo-env/lib/python3.8/site-packages/jupyter_contrib_nbextensions/nbextensions/help_panel/readme.md -> /Users/codingdojo/Library/Jupyter/nbextensions/help_panel/readme.md\r\n",
      "\u001b[33m[W 14:10:53 InstallContribNbextensionsApp]\u001b[m Out of date: /Users/codingdojo/Library/Jupyter/nbextensions/help_panel/help_panel_ext_fullscreen.png\r\n",
      "\u001b[32m[I 14:10:53 InstallContribNbextensionsApp]\u001b[m Copying: /opt/homebrew/Caskroom/miniforge/base/envs/dojo-env/lib/python3.8/site-packages/jupyter_contrib_nbextensions/nbextensions/help_panel/help_panel_ext_fullscreen.png -> /Users/codingdojo/Library/Jupyter/nbextensions/help_panel/help_panel_ext_fullscreen.png\r\n",
      "\u001b[33m[W 14:10:53 InstallContribNbextensionsApp]\u001b[m Out of date: /Users/codingdojo/Library/Jupyter/nbextensions/help_panel/help_panel.yaml\r\n",
      "\u001b[32m[I 14:10:53 InstallContribNbextensionsApp]\u001b[m Copying: /opt/homebrew/Caskroom/miniforge/base/envs/dojo-env/lib/python3.8/site-packages/jupyter_contrib_nbextensions/nbextensions/help_panel/help_panel.yaml -> /Users/codingdojo/Library/Jupyter/nbextensions/help_panel/help_panel.yaml\r\n",
      "\u001b[33m[W 14:10:53 InstallContribNbextensionsApp]\u001b[m Out of date: /Users/codingdojo/Library/Jupyter/nbextensions/help_panel/help_panel.css\r\n",
      "\u001b[32m[I 14:10:53 InstallContribNbextensionsApp]\u001b[m Copying: /opt/homebrew/Caskroom/miniforge/base/envs/dojo-env/lib/python3.8/site-packages/jupyter_contrib_nbextensions/nbextensions/help_panel/help_panel.css -> /Users/codingdojo/Library/Jupyter/nbextensions/help_panel/help_panel.css\r\n",
      "\u001b[33m[W 14:10:53 InstallContribNbextensionsApp]\u001b[m Out of date: /Users/codingdojo/Library/Jupyter/nbextensions/help_panel/help_panel.js\r\n",
      "\u001b[32m[I 14:10:53 InstallContribNbextensionsApp]\u001b[m Copying: /opt/homebrew/Caskroom/miniforge/base/envs/dojo-env/lib/python3.8/site-packages/jupyter_contrib_nbextensions/nbextensions/help_panel/help_panel.js -> /Users/codingdojo/Library/Jupyter/nbextensions/help_panel/help_panel.js\r\n",
      "\u001b[33m[W 14:10:53 InstallContribNbextensionsApp]\u001b[m Out of date: /Users/codingdojo/Library/Jupyter/nbextensions/help_panel/img/handle-v.png\r\n",
      "\u001b[32m[I 14:10:53 InstallContribNbextensionsApp]\u001b[m Copying: /opt/homebrew/Caskroom/miniforge/base/envs/dojo-env/lib/python3.8/site-packages/jupyter_contrib_nbextensions/nbextensions/help_panel/img/handle-v.png -> /Users/codingdojo/Library/Jupyter/nbextensions/help_panel/img/handle-v.png\r\n",
      "\u001b[32m[I 14:10:53 InstallContribNbextensionsApp]\u001b[m - Validating: \u001b[32mOK\u001b[0m\r\n",
      "\u001b[32m[I 14:10:53 InstallContribNbextensionsApp]\u001b[m Installing /opt/homebrew/Caskroom/miniforge/base/envs/dojo-env/lib/python3.8/site-packages/jupyter_contrib_nbextensions/nbextensions/move_selected_cells -> move_selected_cells\r\n",
      "\u001b[33m[W 14:10:53 InstallContribNbextensionsApp]\u001b[m Out of date: /Users/codingdojo/Library/Jupyter/nbextensions/move_selected_cells/README.md\r\n",
      "\u001b[32m[I 14:10:53 InstallContribNbextensionsApp]\u001b[m Copying: /opt/homebrew/Caskroom/miniforge/base/envs/dojo-env/lib/python3.8/site-packages/jupyter_contrib_nbextensions/nbextensions/move_selected_cells/README.md -> /Users/codingdojo/Library/Jupyter/nbextensions/move_selected_cells/README.md\r\n",
      "\u001b[33m[W 14:10:53 InstallContribNbextensionsApp]\u001b[m Out of date: /Users/codingdojo/Library/Jupyter/nbextensions/move_selected_cells/main.js\r\n",
      "\u001b[32m[I 14:10:53 InstallContribNbextensionsApp]\u001b[m Copying: /opt/homebrew/Caskroom/miniforge/base/envs/dojo-env/lib/python3.8/site-packages/jupyter_contrib_nbextensions/nbextensions/move_selected_cells/main.js -> /Users/codingdojo/Library/Jupyter/nbextensions/move_selected_cells/main.js\r\n",
      "\u001b[33m[W 14:10:53 InstallContribNbextensionsApp]\u001b[m Out of date: /Users/codingdojo/Library/Jupyter/nbextensions/move_selected_cells/move_selected_cells.yaml\r\n",
      "\u001b[32m[I 14:10:53 InstallContribNbextensionsApp]\u001b[m Copying: /opt/homebrew/Caskroom/miniforge/base/envs/dojo-env/lib/python3.8/site-packages/jupyter_contrib_nbextensions/nbextensions/move_selected_cells/move_selected_cells.yaml -> /Users/codingdojo/Library/Jupyter/nbextensions/move_selected_cells/move_selected_cells.yaml\r\n",
      "\u001b[32m[I 14:10:53 InstallContribNbextensionsApp]\u001b[m - Validating: \u001b[32mOK\u001b[0m\r\n",
      "\u001b[32m[I 14:10:53 InstallContribNbextensionsApp]\u001b[m Installing /opt/homebrew/Caskroom/miniforge/base/envs/dojo-env/lib/python3.8/site-packages/jupyter_contrib_nbextensions/nbextensions/zenmode -> zenmode\r\n",
      "\u001b[33m[W 14:10:53 InstallContribNbextensionsApp]\u001b[m Out of date: /Users/codingdojo/Library/Jupyter/nbextensions/zenmode/main.css\r\n",
      "\u001b[32m[I 14:10:53 InstallContribNbextensionsApp]\u001b[m Copying: /opt/homebrew/Caskroom/miniforge/base/envs/dojo-env/lib/python3.8/site-packages/jupyter_contrib_nbextensions/nbextensions/zenmode/main.css -> /Users/codingdojo/Library/Jupyter/nbextensions/zenmode/main.css\r\n",
      "\u001b[33m[W 14:10:53 InstallContribNbextensionsApp]\u001b[m Out of date: /Users/codingdojo/Library/Jupyter/nbextensions/zenmode/README.md\r\n",
      "\u001b[32m[I 14:10:53 InstallContribNbextensionsApp]\u001b[m Copying: /opt/homebrew/Caskroom/miniforge/base/envs/dojo-env/lib/python3.8/site-packages/jupyter_contrib_nbextensions/nbextensions/zenmode/README.md -> /Users/codingdojo/Library/Jupyter/nbextensions/zenmode/README.md\r\n",
      "\u001b[33m[W 14:10:53 InstallContribNbextensionsApp]\u001b[m Out of date: /Users/codingdojo/Library/Jupyter/nbextensions/zenmode/main.js\r\n",
      "\u001b[32m[I 14:10:53 InstallContribNbextensionsApp]\u001b[m Copying: /opt/homebrew/Caskroom/miniforge/base/envs/dojo-env/lib/python3.8/site-packages/jupyter_contrib_nbextensions/nbextensions/zenmode/main.js -> /Users/codingdojo/Library/Jupyter/nbextensions/zenmode/main.js\r\n"
     ]
    },
    {
     "name": "stdout",
     "output_type": "stream",
     "text": [
      "\u001b[33m[W 14:10:53 InstallContribNbextensionsApp]\u001b[m Out of date: /Users/codingdojo/Library/Jupyter/nbextensions/zenmode/zenmode.yaml\r\n",
      "\u001b[32m[I 14:10:53 InstallContribNbextensionsApp]\u001b[m Copying: /opt/homebrew/Caskroom/miniforge/base/envs/dojo-env/lib/python3.8/site-packages/jupyter_contrib_nbextensions/nbextensions/zenmode/zenmode.yaml -> /Users/codingdojo/Library/Jupyter/nbextensions/zenmode/zenmode.yaml\r\n",
      "\u001b[33m[W 14:10:53 InstallContribNbextensionsApp]\u001b[m Out of date: /Users/codingdojo/Library/Jupyter/nbextensions/zenmode/images/back12.jpg\r\n",
      "\u001b[32m[I 14:10:53 InstallContribNbextensionsApp]\u001b[m Copying: /opt/homebrew/Caskroom/miniforge/base/envs/dojo-env/lib/python3.8/site-packages/jupyter_contrib_nbextensions/nbextensions/zenmode/images/back12.jpg -> /Users/codingdojo/Library/Jupyter/nbextensions/zenmode/images/back12.jpg\r\n",
      "\u001b[33m[W 14:10:53 InstallContribNbextensionsApp]\u001b[m Out of date: /Users/codingdojo/Library/Jupyter/nbextensions/zenmode/images/back11.jpg\r\n",
      "\u001b[32m[I 14:10:53 InstallContribNbextensionsApp]\u001b[m Copying: /opt/homebrew/Caskroom/miniforge/base/envs/dojo-env/lib/python3.8/site-packages/jupyter_contrib_nbextensions/nbextensions/zenmode/images/back11.jpg -> /Users/codingdojo/Library/Jupyter/nbextensions/zenmode/images/back11.jpg\r\n",
      "\u001b[33m[W 14:10:53 InstallContribNbextensionsApp]\u001b[m Out of date: /Users/codingdojo/Library/Jupyter/nbextensions/zenmode/images/back2.jpg\r\n",
      "\u001b[32m[I 14:10:53 InstallContribNbextensionsApp]\u001b[m Copying: /opt/homebrew/Caskroom/miniforge/base/envs/dojo-env/lib/python3.8/site-packages/jupyter_contrib_nbextensions/nbextensions/zenmode/images/back2.jpg -> /Users/codingdojo/Library/Jupyter/nbextensions/zenmode/images/back2.jpg\r\n",
      "\u001b[33m[W 14:10:53 InstallContribNbextensionsApp]\u001b[m Out of date: /Users/codingdojo/Library/Jupyter/nbextensions/zenmode/images/back3.jpg\r\n",
      "\u001b[32m[I 14:10:53 InstallContribNbextensionsApp]\u001b[m Copying: /opt/homebrew/Caskroom/miniforge/base/envs/dojo-env/lib/python3.8/site-packages/jupyter_contrib_nbextensions/nbextensions/zenmode/images/back3.jpg -> /Users/codingdojo/Library/Jupyter/nbextensions/zenmode/images/back3.jpg\r\n",
      "\u001b[33m[W 14:10:53 InstallContribNbextensionsApp]\u001b[m Out of date: /Users/codingdojo/Library/Jupyter/nbextensions/zenmode/images/back1.jpg\r\n",
      "\u001b[32m[I 14:10:53 InstallContribNbextensionsApp]\u001b[m Copying: /opt/homebrew/Caskroom/miniforge/base/envs/dojo-env/lib/python3.8/site-packages/jupyter_contrib_nbextensions/nbextensions/zenmode/images/back1.jpg -> /Users/codingdojo/Library/Jupyter/nbextensions/zenmode/images/back1.jpg\r\n",
      "\u001b[33m[W 14:10:53 InstallContribNbextensionsApp]\u001b[m Out of date: /Users/codingdojo/Library/Jupyter/nbextensions/zenmode/images/ipynblogo1.png\r\n",
      "\u001b[32m[I 14:10:53 InstallContribNbextensionsApp]\u001b[m Copying: /opt/homebrew/Caskroom/miniforge/base/envs/dojo-env/lib/python3.8/site-packages/jupyter_contrib_nbextensions/nbextensions/zenmode/images/ipynblogo1.png -> /Users/codingdojo/Library/Jupyter/nbextensions/zenmode/images/ipynblogo1.png\r\n",
      "\u001b[33m[W 14:10:53 InstallContribNbextensionsApp]\u001b[m Out of date: /Users/codingdojo/Library/Jupyter/nbextensions/zenmode/images/ipynblogo0.png\r\n",
      "\u001b[32m[I 14:10:53 InstallContribNbextensionsApp]\u001b[m Copying: /opt/homebrew/Caskroom/miniforge/base/envs/dojo-env/lib/python3.8/site-packages/jupyter_contrib_nbextensions/nbextensions/zenmode/images/ipynblogo0.png -> /Users/codingdojo/Library/Jupyter/nbextensions/zenmode/images/ipynblogo0.png\r\n",
      "\u001b[33m[W 14:10:53 InstallContribNbextensionsApp]\u001b[m Out of date: /Users/codingdojo/Library/Jupyter/nbextensions/zenmode/images/back21.jpg\r\n",
      "\u001b[32m[I 14:10:53 InstallContribNbextensionsApp]\u001b[m Copying: /opt/homebrew/Caskroom/miniforge/base/envs/dojo-env/lib/python3.8/site-packages/jupyter_contrib_nbextensions/nbextensions/zenmode/images/back21.jpg -> /Users/codingdojo/Library/Jupyter/nbextensions/zenmode/images/back21.jpg\r\n",
      "\u001b[33m[W 14:10:53 InstallContribNbextensionsApp]\u001b[m Out of date: /Users/codingdojo/Library/Jupyter/nbextensions/zenmode/images/back22.jpg\r\n",
      "\u001b[32m[I 14:10:53 InstallContribNbextensionsApp]\u001b[m Copying: /opt/homebrew/Caskroom/miniforge/base/envs/dojo-env/lib/python3.8/site-packages/jupyter_contrib_nbextensions/nbextensions/zenmode/images/back22.jpg -> /Users/codingdojo/Library/Jupyter/nbextensions/zenmode/images/back22.jpg\r\n",
      "\u001b[32m[I 14:10:53 InstallContribNbextensionsApp]\u001b[m - Validating: \u001b[32mOK\u001b[0m\r\n",
      "\u001b[32m[I 14:10:53 InstallContribNbextensionsApp]\u001b[m Installing /opt/homebrew/Caskroom/miniforge/base/envs/dojo-env/lib/python3.8/site-packages/jupyter_contrib_nbextensions/nbextensions/skip-traceback -> skip-traceback\r\n",
      "\u001b[33m[W 14:10:53 InstallContribNbextensionsApp]\u001b[m Out of date: /Users/codingdojo/Library/Jupyter/nbextensions/skip-traceback/icon.png\r\n",
      "\u001b[32m[I 14:10:53 InstallContribNbextensionsApp]\u001b[m Copying: /opt/homebrew/Caskroom/miniforge/base/envs/dojo-env/lib/python3.8/site-packages/jupyter_contrib_nbextensions/nbextensions/skip-traceback/icon.png -> /Users/codingdojo/Library/Jupyter/nbextensions/skip-traceback/icon.png\r\n",
      "\u001b[33m[W 14:10:53 InstallContribNbextensionsApp]\u001b[m Out of date: /Users/codingdojo/Library/Jupyter/nbextensions/skip-traceback/traceback.png\r\n",
      "\u001b[32m[I 14:10:53 InstallContribNbextensionsApp]\u001b[m Copying: /opt/homebrew/Caskroom/miniforge/base/envs/dojo-env/lib/python3.8/site-packages/jupyter_contrib_nbextensions/nbextensions/skip-traceback/traceback.png -> /Users/codingdojo/Library/Jupyter/nbextensions/skip-traceback/traceback.png\r\n",
      "\u001b[33m[W 14:10:53 InstallContribNbextensionsApp]\u001b[m Out of date: /Users/codingdojo/Library/Jupyter/nbextensions/skip-traceback/readme.md\r\n",
      "\u001b[32m[I 14:10:53 InstallContribNbextensionsApp]\u001b[m Copying: /opt/homebrew/Caskroom/miniforge/base/envs/dojo-env/lib/python3.8/site-packages/jupyter_contrib_nbextensions/nbextensions/skip-traceback/readme.md -> /Users/codingdojo/Library/Jupyter/nbextensions/skip-traceback/readme.md\r\n",
      "\u001b[33m[W 14:10:53 InstallContribNbextensionsApp]\u001b[m Out of date: /Users/codingdojo/Library/Jupyter/nbextensions/skip-traceback/main.js\r\n",
      "\u001b[32m[I 14:10:53 InstallContribNbextensionsApp]\u001b[m Copying: /opt/homebrew/Caskroom/miniforge/base/envs/dojo-env/lib/python3.8/site-packages/jupyter_contrib_nbextensions/nbextensions/skip-traceback/main.js -> /Users/codingdojo/Library/Jupyter/nbextensions/skip-traceback/main.js\r\n",
      "\u001b[33m[W 14:10:53 InstallContribNbextensionsApp]\u001b[m Out of date: /Users/codingdojo/Library/Jupyter/nbextensions/skip-traceback/skip-traceback.yaml\r\n",
      "\u001b[32m[I 14:10:53 InstallContribNbextensionsApp]\u001b[m Copying: /opt/homebrew/Caskroom/miniforge/base/envs/dojo-env/lib/python3.8/site-packages/jupyter_contrib_nbextensions/nbextensions/skip-traceback/skip-traceback.yaml -> /Users/codingdojo/Library/Jupyter/nbextensions/skip-traceback/skip-traceback.yaml\r\n",
      "\u001b[33m[W 14:10:53 InstallContribNbextensionsApp]\u001b[m Out of date: /Users/codingdojo/Library/Jupyter/nbextensions/skip-traceback/skip-traceback.png\r\n",
      "\u001b[32m[I 14:10:53 InstallContribNbextensionsApp]\u001b[m Copying: /opt/homebrew/Caskroom/miniforge/base/envs/dojo-env/lib/python3.8/site-packages/jupyter_contrib_nbextensions/nbextensions/skip-traceback/skip-traceback.png -> /Users/codingdojo/Library/Jupyter/nbextensions/skip-traceback/skip-traceback.png\r\n",
      "\u001b[32m[I 14:10:53 InstallContribNbextensionsApp]\u001b[m - Validating: \u001b[32mOK\u001b[0m\r\n",
      "\u001b[32m[I 14:10:53 InstallContribNbextensionsApp]\u001b[m Installing /opt/homebrew/Caskroom/miniforge/base/envs/dojo-env/lib/python3.8/site-packages/jupyter_contrib_nbextensions/nbextensions/python-markdown -> python-markdown\r\n",
      "\u001b[33m[W 14:10:53 InstallContribNbextensionsApp]\u001b[m Out of date: /Users/codingdojo/Library/Jupyter/nbextensions/python-markdown/untrusted.png\r\n",
      "\u001b[32m[I 14:10:53 InstallContribNbextensionsApp]\u001b[m Copying: /opt/homebrew/Caskroom/miniforge/base/envs/dojo-env/lib/python3.8/site-packages/jupyter_contrib_nbextensions/nbextensions/python-markdown/untrusted.png -> /Users/codingdojo/Library/Jupyter/nbextensions/python-markdown/untrusted.png\r\n",
      "\u001b[33m[W 14:10:53 InstallContribNbextensionsApp]\u001b[m Out of date: /Users/codingdojo/Library/Jupyter/nbextensions/python-markdown/python-markdown-pre.png\r\n",
      "\u001b[32m[I 14:10:53 InstallContribNbextensionsApp]\u001b[m Copying: /opt/homebrew/Caskroom/miniforge/base/envs/dojo-env/lib/python3.8/site-packages/jupyter_contrib_nbextensions/nbextensions/python-markdown/python-markdown-pre.png -> /Users/codingdojo/Library/Jupyter/nbextensions/python-markdown/python-markdown-pre.png\r\n",
      "\u001b[33m[W 14:10:53 InstallContribNbextensionsApp]\u001b[m Out of date: /Users/codingdojo/Library/Jupyter/nbextensions/python-markdown/main.css\r\n",
      "\u001b[32m[I 14:10:53 InstallContribNbextensionsApp]\u001b[m Copying: /opt/homebrew/Caskroom/miniforge/base/envs/dojo-env/lib/python3.8/site-packages/jupyter_contrib_nbextensions/nbextensions/python-markdown/main.css -> /Users/codingdojo/Library/Jupyter/nbextensions/python-markdown/main.css\r\n",
      "\u001b[33m[W 14:10:53 InstallContribNbextensionsApp]\u001b[m Out of date: /Users/codingdojo/Library/Jupyter/nbextensions/python-markdown/readme.md\r\n",
      "\u001b[32m[I 14:10:53 InstallContribNbextensionsApp]\u001b[m Copying: /opt/homebrew/Caskroom/miniforge/base/envs/dojo-env/lib/python3.8/site-packages/jupyter_contrib_nbextensions/nbextensions/python-markdown/readme.md -> /Users/codingdojo/Library/Jupyter/nbextensions/python-markdown/readme.md\r\n",
      "\u001b[33m[W 14:10:53 InstallContribNbextensionsApp]\u001b[m Out of date: /Users/codingdojo/Library/Jupyter/nbextensions/python-markdown/main.js\r\n",
      "\u001b[32m[I 14:10:53 InstallContribNbextensionsApp]\u001b[m Copying: /opt/homebrew/Caskroom/miniforge/base/envs/dojo-env/lib/python3.8/site-packages/jupyter_contrib_nbextensions/nbextensions/python-markdown/main.js -> /Users/codingdojo/Library/Jupyter/nbextensions/python-markdown/main.js\r\n",
      "\u001b[33m[W 14:10:53 InstallContribNbextensionsApp]\u001b[m Out of date: /Users/codingdojo/Library/Jupyter/nbextensions/python-markdown/python-markdown.png\r\n",
      "\u001b[32m[I 14:10:53 InstallContribNbextensionsApp]\u001b[m Copying: /opt/homebrew/Caskroom/miniforge/base/envs/dojo-env/lib/python3.8/site-packages/jupyter_contrib_nbextensions/nbextensions/python-markdown/python-markdown.png -> /Users/codingdojo/Library/Jupyter/nbextensions/python-markdown/python-markdown.png\r\n",
      "\u001b[33m[W 14:10:53 InstallContribNbextensionsApp]\u001b[m Out of date: /Users/codingdojo/Library/Jupyter/nbextensions/python-markdown/trusted.png\r\n",
      "\u001b[32m[I 14:10:53 InstallContribNbextensionsApp]\u001b[m Copying: /opt/homebrew/Caskroom/miniforge/base/envs/dojo-env/lib/python3.8/site-packages/jupyter_contrib_nbextensions/nbextensions/python-markdown/trusted.png -> /Users/codingdojo/Library/Jupyter/nbextensions/python-markdown/trusted.png\r\n",
      "\u001b[33m[W 14:10:53 InstallContribNbextensionsApp]\u001b[m Out of date: /Users/codingdojo/Library/Jupyter/nbextensions/python-markdown/python-markdown.yaml\r\n",
      "\u001b[32m[I 14:10:53 InstallContribNbextensionsApp]\u001b[m Copying: /opt/homebrew/Caskroom/miniforge/base/envs/dojo-env/lib/python3.8/site-packages/jupyter_contrib_nbextensions/nbextensions/python-markdown/python-markdown.yaml -> /Users/codingdojo/Library/Jupyter/nbextensions/python-markdown/python-markdown.yaml\r\n",
      "\u001b[33m[W 14:10:53 InstallContribNbextensionsApp]\u001b[m Out of date: /Users/codingdojo/Library/Jupyter/nbextensions/python-markdown/python-markdown-post.png\r\n",
      "\u001b[32m[I 14:10:53 InstallContribNbextensionsApp]\u001b[m Copying: /opt/homebrew/Caskroom/miniforge/base/envs/dojo-env/lib/python3.8/site-packages/jupyter_contrib_nbextensions/nbextensions/python-markdown/python-markdown-post.png -> /Users/codingdojo/Library/Jupyter/nbextensions/python-markdown/python-markdown-post.png\r\n",
      "\u001b[32m[I 14:10:53 InstallContribNbextensionsApp]\u001b[m - Validating: \u001b[32mOK\u001b[0m\r\n",
      "\u001b[32m[I 14:10:53 InstallContribNbextensionsApp]\u001b[m Installing /opt/homebrew/Caskroom/miniforge/base/envs/dojo-env/lib/python3.8/site-packages/jupyter_contrib_nbextensions/nbextensions/codefolding -> codefolding\r\n",
      "\u001b[33m[W 14:10:53 InstallContribNbextensionsApp]\u001b[m Out of date: /Users/codingdojo/Library/Jupyter/nbextensions/codefolding/codefolding_editor.yaml\r\n",
      "\u001b[32m[I 14:10:53 InstallContribNbextensionsApp]\u001b[m Copying: /opt/homebrew/Caskroom/miniforge/base/envs/dojo-env/lib/python3.8/site-packages/jupyter_contrib_nbextensions/nbextensions/codefolding/codefolding_editor.yaml -> /Users/codingdojo/Library/Jupyter/nbextensions/codefolding/codefolding_editor.yaml\r\n",
      "\u001b[33m[W 14:10:53 InstallContribNbextensionsApp]\u001b[m Out of date: /Users/codingdojo/Library/Jupyter/nbextensions/codefolding/icon.png\r\n",
      "\u001b[32m[I 14:10:53 InstallContribNbextensionsApp]\u001b[m Copying: /opt/homebrew/Caskroom/miniforge/base/envs/dojo-env/lib/python3.8/site-packages/jupyter_contrib_nbextensions/nbextensions/codefolding/icon.png -> /Users/codingdojo/Library/Jupyter/nbextensions/codefolding/icon.png\r\n",
      "\u001b[33m[W 14:10:53 InstallContribNbextensionsApp]\u001b[m Out of date: /Users/codingdojo/Library/Jupyter/nbextensions/codefolding/codefolding_firstline_folded.png\r\n",
      "\u001b[32m[I 14:10:53 InstallContribNbextensionsApp]\u001b[m Copying: /opt/homebrew/Caskroom/miniforge/base/envs/dojo-env/lib/python3.8/site-packages/jupyter_contrib_nbextensions/nbextensions/codefolding/codefolding_firstline_folded.png -> /Users/codingdojo/Library/Jupyter/nbextensions/codefolding/codefolding_firstline_folded.png\r\n",
      "\u001b[33m[W 14:10:53 InstallContribNbextensionsApp]\u001b[m Out of date: /Users/codingdojo/Library/Jupyter/nbextensions/codefolding/codefolding_indent_folded_2.png\r\n",
      "\u001b[32m[I 14:10:53 InstallContribNbextensionsApp]\u001b[m Copying: /opt/homebrew/Caskroom/miniforge/base/envs/dojo-env/lib/python3.8/site-packages/jupyter_contrib_nbextensions/nbextensions/codefolding/codefolding_indent_folded_2.png -> /Users/codingdojo/Library/Jupyter/nbextensions/codefolding/codefolding_indent_folded_2.png\r\n",
      "\u001b[33m[W 14:10:53 InstallContribNbextensionsApp]\u001b[m Out of date: /Users/codingdojo/Library/Jupyter/nbextensions/codefolding/codefolding_indent_folded_1.png\r\n",
      "\u001b[32m[I 14:10:53 InstallContribNbextensionsApp]\u001b[m Copying: /opt/homebrew/Caskroom/miniforge/base/envs/dojo-env/lib/python3.8/site-packages/jupyter_contrib_nbextensions/nbextensions/codefolding/codefolding_indent_folded_1.png -> /Users/codingdojo/Library/Jupyter/nbextensions/codefolding/codefolding_indent_folded_1.png\r\n",
      "\u001b[33m[W 14:10:53 InstallContribNbextensionsApp]\u001b[m Out of date: /Users/codingdojo/Library/Jupyter/nbextensions/codefolding/edit.js\r\n",
      "\u001b[32m[I 14:10:53 InstallContribNbextensionsApp]\u001b[m Copying: /opt/homebrew/Caskroom/miniforge/base/envs/dojo-env/lib/python3.8/site-packages/jupyter_contrib_nbextensions/nbextensions/codefolding/edit.js -> /Users/codingdojo/Library/Jupyter/nbextensions/codefolding/edit.js\r\n",
      "\u001b[33m[W 14:10:53 InstallContribNbextensionsApp]\u001b[m Out of date: /Users/codingdojo/Library/Jupyter/nbextensions/codefolding/magic-fold.js\r\n",
      "\u001b[32m[I 14:10:53 InstallContribNbextensionsApp]\u001b[m Copying: /opt/homebrew/Caskroom/miniforge/base/envs/dojo-env/lib/python3.8/site-packages/jupyter_contrib_nbextensions/nbextensions/codefolding/magic-fold.js -> /Users/codingdojo/Library/Jupyter/nbextensions/codefolding/magic-fold.js\r\n",
      "\u001b[33m[W 14:10:53 InstallContribNbextensionsApp]\u001b[m Out of date: /Users/codingdojo/Library/Jupyter/nbextensions/codefolding/firstline-fold.js\r\n",
      "\u001b[32m[I 14:10:53 InstallContribNbextensionsApp]\u001b[m Copying: /opt/homebrew/Caskroom/miniforge/base/envs/dojo-env/lib/python3.8/site-packages/jupyter_contrib_nbextensions/nbextensions/codefolding/firstline-fold.js -> /Users/codingdojo/Library/Jupyter/nbextensions/codefolding/firstline-fold.js\r\n",
      "\u001b[33m[W 14:10:53 InstallContribNbextensionsApp]\u001b[m Out of date: /Users/codingdojo/Library/Jupyter/nbextensions/codefolding/codefolding_firstline_unfolded.png\r\n",
      "\u001b[32m[I 14:10:53 InstallContribNbextensionsApp]\u001b[m Copying: /opt/homebrew/Caskroom/miniforge/base/envs/dojo-env/lib/python3.8/site-packages/jupyter_contrib_nbextensions/nbextensions/codefolding/codefolding_firstline_unfolded.png -> /Users/codingdojo/Library/Jupyter/nbextensions/codefolding/codefolding_firstline_unfolded.png\r\n",
      "\u001b[33m[W 14:10:53 InstallContribNbextensionsApp]\u001b[m Out of date: /Users/codingdojo/Library/Jupyter/nbextensions/codefolding/readme.md\r\n",
      "\u001b[32m[I 14:10:53 InstallContribNbextensionsApp]\u001b[m Copying: /opt/homebrew/Caskroom/miniforge/base/envs/dojo-env/lib/python3.8/site-packages/jupyter_contrib_nbextensions/nbextensions/codefolding/readme.md -> /Users/codingdojo/Library/Jupyter/nbextensions/codefolding/readme.md\r\n",
      "\u001b[33m[W 14:10:53 InstallContribNbextensionsApp]\u001b[m Out of date: /Users/codingdojo/Library/Jupyter/nbextensions/codefolding/main.js\r\n",
      "\u001b[32m[I 14:10:53 InstallContribNbextensionsApp]\u001b[m Copying: /opt/homebrew/Caskroom/miniforge/base/envs/dojo-env/lib/python3.8/site-packages/jupyter_contrib_nbextensions/nbextensions/codefolding/main.js -> /Users/codingdojo/Library/Jupyter/nbextensions/codefolding/main.js\r\n",
      "\u001b[33m[W 14:10:53 InstallContribNbextensionsApp]\u001b[m Out of date: /Users/codingdojo/Library/Jupyter/nbextensions/codefolding/magic-unfolded.png\r\n",
      "\u001b[32m[I 14:10:53 InstallContribNbextensionsApp]\u001b[m Copying: /opt/homebrew/Caskroom/miniforge/base/envs/dojo-env/lib/python3.8/site-packages/jupyter_contrib_nbextensions/nbextensions/codefolding/magic-unfolded.png -> /Users/codingdojo/Library/Jupyter/nbextensions/codefolding/magic-unfolded.png\r\n",
      "\u001b[33m[W 14:10:53 InstallContribNbextensionsApp]\u001b[m Out of date: /Users/codingdojo/Library/Jupyter/nbextensions/codefolding/foldgutter.css\r\n",
      "\u001b[32m[I 14:10:53 InstallContribNbextensionsApp]\u001b[m Copying: /opt/homebrew/Caskroom/miniforge/base/envs/dojo-env/lib/python3.8/site-packages/jupyter_contrib_nbextensions/nbextensions/codefolding/foldgutter.css -> /Users/codingdojo/Library/Jupyter/nbextensions/codefolding/foldgutter.css\r\n",
      "\u001b[33m[W 14:10:53 InstallContribNbextensionsApp]\u001b[m Out of date: /Users/codingdojo/Library/Jupyter/nbextensions/codefolding/magic-folded.png\r\n",
      "\u001b[32m[I 14:10:53 InstallContribNbextensionsApp]\u001b[m Copying: /opt/homebrew/Caskroom/miniforge/base/envs/dojo-env/lib/python3.8/site-packages/jupyter_contrib_nbextensions/nbextensions/codefolding/magic-folded.png -> /Users/codingdojo/Library/Jupyter/nbextensions/codefolding/magic-folded.png\r\n",
      "\u001b[33m[W 14:10:53 InstallContribNbextensionsApp]\u001b[m Out of date: /Users/codingdojo/Library/Jupyter/nbextensions/codefolding/codefolding.yaml\r\n",
      "\u001b[32m[I 14:10:53 InstallContribNbextensionsApp]\u001b[m Copying: /opt/homebrew/Caskroom/miniforge/base/envs/dojo-env/lib/python3.8/site-packages/jupyter_contrib_nbextensions/nbextensions/codefolding/codefolding.yaml -> /Users/codingdojo/Library/Jupyter/nbextensions/codefolding/codefolding.yaml\r\n",
      "\u001b[33m[W 14:10:53 InstallContribNbextensionsApp]\u001b[m Out of date: /Users/codingdojo/Library/Jupyter/nbextensions/codefolding/codefolding_editor.png\r\n",
      "\u001b[32m[I 14:10:53 InstallContribNbextensionsApp]\u001b[m Copying: /opt/homebrew/Caskroom/miniforge/base/envs/dojo-env/lib/python3.8/site-packages/jupyter_contrib_nbextensions/nbextensions/codefolding/codefolding_editor.png -> /Users/codingdojo/Library/Jupyter/nbextensions/codefolding/codefolding_editor.png\r\n",
      "\u001b[33m[W 14:10:53 InstallContribNbextensionsApp]\u001b[m Out of date: /Users/codingdojo/Library/Jupyter/nbextensions/codefolding/codefolding_indent_unfolded.png\r\n",
      "\u001b[32m[I 14:10:53 InstallContribNbextensionsApp]\u001b[m Copying: /opt/homebrew/Caskroom/miniforge/base/envs/dojo-env/lib/python3.8/site-packages/jupyter_contrib_nbextensions/nbextensions/codefolding/codefolding_indent_unfolded.png -> /Users/codingdojo/Library/Jupyter/nbextensions/codefolding/codefolding_indent_unfolded.png\r\n",
      "\u001b[32m[I 14:10:53 InstallContribNbextensionsApp]\u001b[m - Validating: \u001b[32mOK\u001b[0m\r\n",
      "\u001b[32m[I 14:10:53 InstallContribNbextensionsApp]\u001b[m Installing /opt/homebrew/Caskroom/miniforge/base/envs/dojo-env/lib/python3.8/site-packages/jupyter_contrib_nbextensions/nbextensions/codefolding -> codefolding\r\n",
      "\u001b[32m[I 14:10:53 InstallContribNbextensionsApp]\u001b[m Up to date: /Users/codingdojo/Library/Jupyter/nbextensions/codefolding/codefolding_editor.yaml\r\n",
      "\u001b[32m[I 14:10:53 InstallContribNbextensionsApp]\u001b[m Up to date: /Users/codingdojo/Library/Jupyter/nbextensions/codefolding/icon.png\r\n",
      "\u001b[32m[I 14:10:53 InstallContribNbextensionsApp]\u001b[m Up to date: /Users/codingdojo/Library/Jupyter/nbextensions/codefolding/codefolding_firstline_folded.png\r\n",
      "\u001b[32m[I 14:10:53 InstallContribNbextensionsApp]\u001b[m Up to date: /Users/codingdojo/Library/Jupyter/nbextensions/codefolding/codefolding_indent_folded_2.png\r\n",
      "\u001b[32m[I 14:10:53 InstallContribNbextensionsApp]\u001b[m Up to date: /Users/codingdojo/Library/Jupyter/nbextensions/codefolding/codefolding_indent_folded_1.png\r\n",
      "\u001b[32m[I 14:10:53 InstallContribNbextensionsApp]\u001b[m Up to date: /Users/codingdojo/Library/Jupyter/nbextensions/codefolding/edit.js\r\n",
      "\u001b[32m[I 14:10:53 InstallContribNbextensionsApp]\u001b[m Up to date: /Users/codingdojo/Library/Jupyter/nbextensions/codefolding/magic-fold.js\r\n",
      "\u001b[32m[I 14:10:53 InstallContribNbextensionsApp]\u001b[m Up to date: /Users/codingdojo/Library/Jupyter/nbextensions/codefolding/firstline-fold.js\r\n",
      "\u001b[32m[I 14:10:53 InstallContribNbextensionsApp]\u001b[m Up to date: /Users/codingdojo/Library/Jupyter/nbextensions/codefolding/codefolding_firstline_unfolded.png\r\n",
      "\u001b[32m[I 14:10:53 InstallContribNbextensionsApp]\u001b[m Up to date: /Users/codingdojo/Library/Jupyter/nbextensions/codefolding/readme.md\r\n",
      "\u001b[32m[I 14:10:53 InstallContribNbextensionsApp]\u001b[m Up to date: /Users/codingdojo/Library/Jupyter/nbextensions/codefolding/main.js\r\n",
      "\u001b[32m[I 14:10:53 InstallContribNbextensionsApp]\u001b[m Up to date: /Users/codingdojo/Library/Jupyter/nbextensions/codefolding/magic-unfolded.png\r\n",
      "\u001b[32m[I 14:10:53 InstallContribNbextensionsApp]\u001b[m Up to date: /Users/codingdojo/Library/Jupyter/nbextensions/codefolding/foldgutter.css\r\n",
      "\u001b[32m[I 14:10:53 InstallContribNbextensionsApp]\u001b[m Up to date: /Users/codingdojo/Library/Jupyter/nbextensions/codefolding/magic-folded.png\r\n",
      "\u001b[32m[I 14:10:53 InstallContribNbextensionsApp]\u001b[m Up to date: /Users/codingdojo/Library/Jupyter/nbextensions/codefolding/codefolding.yaml\r\n",
      "\u001b[32m[I 14:10:53 InstallContribNbextensionsApp]\u001b[m Up to date: /Users/codingdojo/Library/Jupyter/nbextensions/codefolding/codefolding_editor.png\r\n",
      "\u001b[32m[I 14:10:53 InstallContribNbextensionsApp]\u001b[m Up to date: /Users/codingdojo/Library/Jupyter/nbextensions/codefolding/codefolding_indent_unfolded.png\r\n",
      "\u001b[32m[I 14:10:53 InstallContribNbextensionsApp]\u001b[m - Validating: \u001b[32mOK\u001b[0m\r\n",
      "\u001b[32m[I 14:10:53 InstallContribNbextensionsApp]\u001b[m Installing /opt/homebrew/Caskroom/miniforge/base/envs/dojo-env/lib/python3.8/site-packages/jupyter_contrib_nbextensions/nbextensions/collapsible_headings -> collapsible_headings\r\n",
      "\u001b[33m[W 14:10:53 InstallContribNbextensionsApp]\u001b[m Out of date: /Users/codingdojo/Library/Jupyter/nbextensions/collapsible_headings/icon.png\r\n",
      "\u001b[32m[I 14:10:53 InstallContribNbextensionsApp]\u001b[m Copying: /opt/homebrew/Caskroom/miniforge/base/envs/dojo-env/lib/python3.8/site-packages/jupyter_contrib_nbextensions/nbextensions/collapsible_headings/icon.png -> /Users/codingdojo/Library/Jupyter/nbextensions/collapsible_headings/icon.png\r\n",
      "\u001b[33m[W 14:10:53 InstallContribNbextensionsApp]\u001b[m Out of date: /Users/codingdojo/Library/Jupyter/nbextensions/collapsible_headings/screenshot.png\r\n",
      "\u001b[32m[I 14:10:53 InstallContribNbextensionsApp]\u001b[m Copying: /opt/homebrew/Caskroom/miniforge/base/envs/dojo-env/lib/python3.8/site-packages/jupyter_contrib_nbextensions/nbextensions/collapsible_headings/screenshot.png -> /Users/codingdojo/Library/Jupyter/nbextensions/collapsible_headings/screenshot.png\r\n",
      "\u001b[33m[W 14:10:53 InstallContribNbextensionsApp]\u001b[m Out of date: /Users/codingdojo/Library/Jupyter/nbextensions/collapsible_headings/main.css\r\n",
      "\u001b[32m[I 14:10:53 InstallContribNbextensionsApp]\u001b[m Copying: /opt/homebrew/Caskroom/miniforge/base/envs/dojo-env/lib/python3.8/site-packages/jupyter_contrib_nbextensions/nbextensions/collapsible_headings/main.css -> /Users/codingdojo/Library/Jupyter/nbextensions/collapsible_headings/main.css\r\n",
      "\u001b[33m[W 14:10:53 InstallContribNbextensionsApp]\u001b[m Out of date: /Users/codingdojo/Library/Jupyter/nbextensions/collapsible_headings/readme.md\r\n",
      "\u001b[32m[I 14:10:53 InstallContribNbextensionsApp]\u001b[m Copying: /opt/homebrew/Caskroom/miniforge/base/envs/dojo-env/lib/python3.8/site-packages/jupyter_contrib_nbextensions/nbextensions/collapsible_headings/readme.md -> /Users/codingdojo/Library/Jupyter/nbextensions/collapsible_headings/readme.md\r\n",
      "\u001b[33m[W 14:10:53 InstallContribNbextensionsApp]\u001b[m Out of date: /Users/codingdojo/Library/Jupyter/nbextensions/collapsible_headings/main.js\r\n",
      "\u001b[32m[I 14:10:53 InstallContribNbextensionsApp]\u001b[m Copying: /opt/homebrew/Caskroom/miniforge/base/envs/dojo-env/lib/python3.8/site-packages/jupyter_contrib_nbextensions/nbextensions/collapsible_headings/main.js -> /Users/codingdojo/Library/Jupyter/nbextensions/collapsible_headings/main.js\r\n",
      "\u001b[33m[W 14:10:53 InstallContribNbextensionsApp]\u001b[m Out of date: /Users/codingdojo/Library/Jupyter/nbextensions/collapsible_headings/collapsible_headings.yaml\r\n",
      "\u001b[32m[I 14:10:53 InstallContribNbextensionsApp]\u001b[m Copying: /opt/homebrew/Caskroom/miniforge/base/envs/dojo-env/lib/python3.8/site-packages/jupyter_contrib_nbextensions/nbextensions/collapsible_headings/collapsible_headings.yaml -> /Users/codingdojo/Library/Jupyter/nbextensions/collapsible_headings/collapsible_headings.yaml\r\n",
      "\u001b[32m[I 14:10:53 InstallContribNbextensionsApp]\u001b[m - Validating: \u001b[32mOK\u001b[0m\r\n",
      "\u001b[32m[I 14:10:53 InstallContribNbextensionsApp]\u001b[m Installing /opt/homebrew/Caskroom/miniforge/base/envs/dojo-env/lib/python3.8/site-packages/jupyter_contrib_nbextensions/nbextensions/exercise -> exercise\r\n",
      "\u001b[33m[W 14:10:53 InstallContribNbextensionsApp]\u001b[m Out of date: /Users/codingdojo/Library/Jupyter/nbextensions/exercise/icon.png\r\n",
      "\u001b[32m[I 14:10:53 InstallContribNbextensionsApp]\u001b[m Copying: /opt/homebrew/Caskroom/miniforge/base/envs/dojo-env/lib/python3.8/site-packages/jupyter_contrib_nbextensions/nbextensions/exercise/icon.png -> /Users/codingdojo/Library/Jupyter/nbextensions/exercise/icon.png\r\n",
      "\u001b[33m[W 14:10:53 InstallContribNbextensionsApp]\u001b[m Out of date: /Users/codingdojo/Library/Jupyter/nbextensions/exercise/history.md\r\n",
      "\u001b[32m[I 14:10:53 InstallContribNbextensionsApp]\u001b[m Copying: /opt/homebrew/Caskroom/miniforge/base/envs/dojo-env/lib/python3.8/site-packages/jupyter_contrib_nbextensions/nbextensions/exercise/history.md -> /Users/codingdojo/Library/Jupyter/nbextensions/exercise/history.md\r\n",
      "\u001b[33m[W 14:10:53 InstallContribNbextensionsApp]\u001b[m Out of date: /Users/codingdojo/Library/Jupyter/nbextensions/exercise/main.css\r\n",
      "\u001b[32m[I 14:10:53 InstallContribNbextensionsApp]\u001b[m Copying: /opt/homebrew/Caskroom/miniforge/base/envs/dojo-env/lib/python3.8/site-packages/jupyter_contrib_nbextensions/nbextensions/exercise/main.css -> /Users/codingdojo/Library/Jupyter/nbextensions/exercise/main.css\r\n",
      "\u001b[33m[W 14:10:53 InstallContribNbextensionsApp]\u001b[m Out of date: /Users/codingdojo/Library/Jupyter/nbextensions/exercise/image.gif\r\n",
      "\u001b[32m[I 14:10:53 InstallContribNbextensionsApp]\u001b[m Copying: /opt/homebrew/Caskroom/miniforge/base/envs/dojo-env/lib/python3.8/site-packages/jupyter_contrib_nbextensions/nbextensions/exercise/image.gif -> /Users/codingdojo/Library/Jupyter/nbextensions/exercise/image.gif\r\n",
      "\u001b[33m[W 14:10:53 InstallContribNbextensionsApp]\u001b[m Out of date: /Users/codingdojo/Library/Jupyter/nbextensions/exercise/readme.md\r\n",
      "\u001b[32m[I 14:10:53 InstallContribNbextensionsApp]\u001b[m Copying: /opt/homebrew/Caskroom/miniforge/base/envs/dojo-env/lib/python3.8/site-packages/jupyter_contrib_nbextensions/nbextensions/exercise/readme.md -> /Users/codingdojo/Library/Jupyter/nbextensions/exercise/readme.md\r\n",
      "\u001b[33m[W 14:10:53 InstallContribNbextensionsApp]\u001b[m Out of date: /Users/codingdojo/Library/Jupyter/nbextensions/exercise/main.js\r\n",
      "\u001b[32m[I 14:10:53 InstallContribNbextensionsApp]\u001b[m Copying: /opt/homebrew/Caskroom/miniforge/base/envs/dojo-env/lib/python3.8/site-packages/jupyter_contrib_nbextensions/nbextensions/exercise/main.js -> /Users/codingdojo/Library/Jupyter/nbextensions/exercise/main.js\r\n",
      "\u001b[33m[W 14:10:53 InstallContribNbextensionsApp]\u001b[m Out of date: /Users/codingdojo/Library/Jupyter/nbextensions/exercise/exercise.yaml\r\n",
      "\u001b[32m[I 14:10:53 InstallContribNbextensionsApp]\u001b[m Copying: /opt/homebrew/Caskroom/miniforge/base/envs/dojo-env/lib/python3.8/site-packages/jupyter_contrib_nbextensions/nbextensions/exercise/exercise.yaml -> /Users/codingdojo/Library/Jupyter/nbextensions/exercise/exercise.yaml\r\n",
      "\u001b[32m[I 14:10:53 InstallContribNbextensionsApp]\u001b[m - Validating: \u001b[32mOK\u001b[0m\r\n",
      "\u001b[32m[I 14:10:53 InstallContribNbextensionsApp]\u001b[m Installing /opt/homebrew/Caskroom/miniforge/base/envs/dojo-env/lib/python3.8/site-packages/jupyter_contrib_nbextensions/nbextensions/codemirror_mode_extensions -> codemirror_mode_extensions\r\n",
      "\u001b[33m[W 14:10:53 InstallContribNbextensionsApp]\u001b[m Out of date: /Users/codingdojo/Library/Jupyter/nbextensions/codemirror_mode_extensions/codemirror_mode_extensions.yaml\r\n",
      "\u001b[32m[I 14:10:53 InstallContribNbextensionsApp]\u001b[m Copying: /opt/homebrew/Caskroom/miniforge/base/envs/dojo-env/lib/python3.8/site-packages/jupyter_contrib_nbextensions/nbextensions/codemirror_mode_extensions/codemirror_mode_extensions.yaml -> /Users/codingdojo/Library/Jupyter/nbextensions/codemirror_mode_extensions/codemirror_mode_extensions.yaml\r\n",
      "\u001b[33m[W 14:10:53 InstallContribNbextensionsApp]\u001b[m Out of date: /Users/codingdojo/Library/Jupyter/nbextensions/codemirror_mode_extensions/main.js\r\n",
      "\u001b[32m[I 14:10:53 InstallContribNbextensionsApp]\u001b[m Copying: /opt/homebrew/Caskroom/miniforge/base/envs/dojo-env/lib/python3.8/site-packages/jupyter_contrib_nbextensions/nbextensions/codemirror_mode_extensions/main.js -> /Users/codingdojo/Library/Jupyter/nbextensions/codemirror_mode_extensions/main.js\r\n",
      "\u001b[32m[I 14:10:53 InstallContribNbextensionsApp]\u001b[m - Validating: \u001b[32mOK\u001b[0m\r\n",
      "\u001b[32m[I 14:10:53 InstallContribNbextensionsApp]\u001b[m Installing /opt/homebrew/Caskroom/miniforge/base/envs/dojo-env/lib/python3.8/site-packages/jupyter_contrib_nbextensions/nbextensions/ruler -> ruler\r\n",
      "\u001b[33m[W 14:10:53 InstallContribNbextensionsApp]\u001b[m Out of date: /Users/codingdojo/Library/Jupyter/nbextensions/ruler/icon.png\r\n",
      "\u001b[32m[I 14:10:53 InstallContribNbextensionsApp]\u001b[m Copying: /opt/homebrew/Caskroom/miniforge/base/envs/dojo-env/lib/python3.8/site-packages/jupyter_contrib_nbextensions/nbextensions/ruler/icon.png -> /Users/codingdojo/Library/Jupyter/nbextensions/ruler/icon.png\r\n",
      "\u001b[33m[W 14:10:53 InstallContribNbextensionsApp]\u001b[m Out of date: /Users/codingdojo/Library/Jupyter/nbextensions/ruler/edit.js\r\n",
      "\u001b[32m[I 14:10:53 InstallContribNbextensionsApp]\u001b[m Copying: /opt/homebrew/Caskroom/miniforge/base/envs/dojo-env/lib/python3.8/site-packages/jupyter_contrib_nbextensions/nbextensions/ruler/edit.js -> /Users/codingdojo/Library/Jupyter/nbextensions/ruler/edit.js\r\n",
      "\u001b[33m[W 14:10:53 InstallContribNbextensionsApp]\u001b[m Out of date: /Users/codingdojo/Library/Jupyter/nbextensions/ruler/ruler_editor.yaml\r\n",
      "\u001b[32m[I 14:10:53 InstallContribNbextensionsApp]\u001b[m Copying: /opt/homebrew/Caskroom/miniforge/base/envs/dojo-env/lib/python3.8/site-packages/jupyter_contrib_nbextensions/nbextensions/ruler/ruler_editor.yaml -> /Users/codingdojo/Library/Jupyter/nbextensions/ruler/ruler_editor.yaml\r\n",
      "\u001b[33m[W 14:10:53 InstallContribNbextensionsApp]\u001b[m Out of date: /Users/codingdojo/Library/Jupyter/nbextensions/ruler/readme.md\r\n",
      "\u001b[32m[I 14:10:53 InstallContribNbextensionsApp]\u001b[m Copying: /opt/homebrew/Caskroom/miniforge/base/envs/dojo-env/lib/python3.8/site-packages/jupyter_contrib_nbextensions/nbextensions/ruler/readme.md -> /Users/codingdojo/Library/Jupyter/nbextensions/ruler/readme.md\r\n",
      "\u001b[33m[W 14:10:53 InstallContribNbextensionsApp]\u001b[m Out of date: /Users/codingdojo/Library/Jupyter/nbextensions/ruler/main.js\r\n",
      "\u001b[32m[I 14:10:53 InstallContribNbextensionsApp]\u001b[m Copying: /opt/homebrew/Caskroom/miniforge/base/envs/dojo-env/lib/python3.8/site-packages/jupyter_contrib_nbextensions/nbextensions/ruler/main.js -> /Users/codingdojo/Library/Jupyter/nbextensions/ruler/main.js\r\n",
      "\u001b[33m[W 14:10:53 InstallContribNbextensionsApp]\u001b[m Out of date: /Users/codingdojo/Library/Jupyter/nbextensions/ruler/ruler.yaml\r\n",
      "\u001b[32m[I 14:10:53 InstallContribNbextensionsApp]\u001b[m Copying: /opt/homebrew/Caskroom/miniforge/base/envs/dojo-env/lib/python3.8/site-packages/jupyter_contrib_nbextensions/nbextensions/ruler/ruler.yaml -> /Users/codingdojo/Library/Jupyter/nbextensions/ruler/ruler.yaml\r\n",
      "\u001b[32m[I 14:10:53 InstallContribNbextensionsApp]\u001b[m - Validating: \u001b[32mOK\u001b[0m\r\n",
      "\u001b[32m[I 14:10:53 InstallContribNbextensionsApp]\u001b[m Installing /opt/homebrew/Caskroom/miniforge/base/envs/dojo-env/lib/python3.8/site-packages/jupyter_contrib_nbextensions/nbextensions/ruler -> ruler\r\n",
      "\u001b[32m[I 14:10:53 InstallContribNbextensionsApp]\u001b[m Up to date: /Users/codingdojo/Library/Jupyter/nbextensions/ruler/icon.png\r\n",
      "\u001b[32m[I 14:10:53 InstallContribNbextensionsApp]\u001b[m Up to date: /Users/codingdojo/Library/Jupyter/nbextensions/ruler/edit.js\r\n",
      "\u001b[32m[I 14:10:53 InstallContribNbextensionsApp]\u001b[m Up to date: /Users/codingdojo/Library/Jupyter/nbextensions/ruler/ruler_editor.yaml\r\n",
      "\u001b[32m[I 14:10:53 InstallContribNbextensionsApp]\u001b[m Up to date: /Users/codingdojo/Library/Jupyter/nbextensions/ruler/readme.md\r\n",
      "\u001b[32m[I 14:10:53 InstallContribNbextensionsApp]\u001b[m Up to date: /Users/codingdojo/Library/Jupyter/nbextensions/ruler/main.js\r\n",
      "\u001b[32m[I 14:10:53 InstallContribNbextensionsApp]\u001b[m Up to date: /Users/codingdojo/Library/Jupyter/nbextensions/ruler/ruler.yaml\r\n",
      "\u001b[32m[I 14:10:53 InstallContribNbextensionsApp]\u001b[m - Validating: \u001b[32mOK\u001b[0m\r\n",
      "\u001b[32m[I 14:10:53 InstallContribNbextensionsApp]\u001b[m Installing /opt/homebrew/Caskroom/miniforge/base/envs/dojo-env/lib/python3.8/site-packages/jupyter_contrib_nbextensions/nbextensions/contrib_nbextensions_help_item -> contrib_nbextensions_help_item\r\n",
      "\u001b[33m[W 14:10:53 InstallContribNbextensionsApp]\u001b[m Out of date: /Users/codingdojo/Library/Jupyter/nbextensions/contrib_nbextensions_help_item/README.md\r\n",
      "\u001b[32m[I 14:10:53 InstallContribNbextensionsApp]\u001b[m Copying: /opt/homebrew/Caskroom/miniforge/base/envs/dojo-env/lib/python3.8/site-packages/jupyter_contrib_nbextensions/nbextensions/contrib_nbextensions_help_item/README.md -> /Users/codingdojo/Library/Jupyter/nbextensions/contrib_nbextensions_help_item/README.md\r\n",
      "\u001b[33m[W 14:10:53 InstallContribNbextensionsApp]\u001b[m Out of date: /Users/codingdojo/Library/Jupyter/nbextensions/contrib_nbextensions_help_item/main.js\r\n",
      "\u001b[32m[I 14:10:53 InstallContribNbextensionsApp]\u001b[m Copying: /opt/homebrew/Caskroom/miniforge/base/envs/dojo-env/lib/python3.8/site-packages/jupyter_contrib_nbextensions/nbextensions/contrib_nbextensions_help_item/main.js -> /Users/codingdojo/Library/Jupyter/nbextensions/contrib_nbextensions_help_item/main.js\r\n",
      "\u001b[33m[W 14:10:53 InstallContribNbextensionsApp]\u001b[m Out of date: /Users/codingdojo/Library/Jupyter/nbextensions/contrib_nbextensions_help_item/contrib_nbextensions_help_item.yaml\r\n",
      "\u001b[32m[I 14:10:53 InstallContribNbextensionsApp]\u001b[m Copying: /opt/homebrew/Caskroom/miniforge/base/envs/dojo-env/lib/python3.8/site-packages/jupyter_contrib_nbextensions/nbextensions/contrib_nbextensions_help_item/contrib_nbextensions_help_item.yaml -> /Users/codingdojo/Library/Jupyter/nbextensions/contrib_nbextensions_help_item/contrib_nbextensions_help_item.yaml\r\n",
      "\u001b[32m[I 14:10:53 InstallContribNbextensionsApp]\u001b[m - Validating: \u001b[32mOK\u001b[0m\r\n",
      "\u001b[32m[I 14:10:53 InstallContribNbextensionsApp]\u001b[m Installing /opt/homebrew/Caskroom/miniforge/base/envs/dojo-env/lib/python3.8/site-packages/jupyter_contrib_nbextensions/nbextensions/datestamper -> datestamper\r\n",
      "\u001b[33m[W 14:10:53 InstallContribNbextensionsApp]\u001b[m Out of date: /Users/codingdojo/Library/Jupyter/nbextensions/datestamper/icon.png\r\n",
      "\u001b[32m[I 14:10:53 InstallContribNbextensionsApp]\u001b[m Copying: /opt/homebrew/Caskroom/miniforge/base/envs/dojo-env/lib/python3.8/site-packages/jupyter_contrib_nbextensions/nbextensions/datestamper/icon.png -> /Users/codingdojo/Library/Jupyter/nbextensions/datestamper/icon.png\r\n",
      "\u001b[33m[W 14:10:53 InstallContribNbextensionsApp]\u001b[m Out of date: /Users/codingdojo/Library/Jupyter/nbextensions/datestamper/main.yaml\r\n",
      "\u001b[32m[I 14:10:53 InstallContribNbextensionsApp]\u001b[m Copying: /opt/homebrew/Caskroom/miniforge/base/envs/dojo-env/lib/python3.8/site-packages/jupyter_contrib_nbextensions/nbextensions/datestamper/main.yaml -> /Users/codingdojo/Library/Jupyter/nbextensions/datestamper/main.yaml\r\n",
      "\u001b[33m[W 14:10:53 InstallContribNbextensionsApp]\u001b[m Out of date: /Users/codingdojo/Library/Jupyter/nbextensions/datestamper/readme.md\r\n",
      "\u001b[32m[I 14:10:53 InstallContribNbextensionsApp]\u001b[m Copying: /opt/homebrew/Caskroom/miniforge/base/envs/dojo-env/lib/python3.8/site-packages/jupyter_contrib_nbextensions/nbextensions/datestamper/readme.md -> /Users/codingdojo/Library/Jupyter/nbextensions/datestamper/readme.md\r\n",
      "\u001b[33m[W 14:10:53 InstallContribNbextensionsApp]\u001b[m Out of date: /Users/codingdojo/Library/Jupyter/nbextensions/datestamper/main.js\r\n",
      "\u001b[32m[I 14:10:53 InstallContribNbextensionsApp]\u001b[m Copying: /opt/homebrew/Caskroom/miniforge/base/envs/dojo-env/lib/python3.8/site-packages/jupyter_contrib_nbextensions/nbextensions/datestamper/main.js -> /Users/codingdojo/Library/Jupyter/nbextensions/datestamper/main.js\r\n",
      "\u001b[32m[I 14:10:53 InstallContribNbextensionsApp]\u001b[m - Validating: \u001b[32mOK\u001b[0m\r\n",
      "\u001b[32m[I 14:10:53 InstallContribNbextensionsApp]\u001b[m Installing /opt/homebrew/Caskroom/miniforge/base/envs/dojo-env/lib/python3.8/site-packages/jupyter_contrib_nbextensions/nbextensions/init_cell -> init_cell\r\n",
      "\u001b[33m[W 14:10:53 InstallContribNbextensionsApp]\u001b[m Out of date: /Users/codingdojo/Library/Jupyter/nbextensions/init_cell/init_cell.yaml\r\n",
      "\u001b[32m[I 14:10:53 InstallContribNbextensionsApp]\u001b[m Copying: /opt/homebrew/Caskroom/miniforge/base/envs/dojo-env/lib/python3.8/site-packages/jupyter_contrib_nbextensions/nbextensions/init_cell/init_cell.yaml -> /Users/codingdojo/Library/Jupyter/nbextensions/init_cell/init_cell.yaml\r\n",
      "\u001b[33m[W 14:10:53 InstallContribNbextensionsApp]\u001b[m Out of date: /Users/codingdojo/Library/Jupyter/nbextensions/init_cell/icon.png\r\n",
      "\u001b[32m[I 14:10:53 InstallContribNbextensionsApp]\u001b[m Copying: /opt/homebrew/Caskroom/miniforge/base/envs/dojo-env/lib/python3.8/site-packages/jupyter_contrib_nbextensions/nbextensions/init_cell/icon.png -> /Users/codingdojo/Library/Jupyter/nbextensions/init_cell/icon.png\r\n",
      "\u001b[33m[W 14:10:53 InstallContribNbextensionsApp]\u001b[m Out of date: /Users/codingdojo/Library/Jupyter/nbextensions/init_cell/README.md\r\n",
      "\u001b[32m[I 14:10:53 InstallContribNbextensionsApp]\u001b[m Copying: /opt/homebrew/Caskroom/miniforge/base/envs/dojo-env/lib/python3.8/site-packages/jupyter_contrib_nbextensions/nbextensions/init_cell/README.md -> /Users/codingdojo/Library/Jupyter/nbextensions/init_cell/README.md\r\n",
      "\u001b[33m[W 14:10:53 InstallContribNbextensionsApp]\u001b[m Out of date: /Users/codingdojo/Library/Jupyter/nbextensions/init_cell/main.js\r\n",
      "\u001b[32m[I 14:10:53 InstallContribNbextensionsApp]\u001b[m Copying: /opt/homebrew/Caskroom/miniforge/base/envs/dojo-env/lib/python3.8/site-packages/jupyter_contrib_nbextensions/nbextensions/init_cell/main.js -> /Users/codingdojo/Library/Jupyter/nbextensions/init_cell/main.js\r\n",
      "\u001b[33m[W 14:10:53 InstallContribNbextensionsApp]\u001b[m Out of date: /Users/codingdojo/Library/Jupyter/nbextensions/init_cell/cell_toolbar_menu.png\r\n",
      "\u001b[32m[I 14:10:53 InstallContribNbextensionsApp]\u001b[m Copying: /opt/homebrew/Caskroom/miniforge/base/envs/dojo-env/lib/python3.8/site-packages/jupyter_contrib_nbextensions/nbextensions/init_cell/cell_toolbar_menu.png -> /Users/codingdojo/Library/Jupyter/nbextensions/init_cell/cell_toolbar_menu.png\r\n",
      "\u001b[32m[I 14:10:53 InstallContribNbextensionsApp]\u001b[m - Validating: \u001b[32mOK\u001b[0m\r\n",
      "\u001b[32m[I 14:10:53 InstallContribNbextensionsApp]\u001b[m Installing /opt/homebrew/Caskroom/miniforge/base/envs/dojo-env/lib/python3.8/site-packages/jupyter_contrib_nbextensions/nbextensions/limit_output -> limit_output\r\n",
      "\u001b[33m[W 14:10:53 InstallContribNbextensionsApp]\u001b[m Out of date: /Users/codingdojo/Library/Jupyter/nbextensions/limit_output/icon.png\r\n",
      "\u001b[32m[I 14:10:53 InstallContribNbextensionsApp]\u001b[m Copying: /opt/homebrew/Caskroom/miniforge/base/envs/dojo-env/lib/python3.8/site-packages/jupyter_contrib_nbextensions/nbextensions/limit_output/icon.png -> /Users/codingdojo/Library/Jupyter/nbextensions/limit_output/icon.png\r\n",
      "\u001b[33m[W 14:10:53 InstallContribNbextensionsApp]\u001b[m Out of date: /Users/codingdojo/Library/Jupyter/nbextensions/limit_output/readme.md\r\n",
      "\u001b[32m[I 14:10:53 InstallContribNbextensionsApp]\u001b[m Copying: /opt/homebrew/Caskroom/miniforge/base/envs/dojo-env/lib/python3.8/site-packages/jupyter_contrib_nbextensions/nbextensions/limit_output/readme.md -> /Users/codingdojo/Library/Jupyter/nbextensions/limit_output/readme.md\r\n",
      "\u001b[33m[W 14:10:53 InstallContribNbextensionsApp]\u001b[m Out of date: /Users/codingdojo/Library/Jupyter/nbextensions/limit_output/main.js\r\n",
      "\u001b[32m[I 14:10:53 InstallContribNbextensionsApp]\u001b[m Copying: /opt/homebrew/Caskroom/miniforge/base/envs/dojo-env/lib/python3.8/site-packages/jupyter_contrib_nbextensions/nbextensions/limit_output/main.js -> /Users/codingdojo/Library/Jupyter/nbextensions/limit_output/main.js\r\n",
      "\u001b[33m[W 14:10:53 InstallContribNbextensionsApp]\u001b[m Out of date: /Users/codingdojo/Library/Jupyter/nbextensions/limit_output/limit-output.yaml\r\n",
      "\u001b[32m[I 14:10:53 InstallContribNbextensionsApp]\u001b[m Copying: /opt/homebrew/Caskroom/miniforge/base/envs/dojo-env/lib/python3.8/site-packages/jupyter_contrib_nbextensions/nbextensions/limit_output/limit-output.yaml -> /Users/codingdojo/Library/Jupyter/nbextensions/limit_output/limit-output.yaml\r\n",
      "\u001b[32m[I 14:10:53 InstallContribNbextensionsApp]\u001b[m - Validating: \u001b[32mOK\u001b[0m\r\n",
      "\u001b[32m[I 14:10:53 InstallContribNbextensionsApp]\u001b[m Installing /opt/homebrew/Caskroom/miniforge/base/envs/dojo-env/lib/python3.8/site-packages/jupyter_contrib_nbextensions/nbextensions/qtconsole -> qtconsole\r\n",
      "\u001b[33m[W 14:10:53 InstallContribNbextensionsApp]\u001b[m Out of date: /Users/codingdojo/Library/Jupyter/nbextensions/qtconsole/qtconsole.js\r\n",
      "\u001b[32m[I 14:10:53 InstallContribNbextensionsApp]\u001b[m Copying: /opt/homebrew/Caskroom/miniforge/base/envs/dojo-env/lib/python3.8/site-packages/jupyter_contrib_nbextensions/nbextensions/qtconsole/qtconsole.js -> /Users/codingdojo/Library/Jupyter/nbextensions/qtconsole/qtconsole.js\r\n",
      "\u001b[33m[W 14:10:53 InstallContribNbextensionsApp]\u001b[m Out of date: /Users/codingdojo/Library/Jupyter/nbextensions/qtconsole/qtconsole.yaml\r\n",
      "\u001b[32m[I 14:10:53 InstallContribNbextensionsApp]\u001b[m Copying: /opt/homebrew/Caskroom/miniforge/base/envs/dojo-env/lib/python3.8/site-packages/jupyter_contrib_nbextensions/nbextensions/qtconsole/qtconsole.yaml -> /Users/codingdojo/Library/Jupyter/nbextensions/qtconsole/qtconsole.yaml\r\n",
      "\u001b[33m[W 14:10:53 InstallContribNbextensionsApp]\u001b[m Out of date: /Users/codingdojo/Library/Jupyter/nbextensions/qtconsole/README.md\r\n",
      "\u001b[32m[I 14:10:53 InstallContribNbextensionsApp]\u001b[m Copying: /opt/homebrew/Caskroom/miniforge/base/envs/dojo-env/lib/python3.8/site-packages/jupyter_contrib_nbextensions/nbextensions/qtconsole/README.md -> /Users/codingdojo/Library/Jupyter/nbextensions/qtconsole/README.md\r\n",
      "\u001b[32m[I 14:10:53 InstallContribNbextensionsApp]\u001b[m - Validating: \u001b[32mOK\u001b[0m\r\n",
      "\u001b[32m[I 14:10:53 InstallContribNbextensionsApp]\u001b[m Installing /opt/homebrew/Caskroom/miniforge/base/envs/dojo-env/lib/python3.8/site-packages/jupyter_contrib_nbextensions/nbextensions/addbefore -> addbefore\r\n",
      "\u001b[33m[W 14:10:53 InstallContribNbextensionsApp]\u001b[m Out of date: /Users/codingdojo/Library/Jupyter/nbextensions/addbefore/icon.png\r\n",
      "\u001b[32m[I 14:10:53 InstallContribNbextensionsApp]\u001b[m Copying: /opt/homebrew/Caskroom/miniforge/base/envs/dojo-env/lib/python3.8/site-packages/jupyter_contrib_nbextensions/nbextensions/addbefore/icon.png -> /Users/codingdojo/Library/Jupyter/nbextensions/addbefore/icon.png\r\n",
      "\u001b[33m[W 14:10:53 InstallContribNbextensionsApp]\u001b[m Out of date: /Users/codingdojo/Library/Jupyter/nbextensions/addbefore/readme.md\r\n",
      "\u001b[32m[I 14:10:53 InstallContribNbextensionsApp]\u001b[m Copying: /opt/homebrew/Caskroom/miniforge/base/envs/dojo-env/lib/python3.8/site-packages/jupyter_contrib_nbextensions/nbextensions/addbefore/readme.md -> /Users/codingdojo/Library/Jupyter/nbextensions/addbefore/readme.md\r\n",
      "\u001b[33m[W 14:10:53 InstallContribNbextensionsApp]\u001b[m Out of date: /Users/codingdojo/Library/Jupyter/nbextensions/addbefore/main.js\r\n",
      "\u001b[32m[I 14:10:53 InstallContribNbextensionsApp]\u001b[m Copying: /opt/homebrew/Caskroom/miniforge/base/envs/dojo-env/lib/python3.8/site-packages/jupyter_contrib_nbextensions/nbextensions/addbefore/main.js -> /Users/codingdojo/Library/Jupyter/nbextensions/addbefore/main.js\r\n",
      "\u001b[33m[W 14:10:53 InstallContribNbextensionsApp]\u001b[m Out of date: /Users/codingdojo/Library/Jupyter/nbextensions/addbefore/addbefore.yaml\r\n",
      "\u001b[32m[I 14:10:53 InstallContribNbextensionsApp]\u001b[m Copying: /opt/homebrew/Caskroom/miniforge/base/envs/dojo-env/lib/python3.8/site-packages/jupyter_contrib_nbextensions/nbextensions/addbefore/addbefore.yaml -> /Users/codingdojo/Library/Jupyter/nbextensions/addbefore/addbefore.yaml\r\n",
      "\u001b[32m[I 14:10:53 InstallContribNbextensionsApp]\u001b[m - Validating: \u001b[32mOK\u001b[0m\r\n",
      "\u001b[32m[I 14:10:53 InstallContribNbextensionsApp]\u001b[m Installing /opt/homebrew/Caskroom/miniforge/base/envs/dojo-env/lib/python3.8/site-packages/jupyter_contrib_nbextensions/nbextensions/highlighter -> highlighter\r\n",
      "\u001b[33m[W 14:10:53 InstallContribNbextensionsApp]\u001b[m Out of date: /Users/codingdojo/Library/Jupyter/nbextensions/highlighter/icon.png\r\n",
      "\u001b[32m[I 14:10:53 InstallContribNbextensionsApp]\u001b[m Copying: /opt/homebrew/Caskroom/miniforge/base/envs/dojo-env/lib/python3.8/site-packages/jupyter_contrib_nbextensions/nbextensions/highlighter/icon.png -> /Users/codingdojo/Library/Jupyter/nbextensions/highlighter/icon.png\r\n",
      "\u001b[33m[W 14:10:53 InstallContribNbextensionsApp]\u001b[m Out of date: /Users/codingdojo/Library/Jupyter/nbextensions/highlighter/export_highlights.pdf\r\n",
      "\u001b[32m[I 14:10:53 InstallContribNbextensionsApp]\u001b[m Copying: /opt/homebrew/Caskroom/miniforge/base/envs/dojo-env/lib/python3.8/site-packages/jupyter_contrib_nbextensions/nbextensions/highlighter/export_highlights.pdf -> /Users/codingdojo/Library/Jupyter/nbextensions/highlighter/export_highlights.pdf\r\n",
      "\u001b[33m[W 14:10:53 InstallContribNbextensionsApp]\u001b[m Out of date: /Users/codingdojo/Library/Jupyter/nbextensions/highlighter/demo_highlighter.html\r\n",
      "\u001b[32m[I 14:10:53 InstallContribNbextensionsApp]\u001b[m Copying: /opt/homebrew/Caskroom/miniforge/base/envs/dojo-env/lib/python3.8/site-packages/jupyter_contrib_nbextensions/nbextensions/highlighter/demo_highlighter.html -> /Users/codingdojo/Library/Jupyter/nbextensions/highlighter/demo_highlighter.html\r\n",
      "\u001b[33m[W 14:10:53 InstallContribNbextensionsApp]\u001b[m Out of date: /Users/codingdojo/Library/Jupyter/nbextensions/highlighter/demo_highlighter.ipynb\r\n",
      "\u001b[32m[I 14:10:53 InstallContribNbextensionsApp]\u001b[m Copying: /opt/homebrew/Caskroom/miniforge/base/envs/dojo-env/lib/python3.8/site-packages/jupyter_contrib_nbextensions/nbextensions/highlighter/demo_highlighter.ipynb -> /Users/codingdojo/Library/Jupyter/nbextensions/highlighter/demo_highlighter.ipynb\r\n",
      "\u001b[33m[W 14:10:53 InstallContribNbextensionsApp]\u001b[m Out of date: /Users/codingdojo/Library/Jupyter/nbextensions/highlighter/tst_highlights.ipynb\r\n",
      "\u001b[32m[I 14:10:53 InstallContribNbextensionsApp]\u001b[m Copying: /opt/homebrew/Caskroom/miniforge/base/envs/dojo-env/lib/python3.8/site-packages/jupyter_contrib_nbextensions/nbextensions/highlighter/tst_highlights.ipynb -> /Users/codingdojo/Library/Jupyter/nbextensions/highlighter/tst_highlights.ipynb\r\n",
      "\u001b[33m[W 14:10:53 InstallContribNbextensionsApp]\u001b[m Out of date: /Users/codingdojo/Library/Jupyter/nbextensions/highlighter/export_highlights.ipynb\r\n",
      "\u001b[32m[I 14:10:53 InstallContribNbextensionsApp]\u001b[m Copying: /opt/homebrew/Caskroom/miniforge/base/envs/dojo-env/lib/python3.8/site-packages/jupyter_contrib_nbextensions/nbextensions/highlighter/export_highlights.ipynb -> /Users/codingdojo/Library/Jupyter/nbextensions/highlighter/export_highlights.ipynb\r\n",
      "\u001b[33m[W 14:10:53 InstallContribNbextensionsApp]\u001b[m Out of date: /Users/codingdojo/Library/Jupyter/nbextensions/highlighter/tst_highlights.html\r\n",
      "\u001b[32m[I 14:10:53 InstallContribNbextensionsApp]\u001b[m Copying: /opt/homebrew/Caskroom/miniforge/base/envs/dojo-env/lib/python3.8/site-packages/jupyter_contrib_nbextensions/nbextensions/highlighter/tst_highlights.html -> /Users/codingdojo/Library/Jupyter/nbextensions/highlighter/tst_highlights.html\r\n",
      "\u001b[33m[W 14:10:53 InstallContribNbextensionsApp]\u001b[m Out of date: /Users/codingdojo/Library/Jupyter/nbextensions/highlighter/export_highlights.tex\r\n",
      "\u001b[32m[I 14:10:53 InstallContribNbextensionsApp]\u001b[m Copying: /opt/homebrew/Caskroom/miniforge/base/envs/dojo-env/lib/python3.8/site-packages/jupyter_contrib_nbextensions/nbextensions/highlighter/export_highlights.tex -> /Users/codingdojo/Library/Jupyter/nbextensions/highlighter/export_highlights.tex\r\n",
      "\u001b[33m[W 14:10:53 InstallContribNbextensionsApp]\u001b[m Out of date: /Users/codingdojo/Library/Jupyter/nbextensions/highlighter/image.gif\r\n",
      "\u001b[32m[I 14:10:53 InstallContribNbextensionsApp]\u001b[m Copying: /opt/homebrew/Caskroom/miniforge/base/envs/dojo-env/lib/python3.8/site-packages/jupyter_contrib_nbextensions/nbextensions/highlighter/image.gif -> /Users/codingdojo/Library/Jupyter/nbextensions/highlighter/image.gif\r\n",
      "\u001b[33m[W 14:10:53 InstallContribNbextensionsApp]\u001b[m Out of date: /Users/codingdojo/Library/Jupyter/nbextensions/highlighter/readme.md\r\n",
      "\u001b[32m[I 14:10:53 InstallContribNbextensionsApp]\u001b[m Copying: /opt/homebrew/Caskroom/miniforge/base/envs/dojo-env/lib/python3.8/site-packages/jupyter_contrib_nbextensions/nbextensions/highlighter/readme.md -> /Users/codingdojo/Library/Jupyter/nbextensions/highlighter/readme.md\r\n",
      "\u001b[33m[W 14:10:53 InstallContribNbextensionsApp]\u001b[m Out of date: /Users/codingdojo/Library/Jupyter/nbextensions/highlighter/highlighter.css\r\n",
      "\u001b[32m[I 14:10:53 InstallContribNbextensionsApp]\u001b[m Copying: /opt/homebrew/Caskroom/miniforge/base/envs/dojo-env/lib/python3.8/site-packages/jupyter_contrib_nbextensions/nbextensions/highlighter/highlighter.css -> /Users/codingdojo/Library/Jupyter/nbextensions/highlighter/highlighter.css\r\n",
      "\u001b[33m[W 14:10:53 InstallContribNbextensionsApp]\u001b[m Out of date: /Users/codingdojo/Library/Jupyter/nbextensions/highlighter/tst_highlights.pdf\r\n",
      "\u001b[32m[I 14:10:53 InstallContribNbextensionsApp]\u001b[m Copying: /opt/homebrew/Caskroom/miniforge/base/envs/dojo-env/lib/python3.8/site-packages/jupyter_contrib_nbextensions/nbextensions/highlighter/tst_highlights.pdf -> /Users/codingdojo/Library/Jupyter/nbextensions/highlighter/tst_highlights.pdf\r\n",
      "\u001b[33m[W 14:10:53 InstallContribNbextensionsApp]\u001b[m Out of date: /Users/codingdojo/Library/Jupyter/nbextensions/highlighter/export_highlights.html\r\n",
      "\u001b[32m[I 14:10:53 InstallContribNbextensionsApp]\u001b[m Copying: /opt/homebrew/Caskroom/miniforge/base/envs/dojo-env/lib/python3.8/site-packages/jupyter_contrib_nbextensions/nbextensions/highlighter/export_highlights.html -> /Users/codingdojo/Library/Jupyter/nbextensions/highlighter/export_highlights.html\r\n",
      "\u001b[33m[W 14:10:53 InstallContribNbextensionsApp]\u001b[m Out of date: /Users/codingdojo/Library/Jupyter/nbextensions/highlighter/tst_highlights.tex\r\n",
      "\u001b[32m[I 14:10:53 InstallContribNbextensionsApp]\u001b[m Copying: /opt/homebrew/Caskroom/miniforge/base/envs/dojo-env/lib/python3.8/site-packages/jupyter_contrib_nbextensions/nbextensions/highlighter/tst_highlights.tex -> /Users/codingdojo/Library/Jupyter/nbextensions/highlighter/tst_highlights.tex\r\n",
      "\u001b[33m[W 14:10:53 InstallContribNbextensionsApp]\u001b[m Out of date: /Users/codingdojo/Library/Jupyter/nbextensions/highlighter/highlighter.yaml\r\n",
      "\u001b[32m[I 14:10:53 InstallContribNbextensionsApp]\u001b[m Copying: /opt/homebrew/Caskroom/miniforge/base/envs/dojo-env/lib/python3.8/site-packages/jupyter_contrib_nbextensions/nbextensions/highlighter/highlighter.yaml -> /Users/codingdojo/Library/Jupyter/nbextensions/highlighter/highlighter.yaml\r\n",
      "\u001b[33m[W 14:10:53 InstallContribNbextensionsApp]\u001b[m Out of date: /Users/codingdojo/Library/Jupyter/nbextensions/highlighter/highlighter.js\r\n",
      "\u001b[32m[I 14:10:53 InstallContribNbextensionsApp]\u001b[m Copying: /opt/homebrew/Caskroom/miniforge/base/envs/dojo-env/lib/python3.8/site-packages/jupyter_contrib_nbextensions/nbextensions/highlighter/highlighter.js -> /Users/codingdojo/Library/Jupyter/nbextensions/highlighter/highlighter.js\r\n",
      "\u001b[32m[I 14:10:53 InstallContribNbextensionsApp]\u001b[m - Validating: \u001b[32mOK\u001b[0m\r\n",
      "\u001b[32m[I 14:10:53 InstallContribNbextensionsApp]\u001b[m Installing /opt/homebrew/Caskroom/miniforge/base/envs/dojo-env/lib/python3.8/site-packages/jupyter_contrib_nbextensions/nbextensions/comment-uncomment -> comment-uncomment\r\n",
      "\u001b[33m[W 14:10:53 InstallContribNbextensionsApp]\u001b[m Out of date: /Users/codingdojo/Library/Jupyter/nbextensions/comment-uncomment/icon.png\r\n",
      "\u001b[32m[I 14:10:53 InstallContribNbextensionsApp]\u001b[m Copying: /opt/homebrew/Caskroom/miniforge/base/envs/dojo-env/lib/python3.8/site-packages/jupyter_contrib_nbextensions/nbextensions/comment-uncomment/icon.png -> /Users/codingdojo/Library/Jupyter/nbextensions/comment-uncomment/icon.png\r\n",
      "\u001b[33m[W 14:10:53 InstallContribNbextensionsApp]\u001b[m Out of date: /Users/codingdojo/Library/Jupyter/nbextensions/comment-uncomment/readme.md\r\n",
      "\u001b[32m[I 14:10:53 InstallContribNbextensionsApp]\u001b[m Copying: /opt/homebrew/Caskroom/miniforge/base/envs/dojo-env/lib/python3.8/site-packages/jupyter_contrib_nbextensions/nbextensions/comment-uncomment/readme.md -> /Users/codingdojo/Library/Jupyter/nbextensions/comment-uncomment/readme.md\r\n",
      "\u001b[33m[W 14:10:53 InstallContribNbextensionsApp]\u001b[m Out of date: /Users/codingdojo/Library/Jupyter/nbextensions/comment-uncomment/main.js\r\n",
      "\u001b[32m[I 14:10:53 InstallContribNbextensionsApp]\u001b[m Copying: /opt/homebrew/Caskroom/miniforge/base/envs/dojo-env/lib/python3.8/site-packages/jupyter_contrib_nbextensions/nbextensions/comment-uncomment/main.js -> /Users/codingdojo/Library/Jupyter/nbextensions/comment-uncomment/main.js\r\n",
      "\u001b[33m[W 14:10:53 InstallContribNbextensionsApp]\u001b[m Out of date: /Users/codingdojo/Library/Jupyter/nbextensions/comment-uncomment/comment-uncomment.yaml\r\n",
      "\u001b[32m[I 14:10:53 InstallContribNbextensionsApp]\u001b[m Copying: /opt/homebrew/Caskroom/miniforge/base/envs/dojo-env/lib/python3.8/site-packages/jupyter_contrib_nbextensions/nbextensions/comment-uncomment/comment-uncomment.yaml -> /Users/codingdojo/Library/Jupyter/nbextensions/comment-uncomment/comment-uncomment.yaml\r\n",
      "\u001b[32m[I 14:10:53 InstallContribNbextensionsApp]\u001b[m - Validating: \u001b[32mOK\u001b[0m\r\n",
      "\u001b[32m[I 14:10:53 InstallContribNbextensionsApp]\u001b[m Installing /opt/homebrew/Caskroom/miniforge/base/envs/dojo-env/lib/python3.8/site-packages/jupyter_contrib_nbextensions/nbextensions/code_font_size -> code_font_size\r\n",
      "\u001b[33m[W 14:10:53 InstallContribNbextensionsApp]\u001b[m Out of date: /Users/codingdojo/Library/Jupyter/nbextensions/code_font_size/code_font_size.yaml\r\n",
      "\u001b[32m[I 14:10:53 InstallContribNbextensionsApp]\u001b[m Copying: /opt/homebrew/Caskroom/miniforge/base/envs/dojo-env/lib/python3.8/site-packages/jupyter_contrib_nbextensions/nbextensions/code_font_size/code_font_size.yaml -> /Users/codingdojo/Library/Jupyter/nbextensions/code_font_size/code_font_size.yaml\r\n",
      "\u001b[33m[W 14:10:53 InstallContribNbextensionsApp]\u001b[m Out of date: /Users/codingdojo/Library/Jupyter/nbextensions/code_font_size/code_font_size.js\r\n",
      "\u001b[32m[I 14:10:53 InstallContribNbextensionsApp]\u001b[m Copying: /opt/homebrew/Caskroom/miniforge/base/envs/dojo-env/lib/python3.8/site-packages/jupyter_contrib_nbextensions/nbextensions/code_font_size/code_font_size.js -> /Users/codingdojo/Library/Jupyter/nbextensions/code_font_size/code_font_size.js\r\n",
      "\u001b[33m[W 14:10:53 InstallContribNbextensionsApp]\u001b[m Out of date: /Users/codingdojo/Library/Jupyter/nbextensions/code_font_size/README.md\r\n",
      "\u001b[32m[I 14:10:53 InstallContribNbextensionsApp]\u001b[m Copying: /opt/homebrew/Caskroom/miniforge/base/envs/dojo-env/lib/python3.8/site-packages/jupyter_contrib_nbextensions/nbextensions/code_font_size/README.md -> /Users/codingdojo/Library/Jupyter/nbextensions/code_font_size/README.md\r\n",
      "\u001b[32m[I 14:10:53 InstallContribNbextensionsApp]\u001b[m - Validating: \u001b[32mOK\u001b[0m\r\n",
      "\u001b[32m[I 14:10:53 InstallContribNbextensionsApp]\u001b[m Installing /opt/homebrew/Caskroom/miniforge/base/envs/dojo-env/lib/python3.8/site-packages/jupyter_contrib_nbextensions/nbextensions/varInspector -> varInspector\r\n",
      "\u001b[33m[W 14:10:53 InstallContribNbextensionsApp]\u001b[m Out of date: /Users/codingdojo/Library/Jupyter/nbextensions/varInspector/icon.png\r\n",
      "\u001b[32m[I 14:10:53 InstallContribNbextensionsApp]\u001b[m Copying: /opt/homebrew/Caskroom/miniforge/base/envs/dojo-env/lib/python3.8/site-packages/jupyter_contrib_nbextensions/nbextensions/varInspector/icon.png -> /Users/codingdojo/Library/Jupyter/nbextensions/varInspector/icon.png\r\n",
      "\u001b[33m[W 14:10:53 InstallContribNbextensionsApp]\u001b[m Out of date: /Users/codingdojo/Library/Jupyter/nbextensions/varInspector/jquery.tablesorter.min.js\r\n",
      "\u001b[32m[I 14:10:53 InstallContribNbextensionsApp]\u001b[m Copying: /opt/homebrew/Caskroom/miniforge/base/envs/dojo-env/lib/python3.8/site-packages/jupyter_contrib_nbextensions/nbextensions/varInspector/jquery.tablesorter.min.js -> /Users/codingdojo/Library/Jupyter/nbextensions/varInspector/jquery.tablesorter.min.js\r\n",
      "\u001b[33m[W 14:10:53 InstallContribNbextensionsApp]\u001b[m Out of date: /Users/codingdojo/Library/Jupyter/nbextensions/varInspector/varInspector.yaml\r\n",
      "\u001b[32m[I 14:10:53 InstallContribNbextensionsApp]\u001b[m Copying: /opt/homebrew/Caskroom/miniforge/base/envs/dojo-env/lib/python3.8/site-packages/jupyter_contrib_nbextensions/nbextensions/varInspector/varInspector.yaml -> /Users/codingdojo/Library/Jupyter/nbextensions/varInspector/varInspector.yaml\r\n",
      "\u001b[33m[W 14:10:53 InstallContribNbextensionsApp]\u001b[m Out of date: /Users/codingdojo/Library/Jupyter/nbextensions/varInspector/main.css\r\n",
      "\u001b[32m[I 14:10:53 InstallContribNbextensionsApp]\u001b[m Copying: /opt/homebrew/Caskroom/miniforge/base/envs/dojo-env/lib/python3.8/site-packages/jupyter_contrib_nbextensions/nbextensions/varInspector/main.css -> /Users/codingdojo/Library/Jupyter/nbextensions/varInspector/main.css\r\n",
      "\u001b[33m[W 14:10:53 InstallContribNbextensionsApp]\u001b[m Out of date: /Users/codingdojo/Library/Jupyter/nbextensions/varInspector/var_list.py\r\n",
      "\u001b[32m[I 14:10:53 InstallContribNbextensionsApp]\u001b[m Copying: /opt/homebrew/Caskroom/miniforge/base/envs/dojo-env/lib/python3.8/site-packages/jupyter_contrib_nbextensions/nbextensions/varInspector/var_list.py -> /Users/codingdojo/Library/Jupyter/nbextensions/varInspector/var_list.py\r\n",
      "\u001b[33m[W 14:10:53 InstallContribNbextensionsApp]\u001b[m Out of date: /Users/codingdojo/Library/Jupyter/nbextensions/varInspector/README.md\r\n",
      "\u001b[32m[I 14:10:53 InstallContribNbextensionsApp]\u001b[m Copying: /opt/homebrew/Caskroom/miniforge/base/envs/dojo-env/lib/python3.8/site-packages/jupyter_contrib_nbextensions/nbextensions/varInspector/README.md -> /Users/codingdojo/Library/Jupyter/nbextensions/varInspector/README.md\r\n",
      "\u001b[33m[W 14:10:53 InstallContribNbextensionsApp]\u001b[m Out of date: /Users/codingdojo/Library/Jupyter/nbextensions/varInspector/main.js\r\n",
      "\u001b[32m[I 14:10:53 InstallContribNbextensionsApp]\u001b[m Copying: /opt/homebrew/Caskroom/miniforge/base/envs/dojo-env/lib/python3.8/site-packages/jupyter_contrib_nbextensions/nbextensions/varInspector/main.js -> /Users/codingdojo/Library/Jupyter/nbextensions/varInspector/main.js\r\n",
      "\u001b[33m[W 14:10:53 InstallContribNbextensionsApp]\u001b[m Out of date: /Users/codingdojo/Library/Jupyter/nbextensions/varInspector/var_list.r\r\n",
      "\u001b[32m[I 14:10:53 InstallContribNbextensionsApp]\u001b[m Copying: /opt/homebrew/Caskroom/miniforge/base/envs/dojo-env/lib/python3.8/site-packages/jupyter_contrib_nbextensions/nbextensions/varInspector/var_list.r -> /Users/codingdojo/Library/Jupyter/nbextensions/varInspector/var_list.r\r\n",
      "\u001b[33m[W 14:10:53 InstallContribNbextensionsApp]\u001b[m Out of date: /Users/codingdojo/Library/Jupyter/nbextensions/varInspector/tablesorter_LICENSE.txt\r\n",
      "\u001b[32m[I 14:10:53 InstallContribNbextensionsApp]\u001b[m Copying: /opt/homebrew/Caskroom/miniforge/base/envs/dojo-env/lib/python3.8/site-packages/jupyter_contrib_nbextensions/nbextensions/varInspector/tablesorter_LICENSE.txt -> /Users/codingdojo/Library/Jupyter/nbextensions/varInspector/tablesorter_LICENSE.txt\r\n",
      "\u001b[33m[W 14:10:53 InstallContribNbextensionsApp]\u001b[m Out of date: /Users/codingdojo/Library/Jupyter/nbextensions/varInspector/demo.gif\r\n",
      "\u001b[32m[I 14:10:53 InstallContribNbextensionsApp]\u001b[m Copying: /opt/homebrew/Caskroom/miniforge/base/envs/dojo-env/lib/python3.8/site-packages/jupyter_contrib_nbextensions/nbextensions/varInspector/demo.gif -> /Users/codingdojo/Library/Jupyter/nbextensions/varInspector/demo.gif\r\n",
      "\u001b[33m[W 14:10:53 InstallContribNbextensionsApp]\u001b[m Out of date: /Users/codingdojo/Library/Jupyter/nbextensions/varInspector/__pycache__/var_list.cpython-38.pyc\r\n",
      "\u001b[32m[I 14:10:53 InstallContribNbextensionsApp]\u001b[m Copying: /opt/homebrew/Caskroom/miniforge/base/envs/dojo-env/lib/python3.8/site-packages/jupyter_contrib_nbextensions/nbextensions/varInspector/__pycache__/var_list.cpython-38.pyc -> /Users/codingdojo/Library/Jupyter/nbextensions/varInspector/__pycache__/var_list.cpython-38.pyc\r\n",
      "\u001b[32m[I 14:10:53 InstallContribNbextensionsApp]\u001b[m - Validating: \u001b[32mOK\u001b[0m\r\n",
      "\u001b[32m[I 14:10:53 InstallContribNbextensionsApp]\u001b[m Installing /opt/homebrew/Caskroom/miniforge/base/envs/dojo-env/lib/python3.8/site-packages/jupyter_contrib_nbextensions/nbextensions/execute_time -> execute_time\r\n",
      "\u001b[33m[W 14:10:53 InstallContribNbextensionsApp]\u001b[m Out of date: /Users/codingdojo/Library/Jupyter/nbextensions/execute_time/ExecuteTime.js\r\n",
      "\u001b[32m[I 14:10:53 InstallContribNbextensionsApp]\u001b[m Copying: /opt/homebrew/Caskroom/miniforge/base/envs/dojo-env/lib/python3.8/site-packages/jupyter_contrib_nbextensions/nbextensions/execute_time/ExecuteTime.js -> /Users/codingdojo/Library/Jupyter/nbextensions/execute_time/ExecuteTime.js\r\n",
      "\u001b[33m[W 14:10:53 InstallContribNbextensionsApp]\u001b[m Out of date: /Users/codingdojo/Library/Jupyter/nbextensions/execute_time/icon.png\r\n",
      "\u001b[32m[I 14:10:53 InstallContribNbextensionsApp]\u001b[m Copying: /opt/homebrew/Caskroom/miniforge/base/envs/dojo-env/lib/python3.8/site-packages/jupyter_contrib_nbextensions/nbextensions/execute_time/icon.png -> /Users/codingdojo/Library/Jupyter/nbextensions/execute_time/icon.png\r\n",
      "\u001b[33m[W 14:10:53 InstallContribNbextensionsApp]\u001b[m Out of date: /Users/codingdojo/Library/Jupyter/nbextensions/execute_time/execution-timings-box.png\r\n",
      "\u001b[32m[I 14:10:53 InstallContribNbextensionsApp]\u001b[m Copying: /opt/homebrew/Caskroom/miniforge/base/envs/dojo-env/lib/python3.8/site-packages/jupyter_contrib_nbextensions/nbextensions/execute_time/execution-timings-box.png -> /Users/codingdojo/Library/Jupyter/nbextensions/execute_time/execution-timings-box.png\r\n"
     ]
    },
    {
     "name": "stdout",
     "output_type": "stream",
     "text": [
      "\u001b[33m[W 14:10:53 InstallContribNbextensionsApp]\u001b[m Out of date: /Users/codingdojo/Library/Jupyter/nbextensions/execute_time/ExecuteTime.css\r\n",
      "\u001b[32m[I 14:10:53 InstallContribNbextensionsApp]\u001b[m Copying: /opt/homebrew/Caskroom/miniforge/base/envs/dojo-env/lib/python3.8/site-packages/jupyter_contrib_nbextensions/nbextensions/execute_time/ExecuteTime.css -> /Users/codingdojo/Library/Jupyter/nbextensions/execute_time/ExecuteTime.css\r\n",
      "\u001b[33m[W 14:10:53 InstallContribNbextensionsApp]\u001b[m Out of date: /Users/codingdojo/Library/Jupyter/nbextensions/execute_time/ExecuteTime.yaml\r\n",
      "\u001b[32m[I 14:10:53 InstallContribNbextensionsApp]\u001b[m Copying: /opt/homebrew/Caskroom/miniforge/base/envs/dojo-env/lib/python3.8/site-packages/jupyter_contrib_nbextensions/nbextensions/execute_time/ExecuteTime.yaml -> /Users/codingdojo/Library/Jupyter/nbextensions/execute_time/ExecuteTime.yaml\r\n",
      "\u001b[33m[W 14:10:53 InstallContribNbextensionsApp]\u001b[m Out of date: /Users/codingdojo/Library/Jupyter/nbextensions/execute_time/execution-timings-menu.png\r\n",
      "\u001b[32m[I 14:10:53 InstallContribNbextensionsApp]\u001b[m Copying: /opt/homebrew/Caskroom/miniforge/base/envs/dojo-env/lib/python3.8/site-packages/jupyter_contrib_nbextensions/nbextensions/execute_time/execution-timings-menu.png -> /Users/codingdojo/Library/Jupyter/nbextensions/execute_time/execution-timings-menu.png\r\n",
      "\u001b[33m[W 14:10:53 InstallContribNbextensionsApp]\u001b[m Out of date: /Users/codingdojo/Library/Jupyter/nbextensions/execute_time/readme.md\r\n",
      "\u001b[32m[I 14:10:53 InstallContribNbextensionsApp]\u001b[m Copying: /opt/homebrew/Caskroom/miniforge/base/envs/dojo-env/lib/python3.8/site-packages/jupyter_contrib_nbextensions/nbextensions/execute_time/readme.md -> /Users/codingdojo/Library/Jupyter/nbextensions/execute_time/readme.md\r\n",
      "\u001b[32m[I 14:10:53 InstallContribNbextensionsApp]\u001b[m - Validating: \u001b[32mOK\u001b[0m\r\n",
      "\u001b[32m[I 14:10:53 InstallContribNbextensionsApp]\u001b[m Installing /opt/homebrew/Caskroom/miniforge/base/envs/dojo-env/lib/python3.8/site-packages/jupyter_contrib_nbextensions/nbextensions/spellchecker -> spellchecker\r\n",
      "\u001b[33m[W 14:10:53 InstallContribNbextensionsApp]\u001b[m Out of date: /Users/codingdojo/Library/Jupyter/nbextensions/spellchecker/download_new_dict.py\r\n",
      "\u001b[32m[I 14:10:53 InstallContribNbextensionsApp]\u001b[m Copying: /opt/homebrew/Caskroom/miniforge/base/envs/dojo-env/lib/python3.8/site-packages/jupyter_contrib_nbextensions/nbextensions/spellchecker/download_new_dict.py -> /Users/codingdojo/Library/Jupyter/nbextensions/spellchecker/download_new_dict.py\r\n",
      "\u001b[33m[W 14:10:53 InstallContribNbextensionsApp]\u001b[m Out of date: /Users/codingdojo/Library/Jupyter/nbextensions/spellchecker/screenshot.png\r\n",
      "\u001b[32m[I 14:10:53 InstallContribNbextensionsApp]\u001b[m Copying: /opt/homebrew/Caskroom/miniforge/base/envs/dojo-env/lib/python3.8/site-packages/jupyter_contrib_nbextensions/nbextensions/spellchecker/screenshot.png -> /Users/codingdojo/Library/Jupyter/nbextensions/spellchecker/screenshot.png\r\n",
      "\u001b[33m[W 14:10:53 InstallContribNbextensionsApp]\u001b[m Out of date: /Users/codingdojo/Library/Jupyter/nbextensions/spellchecker/config.yaml\r\n",
      "\u001b[32m[I 14:10:53 InstallContribNbextensionsApp]\u001b[m Copying: /opt/homebrew/Caskroom/miniforge/base/envs/dojo-env/lib/python3.8/site-packages/jupyter_contrib_nbextensions/nbextensions/spellchecker/config.yaml -> /Users/codingdojo/Library/Jupyter/nbextensions/spellchecker/config.yaml\r\n",
      "\u001b[33m[W 14:10:53 InstallContribNbextensionsApp]\u001b[m Out of date: /Users/codingdojo/Library/Jupyter/nbextensions/spellchecker/main.css\r\n",
      "\u001b[32m[I 14:10:53 InstallContribNbextensionsApp]\u001b[m Copying: /opt/homebrew/Caskroom/miniforge/base/envs/dojo-env/lib/python3.8/site-packages/jupyter_contrib_nbextensions/nbextensions/spellchecker/main.css -> /Users/codingdojo/Library/Jupyter/nbextensions/spellchecker/main.css\r\n",
      "\u001b[33m[W 14:10:53 InstallContribNbextensionsApp]\u001b[m Out of date: /Users/codingdojo/Library/Jupyter/nbextensions/spellchecker/README.md\r\n",
      "\u001b[32m[I 14:10:53 InstallContribNbextensionsApp]\u001b[m Copying: /opt/homebrew/Caskroom/miniforge/base/envs/dojo-env/lib/python3.8/site-packages/jupyter_contrib_nbextensions/nbextensions/spellchecker/README.md -> /Users/codingdojo/Library/Jupyter/nbextensions/spellchecker/README.md\r\n",
      "\u001b[33m[W 14:10:53 InstallContribNbextensionsApp]\u001b[m Out of date: /Users/codingdojo/Library/Jupyter/nbextensions/spellchecker/main.js\r\n",
      "\u001b[32m[I 14:10:53 InstallContribNbextensionsApp]\u001b[m Copying: /opt/homebrew/Caskroom/miniforge/base/envs/dojo-env/lib/python3.8/site-packages/jupyter_contrib_nbextensions/nbextensions/spellchecker/main.js -> /Users/codingdojo/Library/Jupyter/nbextensions/spellchecker/main.js\r\n",
      "\u001b[33m[W 14:10:53 InstallContribNbextensionsApp]\u001b[m Out of date: /Users/codingdojo/Library/Jupyter/nbextensions/spellchecker/typo/typo.js\r\n",
      "\u001b[32m[I 14:10:53 InstallContribNbextensionsApp]\u001b[m Copying: /opt/homebrew/Caskroom/miniforge/base/envs/dojo-env/lib/python3.8/site-packages/jupyter_contrib_nbextensions/nbextensions/spellchecker/typo/typo.js -> /Users/codingdojo/Library/Jupyter/nbextensions/spellchecker/typo/typo.js\r\n",
      "\u001b[33m[W 14:10:53 InstallContribNbextensionsApp]\u001b[m Out of date: /Users/codingdojo/Library/Jupyter/nbextensions/spellchecker/typo/LICENSE.txt\r\n",
      "\u001b[32m[I 14:10:53 InstallContribNbextensionsApp]\u001b[m Copying: /opt/homebrew/Caskroom/miniforge/base/envs/dojo-env/lib/python3.8/site-packages/jupyter_contrib_nbextensions/nbextensions/spellchecker/typo/LICENSE.txt -> /Users/codingdojo/Library/Jupyter/nbextensions/spellchecker/typo/LICENSE.txt\r\n",
      "\u001b[33m[W 14:10:53 InstallContribNbextensionsApp]\u001b[m Out of date: /Users/codingdojo/Library/Jupyter/nbextensions/spellchecker/__pycache__/download_new_dict.cpython-38.pyc\r\n",
      "\u001b[32m[I 14:10:53 InstallContribNbextensionsApp]\u001b[m Copying: /opt/homebrew/Caskroom/miniforge/base/envs/dojo-env/lib/python3.8/site-packages/jupyter_contrib_nbextensions/nbextensions/spellchecker/__pycache__/download_new_dict.cpython-38.pyc -> /Users/codingdojo/Library/Jupyter/nbextensions/spellchecker/__pycache__/download_new_dict.cpython-38.pyc\r\n",
      "\u001b[32m[I 14:10:53 InstallContribNbextensionsApp]\u001b[m - Validating: \u001b[32mOK\u001b[0m\r\n",
      "\u001b[32m[I 14:10:53 InstallContribNbextensionsApp]\u001b[m Installing /opt/homebrew/Caskroom/miniforge/base/envs/dojo-env/lib/python3.8/site-packages/jupyter_contrib_nbextensions/nbextensions/code_prettify -> code_prettify\r\n",
      "\u001b[33m[W 14:10:53 InstallContribNbextensionsApp]\u001b[m Out of date: /Users/codingdojo/Library/Jupyter/nbextensions/code_prettify/demo-py.gif\r\n",
      "\u001b[32m[I 14:10:53 InstallContribNbextensionsApp]\u001b[m Copying: /opt/homebrew/Caskroom/miniforge/base/envs/dojo-env/lib/python3.8/site-packages/jupyter_contrib_nbextensions/nbextensions/code_prettify/demo-py.gif -> /Users/codingdojo/Library/Jupyter/nbextensions/code_prettify/demo-py.gif\r\n",
      "\u001b[33m[W 14:10:53 InstallContribNbextensionsApp]\u001b[m Out of date: /Users/codingdojo/Library/Jupyter/nbextensions/code_prettify/kernel_exec_on_cell.js\r\n",
      "\u001b[32m[I 14:10:53 InstallContribNbextensionsApp]\u001b[m Copying: /opt/homebrew/Caskroom/miniforge/base/envs/dojo-env/lib/python3.8/site-packages/jupyter_contrib_nbextensions/nbextensions/code_prettify/kernel_exec_on_cell.js -> /Users/codingdojo/Library/Jupyter/nbextensions/code_prettify/kernel_exec_on_cell.js\r\n",
      "\u001b[33m[W 14:10:53 InstallContribNbextensionsApp]\u001b[m Out of date: /Users/codingdojo/Library/Jupyter/nbextensions/code_prettify/demo-jv.gif\r\n",
      "\u001b[32m[I 14:10:53 InstallContribNbextensionsApp]\u001b[m Copying: /opt/homebrew/Caskroom/miniforge/base/envs/dojo-env/lib/python3.8/site-packages/jupyter_contrib_nbextensions/nbextensions/code_prettify/demo-jv.gif -> /Users/codingdojo/Library/Jupyter/nbextensions/code_prettify/demo-jv.gif\r\n",
      "\u001b[33m[W 14:10:53 InstallContribNbextensionsApp]\u001b[m Out of date: /Users/codingdojo/Library/Jupyter/nbextensions/code_prettify/README_2to3.md\r\n",
      "\u001b[32m[I 14:10:53 InstallContribNbextensionsApp]\u001b[m Copying: /opt/homebrew/Caskroom/miniforge/base/envs/dojo-env/lib/python3.8/site-packages/jupyter_contrib_nbextensions/nbextensions/code_prettify/README_2to3.md -> /Users/codingdojo/Library/Jupyter/nbextensions/code_prettify/README_2to3.md\r\n",
      "\u001b[33m[W 14:10:53 InstallContribNbextensionsApp]\u001b[m Out of date: /Users/codingdojo/Library/Jupyter/nbextensions/code_prettify/2to3.yaml\r\n",
      "\u001b[32m[I 14:10:53 InstallContribNbextensionsApp]\u001b[m Copying: /opt/homebrew/Caskroom/miniforge/base/envs/dojo-env/lib/python3.8/site-packages/jupyter_contrib_nbextensions/nbextensions/code_prettify/2to3.yaml -> /Users/codingdojo/Library/Jupyter/nbextensions/code_prettify/2to3.yaml\r\n",
      "\u001b[33m[W 14:10:53 InstallContribNbextensionsApp]\u001b[m Out of date: /Users/codingdojo/Library/Jupyter/nbextensions/code_prettify/README_autopep8.md\r\n",
      "\u001b[32m[I 14:10:53 InstallContribNbextensionsApp]\u001b[m Copying: /opt/homebrew/Caskroom/miniforge/base/envs/dojo-env/lib/python3.8/site-packages/jupyter_contrib_nbextensions/nbextensions/code_prettify/README_autopep8.md -> /Users/codingdojo/Library/Jupyter/nbextensions/code_prettify/README_autopep8.md\r\n",
      "\u001b[33m[W 14:10:53 InstallContribNbextensionsApp]\u001b[m Out of date: /Users/codingdojo/Library/Jupyter/nbextensions/code_prettify/demo_2to3.gif\r\n",
      "\u001b[32m[I 14:10:53 InstallContribNbextensionsApp]\u001b[m Copying: /opt/homebrew/Caskroom/miniforge/base/envs/dojo-env/lib/python3.8/site-packages/jupyter_contrib_nbextensions/nbextensions/code_prettify/demo_2to3.gif -> /Users/codingdojo/Library/Jupyter/nbextensions/code_prettify/demo_2to3.gif\r\n",
      "\u001b[33m[W 14:10:53 InstallContribNbextensionsApp]\u001b[m Out of date: /Users/codingdojo/Library/Jupyter/nbextensions/code_prettify/README_isort.md\r\n",
      "\u001b[32m[I 14:10:53 InstallContribNbextensionsApp]\u001b[m Copying: /opt/homebrew/Caskroom/miniforge/base/envs/dojo-env/lib/python3.8/site-packages/jupyter_contrib_nbextensions/nbextensions/code_prettify/README_isort.md -> /Users/codingdojo/Library/Jupyter/nbextensions/code_prettify/README_isort.md\r\n",
      "\u001b[33m[W 14:10:53 InstallContribNbextensionsApp]\u001b[m Out of date: /Users/codingdojo/Library/Jupyter/nbextensions/code_prettify/README_code_prettify.md\r\n",
      "\u001b[32m[I 14:10:53 InstallContribNbextensionsApp]\u001b[m Copying: /opt/homebrew/Caskroom/miniforge/base/envs/dojo-env/lib/python3.8/site-packages/jupyter_contrib_nbextensions/nbextensions/code_prettify/README_code_prettify.md -> /Users/codingdojo/Library/Jupyter/nbextensions/code_prettify/README_code_prettify.md\r\n",
      "\u001b[33m[W 14:10:53 InstallContribNbextensionsApp]\u001b[m Out of date: /Users/codingdojo/Library/Jupyter/nbextensions/code_prettify/README.md\r\n",
      "\u001b[32m[I 14:10:53 InstallContribNbextensionsApp]\u001b[m Copying: /opt/homebrew/Caskroom/miniforge/base/envs/dojo-env/lib/python3.8/site-packages/jupyter_contrib_nbextensions/nbextensions/code_prettify/README.md -> /Users/codingdojo/Library/Jupyter/nbextensions/code_prettify/README.md\r\n",
      "\u001b[33m[W 14:10:53 InstallContribNbextensionsApp]\u001b[m Out of date: /Users/codingdojo/Library/Jupyter/nbextensions/code_prettify/code_prettify.js\r\n",
      "\u001b[32m[I 14:10:53 InstallContribNbextensionsApp]\u001b[m Copying: /opt/homebrew/Caskroom/miniforge/base/envs/dojo-env/lib/python3.8/site-packages/jupyter_contrib_nbextensions/nbextensions/code_prettify/code_prettify.js -> /Users/codingdojo/Library/Jupyter/nbextensions/code_prettify/code_prettify.js\r\n",
      "\u001b[33m[W 14:10:53 InstallContribNbextensionsApp]\u001b[m Out of date: /Users/codingdojo/Library/Jupyter/nbextensions/code_prettify/autopep8.js\r\n",
      "\u001b[32m[I 14:10:53 InstallContribNbextensionsApp]\u001b[m Copying: /opt/homebrew/Caskroom/miniforge/base/envs/dojo-env/lib/python3.8/site-packages/jupyter_contrib_nbextensions/nbextensions/code_prettify/autopep8.js -> /Users/codingdojo/Library/Jupyter/nbextensions/code_prettify/autopep8.js\r\n",
      "\u001b[33m[W 14:10:53 InstallContribNbextensionsApp]\u001b[m Out of date: /Users/codingdojo/Library/Jupyter/nbextensions/code_prettify/demo-R.gif\r\n",
      "\u001b[32m[I 14:10:53 InstallContribNbextensionsApp]\u001b[m Copying: /opt/homebrew/Caskroom/miniforge/base/envs/dojo-env/lib/python3.8/site-packages/jupyter_contrib_nbextensions/nbextensions/code_prettify/demo-R.gif -> /Users/codingdojo/Library/Jupyter/nbextensions/code_prettify/demo-R.gif\r\n",
      "\u001b[33m[W 14:10:53 InstallContribNbextensionsApp]\u001b[m Out of date: /Users/codingdojo/Library/Jupyter/nbextensions/code_prettify/isort.js\r\n",
      "\u001b[32m[I 14:10:53 InstallContribNbextensionsApp]\u001b[m Copying: /opt/homebrew/Caskroom/miniforge/base/envs/dojo-env/lib/python3.8/site-packages/jupyter_contrib_nbextensions/nbextensions/code_prettify/isort.js -> /Users/codingdojo/Library/Jupyter/nbextensions/code_prettify/isort.js\r\n",
      "\u001b[33m[W 14:10:53 InstallContribNbextensionsApp]\u001b[m Out of date: /Users/codingdojo/Library/Jupyter/nbextensions/code_prettify/code_prettify.yaml\r\n",
      "\u001b[32m[I 14:10:53 InstallContribNbextensionsApp]\u001b[m Copying: /opt/homebrew/Caskroom/miniforge/base/envs/dojo-env/lib/python3.8/site-packages/jupyter_contrib_nbextensions/nbextensions/code_prettify/code_prettify.yaml -> /Users/codingdojo/Library/Jupyter/nbextensions/code_prettify/code_prettify.yaml\r\n",
      "\u001b[33m[W 14:10:53 InstallContribNbextensionsApp]\u001b[m Out of date: /Users/codingdojo/Library/Jupyter/nbextensions/code_prettify/2to3.js\r\n",
      "\u001b[32m[I 14:10:53 InstallContribNbextensionsApp]\u001b[m Copying: /opt/homebrew/Caskroom/miniforge/base/envs/dojo-env/lib/python3.8/site-packages/jupyter_contrib_nbextensions/nbextensions/code_prettify/2to3.js -> /Users/codingdojo/Library/Jupyter/nbextensions/code_prettify/2to3.js\r\n",
      "\u001b[33m[W 14:10:53 InstallContribNbextensionsApp]\u001b[m Out of date: /Users/codingdojo/Library/Jupyter/nbextensions/code_prettify/autopep8.yaml\r\n",
      "\u001b[32m[I 14:10:53 InstallContribNbextensionsApp]\u001b[m Copying: /opt/homebrew/Caskroom/miniforge/base/envs/dojo-env/lib/python3.8/site-packages/jupyter_contrib_nbextensions/nbextensions/code_prettify/autopep8.yaml -> /Users/codingdojo/Library/Jupyter/nbextensions/code_prettify/autopep8.yaml\r\n",
      "\u001b[33m[W 14:10:53 InstallContribNbextensionsApp]\u001b[m Out of date: /Users/codingdojo/Library/Jupyter/nbextensions/code_prettify/isort.yaml\r\n",
      "\u001b[32m[I 14:10:53 InstallContribNbextensionsApp]\u001b[m Copying: /opt/homebrew/Caskroom/miniforge/base/envs/dojo-env/lib/python3.8/site-packages/jupyter_contrib_nbextensions/nbextensions/code_prettify/isort.yaml -> /Users/codingdojo/Library/Jupyter/nbextensions/code_prettify/isort.yaml\r\n",
      "\u001b[32m[I 14:10:53 InstallContribNbextensionsApp]\u001b[m - Validating: \u001b[32mOK\u001b[0m\r\n",
      "\u001b[32m[I 14:10:53 InstallContribNbextensionsApp]\u001b[m Installing /opt/homebrew/Caskroom/miniforge/base/envs/dojo-env/lib/python3.8/site-packages/jupyter_contrib_nbextensions/nbextensions/code_prettify -> code_prettify\r\n",
      "\u001b[32m[I 14:10:53 InstallContribNbextensionsApp]\u001b[m Up to date: /Users/codingdojo/Library/Jupyter/nbextensions/code_prettify/demo-py.gif\r\n",
      "\u001b[32m[I 14:10:53 InstallContribNbextensionsApp]\u001b[m Up to date: /Users/codingdojo/Library/Jupyter/nbextensions/code_prettify/kernel_exec_on_cell.js\r\n",
      "\u001b[32m[I 14:10:53 InstallContribNbextensionsApp]\u001b[m Up to date: /Users/codingdojo/Library/Jupyter/nbextensions/code_prettify/demo-jv.gif\r\n",
      "\u001b[32m[I 14:10:53 InstallContribNbextensionsApp]\u001b[m Up to date: /Users/codingdojo/Library/Jupyter/nbextensions/code_prettify/README_2to3.md\r\n",
      "\u001b[32m[I 14:10:53 InstallContribNbextensionsApp]\u001b[m Up to date: /Users/codingdojo/Library/Jupyter/nbextensions/code_prettify/2to3.yaml\r\n",
      "\u001b[32m[I 14:10:53 InstallContribNbextensionsApp]\u001b[m Up to date: /Users/codingdojo/Library/Jupyter/nbextensions/code_prettify/README_autopep8.md\r\n",
      "\u001b[32m[I 14:10:53 InstallContribNbextensionsApp]\u001b[m Up to date: /Users/codingdojo/Library/Jupyter/nbextensions/code_prettify/demo_2to3.gif\r\n",
      "\u001b[32m[I 14:10:53 InstallContribNbextensionsApp]\u001b[m Up to date: /Users/codingdojo/Library/Jupyter/nbextensions/code_prettify/README_isort.md\r\n",
      "\u001b[32m[I 14:10:53 InstallContribNbextensionsApp]\u001b[m Up to date: /Users/codingdojo/Library/Jupyter/nbextensions/code_prettify/README_code_prettify.md\r\n",
      "\u001b[32m[I 14:10:53 InstallContribNbextensionsApp]\u001b[m Up to date: /Users/codingdojo/Library/Jupyter/nbextensions/code_prettify/README.md\r\n",
      "\u001b[32m[I 14:10:53 InstallContribNbextensionsApp]\u001b[m Up to date: /Users/codingdojo/Library/Jupyter/nbextensions/code_prettify/code_prettify.js\r\n",
      "\u001b[32m[I 14:10:53 InstallContribNbextensionsApp]\u001b[m Up to date: /Users/codingdojo/Library/Jupyter/nbextensions/code_prettify/autopep8.js\r\n",
      "\u001b[32m[I 14:10:53 InstallContribNbextensionsApp]\u001b[m Up to date: /Users/codingdojo/Library/Jupyter/nbextensions/code_prettify/demo-R.gif\r\n",
      "\u001b[32m[I 14:10:53 InstallContribNbextensionsApp]\u001b[m Up to date: /Users/codingdojo/Library/Jupyter/nbextensions/code_prettify/isort.js\r\n",
      "\u001b[32m[I 14:10:53 InstallContribNbextensionsApp]\u001b[m Up to date: /Users/codingdojo/Library/Jupyter/nbextensions/code_prettify/code_prettify.yaml\r\n",
      "\u001b[32m[I 14:10:53 InstallContribNbextensionsApp]\u001b[m Up to date: /Users/codingdojo/Library/Jupyter/nbextensions/code_prettify/2to3.js\r\n",
      "\u001b[32m[I 14:10:53 InstallContribNbextensionsApp]\u001b[m Up to date: /Users/codingdojo/Library/Jupyter/nbextensions/code_prettify/autopep8.yaml\r\n",
      "\u001b[32m[I 14:10:53 InstallContribNbextensionsApp]\u001b[m Up to date: /Users/codingdojo/Library/Jupyter/nbextensions/code_prettify/isort.yaml\r\n",
      "\u001b[32m[I 14:10:53 InstallContribNbextensionsApp]\u001b[m - Validating: \u001b[32mOK\u001b[0m\r\n",
      "\u001b[32m[I 14:10:53 InstallContribNbextensionsApp]\u001b[m Installing /opt/homebrew/Caskroom/miniforge/base/envs/dojo-env/lib/python3.8/site-packages/jupyter_contrib_nbextensions/nbextensions/code_prettify -> code_prettify\r\n",
      "\u001b[32m[I 14:10:53 InstallContribNbextensionsApp]\u001b[m Up to date: /Users/codingdojo/Library/Jupyter/nbextensions/code_prettify/demo-py.gif\r\n",
      "\u001b[32m[I 14:10:53 InstallContribNbextensionsApp]\u001b[m Up to date: /Users/codingdojo/Library/Jupyter/nbextensions/code_prettify/kernel_exec_on_cell.js\r\n",
      "\u001b[32m[I 14:10:53 InstallContribNbextensionsApp]\u001b[m Up to date: /Users/codingdojo/Library/Jupyter/nbextensions/code_prettify/demo-jv.gif\r\n",
      "\u001b[32m[I 14:10:53 InstallContribNbextensionsApp]\u001b[m Up to date: /Users/codingdojo/Library/Jupyter/nbextensions/code_prettify/README_2to3.md\r\n",
      "\u001b[32m[I 14:10:53 InstallContribNbextensionsApp]\u001b[m Up to date: /Users/codingdojo/Library/Jupyter/nbextensions/code_prettify/2to3.yaml\r\n",
      "\u001b[32m[I 14:10:53 InstallContribNbextensionsApp]\u001b[m Up to date: /Users/codingdojo/Library/Jupyter/nbextensions/code_prettify/README_autopep8.md\r\n",
      "\u001b[32m[I 14:10:53 InstallContribNbextensionsApp]\u001b[m Up to date: /Users/codingdojo/Library/Jupyter/nbextensions/code_prettify/demo_2to3.gif\r\n",
      "\u001b[32m[I 14:10:53 InstallContribNbextensionsApp]\u001b[m Up to date: /Users/codingdojo/Library/Jupyter/nbextensions/code_prettify/README_isort.md\r\n",
      "\u001b[32m[I 14:10:53 InstallContribNbextensionsApp]\u001b[m Up to date: /Users/codingdojo/Library/Jupyter/nbextensions/code_prettify/README_code_prettify.md\r\n",
      "\u001b[32m[I 14:10:53 InstallContribNbextensionsApp]\u001b[m Up to date: /Users/codingdojo/Library/Jupyter/nbextensions/code_prettify/README.md\r\n",
      "\u001b[32m[I 14:10:53 InstallContribNbextensionsApp]\u001b[m Up to date: /Users/codingdojo/Library/Jupyter/nbextensions/code_prettify/code_prettify.js\r\n",
      "\u001b[32m[I 14:10:53 InstallContribNbextensionsApp]\u001b[m Up to date: /Users/codingdojo/Library/Jupyter/nbextensions/code_prettify/autopep8.js\r\n",
      "\u001b[32m[I 14:10:53 InstallContribNbextensionsApp]\u001b[m Up to date: /Users/codingdojo/Library/Jupyter/nbextensions/code_prettify/demo-R.gif\r\n",
      "\u001b[32m[I 14:10:53 InstallContribNbextensionsApp]\u001b[m Up to date: /Users/codingdojo/Library/Jupyter/nbextensions/code_prettify/isort.js\r\n",
      "\u001b[32m[I 14:10:53 InstallContribNbextensionsApp]\u001b[m Up to date: /Users/codingdojo/Library/Jupyter/nbextensions/code_prettify/code_prettify.yaml\r\n",
      "\u001b[32m[I 14:10:53 InstallContribNbextensionsApp]\u001b[m Up to date: /Users/codingdojo/Library/Jupyter/nbextensions/code_prettify/2to3.js\r\n",
      "\u001b[32m[I 14:10:53 InstallContribNbextensionsApp]\u001b[m Up to date: /Users/codingdojo/Library/Jupyter/nbextensions/code_prettify/autopep8.yaml\r\n",
      "\u001b[32m[I 14:10:53 InstallContribNbextensionsApp]\u001b[m Up to date: /Users/codingdojo/Library/Jupyter/nbextensions/code_prettify/isort.yaml\r\n",
      "\u001b[32m[I 14:10:53 InstallContribNbextensionsApp]\u001b[m - Validating: \u001b[32mOK\u001b[0m\r\n",
      "\u001b[32m[I 14:10:53 InstallContribNbextensionsApp]\u001b[m Installing /opt/homebrew/Caskroom/miniforge/base/envs/dojo-env/lib/python3.8/site-packages/jupyter_contrib_nbextensions/nbextensions/code_prettify -> code_prettify\r\n",
      "\u001b[32m[I 14:10:53 InstallContribNbextensionsApp]\u001b[m Up to date: /Users/codingdojo/Library/Jupyter/nbextensions/code_prettify/demo-py.gif\r\n",
      "\u001b[32m[I 14:10:53 InstallContribNbextensionsApp]\u001b[m Up to date: /Users/codingdojo/Library/Jupyter/nbextensions/code_prettify/kernel_exec_on_cell.js\r\n",
      "\u001b[32m[I 14:10:53 InstallContribNbextensionsApp]\u001b[m Up to date: /Users/codingdojo/Library/Jupyter/nbextensions/code_prettify/demo-jv.gif\r\n",
      "\u001b[32m[I 14:10:53 InstallContribNbextensionsApp]\u001b[m Up to date: /Users/codingdojo/Library/Jupyter/nbextensions/code_prettify/README_2to3.md\r\n",
      "\u001b[32m[I 14:10:53 InstallContribNbextensionsApp]\u001b[m Up to date: /Users/codingdojo/Library/Jupyter/nbextensions/code_prettify/2to3.yaml\r\n",
      "\u001b[32m[I 14:10:53 InstallContribNbextensionsApp]\u001b[m Up to date: /Users/codingdojo/Library/Jupyter/nbextensions/code_prettify/README_autopep8.md\r\n",
      "\u001b[32m[I 14:10:53 InstallContribNbextensionsApp]\u001b[m Up to date: /Users/codingdojo/Library/Jupyter/nbextensions/code_prettify/demo_2to3.gif\r\n",
      "\u001b[32m[I 14:10:53 InstallContribNbextensionsApp]\u001b[m Up to date: /Users/codingdojo/Library/Jupyter/nbextensions/code_prettify/README_isort.md\r\n",
      "\u001b[32m[I 14:10:53 InstallContribNbextensionsApp]\u001b[m Up to date: /Users/codingdojo/Library/Jupyter/nbextensions/code_prettify/README_code_prettify.md\r\n",
      "\u001b[32m[I 14:10:53 InstallContribNbextensionsApp]\u001b[m Up to date: /Users/codingdojo/Library/Jupyter/nbextensions/code_prettify/README.md\r\n",
      "\u001b[32m[I 14:10:53 InstallContribNbextensionsApp]\u001b[m Up to date: /Users/codingdojo/Library/Jupyter/nbextensions/code_prettify/code_prettify.js\r\n",
      "\u001b[32m[I 14:10:53 InstallContribNbextensionsApp]\u001b[m Up to date: /Users/codingdojo/Library/Jupyter/nbextensions/code_prettify/autopep8.js\r\n",
      "\u001b[32m[I 14:10:53 InstallContribNbextensionsApp]\u001b[m Up to date: /Users/codingdojo/Library/Jupyter/nbextensions/code_prettify/demo-R.gif\r\n",
      "\u001b[32m[I 14:10:53 InstallContribNbextensionsApp]\u001b[m Up to date: /Users/codingdojo/Library/Jupyter/nbextensions/code_prettify/isort.js\r\n",
      "\u001b[32m[I 14:10:53 InstallContribNbextensionsApp]\u001b[m Up to date: /Users/codingdojo/Library/Jupyter/nbextensions/code_prettify/code_prettify.yaml\r\n",
      "\u001b[32m[I 14:10:53 InstallContribNbextensionsApp]\u001b[m Up to date: /Users/codingdojo/Library/Jupyter/nbextensions/code_prettify/2to3.js\r\n",
      "\u001b[32m[I 14:10:53 InstallContribNbextensionsApp]\u001b[m Up to date: /Users/codingdojo/Library/Jupyter/nbextensions/code_prettify/autopep8.yaml\r\n",
      "\u001b[32m[I 14:10:53 InstallContribNbextensionsApp]\u001b[m Up to date: /Users/codingdojo/Library/Jupyter/nbextensions/code_prettify/isort.yaml\r\n",
      "\u001b[32m[I 14:10:53 InstallContribNbextensionsApp]\u001b[m - Validating: \u001b[32mOK\u001b[0m\r\n",
      "\u001b[32m[I 14:10:53 InstallContribNbextensionsApp]\u001b[m Installing /opt/homebrew/Caskroom/miniforge/base/envs/dojo-env/lib/python3.8/site-packages/jupyter_contrib_nbextensions/nbextensions/load_tex_macros -> load_tex_macros\r\n",
      "\u001b[33m[W 14:10:53 InstallContribNbextensionsApp]\u001b[m Out of date: /Users/codingdojo/Library/Jupyter/nbextensions/load_tex_macros/load_tex_macros.yaml\r\n",
      "\u001b[32m[I 14:10:53 InstallContribNbextensionsApp]\u001b[m Copying: /opt/homebrew/Caskroom/miniforge/base/envs/dojo-env/lib/python3.8/site-packages/jupyter_contrib_nbextensions/nbextensions/load_tex_macros/load_tex_macros.yaml -> /Users/codingdojo/Library/Jupyter/nbextensions/load_tex_macros/load_tex_macros.yaml\r\n",
      "\u001b[33m[W 14:10:53 InstallContribNbextensionsApp]\u001b[m Out of date: /Users/codingdojo/Library/Jupyter/nbextensions/load_tex_macros/icon.png\r\n",
      "\u001b[32m[I 14:10:53 InstallContribNbextensionsApp]\u001b[m Copying: /opt/homebrew/Caskroom/miniforge/base/envs/dojo-env/lib/python3.8/site-packages/jupyter_contrib_nbextensions/nbextensions/load_tex_macros/icon.png -> /Users/codingdojo/Library/Jupyter/nbextensions/load_tex_macros/icon.png\r\n",
      "\u001b[33m[W 14:10:53 InstallContribNbextensionsApp]\u001b[m Out of date: /Users/codingdojo/Library/Jupyter/nbextensions/load_tex_macros/readme.md\r\n",
      "\u001b[32m[I 14:10:53 InstallContribNbextensionsApp]\u001b[m Copying: /opt/homebrew/Caskroom/miniforge/base/envs/dojo-env/lib/python3.8/site-packages/jupyter_contrib_nbextensions/nbextensions/load_tex_macros/readme.md -> /Users/codingdojo/Library/Jupyter/nbextensions/load_tex_macros/readme.md\r\n",
      "\u001b[33m[W 14:10:53 InstallContribNbextensionsApp]\u001b[m Out of date: /Users/codingdojo/Library/Jupyter/nbextensions/load_tex_macros/main.js\r\n",
      "\u001b[32m[I 14:10:53 InstallContribNbextensionsApp]\u001b[m Copying: /opt/homebrew/Caskroom/miniforge/base/envs/dojo-env/lib/python3.8/site-packages/jupyter_contrib_nbextensions/nbextensions/load_tex_macros/main.js -> /Users/codingdojo/Library/Jupyter/nbextensions/load_tex_macros/main.js\r\n",
      "\u001b[32m[I 14:10:53 InstallContribNbextensionsApp]\u001b[m - Validating: \u001b[32mOK\u001b[0m\r\n",
      "\u001b[32m[I 14:10:53 InstallContribNbextensionsApp]\u001b[m Installing /opt/homebrew/Caskroom/miniforge/base/envs/dojo-env/lib/python3.8/site-packages/jupyter_contrib_nbextensions/nbextensions/hide_header -> hide_header\r\n",
      "\u001b[33m[W 14:10:53 InstallContribNbextensionsApp]\u001b[m Out of date: /Users/codingdojo/Library/Jupyter/nbextensions/hide_header/hide_header.yaml\r\n",
      "\u001b[32m[I 14:10:53 InstallContribNbextensionsApp]\u001b[m Copying: /opt/homebrew/Caskroom/miniforge/base/envs/dojo-env/lib/python3.8/site-packages/jupyter_contrib_nbextensions/nbextensions/hide_header/hide_header.yaml -> /Users/codingdojo/Library/Jupyter/nbextensions/hide_header/hide_header.yaml\r\n",
      "\u001b[33m[W 14:10:53 InstallContribNbextensionsApp]\u001b[m Out of date: /Users/codingdojo/Library/Jupyter/nbextensions/hide_header/README.md\r\n",
      "\u001b[32m[I 14:10:53 InstallContribNbextensionsApp]\u001b[m Copying: /opt/homebrew/Caskroom/miniforge/base/envs/dojo-env/lib/python3.8/site-packages/jupyter_contrib_nbextensions/nbextensions/hide_header/README.md -> /Users/codingdojo/Library/Jupyter/nbextensions/hide_header/README.md\r\n",
      "\u001b[33m[W 14:10:53 InstallContribNbextensionsApp]\u001b[m Out of date: /Users/codingdojo/Library/Jupyter/nbextensions/hide_header/main.js\r\n",
      "\u001b[32m[I 14:10:53 InstallContribNbextensionsApp]\u001b[m Copying: /opt/homebrew/Caskroom/miniforge/base/envs/dojo-env/lib/python3.8/site-packages/jupyter_contrib_nbextensions/nbextensions/hide_header/main.js -> /Users/codingdojo/Library/Jupyter/nbextensions/hide_header/main.js\r\n",
      "\u001b[32m[I 14:10:53 InstallContribNbextensionsApp]\u001b[m - Validating: \u001b[32mOK\u001b[0m\r\n",
      "\u001b[32m[I 14:10:53 InstallContribNbextensionsApp]\u001b[m Installing /opt/homebrew/Caskroom/miniforge/base/envs/dojo-env/lib/python3.8/site-packages/jupyter_highlight_selected_word/static/highlight_selected_word -> highlight_selected_word\r\n",
      "\u001b[33m[W 14:10:53 InstallContribNbextensionsApp]\u001b[m Out of date: /Users/codingdojo/Library/Jupyter/nbextensions/highlight_selected_word/configurator.yaml\r\n",
      "\u001b[32m[I 14:10:53 InstallContribNbextensionsApp]\u001b[m Copying: /opt/homebrew/Caskroom/miniforge/base/envs/dojo-env/lib/python3.8/site-packages/jupyter_highlight_selected_word/static/highlight_selected_word/configurator.yaml -> /Users/codingdojo/Library/Jupyter/nbextensions/highlight_selected_word/configurator.yaml\r\n",
      "\u001b[33m[W 14:10:53 InstallContribNbextensionsApp]\u001b[m Out of date: /Users/codingdojo/Library/Jupyter/nbextensions/highlight_selected_word/README.md\r\n",
      "\u001b[32m[I 14:10:53 InstallContribNbextensionsApp]\u001b[m Copying: /opt/homebrew/Caskroom/miniforge/base/envs/dojo-env/lib/python3.8/site-packages/jupyter_highlight_selected_word/static/highlight_selected_word/README.md -> /Users/codingdojo/Library/Jupyter/nbextensions/highlight_selected_word/README.md\r\n",
      "\u001b[33m[W 14:10:53 InstallContribNbextensionsApp]\u001b[m Out of date: /Users/codingdojo/Library/Jupyter/nbextensions/highlight_selected_word/main.js\r\n",
      "\u001b[32m[I 14:10:53 InstallContribNbextensionsApp]\u001b[m Copying: /opt/homebrew/Caskroom/miniforge/base/envs/dojo-env/lib/python3.8/site-packages/jupyter_highlight_selected_word/static/highlight_selected_word/main.js -> /Users/codingdojo/Library/Jupyter/nbextensions/highlight_selected_word/main.js\r\n",
      "\u001b[32m[I 14:10:53 InstallContribNbextensionsApp]\u001b[m - Validating: \u001b[32mOK\u001b[0m\r\n",
      "\u001b[32m[I 14:10:53 InstallContribNbextensionsApp]\u001b[m Installing /opt/homebrew/Caskroom/miniforge/base/envs/dojo-env/lib/python3.8/site-packages/latex_envs/static -> latex_envs\r\n",
      "\u001b[33m[W 14:10:53 InstallContribNbextensionsApp]\u001b[m Out of date: /Users/codingdojo/Library/Jupyter/nbextensions/latex_envs/icon.png\r\n",
      "\u001b[32m[I 14:10:53 InstallContribNbextensionsApp]\u001b[m Copying: /opt/homebrew/Caskroom/miniforge/base/envs/dojo-env/lib/python3.8/site-packages/latex_envs/static/icon.png -> /Users/codingdojo/Library/Jupyter/nbextensions/latex_envs/icon.png\r\n",
      "\u001b[33m[W 14:10:53 InstallContribNbextensionsApp]\u001b[m Out of date: /Users/codingdojo/Library/Jupyter/nbextensions/latex_envs/latex_envs.yaml\r\n",
      "\u001b[32m[I 14:10:53 InstallContribNbextensionsApp]\u001b[m Copying: /opt/homebrew/Caskroom/miniforge/base/envs/dojo-env/lib/python3.8/site-packages/latex_envs/static/latex_envs.yaml -> /Users/codingdojo/Library/Jupyter/nbextensions/latex_envs/latex_envs.yaml\r\n",
      "\u001b[33m[W 14:10:53 InstallContribNbextensionsApp]\u001b[m Out of date: /Users/codingdojo/Library/Jupyter/nbextensions/latex_envs/configuration_toolbar.png\r\n",
      "\u001b[32m[I 14:10:53 InstallContribNbextensionsApp]\u001b[m Copying: /opt/homebrew/Caskroom/miniforge/base/envs/dojo-env/lib/python3.8/site-packages/latex_envs/static/configuration_toolbar.png -> /Users/codingdojo/Library/Jupyter/nbextensions/latex_envs/configuration_toolbar.png\r\n",
      "\u001b[33m[W 14:10:53 InstallContribNbextensionsApp]\u001b[m Out of date: /Users/codingdojo/Library/Jupyter/nbextensions/latex_envs/bibInNb4.js\r\n",
      "\u001b[32m[I 14:10:53 InstallContribNbextensionsApp]\u001b[m Copying: /opt/homebrew/Caskroom/miniforge/base/envs/dojo-env/lib/python3.8/site-packages/latex_envs/static/bibInNb4.js -> /Users/codingdojo/Library/Jupyter/nbextensions/latex_envs/bibInNb4.js\r\n",
      "\u001b[33m[W 14:10:53 InstallContribNbextensionsApp]\u001b[m Out of date: /Users/codingdojo/Library/Jupyter/nbextensions/latex_envs/example_user_envs.json\r\n",
      "\u001b[32m[I 14:10:53 InstallContribNbextensionsApp]\u001b[m Copying: /opt/homebrew/Caskroom/miniforge/base/envs/dojo-env/lib/python3.8/site-packages/latex_envs/static/example_user_envs.json -> /Users/codingdojo/Library/Jupyter/nbextensions/latex_envs/example_user_envs.json\r\n",
      "\u001b[33m[W 14:10:53 InstallContribNbextensionsApp]\u001b[m Out of date: /Users/codingdojo/Library/Jupyter/nbextensions/latex_envs/envsLatex.js\r\n",
      "\u001b[32m[I 14:10:53 InstallContribNbextensionsApp]\u001b[m Copying: /opt/homebrew/Caskroom/miniforge/base/envs/dojo-env/lib/python3.8/site-packages/latex_envs/static/envsLatex.js -> /Users/codingdojo/Library/Jupyter/nbextensions/latex_envs/envsLatex.js\r\n",
      "\u001b[33m[W 14:10:53 InstallContribNbextensionsApp]\u001b[m Out of date: /Users/codingdojo/Library/Jupyter/nbextensions/latex_envs/main_toolbar.png\r\n",
      "\u001b[32m[I 14:10:53 InstallContribNbextensionsApp]\u001b[m Copying: /opt/homebrew/Caskroom/miniforge/base/envs/dojo-env/lib/python3.8/site-packages/latex_envs/static/main_toolbar.png -> /Users/codingdojo/Library/Jupyter/nbextensions/latex_envs/main_toolbar.png\r\n",
      "\u001b[33m[W 14:10:53 InstallContribNbextensionsApp]\u001b[m Out of date: /Users/codingdojo/Library/Jupyter/nbextensions/latex_envs/envsLatex.json\r\n",
      "\u001b[32m[I 14:10:53 InstallContribNbextensionsApp]\u001b[m Copying: /opt/homebrew/Caskroom/miniforge/base/envs/dojo-env/lib/python3.8/site-packages/latex_envs/static/envsLatex.json -> /Users/codingdojo/Library/Jupyter/nbextensions/latex_envs/envsLatex.json\r\n",
      "\u001b[33m[W 14:10:53 InstallContribNbextensionsApp]\u001b[m Out of date: /Users/codingdojo/Library/Jupyter/nbextensions/latex_envs/README.md\r\n",
      "\u001b[32m[I 14:10:53 InstallContribNbextensionsApp]\u001b[m Copying: /opt/homebrew/Caskroom/miniforge/base/envs/dojo-env/lib/python3.8/site-packages/latex_envs/static/README.md -> /Users/codingdojo/Library/Jupyter/nbextensions/latex_envs/README.md\r\n",
      "\u001b[33m[W 14:10:53 InstallContribNbextensionsApp]\u001b[m Out of date: /Users/codingdojo/Library/Jupyter/nbextensions/latex_envs/thmsInNb4.js\r\n",
      "\u001b[32m[I 14:10:53 InstallContribNbextensionsApp]\u001b[m Copying: /opt/homebrew/Caskroom/miniforge/base/envs/dojo-env/lib/python3.8/site-packages/latex_envs/static/thmsInNb4.js -> /Users/codingdojo/Library/Jupyter/nbextensions/latex_envs/thmsInNb4.js\r\n",
      "\u001b[33m[W 14:10:53 InstallContribNbextensionsApp]\u001b[m Out of date: /Users/codingdojo/Library/Jupyter/nbextensions/latex_envs/initNb.js\r\n",
      "\u001b[32m[I 14:10:53 InstallContribNbextensionsApp]\u001b[m Copying: /opt/homebrew/Caskroom/miniforge/base/envs/dojo-env/lib/python3.8/site-packages/latex_envs/static/initNb.js -> /Users/codingdojo/Library/Jupyter/nbextensions/latex_envs/initNb.js\r\n",
      "\u001b[33m[W 14:10:53 InstallContribNbextensionsApp]\u001b[m Out of date: /Users/codingdojo/Library/Jupyter/nbextensions/latex_envs/latex_envs.css\r\n",
      "\u001b[32m[I 14:10:53 InstallContribNbextensionsApp]\u001b[m Copying: /opt/homebrew/Caskroom/miniforge/base/envs/dojo-env/lib/python3.8/site-packages/latex_envs/static/latex_envs.css -> /Users/codingdojo/Library/Jupyter/nbextensions/latex_envs/latex_envs.css\r\n",
      "\u001b[33m[W 14:10:53 InstallContribNbextensionsApp]\u001b[m Out of date: /Users/codingdojo/Library/Jupyter/nbextensions/latex_envs/latex_envs.js\r\n",
      "\u001b[32m[I 14:10:53 InstallContribNbextensionsApp]\u001b[m Copying: /opt/homebrew/Caskroom/miniforge/base/envs/dojo-env/lib/python3.8/site-packages/latex_envs/static/latex_envs.js -> /Users/codingdojo/Library/Jupyter/nbextensions/latex_envs/latex_envs.js\r\n",
      "\u001b[33m[W 14:10:53 InstallContribNbextensionsApp]\u001b[m Out of date: /Users/codingdojo/Library/Jupyter/nbextensions/latex_envs/bibtex2.js\r\n",
      "\u001b[32m[I 14:10:53 InstallContribNbextensionsApp]\u001b[m Copying: /opt/homebrew/Caskroom/miniforge/base/envs/dojo-env/lib/python3.8/site-packages/latex_envs/static/bibtex2.js -> /Users/codingdojo/Library/Jupyter/nbextensions/latex_envs/bibtex2.js\r\n",
      "\u001b[33m[W 14:10:53 InstallContribNbextensionsApp]\u001b[m Out of date: /Users/codingdojo/Library/Jupyter/nbextensions/latex_envs/example.png\r\n",
      "\u001b[32m[I 14:10:53 InstallContribNbextensionsApp]\u001b[m Copying: /opt/homebrew/Caskroom/miniforge/base/envs/dojo-env/lib/python3.8/site-packages/latex_envs/static/example.png -> /Users/codingdojo/Library/Jupyter/nbextensions/latex_envs/example.png\r\n",
      "\u001b[33m[W 14:10:53 InstallContribNbextensionsApp]\u001b[m Out of date: /Users/codingdojo/Library/Jupyter/nbextensions/latex_envs/doc/IEEEtran.bst\r\n",
      "\u001b[32m[I 14:10:53 InstallContribNbextensionsApp]\u001b[m Copying: /opt/homebrew/Caskroom/miniforge/base/envs/dojo-env/lib/python3.8/site-packages/latex_envs/static/doc/IEEEtran.bst -> /Users/codingdojo/Library/Jupyter/nbextensions/latex_envs/doc/IEEEtran.bst\r\n",
      "\u001b[33m[W 14:10:53 InstallContribNbextensionsApp]\u001b[m Out of date: /Users/codingdojo/Library/Jupyter/nbextensions/latex_envs/doc/documentation.pdf\r\n",
      "\u001b[32m[I 14:10:53 InstallContribNbextensionsApp]\u001b[m Copying: /opt/homebrew/Caskroom/miniforge/base/envs/dojo-env/lib/python3.8/site-packages/latex_envs/static/doc/documentation.pdf -> /Users/codingdojo/Library/Jupyter/nbextensions/latex_envs/doc/documentation.pdf\r\n",
      "\u001b[33m[W 14:10:53 InstallContribNbextensionsApp]\u001b[m Out of date: /Users/codingdojo/Library/Jupyter/nbextensions/latex_envs/doc/configuration_toolbar.png\r\n",
      "\u001b[32m[I 14:10:53 InstallContribNbextensionsApp]\u001b[m Copying: /opt/homebrew/Caskroom/miniforge/base/envs/dojo-env/lib/python3.8/site-packages/latex_envs/static/doc/configuration_toolbar.png -> /Users/codingdojo/Library/Jupyter/nbextensions/latex_envs/doc/configuration_toolbar.png\r\n",
      "\u001b[33m[W 14:10:53 InstallContribNbextensionsApp]\u001b[m Out of date: /Users/codingdojo/Library/Jupyter/nbextensions/latex_envs/doc/biblio_ipython.bib\r\n",
      "\u001b[32m[I 14:10:53 InstallContribNbextensionsApp]\u001b[m Copying: /opt/homebrew/Caskroom/miniforge/base/envs/dojo-env/lib/python3.8/site-packages/latex_envs/static/doc/biblio_ipython.bib -> /Users/codingdojo/Library/Jupyter/nbextensions/latex_envs/doc/biblio_ipython.bib\r\n",
      "\u001b[33m[W 14:10:53 InstallContribNbextensionsApp]\u001b[m Out of date: /Users/codingdojo/Library/Jupyter/nbextensions/latex_envs/doc/config_toolbar.png\r\n",
      "\u001b[32m[I 14:10:53 InstallContribNbextensionsApp]\u001b[m Copying: /opt/homebrew/Caskroom/miniforge/base/envs/dojo-env/lib/python3.8/site-packages/latex_envs/static/doc/config_toolbar.png -> /Users/codingdojo/Library/Jupyter/nbextensions/latex_envs/doc/config_toolbar.png\r\n",
      "\u001b[33m[W 14:10:53 InstallContribNbextensionsApp]\u001b[m Out of date: /Users/codingdojo/Library/Jupyter/nbextensions/latex_envs/doc/documentation.tex\r\n",
      "\u001b[32m[I 14:10:53 InstallContribNbextensionsApp]\u001b[m Copying: /opt/homebrew/Caskroom/miniforge/base/envs/dojo-env/lib/python3.8/site-packages/latex_envs/static/doc/documentation.tex -> /Users/codingdojo/Library/Jupyter/nbextensions/latex_envs/doc/documentation.tex\r\n",
      "\u001b[33m[W 14:10:53 InstallContribNbextensionsApp]\u001b[m Out of date: /Users/codingdojo/Library/Jupyter/nbextensions/latex_envs/doc/main_toolbar.png\r\n",
      "\u001b[32m[I 14:10:53 InstallContribNbextensionsApp]\u001b[m Copying: /opt/homebrew/Caskroom/miniforge/base/envs/dojo-env/lib/python3.8/site-packages/latex_envs/static/doc/main_toolbar.png -> /Users/codingdojo/Library/Jupyter/nbextensions/latex_envs/doc/main_toolbar.png\r\n",
      "\u001b[33m[W 14:10:53 InstallContribNbextensionsApp]\u001b[m Out of date: /Users/codingdojo/Library/Jupyter/nbextensions/latex_envs/doc/README.md\r\n",
      "\u001b[32m[I 14:10:53 InstallContribNbextensionsApp]\u001b[m Copying: /opt/homebrew/Caskroom/miniforge/base/envs/dojo-env/lib/python3.8/site-packages/latex_envs/static/doc/README.md -> /Users/codingdojo/Library/Jupyter/nbextensions/latex_envs/doc/README.md\r\n",
      "\u001b[33m[W 14:10:53 InstallContribNbextensionsApp]\u001b[m Out of date: /Users/codingdojo/Library/Jupyter/nbextensions/latex_envs/doc/latex_env_doc.ipynb\r\n",
      "\u001b[32m[I 14:10:53 InstallContribNbextensionsApp]\u001b[m Copying: /opt/homebrew/Caskroom/miniforge/base/envs/dojo-env/lib/python3.8/site-packages/latex_envs/static/doc/latex_env_doc.ipynb -> /Users/codingdojo/Library/Jupyter/nbextensions/latex_envs/doc/latex_env_doc.ipynb\r\n",
      "\u001b[33m[W 14:10:53 InstallContribNbextensionsApp]\u001b[m Out of date: /Users/codingdojo/Library/Jupyter/nbextensions/latex_envs/doc/LaTeX_envs_menu.png\r\n",
      "\u001b[32m[I 14:10:53 InstallContribNbextensionsApp]\u001b[m Copying: /opt/homebrew/Caskroom/miniforge/base/envs/dojo-env/lib/python3.8/site-packages/latex_envs/static/doc/LaTeX_envs_menu.png -> /Users/codingdojo/Library/Jupyter/nbextensions/latex_envs/doc/LaTeX_envs_menu.png\r\n",
      "\u001b[33m[W 14:10:53 InstallContribNbextensionsApp]\u001b[m Out of date: /Users/codingdojo/Library/Jupyter/nbextensions/latex_envs/doc/latex_env_doc.tex\r\n",
      "\u001b[32m[I 14:10:53 InstallContribNbextensionsApp]\u001b[m Copying: /opt/homebrew/Caskroom/miniforge/base/envs/dojo-env/lib/python3.8/site-packages/latex_envs/static/doc/latex_env_doc.tex -> /Users/codingdojo/Library/Jupyter/nbextensions/latex_envs/doc/latex_env_doc.tex\r\n",
      "\u001b[33m[W 14:10:53 InstallContribNbextensionsApp]\u001b[m Out of date: /Users/codingdojo/Library/Jupyter/nbextensions/latex_envs/doc/header.tex\r\n",
      "\u001b[32m[I 14:10:53 InstallContribNbextensionsApp]\u001b[m Copying: /opt/homebrew/Caskroom/miniforge/base/envs/dojo-env/lib/python3.8/site-packages/latex_envs/static/doc/header.tex -> /Users/codingdojo/Library/Jupyter/nbextensions/latex_envs/doc/header.tex\r\n",
      "\u001b[33m[W 14:10:53 InstallContribNbextensionsApp]\u001b[m Out of date: /Users/codingdojo/Library/Jupyter/nbextensions/latex_envs/doc/Toggles.png\r\n",
      "\u001b[32m[I 14:10:53 InstallContribNbextensionsApp]\u001b[m Copying: /opt/homebrew/Caskroom/miniforge/base/envs/dojo-env/lib/python3.8/site-packages/latex_envs/static/doc/Toggles.png -> /Users/codingdojo/Library/Jupyter/nbextensions/latex_envs/doc/Toggles.png\r\n",
      "\u001b[33m[W 14:10:53 InstallContribNbextensionsApp]\u001b[m Out of date: /Users/codingdojo/Library/Jupyter/nbextensions/latex_envs/doc/latex_env_doc.html\r\n",
      "\u001b[32m[I 14:10:53 InstallContribNbextensionsApp]\u001b[m Copying: /opt/homebrew/Caskroom/miniforge/base/envs/dojo-env/lib/python3.8/site-packages/latex_envs/static/doc/latex_env_doc.html -> /Users/codingdojo/Library/Jupyter/nbextensions/latex_envs/doc/latex_env_doc.html\r\n",
      "\u001b[33m[W 14:10:53 InstallContribNbextensionsApp]\u001b[m Out of date: /Users/codingdojo/Library/Jupyter/nbextensions/latex_envs/doc/example.png\r\n",
      "\u001b[32m[I 14:10:53 InstallContribNbextensionsApp]\u001b[m Copying: /opt/homebrew/Caskroom/miniforge/base/envs/dojo-env/lib/python3.8/site-packages/latex_envs/static/doc/example.png -> /Users/codingdojo/Library/Jupyter/nbextensions/latex_envs/doc/example.png\r\n",
      "\u001b[33m[W 14:10:53 InstallContribNbextensionsApp]\u001b[m Out of date: /Users/codingdojo/Library/Jupyter/nbextensions/latex_envs/doc/.ipynb_checkpoints/latex_env_doc-checkpoint.ipynb\r\n",
      "\u001b[32m[I 14:10:53 InstallContribNbextensionsApp]\u001b[m Copying: /opt/homebrew/Caskroom/miniforge/base/envs/dojo-env/lib/python3.8/site-packages/latex_envs/static/doc/.ipynb_checkpoints/latex_env_doc-checkpoint.ipynb -> /Users/codingdojo/Library/Jupyter/nbextensions/latex_envs/doc/.ipynb_checkpoints/latex_env_doc-checkpoint.ipynb\r\n",
      "\u001b[33m[W 14:10:53 InstallContribNbextensionsApp]\u001b[m Out of date: /Users/codingdojo/Library/Jupyter/nbextensions/latex_envs/doc/latex_env_doc_files/latex_env_doc_51_0.png\r\n",
      "\u001b[32m[I 14:10:53 InstallContribNbextensionsApp]\u001b[m Copying: /opt/homebrew/Caskroom/miniforge/base/envs/dojo-env/lib/python3.8/site-packages/latex_envs/static/doc/latex_env_doc_files/latex_env_doc_51_0.png -> /Users/codingdojo/Library/Jupyter/nbextensions/latex_envs/doc/latex_env_doc_files/latex_env_doc_51_0.png\r\n",
      "\u001b[33m[W 14:10:53 InstallContribNbextensionsApp]\u001b[m Out of date: /Users/codingdojo/Library/Jupyter/nbextensions/latex_envs/doc/latex_env_doc_files/latex_env_doc_48_0.png\r\n",
      "\u001b[32m[I 14:10:53 InstallContribNbextensionsApp]\u001b[m Copying: /opt/homebrew/Caskroom/miniforge/base/envs/dojo-env/lib/python3.8/site-packages/latex_envs/static/doc/latex_env_doc_files/latex_env_doc_48_0.png -> /Users/codingdojo/Library/Jupyter/nbextensions/latex_envs/doc/latex_env_doc_files/latex_env_doc_48_0.png\r\n",
      "\u001b[33m[W 14:10:53 InstallContribNbextensionsApp]\u001b[m Out of date: /Users/codingdojo/Library/Jupyter/nbextensions/latex_envs/doc/latex_env_doc_files/latex_env_doc_50_0.png\r\n",
      "\u001b[32m[I 14:10:53 InstallContribNbextensionsApp]\u001b[m Copying: /opt/homebrew/Caskroom/miniforge/base/envs/dojo-env/lib/python3.8/site-packages/latex_envs/static/doc/latex_env_doc_files/latex_env_doc_50_0.png -> /Users/codingdojo/Library/Jupyter/nbextensions/latex_envs/doc/latex_env_doc_files/latex_env_doc_50_0.png\r\n",
      "\u001b[33m[W 14:10:53 InstallContribNbextensionsApp]\u001b[m Out of date: /Users/codingdojo/Library/Jupyter/nbextensions/latex_envs/doc/latex_env_doc_files/latex_env_doc_49_0.png\r\n",
      "\u001b[32m[I 14:10:53 InstallContribNbextensionsApp]\u001b[m Copying: /opt/homebrew/Caskroom/miniforge/base/envs/dojo-env/lib/python3.8/site-packages/latex_envs/static/doc/latex_env_doc_files/latex_env_doc_49_0.png -> /Users/codingdojo/Library/Jupyter/nbextensions/latex_envs/doc/latex_env_doc_files/latex_env_doc_49_0.png\r\n",
      "\u001b[33m[W 14:10:53 InstallContribNbextensionsApp]\u001b[m Out of date: /Users/codingdojo/Library/Jupyter/nbextensions/latex_envs/doc/latex_env_doc_files/latex_env_doc_52_0.png\r\n",
      "\u001b[32m[I 14:10:53 InstallContribNbextensionsApp]\u001b[m Copying: /opt/homebrew/Caskroom/miniforge/base/envs/dojo-env/lib/python3.8/site-packages/latex_envs/static/doc/latex_env_doc_files/latex_env_doc_52_0.png -> /Users/codingdojo/Library/Jupyter/nbextensions/latex_envs/doc/latex_env_doc_files/latex_env_doc_52_0.png\r\n",
      "\u001b[33m[W 14:10:53 InstallContribNbextensionsApp]\u001b[m Out of date: /Users/codingdojo/Library/Jupyter/nbextensions/latex_envs/doc/latex_env_doc_files/latex_env_doc_41_0.png\r\n",
      "\u001b[32m[I 14:10:53 InstallContribNbextensionsApp]\u001b[m Copying: /opt/homebrew/Caskroom/miniforge/base/envs/dojo-env/lib/python3.8/site-packages/latex_envs/static/doc/latex_env_doc_files/latex_env_doc_41_0.png -> /Users/codingdojo/Library/Jupyter/nbextensions/latex_envs/doc/latex_env_doc_files/latex_env_doc_41_0.png\r\n",
      "\u001b[33m[W 14:10:53 InstallContribNbextensionsApp]\u001b[m Out of date: /Users/codingdojo/Library/Jupyter/nbextensions/latex_envs/doc/latex_env_doc_files/latex_env_doc_43_0.png\r\n",
      "\u001b[32m[I 14:10:53 InstallContribNbextensionsApp]\u001b[m Copying: /opt/homebrew/Caskroom/miniforge/base/envs/dojo-env/lib/python3.8/site-packages/latex_envs/static/doc/latex_env_doc_files/latex_env_doc_43_0.png -> /Users/codingdojo/Library/Jupyter/nbextensions/latex_envs/doc/latex_env_doc_files/latex_env_doc_43_0.png\r\n",
      "\u001b[33m[W 14:10:53 InstallContribNbextensionsApp]\u001b[m Out of date: /Users/codingdojo/Library/Jupyter/nbextensions/latex_envs/doc/latex_env_doc_files/latex_env_doc_24_2.png\r\n",
      "\u001b[32m[I 14:10:53 InstallContribNbextensionsApp]\u001b[m Copying: /opt/homebrew/Caskroom/miniforge/base/envs/dojo-env/lib/python3.8/site-packages/latex_envs/static/doc/latex_env_doc_files/latex_env_doc_24_2.png -> /Users/codingdojo/Library/Jupyter/nbextensions/latex_envs/doc/latex_env_doc_files/latex_env_doc_24_2.png\r\n",
      "\u001b[33m[W 14:10:53 InstallContribNbextensionsApp]\u001b[m Out of date: /Users/codingdojo/Library/Jupyter/nbextensions/latex_envs/doc/latex_env_doc_files/latex_env_doc_47_0.png\r\n",
      "\u001b[32m[I 14:10:53 InstallContribNbextensionsApp]\u001b[m Copying: /opt/homebrew/Caskroom/miniforge/base/envs/dojo-env/lib/python3.8/site-packages/latex_envs/static/doc/latex_env_doc_files/latex_env_doc_47_0.png -> /Users/codingdojo/Library/Jupyter/nbextensions/latex_envs/doc/latex_env_doc_files/latex_env_doc_47_0.png\r\n",
      "\u001b[33m[W 14:10:53 InstallContribNbextensionsApp]\u001b[m Out of date: /Users/codingdojo/Library/Jupyter/nbextensions/latex_envs/doc/latex_env_doc_files/latex_env_doc_45_0.png\r\n",
      "\u001b[32m[I 14:10:53 InstallContribNbextensionsApp]\u001b[m Copying: /opt/homebrew/Caskroom/miniforge/base/envs/dojo-env/lib/python3.8/site-packages/latex_envs/static/doc/latex_env_doc_files/latex_env_doc_45_0.png -> /Users/codingdojo/Library/Jupyter/nbextensions/latex_envs/doc/latex_env_doc_files/latex_env_doc_45_0.png\r\n",
      "\u001b[33m[W 14:10:53 InstallContribNbextensionsApp]\u001b[m Out of date: /Users/codingdojo/Library/Jupyter/nbextensions/latex_envs/doc/latex_env_doc_files/latex_env_doc_26_2.png\r\n",
      "\u001b[32m[I 14:10:53 InstallContribNbextensionsApp]\u001b[m Copying: /opt/homebrew/Caskroom/miniforge/base/envs/dojo-env/lib/python3.8/site-packages/latex_envs/static/doc/latex_env_doc_files/latex_env_doc_26_2.png -> /Users/codingdojo/Library/Jupyter/nbextensions/latex_envs/doc/latex_env_doc_files/latex_env_doc_26_2.png\r\n",
      "\u001b[33m[W 14:10:53 InstallContribNbextensionsApp]\u001b[m Out of date: /Users/codingdojo/Library/Jupyter/nbextensions/latex_envs/doc/latex_env_doc_files/latex_env_doc_42_0.png\r\n",
      "\u001b[32m[I 14:10:53 InstallContribNbextensionsApp]\u001b[m Copying: /opt/homebrew/Caskroom/miniforge/base/envs/dojo-env/lib/python3.8/site-packages/latex_envs/static/doc/latex_env_doc_files/latex_env_doc_42_0.png -> /Users/codingdojo/Library/Jupyter/nbextensions/latex_envs/doc/latex_env_doc_files/latex_env_doc_42_0.png\r\n",
      "\u001b[33m[W 14:10:53 InstallContribNbextensionsApp]\u001b[m Out of date: /Users/codingdojo/Library/Jupyter/nbextensions/latex_envs/doc/latex_env_doc_files/latex_env_doc_23_2.png\r\n",
      "\u001b[32m[I 14:10:53 InstallContribNbextensionsApp]\u001b[m Copying: /opt/homebrew/Caskroom/miniforge/base/envs/dojo-env/lib/python3.8/site-packages/latex_envs/static/doc/latex_env_doc_files/latex_env_doc_23_2.png -> /Users/codingdojo/Library/Jupyter/nbextensions/latex_envs/doc/latex_env_doc_files/latex_env_doc_23_2.png\r\n",
      "\u001b[33m[W 14:10:53 InstallContribNbextensionsApp]\u001b[m Out of date: /Users/codingdojo/Library/Jupyter/nbextensions/latex_envs/doc/latex_env_doc_files/latex_env_doc_44_0.png\r\n",
      "\u001b[32m[I 14:10:53 InstallContribNbextensionsApp]\u001b[m Copying: /opt/homebrew/Caskroom/miniforge/base/envs/dojo-env/lib/python3.8/site-packages/latex_envs/static/doc/latex_env_doc_files/latex_env_doc_44_0.png -> /Users/codingdojo/Library/Jupyter/nbextensions/latex_envs/doc/latex_env_doc_files/latex_env_doc_44_0.png\r\n",
      "\u001b[33m[W 14:10:53 InstallContribNbextensionsApp]\u001b[m Out of date: /Users/codingdojo/Library/Jupyter/nbextensions/latex_envs/doc/latex_env_doc_files/latex_env_doc_27_2.png\r\n",
      "\u001b[32m[I 14:10:53 InstallContribNbextensionsApp]\u001b[m Copying: /opt/homebrew/Caskroom/miniforge/base/envs/dojo-env/lib/python3.8/site-packages/latex_envs/static/doc/latex_env_doc_files/latex_env_doc_27_2.png -> /Users/codingdojo/Library/Jupyter/nbextensions/latex_envs/doc/latex_env_doc_files/latex_env_doc_27_2.png\r\n",
      "\u001b[33m[W 14:10:53 InstallContribNbextensionsApp]\u001b[m Out of date: /Users/codingdojo/Library/Jupyter/nbextensions/latex_envs/doc/latex_env_doc_files/latex_env_doc_46_0.png\r\n",
      "\u001b[32m[I 14:10:53 InstallContribNbextensionsApp]\u001b[m Copying: /opt/homebrew/Caskroom/miniforge/base/envs/dojo-env/lib/python3.8/site-packages/latex_envs/static/doc/latex_env_doc_files/latex_env_doc_46_0.png -> /Users/codingdojo/Library/Jupyter/nbextensions/latex_envs/doc/latex_env_doc_files/latex_env_doc_46_0.png\r\n",
      "\u001b[32m[I 14:10:53 InstallContribNbextensionsApp]\u001b[m - Validating: \u001b[32mOK\u001b[0m\r\n",
      "\u001b[32m[I 14:10:53 InstallContribNbextensionsApp]\u001b[m Installing jupyter_contrib_nbextensions items to config in /Users/codingdojo/.jupyter\r\n",
      "Enabling: jupyter_nbextensions_configurator\r\n",
      "- Writing config: /Users/codingdojo/.jupyter\r\n",
      "    - Validating...\r\n",
      "      jupyter_nbextensions_configurator 0.4.1 \u001b[32mOK\u001b[0m\r\n",
      "Enabling notebook nbextension nbextensions_configurator/config_menu/main...\r\n",
      "Enabling tree nbextension nbextensions_configurator/tree_tab/main...\r\n",
      "\u001b[32m[I 14:10:53 InstallContribNbextensionsApp]\u001b[m Enabling notebook extension contrib_nbextensions_help_item/main...\r\n",
      "\u001b[32m[I 14:10:53 InstallContribNbextensionsApp]\u001b[m       - Validating: \u001b[32mOK\u001b[0m\r\n",
      "\u001b[32m[I 14:10:53 InstallContribNbextensionsApp]\u001b[m - Editing config: /Users/codingdojo/.jupyter/jupyter_nbconvert_config.json\r\n",
      "\u001b[32m[I 14:10:53 InstallContribNbextensionsApp]\u001b[m --  Configuring nbconvert template path\r\n",
      "\u001b[32m[I 14:10:53 InstallContribNbextensionsApp]\u001b[m --  Configuring nbconvert preprocessors\r\n",
      "\u001b[32m[I 14:10:53 InstallContribNbextensionsApp]\u001b[m - Writing config: /Users/codingdojo/.jupyter/jupyter_nbconvert_config.json\r\n",
      "\u001b[32m[I 14:10:53 InstallContribNbextensionsApp]\u001b[m --  Writing updated config file /Users/codingdojo/.jupyter/jupyter_nbconvert_config.json\r\n"
     ]
    },
    {
     "name": "stdout",
     "output_type": "stream",
     "text": [
      "Enabling notebook extension jupyter_nbextensions_configurator...\r\n",
      "      - Validating: problems found:\r\n",
      "        - require? \u001b[31m X\u001b[0m jupyter_nbextensions_configurator\r\n"
     ]
    }
   ],
   "source": [
    "# IF THE ABOVE CELL ERROR'D:\n",
    "!pip install jupyter_contrib_nbextensions\n",
    "!jupyter contrib nbextension install --user\n",
    "!jupyter nbextension enable jupyter_nbextensions_configurator"
   ]
  },
  {
   "cell_type": "code",
   "execution_count": 21,
   "id": "c6e89862",
   "metadata": {
    "ExecuteTime": {
     "end_time": "2022-06-02T23:35:55.444881Z",
     "start_time": "2022-06-02T23:35:54.113002Z"
    }
   },
   "outputs": [
    {
     "name": "stdout",
     "output_type": "stream",
     "text": [
      "Enabling notebook extension toc2/main...\n",
      "      - Validating: \u001b[32mOK\u001b[0m\n",
      "Enabling notebook extension collapsible_headings/main...\n",
      "      - Validating: \u001b[32mOK\u001b[0m\n",
      "Enabling notebook extension ruler/main...\n",
      "      - Validating: \u001b[32mOK\u001b[0m\n",
      "Enabling notebook extension livemdpreview/livemdpreview...\n",
      "      - Validating: \u001b[32mOK\u001b[0m\n",
      "Enabling notebook extension spellchecker/main...\n",
      "      - Validating: \u001b[32mOK\u001b[0m\n"
     ]
    }
   ],
   "source": [
    "!jupyter nbextension enable toc2/main\n",
    "!jupyter nbextension enable collapsible_headings/main\n",
    "!jupyter nbextension enable ruler/main\n",
    "!jupyter nbextension enable livemdpreview/livemdpreview \n",
    "!jupyter nbextension enable spellchecker/main"
   ]
  },
  {
   "cell_type": "code",
   "execution_count": 22,
   "id": "4b2f5313",
   "metadata": {
    "ExecuteTime": {
     "end_time": "2022-06-02T23:35:55.710906Z",
     "start_time": "2022-06-02T23:35:55.446102Z"
    }
   },
   "outputs": [
    {
     "name": "stdout",
     "output_type": "stream",
     "text": [
      "Known nbextensions:\r\n",
      "  config dir: /Users/codingdojo/.jupyter/nbconfig\r\n",
      "    notebook section\r\n",
      "      nbextensions_configurator/config_menu/main \u001b[32m enabled \u001b[0m\r\n",
      "      - Validating: problems found:\r\n",
      "        - require? \u001b[31m X\u001b[0m nbextensions_configurator/config_menu/main\r\n",
      "      contrib_nbextensions_help_item/main \u001b[32m enabled \u001b[0m\r\n",
      "      - Validating: \u001b[32mOK\u001b[0m\r\n",
      "      jupyter_nbextensions_configurator \u001b[32m enabled \u001b[0m\r\n",
      "      - Validating: problems found:\r\n",
      "        - require? \u001b[31m X\u001b[0m jupyter_nbextensions_configurator\r\n",
      "      toc2/main \u001b[32m enabled \u001b[0m\r\n",
      "      - Validating: \u001b[32mOK\u001b[0m\r\n",
      "      collapsible_headings/main \u001b[32m enabled \u001b[0m\r\n",
      "      - Validating: \u001b[32mOK\u001b[0m\r\n",
      "      ruler/main \u001b[32m enabled \u001b[0m\r\n",
      "      - Validating: \u001b[32mOK\u001b[0m\r\n",
      "      livemdpreview/livemdpreview \u001b[32m enabled \u001b[0m\r\n",
      "      - Validating: \u001b[32mOK\u001b[0m\r\n",
      "      spellchecker/main \u001b[32m enabled \u001b[0m\r\n",
      "      - Validating: \u001b[32mOK\u001b[0m\r\n",
      "      execute_time/ExecuteTime \u001b[31mdisabled\u001b[0m\r\n",
      "    tree section\r\n",
      "      nbextensions_configurator/tree_tab/main \u001b[32m enabled \u001b[0m\r\n",
      "      - Validating: problems found:\r\n",
      "        - require? \u001b[31m X\u001b[0m nbextensions_configurator/tree_tab/main\r\n",
      "  config dir: /opt/homebrew/Caskroom/miniforge/base/envs/dojo-env/etc/jupyter/nbconfig\r\n",
      "    notebook section\r\n",
      "      jupyterlab-plotly/extension \u001b[32m enabled \u001b[0m\r\n",
      "      - Validating: \u001b[32mOK\u001b[0m\r\n",
      "      jupyter-js-widgets/extension \u001b[32m enabled \u001b[0m\r\n",
      "      - Validating: \u001b[32mOK\u001b[0m\r\n"
     ]
    }
   ],
   "source": [
    "## CHeck if nbextensions installed\n",
    "!jupyter nbextension list"
   ]
  },
  {
   "cell_type": "markdown",
   "id": "7807d6f2",
   "metadata": {},
   "source": [
    "## Shell/Terminal"
   ]
  },
  {
   "cell_type": "code",
   "execution_count": 25,
   "id": "98c82413",
   "metadata": {
    "ExecuteTime": {
     "end_time": "2022-06-02T23:35:55.837521Z",
     "start_time": "2022-06-02T23:35:55.713850Z"
    }
   },
   "outputs": [
    {
     "data": {
      "text/plain": [
       "['/bin/zsh']"
      ]
     },
     "execution_count": 25,
     "metadata": {},
     "output_type": "execute_result"
    }
   ],
   "source": [
    "## Which shell - mac users (zsh or bash?)\n",
    "shell = !echo $SHELL\n",
    "shell"
   ]
  },
  {
   "cell_type": "code",
   "execution_count": 24,
   "id": "67795f48",
   "metadata": {
    "ExecuteTime": {
     "end_time": "2022-06-02T23:35:55.973406Z",
     "start_time": "2022-06-02T23:35:55.840131Z"
    }
   },
   "outputs": [
    {
     "name": "stdout",
     "output_type": "stream",
     "text": [
      "/opt/homebrew/bin:/opt/homebrew/sbin:/opt/homebrew/Caskroom/miniforge/base/envs/dojo-env/bin:/usr/local/bin:/usr/bin:/bin:/usr/sbin:/sbin:/Library/Apple/usr/bin\r\n"
     ]
    }
   ],
   "source": [
    "!echo $PATH"
   ]
  },
  {
   "cell_type": "markdown",
   "id": "1cd5defd",
   "metadata": {},
   "source": [
    "### Display the Profile For Your Terminal/GitBash"
   ]
  },
  {
   "cell_type": "code",
   "execution_count": 37,
   "id": "22c56c8c",
   "metadata": {},
   "outputs": [
    {
     "name": "stdout",
     "output_type": "stream",
     "text": [
      "Using .zshrc\n",
      "# >>> conda initialize >>>\n",
      "# !! Contents within this block are managed by 'conda init' !!\n",
      "__conda_setup=\"$('/opt/homebrew/Caskroom/miniforge/base/bin/conda' 'shell.zsh' 'hook' 2> /dev/null)\"\n",
      "if [ $? -eq 0 ]; then\n",
      "    eval \"$__conda_setup\"\n",
      "else\n",
      "    if [ -f \"/opt/homebrew/Caskroom/miniforge/base/etc/profile.d/conda.sh\" ]; then\n",
      "        . \"/opt/homebrew/Caskroom/miniforge/base/etc/profile.d/conda.sh\"\n",
      "    else\n",
      "        export PATH=\"/opt/homebrew/Caskroom/miniforge/base/bin:$PATH\"\n",
      "    fi\n",
      "fi\n",
      "unset __conda_setup\n",
      "# <<< conda initialize <<<\n",
      "\n",
      "export CENSUS_API_KEY=\"3893033f682428f0e5a14542f9c15dae8359a3ff\"\n",
      "\n",
      "\n",
      "alias jnb=\"jupyter notebook\"\n",
      "alias cd_notes=\"cd /Users/codingdojo/Documents/GitHub/_NOTES_REPOS/\"\n",
      "alias cd_curric=\"cd Documents/GitHub/_CURRICULUM/\"\n",
      "alias mysql=\"/usr/local/mysql/bin/mysql\"\n",
      "\n",
      "\n",
      "eval \"$(/opt/homebrew/bin/brew shellenv)\"\n",
      "\n",
      "\n",
      "## Prompt formatting - default = \"\\h:\\W \\u\\$ \"\n",
      "# export PS1=\"\\W \\$ \"\n",
      "export PS1=\"%n %1~ \\$ \"\n",
      "\n",
      "\n",
      "conda activate dojo-env\n",
      "# conda activate dojo-env\n",
      "# export PYTHONPATH=\"$PYTHONPATH:/Users/codingdojo/Documents/GitHub/_CURRICULUM/_BONUS/making-your-own-python-modules-and-package\"\n"
     ]
    }
   ],
   "source": [
    "import os\n",
    "## Checking .bash_profile or .zshrc\n",
    "if 'zsh' in shell[0]:\n",
    "    print(f'[i] Using .zshrc')\n",
    "    fname = r\"~/.zshrc\"\n",
    "else:\n",
    "    print(f'[i] Using .bash_profile')\n",
    "    fname = r\"~/.bash_profile\"\n",
    "    \n",
    "    profile = !cat {fname}\n",
    "print('\\n'.join(profile))"
   ]
  },
  {
   "cell_type": "code",
   "execution_count": null,
   "id": "f0e87e46",
   "metadata": {},
   "outputs": [],
   "source": []
  }
 ],
 "metadata": {
  "kernelspec": {
   "display_name": "Python (dojo-env)",
   "language": "python",
   "name": "dojo-env"
  },
  "language_info": {
   "codemirror_mode": {
    "name": "ipython",
    "version": 3
   },
   "file_extension": ".py",
   "mimetype": "text/x-python",
   "name": "python",
   "nbconvert_exporter": "python",
   "pygments_lexer": "ipython3",
   "version": "3.8.13"
  },
  "toc": {
   "base_numbering": 1,
   "nav_menu": {},
   "number_sections": true,
   "sideBar": true,
   "skip_h1_title": false,
   "title_cell": "Table of Contents",
   "title_sidebar": "Contents",
   "toc_cell": false,
   "toc_position": {},
   "toc_section_display": true,
   "toc_window_display": false
  }
 },
 "nbformat": 4,
 "nbformat_minor": 5
}
