{
 "cells": [
  {
   "cell_type": "markdown",
   "id": "884ad119",
   "metadata": {},
   "source": [
    "# Environment Tester"
   ]
  },
  {
   "cell_type": "markdown",
   "id": "f0f3bcbe",
   "metadata": {},
   "source": [
    "- The following notebook is meant to be a quick summary/verification of your computers environment.\n",
    "- Please run all of the cells to get all of the information displayed. \n",
    "    - Either Press `Shift + Enter` to run each cell \n",
    "    - OR Click on `Kernel`> `Restart & Run All`"
   ]
  },
  {
   "cell_type": "markdown",
   "id": "a6aeb364",
   "metadata": {},
   "source": [
    "## Conda"
   ]
  },
  {
   "cell_type": "code",
   "execution_count": null,
   "id": "01fedf9a",
   "metadata": {},
   "outputs": [],
   "source": [
    "## GET CURRENT ENVIRONMENT INFO\n",
    "%conda info"
   ]
  },
  {
   "cell_type": "code",
   "execution_count": null,
   "id": "e83a69c5",
   "metadata": {},
   "outputs": [],
   "source": [
    "## CHECK PYTHON VERSION (should be 3.7.12)\n",
    "!python --version"
   ]
  },
  {
   "cell_type": "code",
   "execution_count": null,
   "id": "508c0333",
   "metadata": {},
   "outputs": [],
   "source": [
    "## Folder path to python\n",
    "!which python"
   ]
  },
  {
   "cell_type": "markdown",
   "id": "e024806d",
   "metadata": {},
   "source": [
    "## Python Packages"
   ]
  },
  {
   "cell_type": "code",
   "execution_count": null,
   "id": "6fe05fcc",
   "metadata": {},
   "outputs": [],
   "source": [
    "# 1.3.5\n",
    "import pandas as pd\n",
    "pd.__version__"
   ]
  },
  {
   "cell_type": "code",
   "execution_count": null,
   "id": "9948193a",
   "metadata": {},
   "outputs": [],
   "source": [
    "# 1.21.5\n",
    "import numpy as np\n",
    "np.__version__"
   ]
  },
  {
   "cell_type": "code",
   "execution_count": null,
   "id": "c2dd7f0c",
   "metadata": {},
   "outputs": [],
   "source": [
    "# 3.2.2\n",
    "import matplotlib.pyplot as plt\n",
    "import matplotlib as mpl\n",
    "mpl.__version__"
   ]
  },
  {
   "cell_type": "code",
   "execution_count": null,
   "id": "181a1dd9",
   "metadata": {},
   "outputs": [],
   "source": [
    "# 0.11.2\n",
    "import seaborn as sns\n",
    "sns.__version__"
   ]
  },
  {
   "cell_type": "code",
   "execution_count": null,
   "id": "9aa602f4",
   "metadata": {},
   "outputs": [],
   "source": [
    "# 1.0.2\n",
    "import sklearn as sk\n",
    "from sklearn.preprocessing import StandardScaler\n",
    "sk.__version__"
   ]
  },
  {
   "cell_type": "code",
   "execution_count": null,
   "id": "203919a5",
   "metadata": {},
   "outputs": [],
   "source": [
    "# 1.7.3\n",
    "import scipy as sp\n",
    "from scipy import stats\n",
    "sp.__version__"
   ]
  },
  {
   "cell_type": "code",
   "execution_count": null,
   "id": "1abb33c6",
   "metadata": {},
   "outputs": [],
   "source": [
    "# 0.13.2\n",
    "import statsmodels\n",
    "import statsmodels.api as sm\n",
    "statsmodels.__version__"
   ]
  },
  {
   "cell_type": "code",
   "execution_count": null,
   "id": "f5f8d93e",
   "metadata": {},
   "outputs": [],
   "source": [
    "# 1.21.18\n",
    "import boto3\n",
    "boto3.__version__"
   ]
  },
  {
   "cell_type": "code",
   "execution_count": null,
   "id": "20bc3802",
   "metadata": {},
   "outputs": [],
   "source": [
    "# 1.0.2\n",
    "import pymysql\n",
    "pymysql.__version__"
   ]
  },
  {
   "cell_type": "code",
   "execution_count": null,
   "id": "003549e7",
   "metadata": {},
   "outputs": [],
   "source": [
    "## IF USING M1 MAC, IMPORT TENSORFLOW WILL KILL KERNEL!\n",
    "import tensorflow as tf\n",
    "tf.__version__"
   ]
  },
  {
   "cell_type": "markdown",
   "id": "e13c174c",
   "metadata": {},
   "source": [
    "## Jupyter Notebook Extensions"
   ]
  },
  {
   "cell_type": "code",
   "execution_count": null,
   "id": "25b23bf3",
   "metadata": {},
   "outputs": [],
   "source": [
    "# IF THE ABOVE CELL ERROR'D:\n",
    "!pip install jupyter_contrib_nbextensions\n",
    "!jupyter contrib nbextension install --user\n",
    "!jupyter nbextension enable jupyter_nbextensions_configurator"
   ]
  },
  {
   "cell_type": "code",
   "execution_count": null,
   "id": "c6e89862",
   "metadata": {},
   "outputs": [],
   "source": [
    "!jupyter nbextension enable toc2/main\n",
    "!jupyter nbextension enable collapsible_headings/main\n",
    "!jupyter nbextension enable ruler/main\n",
    "!jupyter nbextension enable livemdpreview/livemdpreview \n",
    "!jupyter nbextension enable spellchecker/main"
   ]
  },
  {
   "cell_type": "code",
   "execution_count": null,
   "id": "4b2f5313",
   "metadata": {},
   "outputs": [],
   "source": [
    "## CHeck if nbextensions installed\n",
    "!jupyter nbextension list"
   ]
  },
  {
   "cell_type": "markdown",
   "id": "7807d6f2",
   "metadata": {},
   "source": [
    "## Shell/Terminal"
   ]
  },
  {
   "cell_type": "code",
   "execution_count": null,
   "id": "98c82413",
   "metadata": {},
   "outputs": [],
   "source": [
    "## Which shell - mac users (zsh or bash?)\n",
    "!echo $SHELL"
   ]
  },
  {
   "cell_type": "code",
   "execution_count": null,
   "id": "67795f48",
   "metadata": {},
   "outputs": [],
   "source": [
    "!echo $PATH"
   ]
  }
 ],
 "metadata": {
  "kernelspec": {
   "display_name": "Python (dojo-env)",
   "language": "python",
   "name": "dojo-env"
  },
  "language_info": {
   "codemirror_mode": {
    "name": "ipython",
    "version": 3
   },
   "file_extension": ".py",
   "mimetype": "text/x-python",
   "name": "python",
   "nbconvert_exporter": "python",
   "pygments_lexer": "ipython3",
   "version": "3.7.12"
  },
  "toc": {
   "base_numbering": 1,
   "nav_menu": {},
   "number_sections": true,
   "sideBar": true,
   "skip_h1_title": false,
   "title_cell": "Table of Contents",
   "title_sidebar": "Contents",
   "toc_cell": false,
   "toc_position": {},
   "toc_section_display": true,
   "toc_window_display": false
  }
 },
 "nbformat": 4,
 "nbformat_minor": 5
}
