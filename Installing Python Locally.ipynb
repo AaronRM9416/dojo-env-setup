{
 "cells": [
  {
   "cell_type": "markdown",
   "id": "c5a83c38",
   "metadata": {},
   "source": [
    "# Installing Python Locally"
   ]
  },
  {
   "cell_type": "markdown",
   "id": "5a64968d",
   "metadata": {},
   "source": [
    "## 1. Required Installations"
   ]
  },
  {
   "cell_type": "markdown",
   "id": "39e60460",
   "metadata": {},
   "source": [
    "> Before we install our python environment, we need to take care of a couple requirements. Please make sure to install all of the items listed below before attempting to follow the remaining instructions. \n",
    "\n",
    "1. **A Linux-based bash shell/terminal:**\n",
    "   - Linux users and MacOS users have this built-in to their OS.\n",
    "       - On MacOS, the shell is called Terminal and can be found in `Applications>Utilities` in Finder\n",
    "       - OR you can use spotlight search and search for \"Terminal\".\n",
    "   \n",
    "   \n",
    "   - [ ] **Windows users should install GitBash, instead of using the windows command prompt**\n",
    "       - Otherwise, all of the commands for working with your terminal will not match the curriculum and other cloud-based platforms (like Amazon Web Services)\n",
    "      - Download  the Git for Windows Installer: [Git for Windows download](https://gitforwindows.org/)\n",
    "      - Use the default options.\n",
    "       \n",
    "       \n",
    "\n",
    "        \n",
    "2. **GitHub Desktop** ([Link](https://desktop.github.com/))\n",
    "    - [ ] Download the installer and log into the same github account you have been using for your projects. \n",
    "    - [ ] After installing, open GitHub desktop:\n",
    "        1. Open the Preferences menu\n",
    "            - On Mac: Select `\"GitHub Desktop\"` on the menu bar and then select `Preferences`.\n",
    "            - **On Windows: Click on `File` in the menu bar and then select `Options` **\n",
    "        2. Select the Integrations tab.\n",
    "        3. Make sure the Shell dropdown menu says Terminal (on Mac) or GitBash (on Windows).\n",
    "            - If not, select it from the dropdown menu.\n",
    "        4. Click Save.\n",
    "\n",
    "\n",
    "\n",
    "3. **Anaconda - individual edition.** [Link](https://www.anaconda.com/products/individual)\n",
    "    - Anaconda is a data-science-focused python distributable that comes with a convenient GUI program for working with our python environments.\n",
    "    - Download and run the installer from the link above.\n",
    "    - Use the default options\n",
    "    \n",
    "\n",
    "    \n",
    "    \n",
    "    \n",
    "    \n",
    "4. [Windows Users Only] **Ensuring GitBash Can Find Anaconda.**\n",
    "    - Windows users may need to take an additional step to get anaconda and gitbash working together.\n",
    "    - **Inside a GitBash window, type `conda` and hit enter.**\n",
    "        - **If you see a list of avialable conda commands, great!** You are all set to move on to the \"Setting Up Your `dojo-env`\" step.\n",
    "        - **If you see a message that says: \"bash: conda: command not found\", then follow the instructions below:**\n",
    "        \n",
    "        \n",
    "    - **Instructions for Adding Conda to GitBash:**\n",
    "        - Note:the instructions below are adapted from this [Blog Post](https://fmorenovr.medium.com/how-to-add-conda-to-git-bash-windows-21f5e5987f3d)\n",
    "        1. Once you have installed anaconda, use File Explorer to Open Your **User** folder. \n",
    "            - This is the folder that contains your Desktop, Downloads, My Documents, and other user-specific files. \n",
    "            - Example: `Users/your_name/`\n",
    "            \n",
    "        2. In File Explorer, open the \"`anaconda3`\" folder (note: not the hidden folder called `.anaconda` that starts with a `.`)\n",
    "            - Open the `etc` folder inside the `anaconda3` folder. \n",
    "            - Open the `profile.d` folder inside the `etc` folder. \n",
    "                - You should see a `conda.sh` file in this folder.\n",
    "            - Right click somewhere in the folder and select \"Git Bash Here\" to open a GitBash window in this current directory. \n",
    "\n",
    "        3. From the GitBash window you opened from the `profile.d` folder:\n",
    "            - From your GitBash window, confirm that you are in the `profile.d` folder by typing `pwd` and hit enter. \n",
    "            - If the file path displayed ends with `profile.d` then are in the right folder. \n",
    "            - Enter the following command and hit etner.\n",
    "                - `echo \". '${PWD}'/conda.sh\" >> ~/.bashrc`\n",
    "            \n",
    "        4. Open a new GitBash window and enter `conda` again. You should no longer get the \"bash: conda: command not found\" error message! \n",
    "            -   You are all set to move on to \"Setting Up Your `dojo-env` Environment\"!"
   ]
  },
  {
   "cell_type": "markdown",
   "id": "bb80a483",
   "metadata": {},
   "source": [
    "## 2. Setting Up Your `dojo-env` Environment"
   ]
  },
  {
   "cell_type": "markdown",
   "id": "9042cec2",
   "metadata": {},
   "source": [
    "**We have prepared a special file for you called `environment.yml` which has a collection of all the essential packages we will need**\n",
    "\n",
    "\n",
    "In order to use this file, you will first need to clone this repository to your computer. \n",
    "\n",
    "**1. Make sure you are logged into the same GitHub account on BOTH the github.com website and your local GitHub Desktop application.**\n",
    "\n",
    "2. **Navigate to this repository's web page repo link**: https://github.com/coding-dojo-data-science/dojo-env-setup\n",
    "\n",
    "\n",
    "3. **Click on the green `Code` button and then click `Open in GitHub desktop.`**\n",
    "    - GitHub desktop should open automatically and ask you what folder you would like to store your repository in.\n",
    "    - Note: GitHub Desktop will create a NEW folder INSIDE of the folder you select. \n",
    "        - It will be named the same as the repository name.\n",
    "        \n",
    "        \n",
    "4. **Once have the repository cloned, you will need to open a terminal window in the same directory as this repository.**\n",
    "    - There are 2 ways to do this. \n",
    "        1. From GitHub desktop, make sure the left side bar says \"dojo-env-setup\" in the top-left corner under Current Repository. \n",
    "            - Click on the Repository menu and select `Open in terminal` or `Open in gitbash`.\n",
    "        2. From your terminal, use the change directory command to navigate to the folder where the repo was cloned. (Recommend using option A, as its easier).\n",
    "    - **Once you have your terminal open, type `ls` to see the file contents of your current folder.**\n",
    "        - You should see a file called `environment.yml`. \n",
    "        - If you do not see the folder, check if you see a `dojo-env-setup` folder instead. \n",
    "            - If so, type `cd dojo-env-setup` to navigate into the repo.\n",
    "            - Type `ls` again and confirm you see `environment.yml`.\n",
    "    - **Once you've confirmed you are in the same folder as the `environment.yml` file, type the following command into your terminal.**\n",
    "        - `conda env create -f environment.yml`\n",
    "        - press `enter`\n",
    "    - The installation process will take several minuts. \n",
    "    - You may be asked a Y/N question at some point.\n",
    "        - Say `y` and press enter to continue.\n",
    "        \n",
    "    - Once succesfully installed, you should see a command displayed telling you how to activate your new environment. \n",
    "   \n",
    "    \n",
    "    \n",
    "5. **Confirm your environment was installed and activate it.**\n",
    "    - Type `conda env list` to display the list of your locally installed environments. \n",
    "        - You should see 2 environments:\n",
    "            - `base`\n",
    "            - `dojo-env`\n",
    "    - **Activate your `dojo-env` with `conda activate dojo-env`**\n",
    "    - Note for Windows users: \n",
    "        - if you get an error running `conda activate dojo-env`, try `source activate dojo-env` instead.\n",
    "        \n",
    "        \n",
    "6. **Add your new environment to Jupyter Notebook**\n",
    "    - After activating your `dojo-env`, enter the following command and press enter:\n",
    "    - `python -m ipykernel install --user --name dojo-env --display-name \"Python (dojo-env)\"`\n",
    "\n",
    "        \n",
    "7. **Test your installation of jupyter notebook.**\n",
    "    - In your terminal, type `jupyter notebook`\n",
    "    - Your web browser should open and display a list of files contained within the current directory.\n",
    "    - Note: Your terminal window will be busy whenever it is running jupyter notebook. You will not be able to enter any additional commands in this terminal window while jupyter is running. \n",
    "\n",
    "\n",
    "\n",
    "8. Create a New test notebook.\n",
    "    - In the top-right corner, you should see a `New` button for creating a new notebook.\n",
    "    - Click `New` and select `Python (dojo env)`\n",
    "     \n",
    "    - Note: if you do not see this option listed:\n",
    "        - Quit jupyter notebook by either using the Quit button  OR pressing Control+C in your terminal to force-quit jupyter.\n",
    "        - Make sure your `dojo-env` is activated.\n",
    "        - repeat step 6, adding you new environment to Jupyter Notebook"
   ]
  },
  {
   "cell_type": "markdown",
   "id": "6c028248",
   "metadata": {},
   "source": [
    "# 3. Adding Jupyter Notebook Extensions"
   ]
  },
  {
   "cell_type": "markdown",
   "id": "89faeece",
   "metadata": {},
   "source": [
    "\n",
    "### Jupyter Notebook Extensions Resources\n",
    "- [Documentation](https://jupyter-contrib-nbextensions.readthedocs.io/en/latest/install.html)\n",
    "- [Official `nbextensions` Installation Instructions (also detailed below)](https://jupyter-contrib-nbextensions.readthedocs.io/en/latest/install.html)\n"
   ]
  },
  {
   "cell_type": "markdown",
   "id": "b16bda88",
   "metadata": {},
   "source": [
    "<!-- \n",
    "#### Installation via Conda\n",
    "- **The best way to install is via `conda`** (however, windows users sometimes have issues with the conda installation not working properly).\n",
    "    0. Open your terminal and make sure dojo-env is activated.\n",
    "        - Mac users: `conda activate dojo-env`\n",
    "        - Windows users: `source activate dojo-env`\n",
    "        \n",
    "\n",
    "    1. Install the extensions via conda\n",
    "    ```bash\n",
    "      conda install -c conda-forge jupyter_contrib_nbextensions\n",
    "      ```\n",
    "\n",
    "    2. Activate the extension configurator\n",
    "    ```bash\n",
    "    jupyter nbextension enable jupyter_nbextensions_configurator\n",
    "      ```\n",
    " >- Now, boot up jupyter notebook and look for a new tab called (`nbextensions`) on the jupyter file-explorer view. If its there, great! Move on to the \"Turning on extensions\" section below.\n",
    "      \n",
    "       -->\n",
    "       \n",
    "#### Installing Using Pip    \n",
    "- **Below is an abbreviated version of the official instructions for Installing jupyter-contrib-nbextensions ([Documentation](https://jupyter-contrib-nbextensions.readthedocs.io/en/latest/install.html)):**\n",
    "    1. Install extensions\n",
    "    ```bash\n",
    "    pip install jupyter_contrib_nbextensions\n",
    "    ```\n",
    "    2. Install additional requirements (Install javascript and css file):\n",
    "    ```bash\n",
    "    jupyter contrib nbextension install --user\n",
    "    ```\n",
    "    3. Activate the extension configurator\n",
    "    ```bash\n",
    "    jupyter nbextension enable jupyter_nbextensions_configurator\n",
    "    ```\n",
    ">- Now, boot up jupyter notebook and look for a new tab called (`nbextensions`) on the jupyter file-explorer view. If its there, great! Move on to the \"Turning on extensions\" section below.\n",
    "      "
   ]
  },
  {
   "cell_type": "markdown",
   "id": "328df114",
   "metadata": {},
   "source": [
    "### Turning on extensions\n",
    "\n",
    "- **When you boot up jupyter notebook, there should be a new tab at the top called `nbextensions`.** Click on the tab to open the list of available extensions.\n",
    "\n",
    "\n",
    "- This opens a menu of all of the available extensions with checkboxes to activate them; \n",
    "  - ***NOTE: If the list of available notebook extensions is grayed out:***\n",
    "    - Uncheck \"`disable configuration for nbextensions without explicit compatibility (they may break your notebook environment, but can be useful to show for nbextension development)`\" at the top of the page next to the search box.\n",
    "    \n",
    "    \n",
    "    \n",
    "- **To enable the recommended extensions**:\n",
    "  - Click on the **checkbox** next to the extensions name  \n",
    "  \n",
    "- **To change the settings for an extension**:\n",
    "  - Click on the **name** of the extension to select it. Now, if you scroll down, you should see the list of options for the currently selected extension. \n",
    "  \n",
    "- **Note: any extensions that you enable or settings that you change are *automatically* saved.**"
   ]
  },
  {
   "cell_type": "markdown",
   "id": "3fcc73d7",
   "metadata": {},
   "source": [
    "### Recommended extensions & settings"
   ]
  },
  {
   "cell_type": "markdown",
   "id": "c7869a0d",
   "metadata": {},
   "source": [
    "\n",
    "\n",
    "- `Table of Contents (2)`: \n",
    "    - Clickable sidebar with markdown headers as bookmarks/links.\n",
    "    - Recommended options:\n",
    "        - Change `Maximum level of nested sections to display on the tables of contents` to 3.\n",
    "        -  Check `Display Table of Contents as a sidebar (otherwise as a floating window)`\n",
    "        - Check `Collapse/uncollapse ToC sections when the collapsible_headings nbextension is used to collapse/uncollapse sections in the notebook. For the inverse behaviour, see collapsible_headings' configuration`\n",
    "\n",
    "\n",
    "- `Collapsible Headings`: Collapse sections of your notebook using markdown headers.\n",
    "    - Recommended options: \n",
    "        -  Check 'Collapse/uncollapse notebook sections when the ToC2 nbextension is used to collapse/uncollapse sections in the table of contents. For the inverse behaviour, see ToC2's configuration' at towards the bottom of the options.\n",
    "\n",
    "\n",
    "<!-- - `Codefolding`: Lets you collapse function definitions and blocks of code. \n",
    " -->\n",
    "\n",
    "- `Live Markdown Preview`: Shows a preview of what the markdown cell you are editing will look like once you render it with Shift+Enter\n",
    "    - Recommended options:\n",
    "        - Check `Show the input & output of markdown cells side-by-side while editing them.`\n",
    "\n",
    "- `Ruler` (not Ruler in Editor)\n",
    "- `spellchecker`\n",
    "\n",
    "<!-- \n",
    "- `Variable Inspector` (but warning/caveat): \n",
    "    - Lets you see details about all of the variables in your notebook.\n",
    "    - HUGELY helpful for new coders.\n",
    "    - Recommended options:\n",
    "        - `Display window at startup` (for now while you are learning python)\n",
    " -->"
   ]
  },
  {
   "cell_type": "markdown",
   "id": "4b8e047e",
   "metadata": {},
   "source": [
    "## 4. Setting `dojo-env` as your default "
   ]
  },
  {
   "cell_type": "markdown",
   "id": "8da8fdf0",
   "metadata": {},
   "source": [
    "### Mac\n",
    "On a Mac, we need to first see what shell you're running in your terminal. Run `echo $SHELL.`\n",
    "\n",
    "- **If the response ends in `bash`:**\n",
    "    - run `echo \"conda activate dojo-env\" >> ~/.bash_profile` to add the configuration to your bash profile\n",
    "    - run `source ~/.bash_profile` to activate the changes you just made\n",
    "\n",
    "\n",
    "- **If the response ends in `zsh`:**\n",
    "\n",
    "    - run `echo \"conda activate dojo-env\" >> ~/.zshrc` to add the configuration to your bash profile\n",
    "    - run `source ~/.zshrc` to activate the changes you just made"
   ]
  },
  {
   "cell_type": "markdown",
   "id": "1fd0f4b2",
   "metadata": {},
   "source": [
    "### Windows\n",
    "Make sure you have installed GitBash, per the instructions above.\n",
    "\n",
    "- Run `touch ~/.bash_profile` to create a new file.\n",
    "\n",
    "\n",
    "- Add the environment activation command.\n",
    "    - Depending on if gitbash allowed you to run `conda activate dojo-env` or if you had to use `source activate dojo-env`:\n",
    "    - **If you were able to run `conda activate dojo-env`**:\n",
    "        - Run `echo \"conda activate dojo-env\" >> ~/.bash_profile` to add the configuration to your bash profile \n",
    "    - **If you had to run `source activate dojo-env`**:\n",
    "        - Run `echo \"source activate dojo-env\" >> ~/.bash_profile` to add the configuration to your bash profile\n",
    "\n",
    "\n",
    "- Run `source ~/.bash_profile` to activate the changes you just made"
   ]
  },
  {
   "cell_type": "markdown",
   "id": "37298e81",
   "metadata": {},
   "source": [
    "## Additional Recommend App Installations\n"
   ]
  },
  {
   "cell_type": "markdown",
   "id": "cf370cd2",
   "metadata": {},
   "source": [
    "- While not explicitly *necessary*, it is strongly recommend you install a text editor for code. \n",
    "    - [ ] [SublimeText](https://www.sublimetext.com/): Great lightweight text editor with some convenient features. |\n",
    "        - This program will make it easier to work with code-related files that would be difficult to work with if you use your OS's default text editor. \n",
    "        - Note: if you already have something like VS Code installed, that will be sufficient\n",
    "    \n",
    "\n"
   ]
  },
  {
   "cell_type": "markdown",
   "id": "ba4ac9a9",
   "metadata": {},
   "source": [
    "# APPENDIX"
   ]
  },
  {
   "cell_type": "markdown",
   "id": "d06eb57e",
   "metadata": {},
   "source": [
    "## What to do if your environment breaks and you need to re-install it."
   ]
  },
  {
   "cell_type": "markdown",
   "id": "5259b99b",
   "metadata": {},
   "source": [
    "- It is not uncommon to accidentally break our virtual environment by isntalling a new package or updating a pre-existing one. \n",
    "- In the event your environment stops working and it needs to be re-installed: \n",
    "\t1. open your terminal/gitbash and deactivate your `dojo-env`:\n",
    "\t\t- Type `conda activate base` or `conda deactivate` and press enter. \n",
    "\t\t- Your terminal should now say `(base)` with your promit instead of `(dojo-env)`.\n",
    "\t2. Remove the broken `dojo-env` using the command:\n",
    "\t\t- `conda remove --name dojo-env --all`\n",
    "\t\t- enter `y` to approve the removal of the environment and hit enter. \n",
    "\t\n",
    "\t3. Wait for the env to be removed.\n",
    "\t\t- This will delete all of the files associated with JUST our `dojo-env`. So anconda will still be installed, we will just need to re-install our `dojo-env`.\n",
    "\t4. Once its completed, use this repository's environment file to set up the `dojo-env` again. \n",
    "\t\t- Repeat the environment installation commands from the \"Setting Up Your `dojo-env` Environment\" section above. "
   ]
  },
  {
   "cell_type": "markdown",
   "id": "c9af4754",
   "metadata": {},
   "source": [
    "## Showing Hidden Files"
   ]
  },
  {
   "cell_type": "markdown",
   "id": "d8597442",
   "metadata": {},
   "source": [
    "- Windows Users: \n",
    "    - Turn on View Hidden Files and Folders in your File Explorer menu:\n",
    "        - [Microsoft Support Article](https://support.microsoft.com/en-us/windows/view-hidden-files-and-folders-in-windows-10-97fbc472-c603-9d90-91d0-1166d1d9f4b5#:~:text=Open%20File%20Explorer%20from%20the,folders%2C%20and%20drives%20and%20OK.)\n",
    "        \n",
    "    - On the same settings page, also deselect \"Hide extensions for known file types and click OK.\"\n",
    "    \n",
    "    \n",
    "- Mac Users:\n",
    "    - Use this keyboard shortcut from inside finder:\n",
    "    `Cmd+Shift+.`\n",
    "    - Use it again to hide hidden files. "
   ]
  },
  {
   "cell_type": "code",
   "execution_count": null,
   "id": "b7703a83",
   "metadata": {},
   "outputs": [],
   "source": []
  }
 ],
 "metadata": {
  "kernelspec": {
   "display_name": "Python (dojo-env)",
   "language": "python",
   "name": "dojo-env"
  },
  "language_info": {
   "codemirror_mode": {
    "name": "ipython",
    "version": 3
   },
   "file_extension": ".py",
   "mimetype": "text/x-python",
   "name": "python",
   "nbconvert_exporter": "python",
   "pygments_lexer": "ipython3",
   "version": "3.7.11"
  },
  "toc": {
   "base_numbering": 1,
   "nav_menu": {},
   "number_sections": false,
   "sideBar": true,
   "skip_h1_title": false,
   "title_cell": "Table of Contents",
   "title_sidebar": "Contents",
   "toc_cell": false,
   "toc_position": {},
   "toc_section_display": true,
   "toc_window_display": true
  }
 },
 "nbformat": 4,
 "nbformat_minor": 5
}
