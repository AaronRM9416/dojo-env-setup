{
 "cells": [
  {
   "cell_type": "markdown",
   "metadata": {},
   "source": [
    "# Windows"
   ]
  },
  {
   "cell_type": "markdown",
   "metadata": {},
   "source": [
    ">Note: make sure the notebook says \"Python(dojo-env)\" on the top right of jupyter, right below the logout buton.\n",
    "\n",
    "- Run this full notebook and take note of where you receive an error. \n",
    "- If it doesn't, click on the Kernel menu > Change Kernel > Python(dojo-env).\n",
    "\n",
    "- If you receive an error, skip the cell that error'd and continuing running the cells below.\n",
    "- Continue until you have run all of the installation commands successfully. \n",
    "- Save this notebook to share with your instructor for troubleshooting."
   ]
  },
  {
   "cell_type": "code",
   "execution_count": 1,
   "metadata": {},
   "outputs": [
    {
     "name": "stdout",
     "output_type": "stream",
     "text": [
      "Requirement already satisfied: nbdime in c:\\users\\aaron\\anaconda3\\envs\\dojo-env\\lib\\site-packages (3.1.1)\n",
      "Requirement already satisfied: nbformat in c:\\users\\aaron\\anaconda3\\envs\\dojo-env\\lib\\site-packages (from nbdime) (5.6.1)\n",
      "Requirement already satisfied: GitPython!=2.1.4,!=2.1.5,!=2.1.6 in c:\\users\\aaron\\anaconda3\\envs\\dojo-env\\lib\\site-packages (from nbdime) (3.1.28)\n",
      "Requirement already satisfied: jinja2>=2.9 in c:\\users\\aaron\\anaconda3\\envs\\dojo-env\\lib\\site-packages (from nbdime) (3.1.2)\n",
      "Requirement already satisfied: colorama in c:\\users\\aaron\\anaconda3\\envs\\dojo-env\\lib\\site-packages (from nbdime) (0.4.5)\n",
      "Requirement already satisfied: jupyter-server-mathjax>=0.2.2 in c:\\users\\aaron\\anaconda3\\envs\\dojo-env\\lib\\site-packages (from nbdime) (0.2.6)\n",
      "Requirement already satisfied: tornado in c:\\users\\aaron\\anaconda3\\envs\\dojo-env\\lib\\site-packages (from nbdime) (6.2)\n",
      "Requirement already satisfied: jupyter-server in c:\\users\\aaron\\anaconda3\\envs\\dojo-env\\lib\\site-packages (from nbdime) (1.19.1)\n",
      "Requirement already satisfied: requests in c:\\users\\aaron\\anaconda3\\envs\\dojo-env\\lib\\site-packages (from nbdime) (2.28.1)\n",
      "Requirement already satisfied: pygments in c:\\users\\aaron\\anaconda3\\envs\\dojo-env\\lib\\site-packages (from nbdime) (2.13.0)\n",
      "Requirement already satisfied: gitdb<5,>=4.0.1 in c:\\users\\aaron\\anaconda3\\envs\\dojo-env\\lib\\site-packages (from GitPython!=2.1.4,!=2.1.5,!=2.1.6->nbdime) (4.0.9)\n",
      "Requirement already satisfied: MarkupSafe>=2.0 in c:\\users\\aaron\\anaconda3\\envs\\dojo-env\\lib\\site-packages (from jinja2>=2.9->nbdime) (2.1.1)\n",
      "Requirement already satisfied: terminado>=0.8.3 in c:\\users\\aaron\\anaconda3\\envs\\dojo-env\\lib\\site-packages (from jupyter-server->nbdime) (0.16.0)\n",
      "Requirement already satisfied: jupyter-core>=4.7.0 in c:\\users\\aaron\\anaconda3\\envs\\dojo-env\\lib\\site-packages (from jupyter-server->nbdime) (4.11.1)\n",
      "Requirement already satisfied: Send2Trash in c:\\users\\aaron\\anaconda3\\envs\\dojo-env\\lib\\site-packages (from jupyter-server->nbdime) (1.8.0)\n",
      "Requirement already satisfied: packaging in c:\\users\\aaron\\anaconda3\\envs\\dojo-env\\lib\\site-packages (from jupyter-server->nbdime) (21.3)\n",
      "Requirement already satisfied: jupyter-client>=6.1.12 in c:\\users\\aaron\\anaconda3\\envs\\dojo-env\\lib\\site-packages (from jupyter-server->nbdime) (7.3.5)\n",
      "Requirement already satisfied: pyzmq>=17 in c:\\users\\aaron\\anaconda3\\envs\\dojo-env\\lib\\site-packages (from jupyter-server->nbdime) (24.0.1)\n",
      "Requirement already satisfied: anyio<4,>=3.1.0 in c:\\users\\aaron\\anaconda3\\envs\\dojo-env\\lib\\site-packages (from jupyter-server->nbdime) (3.6.1)\n",
      "Requirement already satisfied: nbconvert>=6.4.4 in c:\\users\\aaron\\anaconda3\\envs\\dojo-env\\lib\\site-packages (from jupyter-server->nbdime) (6.5.0)\n",
      "Requirement already satisfied: prometheus-client in c:\\users\\aaron\\anaconda3\\envs\\dojo-env\\lib\\site-packages (from jupyter-server->nbdime) (0.14.1)\n",
      "Requirement already satisfied: websocket-client in c:\\users\\aaron\\anaconda3\\envs\\dojo-env\\lib\\site-packages (from jupyter-server->nbdime) (1.4.1)\n",
      "Requirement already satisfied: pywinpty in c:\\users\\aaron\\anaconda3\\envs\\dojo-env\\lib\\site-packages (from jupyter-server->nbdime) (2.0.8)\n",
      "Requirement already satisfied: argon2-cffi in c:\\users\\aaron\\anaconda3\\envs\\dojo-env\\lib\\site-packages (from jupyter-server->nbdime) (21.3.0)\n",
      "Requirement already satisfied: traitlets>=5.1 in c:\\users\\aaron\\anaconda3\\envs\\dojo-env\\lib\\site-packages (from jupyter-server->nbdime) (5.4.0)\n",
      "Requirement already satisfied: fastjsonschema in c:\\users\\aaron\\anaconda3\\envs\\dojo-env\\lib\\site-packages (from nbformat->nbdime) (2.16.2)\n",
      "Requirement already satisfied: jsonschema>=2.6 in c:\\users\\aaron\\anaconda3\\envs\\dojo-env\\lib\\site-packages (from nbformat->nbdime) (4.16.0)\n",
      "Requirement already satisfied: certifi>=2017.4.17 in c:\\users\\aaron\\anaconda3\\envs\\dojo-env\\lib\\site-packages (from requests->nbdime) (2022.9.24)\n",
      "Requirement already satisfied: charset-normalizer<3,>=2 in c:\\users\\aaron\\anaconda3\\envs\\dojo-env\\lib\\site-packages (from requests->nbdime) (2.1.1)\n",
      "Requirement already satisfied: idna<4,>=2.5 in c:\\users\\aaron\\anaconda3\\envs\\dojo-env\\lib\\site-packages (from requests->nbdime) (3.3)\n",
      "Requirement already satisfied: urllib3<1.27,>=1.21.1 in c:\\users\\aaron\\anaconda3\\envs\\dojo-env\\lib\\site-packages (from requests->nbdime) (1.26.8)\n",
      "Requirement already satisfied: sniffio>=1.1 in c:\\users\\aaron\\anaconda3\\envs\\dojo-env\\lib\\site-packages (from anyio<4,>=3.1.0->jupyter-server->nbdime) (1.3.0)\n",
      "Requirement already satisfied: smmap<6,>=3.0.1 in c:\\users\\aaron\\anaconda3\\envs\\dojo-env\\lib\\site-packages (from gitdb<5,>=4.0.1->GitPython!=2.1.4,!=2.1.5,!=2.1.6->nbdime) (5.0.0)\n",
      "Requirement already satisfied: attrs>=17.4.0 in c:\\users\\aaron\\anaconda3\\envs\\dojo-env\\lib\\site-packages (from jsonschema>=2.6->nbformat->nbdime) (22.1.0)\n",
      "Requirement already satisfied: importlib-resources>=1.4.0 in c:\\users\\aaron\\anaconda3\\envs\\dojo-env\\lib\\site-packages (from jsonschema>=2.6->nbformat->nbdime) (5.9.0)\n",
      "Requirement already satisfied: pkgutil-resolve-name>=1.3.10 in c:\\users\\aaron\\anaconda3\\envs\\dojo-env\\lib\\site-packages (from jsonschema>=2.6->nbformat->nbdime) (1.3.10)\n",
      "Requirement already satisfied: pyrsistent!=0.17.0,!=0.17.1,!=0.17.2,>=0.14.0 in c:\\users\\aaron\\anaconda3\\envs\\dojo-env\\lib\\site-packages (from jsonschema>=2.6->nbformat->nbdime) (0.18.1)\n",
      "Requirement already satisfied: python-dateutil>=2.8.2 in c:\\users\\aaron\\anaconda3\\envs\\dojo-env\\lib\\site-packages (from jupyter-client>=6.1.12->jupyter-server->nbdime) (2.8.2)\n",
      "Requirement already satisfied: entrypoints in c:\\users\\aaron\\anaconda3\\envs\\dojo-env\\lib\\site-packages (from jupyter-client>=6.1.12->jupyter-server->nbdime) (0.4)\n",
      "Requirement already satisfied: nest-asyncio>=1.5.4 in c:\\users\\aaron\\anaconda3\\envs\\dojo-env\\lib\\site-packages (from jupyter-client>=6.1.12->jupyter-server->nbdime) (1.5.6)\n",
      "Requirement already satisfied: pywin32>=1.0 in c:\\users\\aaron\\anaconda3\\envs\\dojo-env\\lib\\site-packages (from jupyter-core>=4.7.0->jupyter-server->nbdime) (303)\n",
      "Requirement already satisfied: pandocfilters>=1.4.1 in c:\\users\\aaron\\anaconda3\\envs\\dojo-env\\lib\\site-packages (from nbconvert>=6.4.4->jupyter-server->nbdime) (1.5.0)\n",
      "Requirement already satisfied: mistune<2,>=0.8.1 in c:\\users\\aaron\\anaconda3\\envs\\dojo-env\\lib\\site-packages (from nbconvert>=6.4.4->jupyter-server->nbdime) (0.8.4)\n",
      "Requirement already satisfied: beautifulsoup4 in c:\\users\\aaron\\anaconda3\\envs\\dojo-env\\lib\\site-packages (from nbconvert>=6.4.4->jupyter-server->nbdime) (4.11.1)\n",
      "Requirement already satisfied: nbclient>=0.5.0 in c:\\users\\aaron\\anaconda3\\envs\\dojo-env\\lib\\site-packages (from nbconvert>=6.4.4->jupyter-server->nbdime) (0.6.8)\n",
      "Requirement already satisfied: jupyterlab-pygments in c:\\users\\aaron\\anaconda3\\envs\\dojo-env\\lib\\site-packages (from nbconvert>=6.4.4->jupyter-server->nbdime) (0.2.2)\n",
      "Requirement already satisfied: defusedxml in c:\\users\\aaron\\anaconda3\\envs\\dojo-env\\lib\\site-packages (from nbconvert>=6.4.4->jupyter-server->nbdime) (0.7.1)\n",
      "Requirement already satisfied: tinycss2 in c:\\users\\aaron\\anaconda3\\envs\\dojo-env\\lib\\site-packages (from nbconvert>=6.4.4->jupyter-server->nbdime) (1.1.1)\n",
      "Requirement already satisfied: bleach in c:\\users\\aaron\\anaconda3\\envs\\dojo-env\\lib\\site-packages (from nbconvert>=6.4.4->jupyter-server->nbdime) (5.0.1)\n",
      "Requirement already satisfied: argon2-cffi-bindings in c:\\users\\aaron\\anaconda3\\envs\\dojo-env\\lib\\site-packages (from argon2-cffi->jupyter-server->nbdime) (21.2.0)\n",
      "Requirement already satisfied: pyparsing!=3.0.5,>=2.0.2 in c:\\users\\aaron\\anaconda3\\envs\\dojo-env\\lib\\site-packages (from packaging->jupyter-server->nbdime) (3.0.9)\n",
      "Requirement already satisfied: zipp>=3.1.0 in c:\\users\\aaron\\anaconda3\\envs\\dojo-env\\lib\\site-packages (from importlib-resources>=1.4.0->jsonschema>=2.6->nbformat->nbdime) (3.8.1)\n",
      "Requirement already satisfied: six>=1.5 in c:\\users\\aaron\\anaconda3\\envs\\dojo-env\\lib\\site-packages (from python-dateutil>=2.8.2->jupyter-client>=6.1.12->jupyter-server->nbdime) (1.16.0)\n",
      "Requirement already satisfied: cffi>=1.0.1 in c:\\users\\aaron\\anaconda3\\envs\\dojo-env\\lib\\site-packages (from argon2-cffi-bindings->argon2-cffi->jupyter-server->nbdime) (1.15.1)\n",
      "Requirement already satisfied: soupsieve>1.2 in c:\\users\\aaron\\anaconda3\\envs\\dojo-env\\lib\\site-packages (from beautifulsoup4->nbconvert>=6.4.4->jupyter-server->nbdime) (2.3.1)\n",
      "Requirement already satisfied: webencodings in c:\\users\\aaron\\anaconda3\\envs\\dojo-env\\lib\\site-packages (from bleach->nbconvert>=6.4.4->jupyter-server->nbdime) (0.5.1)\n",
      "Requirement already satisfied: pycparser in c:\\users\\aaron\\anaconda3\\envs\\dojo-env\\lib\\site-packages (from cffi>=1.0.1->argon2-cffi-bindings->argon2-cffi->jupyter-server->nbdime) (2.21)\n"
     ]
    }
   ],
   "source": [
    "!pip install nbdime --user\n"
   ]
  },
  {
   "cell_type": "code",
   "execution_count": 2,
   "metadata": {},
   "outputs": [
    {
     "name": "stdout",
     "output_type": "stream",
     "text": [
      "Requirement already satisfied: beautifulsoup4==4.11.1 in c:\\users\\aaron\\anaconda3\\envs\\dojo-env\\lib\\site-packages (4.11.1)\n",
      "Requirement already satisfied: soupsieve>1.2 in c:\\users\\aaron\\anaconda3\\envs\\dojo-env\\lib\\site-packages (from beautifulsoup4==4.11.1) (2.3.1)\n"
     ]
    }
   ],
   "source": [
    "!pip install beautifulsoup4==4.11.1 --user\n"
   ]
  },
  {
   "cell_type": "code",
   "execution_count": 3,
   "metadata": {},
   "outputs": [
    {
     "name": "stdout",
     "output_type": "stream",
     "text": [
      "Requirement already satisfied: bs4 in c:\\users\\aaron\\anaconda3\\envs\\dojo-env\\lib\\site-packages (0.0.1)\n",
      "Requirement already satisfied: beautifulsoup4 in c:\\users\\aaron\\anaconda3\\envs\\dojo-env\\lib\\site-packages (from bs4) (4.11.1)\n",
      "Requirement already satisfied: soupsieve>1.2 in c:\\users\\aaron\\anaconda3\\envs\\dojo-env\\lib\\site-packages (from beautifulsoup4->bs4) (2.3.1)\n"
     ]
    }
   ],
   "source": [
    "!pip install bs4 --user\n"
   ]
  },
  {
   "cell_type": "code",
   "execution_count": 4,
   "metadata": {},
   "outputs": [
    {
     "name": "stdout",
     "output_type": "stream",
     "text": [
      "Requirement already satisfied: cycler==0.11.0 in c:\\users\\aaron\\anaconda3\\envs\\dojo-env\\lib\\site-packages (0.11.0)\n"
     ]
    }
   ],
   "source": [
    "!pip install cycler==0.11.0 --user\n"
   ]
  },
  {
   "cell_type": "code",
   "execution_count": 5,
   "metadata": {},
   "outputs": [
    {
     "name": "stdout",
     "output_type": "stream",
     "text": [
      "Requirement already satisfied: fonttools==4.29.1 in c:\\users\\aaron\\anaconda3\\envs\\dojo-env\\lib\\site-packages (4.29.1)\n"
     ]
    }
   ],
   "source": [
    "!pip install fonttools==4.29.1 --user\n"
   ]
  },
  {
   "cell_type": "code",
   "execution_count": 6,
   "metadata": {},
   "outputs": [
    {
     "name": "stdout",
     "output_type": "stream",
     "text": [
      "Requirement already satisfied: geopy==2.2.0 in c:\\users\\aaron\\anaconda3\\envs\\dojo-env\\lib\\site-packages (2.2.0)\n",
      "Requirement already satisfied: geographiclib<2,>=1.49 in c:\\users\\aaron\\anaconda3\\envs\\dojo-env\\lib\\site-packages (from geopy==2.2.0) (1.52)\n"
     ]
    }
   ],
   "source": [
    "!pip install geopy==2.2.0 --user\n"
   ]
  },
  {
   "cell_type": "code",
   "execution_count": 7,
   "metadata": {},
   "outputs": [
    {
     "name": "stdout",
     "output_type": "stream",
     "text": [
      "Requirement already satisfied: idna==3.3 in c:\\users\\aaron\\anaconda3\\envs\\dojo-env\\lib\\site-packages (3.3)\n"
     ]
    }
   ],
   "source": [
    "!pip install idna==3.3 --user\n"
   ]
  },
  {
   "cell_type": "code",
   "execution_count": 8,
   "metadata": {},
   "outputs": [
    {
     "name": "stdout",
     "output_type": "stream",
     "text": [
      "Requirement already satisfied: interpret==0.2.7 in c:\\users\\aaron\\anaconda3\\envs\\dojo-env\\lib\\site-packages (0.2.7)\n",
      "Requirement already satisfied: interpret-core[dash,debug,decisiontree,ebm,lime,linear,notebook,plotly,required,sensitivity,shap,skoperules,treeinterpreter]>=0.2.7 in c:\\users\\aaron\\anaconda3\\envs\\dojo-env\\lib\\site-packages (from interpret==0.2.7) (0.2.7)\n",
      "Requirement already satisfied: dill>=0.2.5 in c:\\users\\aaron\\anaconda3\\envs\\dojo-env\\lib\\site-packages (from interpret-core[dash,debug,decisiontree,ebm,lime,linear,notebook,plotly,required,sensitivity,shap,skoperules,treeinterpreter]>=0.2.7->interpret==0.2.7) (0.3.5.1)\n",
      "Requirement already satisfied: shap>=0.28.5 in c:\\users\\aaron\\anaconda3\\envs\\dojo-env\\lib\\site-packages (from interpret-core[dash,debug,decisiontree,ebm,lime,linear,notebook,plotly,required,sensitivity,shap,skoperules,treeinterpreter]>=0.2.7->interpret==0.2.7) (0.41.0)\n",
      "Requirement already satisfied: joblib>=0.11 in c:\\users\\aaron\\anaconda3\\envs\\dojo-env\\lib\\site-packages (from interpret-core[dash,debug,decisiontree,ebm,lime,linear,notebook,plotly,required,sensitivity,shap,skoperules,treeinterpreter]>=0.2.7->interpret==0.2.7) (1.2.0)\n",
      "Requirement already satisfied: scikit-learn>=0.18.1 in c:\\users\\aaron\\anaconda3\\envs\\dojo-env\\lib\\site-packages (from interpret-core[dash,debug,decisiontree,ebm,lime,linear,notebook,plotly,required,sensitivity,shap,skoperules,treeinterpreter]>=0.2.7->interpret==0.2.7) (1.1.2)\n",
      "Requirement already satisfied: pandas>=0.19.2 in c:\\users\\aaron\\anaconda3\\envs\\dojo-env\\lib\\site-packages (from interpret-core[dash,debug,decisiontree,ebm,lime,linear,notebook,plotly,required,sensitivity,shap,skoperules,treeinterpreter]>=0.2.7->interpret==0.2.7) (1.4.2)\n",
      "Requirement already satisfied: numpy>=1.11.1 in c:\\users\\aaron\\anaconda3\\envs\\dojo-env\\lib\\site-packages (from interpret-core[dash,debug,decisiontree,ebm,lime,linear,notebook,plotly,required,sensitivity,shap,skoperules,treeinterpreter]>=0.2.7->interpret==0.2.7) (1.22.4)\n",
      "Requirement already satisfied: scipy>=0.18.1 in c:\\users\\aaron\\anaconda3\\envs\\dojo-env\\lib\\site-packages (from interpret-core[dash,debug,decisiontree,ebm,lime,linear,notebook,plotly,required,sensitivity,shap,skoperules,treeinterpreter]>=0.2.7->interpret==0.2.7) (1.8.1)\n",
      "Requirement already satisfied: treeinterpreter>=0.2.2 in c:\\users\\aaron\\anaconda3\\envs\\dojo-env\\lib\\site-packages (from interpret-core[dash,debug,decisiontree,ebm,lime,linear,notebook,plotly,required,sensitivity,shap,skoperules,treeinterpreter]>=0.2.7->interpret==0.2.7) (0.2.3)\n",
      "Requirement already satisfied: lime>=0.1.1.33 in c:\\users\\aaron\\anaconda3\\envs\\dojo-env\\lib\\site-packages (from interpret-core[dash,debug,decisiontree,ebm,lime,linear,notebook,plotly,required,sensitivity,shap,skoperules,treeinterpreter]>=0.2.7->interpret==0.2.7) (0.2.0.1)\n",
      "Requirement already satisfied: psutil>=5.6.2 in c:\\users\\aaron\\anaconda3\\envs\\dojo-env\\lib\\site-packages (from interpret-core[dash,debug,decisiontree,ebm,lime,linear,notebook,plotly,required,sensitivity,shap,skoperules,treeinterpreter]>=0.2.7->interpret==0.2.7) (5.9.2)\n",
      "Requirement already satisfied: skope-rules>=1.0.1 in c:\\users\\aaron\\anaconda3\\envs\\dojo-env\\lib\\site-packages (from interpret-core[dash,debug,decisiontree,ebm,lime,linear,notebook,plotly,required,sensitivity,shap,skoperules,treeinterpreter]>=0.2.7->interpret==0.2.7) (1.0.1)\n",
      "Requirement already satisfied: ipykernel>=5.1.0 in c:\\users\\aaron\\anaconda3\\envs\\dojo-env\\lib\\site-packages (from interpret-core[dash,debug,decisiontree,ebm,lime,linear,notebook,plotly,required,sensitivity,shap,skoperules,treeinterpreter]>=0.2.7->interpret==0.2.7) (6.16.0)\n",
      "Requirement already satisfied: ipython>=7.4.0 in c:\\users\\aaron\\anaconda3\\envs\\dojo-env\\lib\\site-packages (from interpret-core[dash,debug,decisiontree,ebm,lime,linear,notebook,plotly,required,sensitivity,shap,skoperules,treeinterpreter]>=0.2.7->interpret==0.2.7) (8.5.0)\n",
      "Requirement already satisfied: plotly>=3.8.1 in c:\\users\\aaron\\anaconda3\\envs\\dojo-env\\lib\\site-packages (from interpret-core[dash,debug,decisiontree,ebm,lime,linear,notebook,plotly,required,sensitivity,shap,skoperules,treeinterpreter]>=0.2.7->interpret==0.2.7) (5.8.2)\n",
      "Requirement already satisfied: dash>=1.0.0 in c:\\users\\aaron\\anaconda3\\envs\\dojo-env\\lib\\site-packages (from interpret-core[dash,debug,decisiontree,ebm,lime,linear,notebook,plotly,required,sensitivity,shap,skoperules,treeinterpreter]>=0.2.7->interpret==0.2.7) (2.6.2)\n",
      "Requirement already satisfied: dash-cytoscape>=0.1.1 in c:\\users\\aaron\\anaconda3\\envs\\dojo-env\\lib\\site-packages (from interpret-core[dash,debug,decisiontree,ebm,lime,linear,notebook,plotly,required,sensitivity,shap,skoperules,treeinterpreter]>=0.2.7->interpret==0.2.7) (0.3.0)\n",
      "Requirement already satisfied: gevent>=1.3.6 in c:\\users\\aaron\\anaconda3\\envs\\dojo-env\\lib\\site-packages (from interpret-core[dash,debug,decisiontree,ebm,lime,linear,notebook,plotly,required,sensitivity,shap,skoperules,treeinterpreter]>=0.2.7->interpret==0.2.7) (21.12.0)\n",
      "Requirement already satisfied: dash-table>=4.1.0 in c:\\users\\aaron\\anaconda3\\envs\\dojo-env\\lib\\site-packages (from interpret-core[dash,debug,decisiontree,ebm,lime,linear,notebook,plotly,required,sensitivity,shap,skoperules,treeinterpreter]>=0.2.7->interpret==0.2.7) (5.0.0)\n",
      "Requirement already satisfied: requests>=2.19.0 in c:\\users\\aaron\\anaconda3\\envs\\dojo-env\\lib\\site-packages (from interpret-core[dash,debug,decisiontree,ebm,lime,linear,notebook,plotly,required,sensitivity,shap,skoperules,treeinterpreter]>=0.2.7->interpret==0.2.7) (2.28.1)\n",
      "Requirement already satisfied: SALib>=1.3.3 in c:\\users\\aaron\\anaconda3\\envs\\dojo-env\\lib\\site-packages (from interpret-core[dash,debug,decisiontree,ebm,lime,linear,notebook,plotly,required,sensitivity,shap,skoperules,treeinterpreter]>=0.2.7->interpret==0.2.7) (1.4.6)\n",
      "Requirement already satisfied: flask-compress in c:\\users\\aaron\\anaconda3\\envs\\dojo-env\\lib\\site-packages (from dash>=1.0.0->interpret-core[dash,debug,decisiontree,ebm,lime,linear,notebook,plotly,required,sensitivity,shap,skoperules,treeinterpreter]>=0.2.7->interpret==0.2.7) (1.13)\n",
      "Requirement already satisfied: dash-core-components==2.0.0 in c:\\users\\aaron\\anaconda3\\envs\\dojo-env\\lib\\site-packages (from dash>=1.0.0->interpret-core[dash,debug,decisiontree,ebm,lime,linear,notebook,plotly,required,sensitivity,shap,skoperules,treeinterpreter]>=0.2.7->interpret==0.2.7) (2.0.0)\n",
      "Requirement already satisfied: dash-html-components==2.0.0 in c:\\users\\aaron\\anaconda3\\envs\\dojo-env\\lib\\site-packages (from dash>=1.0.0->interpret-core[dash,debug,decisiontree,ebm,lime,linear,notebook,plotly,required,sensitivity,shap,skoperules,treeinterpreter]>=0.2.7->interpret==0.2.7) (2.0.0)\n",
      "Requirement already satisfied: Flask>=1.0.4 in c:\\users\\aaron\\anaconda3\\envs\\dojo-env\\lib\\site-packages (from dash>=1.0.0->interpret-core[dash,debug,decisiontree,ebm,lime,linear,notebook,plotly,required,sensitivity,shap,skoperules,treeinterpreter]>=0.2.7->interpret==0.2.7) (2.2.2)\n",
      "Requirement already satisfied: setuptools in c:\\users\\aaron\\anaconda3\\envs\\dojo-env\\lib\\site-packages (from gevent>=1.3.6->interpret-core[dash,debug,decisiontree,ebm,lime,linear,notebook,plotly,required,sensitivity,shap,skoperules,treeinterpreter]>=0.2.7->interpret==0.2.7) (65.4.1)\n",
      "Requirement already satisfied: cffi>=1.12.2 in c:\\users\\aaron\\anaconda3\\envs\\dojo-env\\lib\\site-packages (from gevent>=1.3.6->interpret-core[dash,debug,decisiontree,ebm,lime,linear,notebook,plotly,required,sensitivity,shap,skoperules,treeinterpreter]>=0.2.7->interpret==0.2.7) (1.15.1)\n",
      "Requirement already satisfied: zope.interface in c:\\users\\aaron\\anaconda3\\envs\\dojo-env\\lib\\site-packages (from gevent>=1.3.6->interpret-core[dash,debug,decisiontree,ebm,lime,linear,notebook,plotly,required,sensitivity,shap,skoperules,treeinterpreter]>=0.2.7->interpret==0.2.7) (5.4.0)\n",
      "Requirement already satisfied: zope.event in c:\\users\\aaron\\anaconda3\\envs\\dojo-env\\lib\\site-packages (from gevent>=1.3.6->interpret-core[dash,debug,decisiontree,ebm,lime,linear,notebook,plotly,required,sensitivity,shap,skoperules,treeinterpreter]>=0.2.7->interpret==0.2.7) (4.5.0)\n",
      "Requirement already satisfied: greenlet<2.0,>=1.1.0 in c:\\users\\aaron\\anaconda3\\envs\\dojo-env\\lib\\site-packages (from gevent>=1.3.6->interpret-core[dash,debug,decisiontree,ebm,lime,linear,notebook,plotly,required,sensitivity,shap,skoperules,treeinterpreter]>=0.2.7->interpret==0.2.7) (1.1.3)\n",
      "Requirement already satisfied: tornado>=6.1 in c:\\users\\aaron\\anaconda3\\envs\\dojo-env\\lib\\site-packages (from ipykernel>=5.1.0->interpret-core[dash,debug,decisiontree,ebm,lime,linear,notebook,plotly,required,sensitivity,shap,skoperules,treeinterpreter]>=0.2.7->interpret==0.2.7) (6.2)\n",
      "Requirement already satisfied: packaging in c:\\users\\aaron\\anaconda3\\envs\\dojo-env\\lib\\site-packages (from ipykernel>=5.1.0->interpret-core[dash,debug,decisiontree,ebm,lime,linear,notebook,plotly,required,sensitivity,shap,skoperules,treeinterpreter]>=0.2.7->interpret==0.2.7) (21.3)\n",
      "Requirement already satisfied: nest-asyncio in c:\\users\\aaron\\anaconda3\\envs\\dojo-env\\lib\\site-packages (from ipykernel>=5.1.0->interpret-core[dash,debug,decisiontree,ebm,lime,linear,notebook,plotly,required,sensitivity,shap,skoperules,treeinterpreter]>=0.2.7->interpret==0.2.7) (1.5.6)\n",
      "Requirement already satisfied: matplotlib-inline>=0.1 in c:\\users\\aaron\\anaconda3\\envs\\dojo-env\\lib\\site-packages (from ipykernel>=5.1.0->interpret-core[dash,debug,decisiontree,ebm,lime,linear,notebook,plotly,required,sensitivity,shap,skoperules,treeinterpreter]>=0.2.7->interpret==0.2.7) (0.1.6)\n",
      "Requirement already satisfied: jupyter-client>=6.1.12 in c:\\users\\aaron\\anaconda3\\envs\\dojo-env\\lib\\site-packages (from ipykernel>=5.1.0->interpret-core[dash,debug,decisiontree,ebm,lime,linear,notebook,plotly,required,sensitivity,shap,skoperules,treeinterpreter]>=0.2.7->interpret==0.2.7) (7.3.5)\n",
      "Requirement already satisfied: traitlets>=5.1.0 in c:\\users\\aaron\\anaconda3\\envs\\dojo-env\\lib\\site-packages (from ipykernel>=5.1.0->interpret-core[dash,debug,decisiontree,ebm,lime,linear,notebook,plotly,required,sensitivity,shap,skoperules,treeinterpreter]>=0.2.7->interpret==0.2.7) (5.4.0)\n",
      "Requirement already satisfied: pyzmq>=17 in c:\\users\\aaron\\anaconda3\\envs\\dojo-env\\lib\\site-packages (from ipykernel>=5.1.0->interpret-core[dash,debug,decisiontree,ebm,lime,linear,notebook,plotly,required,sensitivity,shap,skoperules,treeinterpreter]>=0.2.7->interpret==0.2.7) (24.0.1)\n",
      "Requirement already satisfied: debugpy>=1.0 in c:\\users\\aaron\\anaconda3\\envs\\dojo-env\\lib\\site-packages (from ipykernel>=5.1.0->interpret-core[dash,debug,decisiontree,ebm,lime,linear,notebook,plotly,required,sensitivity,shap,skoperules,treeinterpreter]>=0.2.7->interpret==0.2.7) (1.6.3)\n",
      "Requirement already satisfied: stack-data in c:\\users\\aaron\\anaconda3\\envs\\dojo-env\\lib\\site-packages (from ipython>=7.4.0->interpret-core[dash,debug,decisiontree,ebm,lime,linear,notebook,plotly,required,sensitivity,shap,skoperules,treeinterpreter]>=0.2.7->interpret==0.2.7) (0.5.1)\n",
      "Requirement already satisfied: pygments>=2.4.0 in c:\\users\\aaron\\anaconda3\\envs\\dojo-env\\lib\\site-packages (from ipython>=7.4.0->interpret-core[dash,debug,decisiontree,ebm,lime,linear,notebook,plotly,required,sensitivity,shap,skoperules,treeinterpreter]>=0.2.7->interpret==0.2.7) (2.13.0)\n",
      "Requirement already satisfied: prompt-toolkit<3.1.0,>3.0.1 in c:\\users\\aaron\\anaconda3\\envs\\dojo-env\\lib\\site-packages (from ipython>=7.4.0->interpret-core[dash,debug,decisiontree,ebm,lime,linear,notebook,plotly,required,sensitivity,shap,skoperules,treeinterpreter]>=0.2.7->interpret==0.2.7) (3.0.31)\n",
      "Requirement already satisfied: jedi>=0.16 in c:\\users\\aaron\\anaconda3\\envs\\dojo-env\\lib\\site-packages (from ipython>=7.4.0->interpret-core[dash,debug,decisiontree,ebm,lime,linear,notebook,plotly,required,sensitivity,shap,skoperules,treeinterpreter]>=0.2.7->interpret==0.2.7) (0.18.1)\n",
      "Requirement already satisfied: backcall in c:\\users\\aaron\\anaconda3\\envs\\dojo-env\\lib\\site-packages (from ipython>=7.4.0->interpret-core[dash,debug,decisiontree,ebm,lime,linear,notebook,plotly,required,sensitivity,shap,skoperules,treeinterpreter]>=0.2.7->interpret==0.2.7) (0.2.0)\n",
      "Requirement already satisfied: colorama in c:\\users\\aaron\\anaconda3\\envs\\dojo-env\\lib\\site-packages (from ipython>=7.4.0->interpret-core[dash,debug,decisiontree,ebm,lime,linear,notebook,plotly,required,sensitivity,shap,skoperules,treeinterpreter]>=0.2.7->interpret==0.2.7) (0.4.5)\n",
      "Requirement already satisfied: decorator in c:\\users\\aaron\\anaconda3\\envs\\dojo-env\\lib\\site-packages (from ipython>=7.4.0->interpret-core[dash,debug,decisiontree,ebm,lime,linear,notebook,plotly,required,sensitivity,shap,skoperules,treeinterpreter]>=0.2.7->interpret==0.2.7) (5.1.1)\n",
      "Requirement already satisfied: pickleshare in c:\\users\\aaron\\anaconda3\\envs\\dojo-env\\lib\\site-packages (from ipython>=7.4.0->interpret-core[dash,debug,decisiontree,ebm,lime,linear,notebook,plotly,required,sensitivity,shap,skoperules,treeinterpreter]>=0.2.7->interpret==0.2.7) (0.7.5)\n",
      "Requirement already satisfied: tqdm in c:\\users\\aaron\\anaconda3\\envs\\dojo-env\\lib\\site-packages (from lime>=0.1.1.33->interpret-core[dash,debug,decisiontree,ebm,lime,linear,notebook,plotly,required,sensitivity,shap,skoperules,treeinterpreter]>=0.2.7->interpret==0.2.7) (4.64.1)\n",
      "Requirement already satisfied: scikit-image>=0.12 in c:\\users\\aaron\\anaconda3\\envs\\dojo-env\\lib\\site-packages (from lime>=0.1.1.33->interpret-core[dash,debug,decisiontree,ebm,lime,linear,notebook,plotly,required,sensitivity,shap,skoperules,treeinterpreter]>=0.2.7->interpret==0.2.7) (0.19.3)\n",
      "Requirement already satisfied: matplotlib in c:\\users\\aaron\\anaconda3\\envs\\dojo-env\\lib\\site-packages (from lime>=0.1.1.33->interpret-core[dash,debug,decisiontree,ebm,lime,linear,notebook,plotly,required,sensitivity,shap,skoperules,treeinterpreter]>=0.2.7->interpret==0.2.7) (3.4.3)\n",
      "Requirement already satisfied: pytz>=2020.1 in c:\\users\\aaron\\anaconda3\\envs\\dojo-env\\lib\\site-packages (from pandas>=0.19.2->interpret-core[dash,debug,decisiontree,ebm,lime,linear,notebook,plotly,required,sensitivity,shap,skoperules,treeinterpreter]>=0.2.7->interpret==0.2.7) (2022.4)\n",
      "Requirement already satisfied: python-dateutil>=2.8.1 in c:\\users\\aaron\\anaconda3\\envs\\dojo-env\\lib\\site-packages (from pandas>=0.19.2->interpret-core[dash,debug,decisiontree,ebm,lime,linear,notebook,plotly,required,sensitivity,shap,skoperules,treeinterpreter]>=0.2.7->interpret==0.2.7) (2.8.2)\n",
      "Requirement already satisfied: tenacity>=6.2.0 in c:\\users\\aaron\\anaconda3\\envs\\dojo-env\\lib\\site-packages (from plotly>=3.8.1->interpret-core[dash,debug,decisiontree,ebm,lime,linear,notebook,plotly,required,sensitivity,shap,skoperules,treeinterpreter]>=0.2.7->interpret==0.2.7) (8.1.0)\n",
      "Requirement already satisfied: idna<4,>=2.5 in c:\\users\\aaron\\anaconda3\\envs\\dojo-env\\lib\\site-packages (from requests>=2.19.0->interpret-core[dash,debug,decisiontree,ebm,lime,linear,notebook,plotly,required,sensitivity,shap,skoperules,treeinterpreter]>=0.2.7->interpret==0.2.7) (3.3)\n",
      "Requirement already satisfied: certifi>=2017.4.17 in c:\\users\\aaron\\anaconda3\\envs\\dojo-env\\lib\\site-packages (from requests>=2.19.0->interpret-core[dash,debug,decisiontree,ebm,lime,linear,notebook,plotly,required,sensitivity,shap,skoperules,treeinterpreter]>=0.2.7->interpret==0.2.7) (2022.9.24)\n",
      "Requirement already satisfied: charset-normalizer<3,>=2 in c:\\users\\aaron\\anaconda3\\envs\\dojo-env\\lib\\site-packages (from requests>=2.19.0->interpret-core[dash,debug,decisiontree,ebm,lime,linear,notebook,plotly,required,sensitivity,shap,skoperules,treeinterpreter]>=0.2.7->interpret==0.2.7) (2.1.1)\n",
      "Requirement already satisfied: urllib3<1.27,>=1.21.1 in c:\\users\\aaron\\anaconda3\\envs\\dojo-env\\lib\\site-packages (from requests>=2.19.0->interpret-core[dash,debug,decisiontree,ebm,lime,linear,notebook,plotly,required,sensitivity,shap,skoperules,treeinterpreter]>=0.2.7->interpret==0.2.7) (1.26.8)\n",
      "Requirement already satisfied: multiprocess in c:\\users\\aaron\\anaconda3\\envs\\dojo-env\\lib\\site-packages (from SALib>=1.3.3->interpret-core[dash,debug,decisiontree,ebm,lime,linear,notebook,plotly,required,sensitivity,shap,skoperules,treeinterpreter]>=0.2.7->interpret==0.2.7) (0.70.13)\n",
      "Requirement already satisfied: threadpoolctl>=2.0.0 in c:\\users\\aaron\\anaconda3\\envs\\dojo-env\\lib\\site-packages (from scikit-learn>=0.18.1->interpret-core[dash,debug,decisiontree,ebm,lime,linear,notebook,plotly,required,sensitivity,shap,skoperules,treeinterpreter]>=0.2.7->interpret==0.2.7) (3.1.0)\n",
      "Requirement already satisfied: slicer==0.0.7 in c:\\users\\aaron\\anaconda3\\envs\\dojo-env\\lib\\site-packages (from shap>=0.28.5->interpret-core[dash,debug,decisiontree,ebm,lime,linear,notebook,plotly,required,sensitivity,shap,skoperules,treeinterpreter]>=0.2.7->interpret==0.2.7) (0.0.7)\n",
      "Requirement already satisfied: numba in c:\\users\\aaron\\anaconda3\\envs\\dojo-env\\lib\\site-packages (from shap>=0.28.5->interpret-core[dash,debug,decisiontree,ebm,lime,linear,notebook,plotly,required,sensitivity,shap,skoperules,treeinterpreter]>=0.2.7->interpret==0.2.7) (0.53.0)\n",
      "Requirement already satisfied: cloudpickle in c:\\users\\aaron\\anaconda3\\envs\\dojo-env\\lib\\site-packages (from shap>=0.28.5->interpret-core[dash,debug,decisiontree,ebm,lime,linear,notebook,plotly,required,sensitivity,shap,skoperules,treeinterpreter]>=0.2.7->interpret==0.2.7) (2.2.0)\n",
      "Requirement already satisfied: pycparser in c:\\users\\aaron\\anaconda3\\envs\\dojo-env\\lib\\site-packages (from cffi>=1.12.2->gevent>=1.3.6->interpret-core[dash,debug,decisiontree,ebm,lime,linear,notebook,plotly,required,sensitivity,shap,skoperules,treeinterpreter]>=0.2.7->interpret==0.2.7) (2.21)\n",
      "Requirement already satisfied: Werkzeug>=2.2.2 in c:\\users\\aaron\\anaconda3\\envs\\dojo-env\\lib\\site-packages (from Flask>=1.0.4->dash>=1.0.0->interpret-core[dash,debug,decisiontree,ebm,lime,linear,notebook,plotly,required,sensitivity,shap,skoperules,treeinterpreter]>=0.2.7->interpret==0.2.7) (2.2.2)\n",
      "Requirement already satisfied: importlib-metadata>=3.6.0 in c:\\users\\aaron\\anaconda3\\envs\\dojo-env\\lib\\site-packages (from Flask>=1.0.4->dash>=1.0.0->interpret-core[dash,debug,decisiontree,ebm,lime,linear,notebook,plotly,required,sensitivity,shap,skoperules,treeinterpreter]>=0.2.7->interpret==0.2.7) (4.11.4)\n",
      "Requirement already satisfied: Jinja2>=3.0 in c:\\users\\aaron\\anaconda3\\envs\\dojo-env\\lib\\site-packages (from Flask>=1.0.4->dash>=1.0.0->interpret-core[dash,debug,decisiontree,ebm,lime,linear,notebook,plotly,required,sensitivity,shap,skoperules,treeinterpreter]>=0.2.7->interpret==0.2.7) (3.1.2)\n",
      "Requirement already satisfied: click>=8.0 in c:\\users\\aaron\\anaconda3\\envs\\dojo-env\\lib\\site-packages (from Flask>=1.0.4->dash>=1.0.0->interpret-core[dash,debug,decisiontree,ebm,lime,linear,notebook,plotly,required,sensitivity,shap,skoperules,treeinterpreter]>=0.2.7->interpret==0.2.7) (8.1.3)\n",
      "Requirement already satisfied: itsdangerous>=2.0 in c:\\users\\aaron\\anaconda3\\envs\\dojo-env\\lib\\site-packages (from Flask>=1.0.4->dash>=1.0.0->interpret-core[dash,debug,decisiontree,ebm,lime,linear,notebook,plotly,required,sensitivity,shap,skoperules,treeinterpreter]>=0.2.7->interpret==0.2.7) (2.1.2)\n",
      "Requirement already satisfied: parso<0.9.0,>=0.8.0 in c:\\users\\aaron\\anaconda3\\envs\\dojo-env\\lib\\site-packages (from jedi>=0.16->ipython>=7.4.0->interpret-core[dash,debug,decisiontree,ebm,lime,linear,notebook,plotly,required,sensitivity,shap,skoperules,treeinterpreter]>=0.2.7->interpret==0.2.7) (0.8.3)\n",
      "Requirement already satisfied: entrypoints in c:\\users\\aaron\\anaconda3\\envs\\dojo-env\\lib\\site-packages (from jupyter-client>=6.1.12->ipykernel>=5.1.0->interpret-core[dash,debug,decisiontree,ebm,lime,linear,notebook,plotly,required,sensitivity,shap,skoperules,treeinterpreter]>=0.2.7->interpret==0.2.7) (0.4)\n",
      "Requirement already satisfied: jupyter-core>=4.9.2 in c:\\users\\aaron\\anaconda3\\envs\\dojo-env\\lib\\site-packages (from jupyter-client>=6.1.12->ipykernel>=5.1.0->interpret-core[dash,debug,decisiontree,ebm,lime,linear,notebook,plotly,required,sensitivity,shap,skoperules,treeinterpreter]>=0.2.7->interpret==0.2.7) (4.11.1)\n",
      "Requirement already satisfied: cycler>=0.10 in c:\\users\\aaron\\anaconda3\\envs\\dojo-env\\lib\\site-packages (from matplotlib->lime>=0.1.1.33->interpret-core[dash,debug,decisiontree,ebm,lime,linear,notebook,plotly,required,sensitivity,shap,skoperules,treeinterpreter]>=0.2.7->interpret==0.2.7) (0.11.0)\n",
      "Requirement already satisfied: pyparsing>=2.2.1 in c:\\users\\aaron\\anaconda3\\envs\\dojo-env\\lib\\site-packages (from matplotlib->lime>=0.1.1.33->interpret-core[dash,debug,decisiontree,ebm,lime,linear,notebook,plotly,required,sensitivity,shap,skoperules,treeinterpreter]>=0.2.7->interpret==0.2.7) (3.0.9)\n",
      "Requirement already satisfied: kiwisolver>=1.0.1 in c:\\users\\aaron\\anaconda3\\envs\\dojo-env\\lib\\site-packages (from matplotlib->lime>=0.1.1.33->interpret-core[dash,debug,decisiontree,ebm,lime,linear,notebook,plotly,required,sensitivity,shap,skoperules,treeinterpreter]>=0.2.7->interpret==0.2.7) (1.3.2)\n",
      "Requirement already satisfied: pillow>=6.2.0 in c:\\users\\aaron\\anaconda3\\envs\\dojo-env\\lib\\site-packages (from matplotlib->lime>=0.1.1.33->interpret-core[dash,debug,decisiontree,ebm,lime,linear,notebook,plotly,required,sensitivity,shap,skoperules,treeinterpreter]>=0.2.7->interpret==0.2.7) (9.2.0)\n",
      "Requirement already satisfied: wcwidth in c:\\users\\aaron\\anaconda3\\envs\\dojo-env\\lib\\site-packages (from prompt-toolkit<3.1.0,>3.0.1->ipython>=7.4.0->interpret-core[dash,debug,decisiontree,ebm,lime,linear,notebook,plotly,required,sensitivity,shap,skoperules,treeinterpreter]>=0.2.7->interpret==0.2.7) (0.2.5)\n",
      "Requirement already satisfied: six>=1.5 in c:\\users\\aaron\\anaconda3\\envs\\dojo-env\\lib\\site-packages (from python-dateutil>=2.8.1->pandas>=0.19.2->interpret-core[dash,debug,decisiontree,ebm,lime,linear,notebook,plotly,required,sensitivity,shap,skoperules,treeinterpreter]>=0.2.7->interpret==0.2.7) (1.16.0)\n",
      "Requirement already satisfied: imageio>=2.4.1 in c:\\users\\aaron\\anaconda3\\envs\\dojo-env\\lib\\site-packages (from scikit-image>=0.12->lime>=0.1.1.33->interpret-core[dash,debug,decisiontree,ebm,lime,linear,notebook,plotly,required,sensitivity,shap,skoperules,treeinterpreter]>=0.2.7->interpret==0.2.7) (2.22.1)\n",
      "Requirement already satisfied: tifffile>=2019.7.26 in c:\\users\\aaron\\anaconda3\\envs\\dojo-env\\lib\\site-packages (from scikit-image>=0.12->lime>=0.1.1.33->interpret-core[dash,debug,decisiontree,ebm,lime,linear,notebook,plotly,required,sensitivity,shap,skoperules,treeinterpreter]>=0.2.7->interpret==0.2.7) (2022.8.12)\n",
      "Requirement already satisfied: networkx>=2.2 in c:\\users\\aaron\\anaconda3\\envs\\dojo-env\\lib\\site-packages (from scikit-image>=0.12->lime>=0.1.1.33->interpret-core[dash,debug,decisiontree,ebm,lime,linear,notebook,plotly,required,sensitivity,shap,skoperules,treeinterpreter]>=0.2.7->interpret==0.2.7) (2.8.7)\n",
      "Requirement already satisfied: PyWavelets>=1.1.1 in c:\\users\\aaron\\anaconda3\\envs\\dojo-env\\lib\\site-packages (from scikit-image>=0.12->lime>=0.1.1.33->interpret-core[dash,debug,decisiontree,ebm,lime,linear,notebook,plotly,required,sensitivity,shap,skoperules,treeinterpreter]>=0.2.7->interpret==0.2.7) (1.3.0)\n",
      "Requirement already satisfied: brotli in c:\\users\\aaron\\anaconda3\\envs\\dojo-env\\lib\\site-packages (from flask-compress->dash>=1.0.0->interpret-core[dash,debug,decisiontree,ebm,lime,linear,notebook,plotly,required,sensitivity,shap,skoperules,treeinterpreter]>=0.2.7->interpret==0.2.7) (1.0.9)\n",
      "Requirement already satisfied: llvmlite<0.37,>=0.36.0rc1 in c:\\users\\aaron\\anaconda3\\envs\\dojo-env\\lib\\site-packages (from numba->shap>=0.28.5->interpret-core[dash,debug,decisiontree,ebm,lime,linear,notebook,plotly,required,sensitivity,shap,skoperules,treeinterpreter]>=0.2.7->interpret==0.2.7) (0.36.0)\n",
      "Requirement already satisfied: asttokens in c:\\users\\aaron\\anaconda3\\envs\\dojo-env\\lib\\site-packages (from stack-data->ipython>=7.4.0->interpret-core[dash,debug,decisiontree,ebm,lime,linear,notebook,plotly,required,sensitivity,shap,skoperules,treeinterpreter]>=0.2.7->interpret==0.2.7) (2.0.8)\n",
      "Requirement already satisfied: executing in c:\\users\\aaron\\anaconda3\\envs\\dojo-env\\lib\\site-packages (from stack-data->ipython>=7.4.0->interpret-core[dash,debug,decisiontree,ebm,lime,linear,notebook,plotly,required,sensitivity,shap,skoperules,treeinterpreter]>=0.2.7->interpret==0.2.7) (1.1.0)\n",
      "Requirement already satisfied: pure-eval in c:\\users\\aaron\\anaconda3\\envs\\dojo-env\\lib\\site-packages (from stack-data->ipython>=7.4.0->interpret-core[dash,debug,decisiontree,ebm,lime,linear,notebook,plotly,required,sensitivity,shap,skoperules,treeinterpreter]>=0.2.7->interpret==0.2.7) (0.2.2)\n",
      "Requirement already satisfied: zipp>=0.5 in c:\\users\\aaron\\anaconda3\\envs\\dojo-env\\lib\\site-packages (from importlib-metadata>=3.6.0->Flask>=1.0.4->dash>=1.0.0->interpret-core[dash,debug,decisiontree,ebm,lime,linear,notebook,plotly,required,sensitivity,shap,skoperules,treeinterpreter]>=0.2.7->interpret==0.2.7) (3.8.1)\n",
      "Requirement already satisfied: MarkupSafe>=2.0 in c:\\users\\aaron\\anaconda3\\envs\\dojo-env\\lib\\site-packages (from Jinja2>=3.0->Flask>=1.0.4->dash>=1.0.0->interpret-core[dash,debug,decisiontree,ebm,lime,linear,notebook,plotly,required,sensitivity,shap,skoperules,treeinterpreter]>=0.2.7->interpret==0.2.7) (2.1.1)\n",
      "Requirement already satisfied: pywin32>=1.0 in c:\\users\\aaron\\anaconda3\\envs\\dojo-env\\lib\\site-packages (from jupyter-core>=4.9.2->jupyter-client>=6.1.12->ipykernel>=5.1.0->interpret-core[dash,debug,decisiontree,ebm,lime,linear,notebook,plotly,required,sensitivity,shap,skoperules,treeinterpreter]>=0.2.7->interpret==0.2.7) (303)\n"
     ]
    }
   ],
   "source": [
    "!pip install interpret==0.2.7 --user\n"
   ]
  },
  {
   "cell_type": "code",
   "execution_count": 9,
   "metadata": {},
   "outputs": [],
   "source": [
    "!pip install ipywidgets>=7.7.0 --user\n"
   ]
  },
  {
   "cell_type": "code",
   "execution_count": 10,
   "metadata": {},
   "outputs": [],
   "source": [
    "!pip install joblib>=1.0 --user\n"
   ]
  },
  {
   "cell_type": "code",
   "execution_count": 11,
   "metadata": {},
   "outputs": [
    {
     "name": "stdout",
     "output_type": "stream",
     "text": [
      "Requirement already satisfied: imbalanced-learn==0.9.1 in c:\\users\\aaron\\anaconda3\\envs\\dojo-env\\lib\\site-packages (0.9.1)\n",
      "Requirement already satisfied: threadpoolctl>=2.0.0 in c:\\users\\aaron\\anaconda3\\envs\\dojo-env\\lib\\site-packages (from imbalanced-learn==0.9.1) (3.1.0)\n",
      "Requirement already satisfied: scikit-learn>=1.1.0 in c:\\users\\aaron\\anaconda3\\envs\\dojo-env\\lib\\site-packages (from imbalanced-learn==0.9.1) (1.1.2)\n",
      "Requirement already satisfied: numpy>=1.17.3 in c:\\users\\aaron\\anaconda3\\envs\\dojo-env\\lib\\site-packages (from imbalanced-learn==0.9.1) (1.22.4)\n",
      "Requirement already satisfied: scipy>=1.3.2 in c:\\users\\aaron\\anaconda3\\envs\\dojo-env\\lib\\site-packages (from imbalanced-learn==0.9.1) (1.8.1)\n",
      "Requirement already satisfied: joblib>=1.0.0 in c:\\users\\aaron\\anaconda3\\envs\\dojo-env\\lib\\site-packages (from imbalanced-learn==0.9.1) (1.2.0)\n"
     ]
    }
   ],
   "source": [
    "!pip install imbalanced-learn==0.9.1 --user\n"
   ]
  },
  {
   "cell_type": "code",
   "execution_count": 12,
   "metadata": {},
   "outputs": [
    {
     "name": "stdout",
     "output_type": "stream",
     "text": [
      "Requirement already satisfied: kaggle==1.5.12 in c:\\users\\aaron\\anaconda3\\envs\\dojo-env\\lib\\site-packages (1.5.12)\n",
      "Requirement already satisfied: requests in c:\\users\\aaron\\anaconda3\\envs\\dojo-env\\lib\\site-packages (from kaggle==1.5.12) (2.28.1)\n",
      "Requirement already satisfied: certifi in c:\\users\\aaron\\anaconda3\\envs\\dojo-env\\lib\\site-packages (from kaggle==1.5.12) (2022.9.24)\n",
      "Requirement already satisfied: six>=1.10 in c:\\users\\aaron\\anaconda3\\envs\\dojo-env\\lib\\site-packages (from kaggle==1.5.12) (1.16.0)\n",
      "Requirement already satisfied: urllib3 in c:\\users\\aaron\\anaconda3\\envs\\dojo-env\\lib\\site-packages (from kaggle==1.5.12) (1.26.8)\n",
      "Requirement already satisfied: python-dateutil in c:\\users\\aaron\\anaconda3\\envs\\dojo-env\\lib\\site-packages (from kaggle==1.5.12) (2.8.2)\n",
      "Requirement already satisfied: python-slugify in c:\\users\\aaron\\anaconda3\\envs\\dojo-env\\lib\\site-packages (from kaggle==1.5.12) (6.1.2)\n",
      "Requirement already satisfied: tqdm in c:\\users\\aaron\\anaconda3\\envs\\dojo-env\\lib\\site-packages (from kaggle==1.5.12) (4.64.1)\n",
      "Requirement already satisfied: text-unidecode>=1.3 in c:\\users\\aaron\\anaconda3\\envs\\dojo-env\\lib\\site-packages (from python-slugify->kaggle==1.5.12) (1.3)\n",
      "Requirement already satisfied: idna<4,>=2.5 in c:\\users\\aaron\\anaconda3\\envs\\dojo-env\\lib\\site-packages (from requests->kaggle==1.5.12) (3.3)\n",
      "Requirement already satisfied: charset-normalizer<3,>=2 in c:\\users\\aaron\\anaconda3\\envs\\dojo-env\\lib\\site-packages (from requests->kaggle==1.5.12) (2.1.1)\n",
      "Requirement already satisfied: colorama in c:\\users\\aaron\\anaconda3\\envs\\dojo-env\\lib\\site-packages (from tqdm->kaggle==1.5.12) (0.4.5)\n"
     ]
    }
   ],
   "source": [
    "!pip install kaggle==1.5.12 --user\n"
   ]
  },
  {
   "cell_type": "code",
   "execution_count": 13,
   "metadata": {},
   "outputs": [
    {
     "name": "stdout",
     "output_type": "stream",
     "text": [
      "Requirement already satisfied: kiwisolver==1.3.2 in c:\\users\\aaron\\anaconda3\\envs\\dojo-env\\lib\\site-packages (1.3.2)\n"
     ]
    }
   ],
   "source": [
    "!pip install kiwisolver==1.3.2 --user\n"
   ]
  },
  {
   "cell_type": "code",
   "execution_count": 14,
   "metadata": {},
   "outputs": [
    {
     "name": "stdout",
     "output_type": "stream",
     "text": [
      "Requirement already satisfied: lime==0.2.0.* in c:\\users\\aaron\\anaconda3\\envs\\dojo-env\\lib\\site-packages (0.2.0.1)\n",
      "Requirement already satisfied: matplotlib in c:\\users\\aaron\\anaconda3\\envs\\dojo-env\\lib\\site-packages (from lime==0.2.0.*) (3.4.3)\n",
      "Requirement already satisfied: numpy in c:\\users\\aaron\\anaconda3\\envs\\dojo-env\\lib\\site-packages (from lime==0.2.0.*) (1.22.4)\n",
      "Requirement already satisfied: scipy in c:\\users\\aaron\\anaconda3\\envs\\dojo-env\\lib\\site-packages (from lime==0.2.0.*) (1.8.1)\n",
      "Requirement already satisfied: scikit-learn>=0.18 in c:\\users\\aaron\\anaconda3\\envs\\dojo-env\\lib\\site-packages (from lime==0.2.0.*) (1.1.2)\n",
      "Requirement already satisfied: scikit-image>=0.12 in c:\\users\\aaron\\anaconda3\\envs\\dojo-env\\lib\\site-packages (from lime==0.2.0.*) (0.19.3)\n",
      "Requirement already satisfied: tqdm in c:\\users\\aaron\\anaconda3\\envs\\dojo-env\\lib\\site-packages (from lime==0.2.0.*) (4.64.1)\n",
      "Requirement already satisfied: networkx>=2.2 in c:\\users\\aaron\\anaconda3\\envs\\dojo-env\\lib\\site-packages (from scikit-image>=0.12->lime==0.2.0.*) (2.8.7)\n",
      "Requirement already satisfied: PyWavelets>=1.1.1 in c:\\users\\aaron\\anaconda3\\envs\\dojo-env\\lib\\site-packages (from scikit-image>=0.12->lime==0.2.0.*) (1.3.0)\n",
      "Requirement already satisfied: tifffile>=2019.7.26 in c:\\users\\aaron\\anaconda3\\envs\\dojo-env\\lib\\site-packages (from scikit-image>=0.12->lime==0.2.0.*) (2022.8.12)\n",
      "Requirement already satisfied: pillow!=7.1.0,!=7.1.1,!=8.3.0,>=6.1.0 in c:\\users\\aaron\\anaconda3\\envs\\dojo-env\\lib\\site-packages (from scikit-image>=0.12->lime==0.2.0.*) (9.2.0)\n",
      "Requirement already satisfied: packaging>=20.0 in c:\\users\\aaron\\anaconda3\\envs\\dojo-env\\lib\\site-packages (from scikit-image>=0.12->lime==0.2.0.*) (21.3)\n",
      "Requirement already satisfied: imageio>=2.4.1 in c:\\users\\aaron\\anaconda3\\envs\\dojo-env\\lib\\site-packages (from scikit-image>=0.12->lime==0.2.0.*) (2.22.1)\n",
      "Requirement already satisfied: joblib>=1.0.0 in c:\\users\\aaron\\anaconda3\\envs\\dojo-env\\lib\\site-packages (from scikit-learn>=0.18->lime==0.2.0.*) (1.2.0)\n",
      "Requirement already satisfied: threadpoolctl>=2.0.0 in c:\\users\\aaron\\anaconda3\\envs\\dojo-env\\lib\\site-packages (from scikit-learn>=0.18->lime==0.2.0.*) (3.1.0)\n",
      "Requirement already satisfied: kiwisolver>=1.0.1 in c:\\users\\aaron\\anaconda3\\envs\\dojo-env\\lib\\site-packages (from matplotlib->lime==0.2.0.*) (1.3.2)\n",
      "Requirement already satisfied: cycler>=0.10 in c:\\users\\aaron\\anaconda3\\envs\\dojo-env\\lib\\site-packages (from matplotlib->lime==0.2.0.*) (0.11.0)\n",
      "Requirement already satisfied: python-dateutil>=2.7 in c:\\users\\aaron\\anaconda3\\envs\\dojo-env\\lib\\site-packages (from matplotlib->lime==0.2.0.*) (2.8.2)\n",
      "Requirement already satisfied: pyparsing>=2.2.1 in c:\\users\\aaron\\anaconda3\\envs\\dojo-env\\lib\\site-packages (from matplotlib->lime==0.2.0.*) (3.0.9)\n",
      "Requirement already satisfied: colorama in c:\\users\\aaron\\anaconda3\\envs\\dojo-env\\lib\\site-packages (from tqdm->lime==0.2.0.*) (0.4.5)\n",
      "Requirement already satisfied: six>=1.5 in c:\\users\\aaron\\anaconda3\\envs\\dojo-env\\lib\\site-packages (from python-dateutil>=2.7->matplotlib->lime==0.2.0.*) (1.16.0)\n"
     ]
    }
   ],
   "source": [
    "!pip install lime==0.2.0.* --user\n"
   ]
  },
  {
   "cell_type": "code",
   "execution_count": 15,
   "metadata": {},
   "outputs": [
    {
     "name": "stdout",
     "output_type": "stream",
     "text": [
      "Requirement already satisfied: lxml==4.9.0 in c:\\users\\aaron\\anaconda3\\envs\\dojo-env\\lib\\site-packages (4.9.0)\n"
     ]
    }
   ],
   "source": [
    "!pip install lxml==4.9.0 --user\n"
   ]
  },
  {
   "cell_type": "code",
   "execution_count": 16,
   "metadata": {},
   "outputs": [
    {
     "name": "stdout",
     "output_type": "stream",
     "text": [
      "Requirement already satisfied: matplotlib==3.4.3 in c:\\users\\aaron\\anaconda3\\envs\\dojo-env\\lib\\site-packages (3.4.3)\n",
      "Requirement already satisfied: python-dateutil>=2.7 in c:\\users\\aaron\\anaconda3\\envs\\dojo-env\\lib\\site-packages (from matplotlib==3.4.3) (2.8.2)\n",
      "Requirement already satisfied: cycler>=0.10 in c:\\users\\aaron\\anaconda3\\envs\\dojo-env\\lib\\site-packages (from matplotlib==3.4.3) (0.11.0)\n",
      "Requirement already satisfied: pyparsing>=2.2.1 in c:\\users\\aaron\\anaconda3\\envs\\dojo-env\\lib\\site-packages (from matplotlib==3.4.3) (3.0.9)\n",
      "Requirement already satisfied: kiwisolver>=1.0.1 in c:\\users\\aaron\\anaconda3\\envs\\dojo-env\\lib\\site-packages (from matplotlib==3.4.3) (1.3.2)\n",
      "Requirement already satisfied: numpy>=1.16 in c:\\users\\aaron\\anaconda3\\envs\\dojo-env\\lib\\site-packages (from matplotlib==3.4.3) (1.22.4)\n",
      "Requirement already satisfied: pillow>=6.2.0 in c:\\users\\aaron\\anaconda3\\envs\\dojo-env\\lib\\site-packages (from matplotlib==3.4.3) (9.2.0)\n",
      "Requirement already satisfied: six>=1.5 in c:\\users\\aaron\\anaconda3\\envs\\dojo-env\\lib\\site-packages (from python-dateutil>=2.7->matplotlib==3.4.3) (1.16.0)\n"
     ]
    }
   ],
   "source": [
    "!pip install matplotlib==3.4.3 --user\n"
   ]
  },
  {
   "cell_type": "code",
   "execution_count": 17,
   "metadata": {},
   "outputs": [
    {
     "name": "stdout",
     "output_type": "stream",
     "text": [
      "Requirement already satisfied: missingno==0.5.1 in c:\\users\\aaron\\anaconda3\\envs\\dojo-env\\lib\\site-packages (0.5.1)\n",
      "Requirement already satisfied: numpy in c:\\users\\aaron\\anaconda3\\envs\\dojo-env\\lib\\site-packages (from missingno==0.5.1) (1.22.4)\n",
      "Requirement already satisfied: matplotlib in c:\\users\\aaron\\anaconda3\\envs\\dojo-env\\lib\\site-packages (from missingno==0.5.1) (3.4.3)\n",
      "Requirement already satisfied: seaborn in c:\\users\\aaron\\anaconda3\\envs\\dojo-env\\lib\\site-packages (from missingno==0.5.1) (0.11.2)\n",
      "Requirement already satisfied: scipy in c:\\users\\aaron\\anaconda3\\envs\\dojo-env\\lib\\site-packages (from missingno==0.5.1) (1.8.1)\n",
      "Requirement already satisfied: python-dateutil>=2.7 in c:\\users\\aaron\\anaconda3\\envs\\dojo-env\\lib\\site-packages (from matplotlib->missingno==0.5.1) (2.8.2)\n",
      "Requirement already satisfied: pyparsing>=2.2.1 in c:\\users\\aaron\\anaconda3\\envs\\dojo-env\\lib\\site-packages (from matplotlib->missingno==0.5.1) (3.0.9)\n",
      "Requirement already satisfied: cycler>=0.10 in c:\\users\\aaron\\anaconda3\\envs\\dojo-env\\lib\\site-packages (from matplotlib->missingno==0.5.1) (0.11.0)\n",
      "Requirement already satisfied: kiwisolver>=1.0.1 in c:\\users\\aaron\\anaconda3\\envs\\dojo-env\\lib\\site-packages (from matplotlib->missingno==0.5.1) (1.3.2)\n",
      "Requirement already satisfied: pillow>=6.2.0 in c:\\users\\aaron\\anaconda3\\envs\\dojo-env\\lib\\site-packages (from matplotlib->missingno==0.5.1) (9.2.0)\n",
      "Requirement already satisfied: pandas>=0.23 in c:\\users\\aaron\\anaconda3\\envs\\dojo-env\\lib\\site-packages (from seaborn->missingno==0.5.1) (1.4.2)\n",
      "Requirement already satisfied: pytz>=2020.1 in c:\\users\\aaron\\anaconda3\\envs\\dojo-env\\lib\\site-packages (from pandas>=0.23->seaborn->missingno==0.5.1) (2022.4)\n",
      "Requirement already satisfied: six>=1.5 in c:\\users\\aaron\\anaconda3\\envs\\dojo-env\\lib\\site-packages (from python-dateutil>=2.7->matplotlib->missingno==0.5.1) (1.16.0)\n"
     ]
    }
   ],
   "source": [
    "!pip install missingno==0.5.1 --user\n"
   ]
  },
  {
   "cell_type": "code",
   "execution_count": 18,
   "metadata": {},
   "outputs": [
    {
     "name": "stdout",
     "output_type": "stream",
     "text": [
      "Requirement already satisfied: nltk==3.7 in c:\\users\\aaron\\anaconda3\\envs\\dojo-env\\lib\\site-packages (3.7)\n",
      "Requirement already satisfied: click in c:\\users\\aaron\\anaconda3\\envs\\dojo-env\\lib\\site-packages (from nltk==3.7) (8.1.3)\n",
      "Requirement already satisfied: regex>=2021.8.3 in c:\\users\\aaron\\anaconda3\\envs\\dojo-env\\lib\\site-packages (from nltk==3.7) (2022.9.13)\n",
      "Requirement already satisfied: tqdm in c:\\users\\aaron\\anaconda3\\envs\\dojo-env\\lib\\site-packages (from nltk==3.7) (4.64.1)\n",
      "Requirement already satisfied: joblib in c:\\users\\aaron\\anaconda3\\envs\\dojo-env\\lib\\site-packages (from nltk==3.7) (1.2.0)\n",
      "Requirement already satisfied: colorama in c:\\users\\aaron\\anaconda3\\envs\\dojo-env\\lib\\site-packages (from click->nltk==3.7) (0.4.5)\n"
     ]
    }
   ],
   "source": [
    "!pip install nltk==3.7 --user\n"
   ]
  },
  {
   "cell_type": "code",
   "execution_count": 19,
   "metadata": {},
   "outputs": [
    {
     "name": "stdout",
     "output_type": "stream",
     "text": [
      "Requirement already satisfied: openpyxl==3.0.10 in c:\\users\\aaron\\anaconda3\\envs\\dojo-env\\lib\\site-packages (3.0.10)\n",
      "Requirement already satisfied: et-xmlfile in c:\\users\\aaron\\anaconda3\\envs\\dojo-env\\lib\\site-packages (from openpyxl==3.0.10) (1.1.0)\n"
     ]
    }
   ],
   "source": [
    "!pip install openpyxl==3.0.10 --user\n"
   ]
  },
  {
   "cell_type": "code",
   "execution_count": 20,
   "metadata": {},
   "outputs": [
    {
     "name": "stdout",
     "output_type": "stream",
     "text": [
      "Requirement already satisfied: tabulate==0.8.9 in c:\\users\\aaron\\anaconda3\\envs\\dojo-env\\lib\\site-packages (0.8.9)\n"
     ]
    }
   ],
   "source": [
    "!pip install tabulate==0.8.9 --user\n"
   ]
  },
  {
   "cell_type": "code",
   "execution_count": 21,
   "metadata": {},
   "outputs": [
    {
     "name": "stdout",
     "output_type": "stream",
     "text": [
      "Requirement already satisfied: pmdarima==1.8.5 in c:\\users\\aaron\\anaconda3\\envs\\dojo-env\\lib\\site-packages (1.8.5)\n",
      "Requirement already satisfied: statsmodels!=0.12.0,>=0.11 in c:\\users\\aaron\\anaconda3\\envs\\dojo-env\\lib\\site-packages (from pmdarima==1.8.5) (0.13.2)\n",
      "Requirement already satisfied: urllib3 in c:\\users\\aaron\\anaconda3\\envs\\dojo-env\\lib\\site-packages (from pmdarima==1.8.5) (1.26.8)\n",
      "Requirement already satisfied: pandas>=0.19 in c:\\users\\aaron\\anaconda3\\envs\\dojo-env\\lib\\site-packages (from pmdarima==1.8.5) (1.4.2)\n",
      "Requirement already satisfied: scikit-learn>=0.22 in c:\\users\\aaron\\anaconda3\\envs\\dojo-env\\lib\\site-packages (from pmdarima==1.8.5) (1.1.2)\n",
      "Requirement already satisfied: setuptools!=50.0.0,>=38.6.0 in c:\\users\\aaron\\anaconda3\\envs\\dojo-env\\lib\\site-packages (from pmdarima==1.8.5) (65.4.1)\n",
      "Requirement already satisfied: Cython!=0.29.18,>=0.29 in c:\\users\\aaron\\anaconda3\\envs\\dojo-env\\lib\\site-packages (from pmdarima==1.8.5) (0.29.32)\n",
      "Requirement already satisfied: joblib>=0.11 in c:\\users\\aaron\\anaconda3\\envs\\dojo-env\\lib\\site-packages (from pmdarima==1.8.5) (1.2.0)\n",
      "Requirement already satisfied: scipy>=1.3.2 in c:\\users\\aaron\\anaconda3\\envs\\dojo-env\\lib\\site-packages (from pmdarima==1.8.5) (1.8.1)\n",
      "Requirement already satisfied: numpy>=1.19.3 in c:\\users\\aaron\\anaconda3\\envs\\dojo-env\\lib\\site-packages (from pmdarima==1.8.5) (1.22.4)\n",
      "Requirement already satisfied: python-dateutil>=2.8.1 in c:\\users\\aaron\\anaconda3\\envs\\dojo-env\\lib\\site-packages (from pandas>=0.19->pmdarima==1.8.5) (2.8.2)\n",
      "Requirement already satisfied: pytz>=2020.1 in c:\\users\\aaron\\anaconda3\\envs\\dojo-env\\lib\\site-packages (from pandas>=0.19->pmdarima==1.8.5) (2022.4)\n",
      "Requirement already satisfied: threadpoolctl>=2.0.0 in c:\\users\\aaron\\anaconda3\\envs\\dojo-env\\lib\\site-packages (from scikit-learn>=0.22->pmdarima==1.8.5) (3.1.0)\n",
      "Requirement already satisfied: patsy>=0.5.2 in c:\\users\\aaron\\anaconda3\\envs\\dojo-env\\lib\\site-packages (from statsmodels!=0.12.0,>=0.11->pmdarima==1.8.5) (0.5.2)\n",
      "Requirement already satisfied: packaging>=21.3 in c:\\users\\aaron\\anaconda3\\envs\\dojo-env\\lib\\site-packages (from statsmodels!=0.12.0,>=0.11->pmdarima==1.8.5) (21.3)\n",
      "Requirement already satisfied: pyparsing!=3.0.5,>=2.0.2 in c:\\users\\aaron\\anaconda3\\envs\\dojo-env\\lib\\site-packages (from packaging>=21.3->statsmodels!=0.12.0,>=0.11->pmdarima==1.8.5) (3.0.9)\n",
      "Requirement already satisfied: six in c:\\users\\aaron\\anaconda3\\envs\\dojo-env\\lib\\site-packages (from patsy>=0.5.2->statsmodels!=0.12.0,>=0.11->pmdarima==1.8.5) (1.16.0)\n"
     ]
    }
   ],
   "source": [
    "!pip install pmdarima==1.8.5 --user\n"
   ]
  },
  {
   "cell_type": "code",
   "execution_count": 22,
   "metadata": {},
   "outputs": [
    {
     "name": "stdout",
     "output_type": "stream",
     "text": [
      "Requirement already satisfied: pandas-datareader==0.10.0 in c:\\users\\aaron\\anaconda3\\envs\\dojo-env\\lib\\site-packages (0.10.0)\n",
      "Requirement already satisfied: lxml in c:\\users\\aaron\\anaconda3\\envs\\dojo-env\\lib\\site-packages (from pandas-datareader==0.10.0) (4.9.0)\n",
      "Requirement already satisfied: pandas>=0.23 in c:\\users\\aaron\\anaconda3\\envs\\dojo-env\\lib\\site-packages (from pandas-datareader==0.10.0) (1.4.2)\n",
      "Requirement already satisfied: requests>=2.19.0 in c:\\users\\aaron\\anaconda3\\envs\\dojo-env\\lib\\site-packages (from pandas-datareader==0.10.0) (2.28.1)\n",
      "Requirement already satisfied: numpy>=1.18.5 in c:\\users\\aaron\\anaconda3\\envs\\dojo-env\\lib\\site-packages (from pandas>=0.23->pandas-datareader==0.10.0) (1.22.4)\n",
      "Requirement already satisfied: python-dateutil>=2.8.1 in c:\\users\\aaron\\anaconda3\\envs\\dojo-env\\lib\\site-packages (from pandas>=0.23->pandas-datareader==0.10.0) (2.8.2)\n",
      "Requirement already satisfied: pytz>=2020.1 in c:\\users\\aaron\\anaconda3\\envs\\dojo-env\\lib\\site-packages (from pandas>=0.23->pandas-datareader==0.10.0) (2022.4)\n",
      "Requirement already satisfied: idna<4,>=2.5 in c:\\users\\aaron\\anaconda3\\envs\\dojo-env\\lib\\site-packages (from requests>=2.19.0->pandas-datareader==0.10.0) (3.3)\n",
      "Requirement already satisfied: certifi>=2017.4.17 in c:\\users\\aaron\\anaconda3\\envs\\dojo-env\\lib\\site-packages (from requests>=2.19.0->pandas-datareader==0.10.0) (2022.9.24)\n",
      "Requirement already satisfied: urllib3<1.27,>=1.21.1 in c:\\users\\aaron\\anaconda3\\envs\\dojo-env\\lib\\site-packages (from requests>=2.19.0->pandas-datareader==0.10.0) (1.26.8)\n",
      "Requirement already satisfied: charset-normalizer<3,>=2 in c:\\users\\aaron\\anaconda3\\envs\\dojo-env\\lib\\site-packages (from requests>=2.19.0->pandas-datareader==0.10.0) (2.1.1)\n",
      "Requirement already satisfied: six>=1.5 in c:\\users\\aaron\\anaconda3\\envs\\dojo-env\\lib\\site-packages (from python-dateutil>=2.8.1->pandas>=0.23->pandas-datareader==0.10.0) (1.16.0)\n"
     ]
    }
   ],
   "source": [
    "!pip install pandas-datareader==0.10.0 --user\n"
   ]
  },
  {
   "cell_type": "code",
   "execution_count": 23,
   "metadata": {},
   "outputs": [
    {
     "name": "stdout",
     "output_type": "stream",
     "text": [
      "Requirement already satisfied: plotly==5.8.2 in c:\\users\\aaron\\anaconda3\\envs\\dojo-env\\lib\\site-packages (5.8.2)\n",
      "Requirement already satisfied: tenacity>=6.2.0 in c:\\users\\aaron\\anaconda3\\envs\\dojo-env\\lib\\site-packages (from plotly==5.8.2) (8.1.0)\n"
     ]
    }
   ],
   "source": [
    "!pip install plotly==5.8.2 --user\n"
   ]
  },
  {
   "cell_type": "code",
   "execution_count": 24,
   "metadata": {},
   "outputs": [
    {
     "name": "stdout",
     "output_type": "stream",
     "text": [
      "Requirement already satisfied: PyMySQL==1.0.2 in c:\\users\\aaron\\anaconda3\\envs\\dojo-env\\lib\\site-packages (1.0.2)\n"
     ]
    }
   ],
   "source": [
    "!pip install PyMySQL==1.0.2 --user\n"
   ]
  },
  {
   "cell_type": "code",
   "execution_count": 25,
   "metadata": {},
   "outputs": [
    {
     "name": "stdout",
     "output_type": "stream",
     "text": [
      "Requirement already satisfied: SQLAlchemy==1.4.37 in c:\\users\\aaron\\anaconda3\\envs\\dojo-env\\lib\\site-packages (1.4.37)\n",
      "Requirement already satisfied: greenlet!=0.4.17 in c:\\users\\aaron\\anaconda3\\envs\\dojo-env\\lib\\site-packages (from SQLAlchemy==1.4.37) (1.1.3)\n"
     ]
    }
   ],
   "source": [
    "!pip install SQLAlchemy==1.4.37  --user\n"
   ]
  },
  {
   "cell_type": "code",
   "execution_count": 26,
   "metadata": {},
   "outputs": [
    {
     "name": "stdout",
     "output_type": "stream",
     "text": [
      "Requirement already satisfied: sqlalchemy-utils==0.38.2 in c:\\users\\aaron\\anaconda3\\envs\\dojo-env\\lib\\site-packages (0.38.2)\n",
      "Requirement already satisfied: six in c:\\users\\aaron\\anaconda3\\envs\\dojo-env\\lib\\site-packages (from sqlalchemy-utils==0.38.2) (1.16.0)\n",
      "Requirement already satisfied: SQLAlchemy>=1.0 in c:\\users\\aaron\\anaconda3\\envs\\dojo-env\\lib\\site-packages (from sqlalchemy-utils==0.38.2) (1.4.37)\n",
      "Requirement already satisfied: greenlet!=0.4.17 in c:\\users\\aaron\\anaconda3\\envs\\dojo-env\\lib\\site-packages (from SQLAlchemy>=1.0->sqlalchemy-utils==0.38.2) (1.1.3)\n"
     ]
    }
   ],
   "source": [
    "!pip install sqlalchemy-utils==0.38.2 --user\n"
   ]
  },
  {
   "cell_type": "code",
   "execution_count": 27,
   "metadata": {},
   "outputs": [
    {
     "name": "stdout",
     "output_type": "stream",
     "text": [
      "Requirement already satisfied: scipy==1.8.* in c:\\users\\aaron\\anaconda3\\envs\\dojo-env\\lib\\site-packages (1.8.1)\n",
      "Requirement already satisfied: numpy<1.25.0,>=1.17.3 in c:\\users\\aaron\\anaconda3\\envs\\dojo-env\\lib\\site-packages (from scipy==1.8.*) (1.22.4)\n"
     ]
    }
   ],
   "source": [
    "!pip install scipy==1.8.* --user\n"
   ]
  },
  {
   "cell_type": "code",
   "execution_count": 28,
   "metadata": {},
   "outputs": [],
   "source": [
    "!pip install pillow>=9.0.1 --user\n"
   ]
  },
  {
   "cell_type": "code",
   "execution_count": 29,
   "metadata": {},
   "outputs": [],
   "source": [
    "!pip install requests>=2.27.1 --user\n"
   ]
  },
  {
   "cell_type": "code",
   "execution_count": 30,
   "metadata": {},
   "outputs": [
    {
     "name": "stdout",
     "output_type": "stream",
     "text": [
      "Requirement already satisfied: seaborn==0.11.2 in c:\\users\\aaron\\anaconda3\\envs\\dojo-env\\lib\\site-packages (0.11.2)\n",
      "Requirement already satisfied: pandas>=0.23 in c:\\users\\aaron\\anaconda3\\envs\\dojo-env\\lib\\site-packages (from seaborn==0.11.2) (1.4.2)\n",
      "Requirement already satisfied: matplotlib>=2.2 in c:\\users\\aaron\\anaconda3\\envs\\dojo-env\\lib\\site-packages (from seaborn==0.11.2) (3.4.3)\n",
      "Requirement already satisfied: numpy>=1.15 in c:\\users\\aaron\\anaconda3\\envs\\dojo-env\\lib\\site-packages (from seaborn==0.11.2) (1.22.4)\n",
      "Requirement already satisfied: scipy>=1.0 in c:\\users\\aaron\\anaconda3\\envs\\dojo-env\\lib\\site-packages (from seaborn==0.11.2) (1.8.1)\n",
      "Requirement already satisfied: cycler>=0.10 in c:\\users\\aaron\\anaconda3\\envs\\dojo-env\\lib\\site-packages (from matplotlib>=2.2->seaborn==0.11.2) (0.11.0)\n",
      "Requirement already satisfied: pillow>=6.2.0 in c:\\users\\aaron\\anaconda3\\envs\\dojo-env\\lib\\site-packages (from matplotlib>=2.2->seaborn==0.11.2) (9.2.0)\n",
      "Requirement already satisfied: pyparsing>=2.2.1 in c:\\users\\aaron\\anaconda3\\envs\\dojo-env\\lib\\site-packages (from matplotlib>=2.2->seaborn==0.11.2) (3.0.9)\n",
      "Requirement already satisfied: kiwisolver>=1.0.1 in c:\\users\\aaron\\anaconda3\\envs\\dojo-env\\lib\\site-packages (from matplotlib>=2.2->seaborn==0.11.2) (1.3.2)\n",
      "Requirement already satisfied: python-dateutil>=2.7 in c:\\users\\aaron\\anaconda3\\envs\\dojo-env\\lib\\site-packages (from matplotlib>=2.2->seaborn==0.11.2) (2.8.2)\n",
      "Requirement already satisfied: pytz>=2020.1 in c:\\users\\aaron\\anaconda3\\envs\\dojo-env\\lib\\site-packages (from pandas>=0.23->seaborn==0.11.2) (2022.4)\n",
      "Requirement already satisfied: six>=1.5 in c:\\users\\aaron\\anaconda3\\envs\\dojo-env\\lib\\site-packages (from python-dateutil>=2.7->matplotlib>=2.2->seaborn==0.11.2) (1.16.0)\n"
     ]
    }
   ],
   "source": [
    "!pip install seaborn==0.11.2 --user\n"
   ]
  },
  {
   "cell_type": "code",
   "execution_count": 31,
   "metadata": {},
   "outputs": [
    {
     "name": "stdout",
     "output_type": "stream",
     "text": [
      "Requirement already satisfied: soupsieve==2.3.1 in c:\\users\\aaron\\anaconda3\\envs\\dojo-env\\lib\\site-packages (2.3.1)\n"
     ]
    }
   ],
   "source": [
    "!pip install soupsieve==2.3.1 --user\n"
   ]
  },
  {
   "cell_type": "code",
   "execution_count": 32,
   "metadata": {},
   "outputs": [
    {
     "name": "stdout",
     "output_type": "stream",
     "text": [
      "Requirement already satisfied: urllib3==1.26.8 in c:\\users\\aaron\\anaconda3\\envs\\dojo-env\\lib\\site-packages (1.26.8)\n"
     ]
    }
   ],
   "source": [
    "!pip install urllib3==1.26.8 --user\n"
   ]
  },
  {
   "cell_type": "code",
   "execution_count": 33,
   "metadata": {},
   "outputs": [
    {
     "name": "stdout",
     "output_type": "stream",
     "text": [
      "Requirement already satisfied: tmdbsimple==2.9.1 in c:\\users\\aaron\\anaconda3\\envs\\dojo-env\\lib\\site-packages (2.9.1)\n",
      "Requirement already satisfied: requests in c:\\users\\aaron\\anaconda3\\envs\\dojo-env\\lib\\site-packages (from tmdbsimple==2.9.1) (2.28.1)\n",
      "Requirement already satisfied: urllib3<1.27,>=1.21.1 in c:\\users\\aaron\\anaconda3\\envs\\dojo-env\\lib\\site-packages (from requests->tmdbsimple==2.9.1) (1.26.8)\n",
      "Requirement already satisfied: idna<4,>=2.5 in c:\\users\\aaron\\anaconda3\\envs\\dojo-env\\lib\\site-packages (from requests->tmdbsimple==2.9.1) (3.3)\n",
      "Requirement already satisfied: certifi>=2017.4.17 in c:\\users\\aaron\\anaconda3\\envs\\dojo-env\\lib\\site-packages (from requests->tmdbsimple==2.9.1) (2022.9.24)\n",
      "Requirement already satisfied: charset-normalizer<3,>=2 in c:\\users\\aaron\\anaconda3\\envs\\dojo-env\\lib\\site-packages (from requests->tmdbsimple==2.9.1) (2.1.1)\n"
     ]
    }
   ],
   "source": [
    "!pip install tmdbsimple==2.9.1 --user\n"
   ]
  },
  {
   "cell_type": "code",
   "execution_count": 34,
   "metadata": {},
   "outputs": [
    {
     "name": "stdout",
     "output_type": "stream",
     "text": [
      "Requirement already satisfied: yelpapi==2.4.0 in c:\\users\\aaron\\anaconda3\\envs\\dojo-env\\lib\\site-packages (2.4.0)\n",
      "Requirement already satisfied: requests in c:\\users\\aaron\\anaconda3\\envs\\dojo-env\\lib\\site-packages (from yelpapi==2.4.0) (2.28.1)\n",
      "Requirement already satisfied: urllib3<1.27,>=1.21.1 in c:\\users\\aaron\\anaconda3\\envs\\dojo-env\\lib\\site-packages (from requests->yelpapi==2.4.0) (1.26.8)\n",
      "Requirement already satisfied: charset-normalizer<3,>=2 in c:\\users\\aaron\\anaconda3\\envs\\dojo-env\\lib\\site-packages (from requests->yelpapi==2.4.0) (2.1.1)\n",
      "Requirement already satisfied: idna<4,>=2.5 in c:\\users\\aaron\\anaconda3\\envs\\dojo-env\\lib\\site-packages (from requests->yelpapi==2.4.0) (3.3)\n",
      "Requirement already satisfied: certifi>=2017.4.17 in c:\\users\\aaron\\anaconda3\\envs\\dojo-env\\lib\\site-packages (from requests->yelpapi==2.4.0) (2022.9.24)\n"
     ]
    }
   ],
   "source": [
    "!pip install yelpapi==2.4.0 --user\n"
   ]
  },
  {
   "cell_type": "code",
   "execution_count": 35,
   "metadata": {},
   "outputs": [],
   "source": [
    "!pip install tensorflow>=2.0 --user\n"
   ]
  },
  {
   "cell_type": "code",
   "execution_count": 36,
   "metadata": {},
   "outputs": [
    {
     "name": "stdout",
     "output_type": "stream",
     "text": [
      "Requirement already satisfied: xgboost==1.6.1 in c:\\users\\aaron\\anaconda3\\envs\\dojo-env\\lib\\site-packages (1.6.1)\n",
      "Requirement already satisfied: numpy in c:\\users\\aaron\\anaconda3\\envs\\dojo-env\\lib\\site-packages (from xgboost==1.6.1) (1.22.4)\n",
      "Requirement already satisfied: scipy in c:\\users\\aaron\\anaconda3\\envs\\dojo-env\\lib\\site-packages (from xgboost==1.6.1) (1.8.1)\n"
     ]
    }
   ],
   "source": [
    "!pip install xgboost==1.6.1 --user\n"
   ]
  },
  {
   "cell_type": "code",
   "execution_count": 37,
   "metadata": {},
   "outputs": [
    {
     "name": "stdout",
     "output_type": "stream",
     "text": [
      "Requirement already satisfied: yellowbrick==1.4 in c:\\users\\aaron\\anaconda3\\envs\\dojo-env\\lib\\site-packages (1.4)\n",
      "Requirement already satisfied: numpy>=1.16.0 in c:\\users\\aaron\\anaconda3\\envs\\dojo-env\\lib\\site-packages (from yellowbrick==1.4) (1.22.4)\n",
      "Requirement already satisfied: scipy>=1.0.0 in c:\\users\\aaron\\anaconda3\\envs\\dojo-env\\lib\\site-packages (from yellowbrick==1.4) (1.8.1)\n",
      "Requirement already satisfied: scikit-learn>=1.0.0 in c:\\users\\aaron\\anaconda3\\envs\\dojo-env\\lib\\site-packages (from yellowbrick==1.4) (1.1.2)\n",
      "Requirement already satisfied: matplotlib!=3.0.0,>=2.0.2 in c:\\users\\aaron\\anaconda3\\envs\\dojo-env\\lib\\site-packages (from yellowbrick==1.4) (3.4.3)\n",
      "Requirement already satisfied: cycler>=0.10.0 in c:\\users\\aaron\\anaconda3\\envs\\dojo-env\\lib\\site-packages (from yellowbrick==1.4) (0.11.0)\n",
      "Requirement already satisfied: pyparsing>=2.2.1 in c:\\users\\aaron\\anaconda3\\envs\\dojo-env\\lib\\site-packages (from matplotlib!=3.0.0,>=2.0.2->yellowbrick==1.4) (3.0.9)\n",
      "Requirement already satisfied: kiwisolver>=1.0.1 in c:\\users\\aaron\\anaconda3\\envs\\dojo-env\\lib\\site-packages (from matplotlib!=3.0.0,>=2.0.2->yellowbrick==1.4) (1.3.2)\n",
      "Requirement already satisfied: python-dateutil>=2.7 in c:\\users\\aaron\\anaconda3\\envs\\dojo-env\\lib\\site-packages (from matplotlib!=3.0.0,>=2.0.2->yellowbrick==1.4) (2.8.2)\n",
      "Requirement already satisfied: pillow>=6.2.0 in c:\\users\\aaron\\anaconda3\\envs\\dojo-env\\lib\\site-packages (from matplotlib!=3.0.0,>=2.0.2->yellowbrick==1.4) (9.2.0)\n",
      "Requirement already satisfied: joblib>=1.0.0 in c:\\users\\aaron\\anaconda3\\envs\\dojo-env\\lib\\site-packages (from scikit-learn>=1.0.0->yellowbrick==1.4) (1.2.0)\n",
      "Requirement already satisfied: threadpoolctl>=2.0.0 in c:\\users\\aaron\\anaconda3\\envs\\dojo-env\\lib\\site-packages (from scikit-learn>=1.0.0->yellowbrick==1.4) (3.1.0)\n",
      "Requirement already satisfied: six>=1.5 in c:\\users\\aaron\\anaconda3\\envs\\dojo-env\\lib\\site-packages (from python-dateutil>=2.7->matplotlib!=3.0.0,>=2.0.2->yellowbrick==1.4) (1.16.0)\n"
     ]
    }
   ],
   "source": [
    "!pip install yellowbrick==1.4 --user\n"
   ]
  },
  {
   "cell_type": "code",
   "execution_count": 38,
   "metadata": {},
   "outputs": [
    {
     "name": "stdout",
     "output_type": "stream",
     "text": [
      "Requirement already satisfied: jupyter-contrib-nbextensions==0.5.* in c:\\users\\aaron\\anaconda3\\envs\\dojo-env\\lib\\site-packages (0.5.1)\n",
      "Requirement already satisfied: pyyaml in c:\\users\\aaron\\anaconda3\\envs\\dojo-env\\lib\\site-packages (from jupyter-contrib-nbextensions==0.5.*) (6.0)\n",
      "Requirement already satisfied: jupyter-highlight-selected-word>=0.1.1 in c:\\users\\aaron\\anaconda3\\envs\\dojo-env\\lib\\site-packages (from jupyter-contrib-nbextensions==0.5.*) (0.2.0)\n",
      "Requirement already satisfied: traitlets>=4.1 in c:\\users\\aaron\\anaconda3\\envs\\dojo-env\\lib\\site-packages (from jupyter-contrib-nbextensions==0.5.*) (5.4.0)\n",
      "Requirement already satisfied: nbconvert>=4.2 in c:\\users\\aaron\\anaconda3\\envs\\dojo-env\\lib\\site-packages (from jupyter-contrib-nbextensions==0.5.*) (6.5.0)\n",
      "Requirement already satisfied: lxml in c:\\users\\aaron\\anaconda3\\envs\\dojo-env\\lib\\site-packages (from jupyter-contrib-nbextensions==0.5.*) (4.9.0)\n",
      "Requirement already satisfied: notebook>=4.0 in c:\\users\\aaron\\anaconda3\\envs\\dojo-env\\lib\\site-packages (from jupyter-contrib-nbextensions==0.5.*) (6.4.12)\n",
      "Requirement already satisfied: ipython-genutils in c:\\users\\aaron\\anaconda3\\envs\\dojo-env\\lib\\site-packages (from jupyter-contrib-nbextensions==0.5.*) (0.2.0)\n",
      "Requirement already satisfied: jupyter-contrib-core>=0.3.3 in c:\\users\\aaron\\anaconda3\\envs\\dojo-env\\lib\\site-packages (from jupyter-contrib-nbextensions==0.5.*) (0.4.0)\n",
      "Requirement already satisfied: tornado in c:\\users\\aaron\\anaconda3\\envs\\dojo-env\\lib\\site-packages (from jupyter-contrib-nbextensions==0.5.*) (6.2)\n",
      "Requirement already satisfied: jupyter-latex-envs>=1.3.8 in c:\\users\\aaron\\anaconda3\\envs\\dojo-env\\lib\\site-packages (from jupyter-contrib-nbextensions==0.5.*) (1.4.6)\n",
      "Requirement already satisfied: jupyter-nbextensions-configurator>=0.4.0 in c:\\users\\aaron\\anaconda3\\envs\\dojo-env\\lib\\site-packages (from jupyter-contrib-nbextensions==0.5.*) (0.4.1)\n",
      "Requirement already satisfied: jupyter-core in c:\\users\\aaron\\anaconda3\\envs\\dojo-env\\lib\\site-packages (from jupyter-contrib-nbextensions==0.5.*) (4.11.1)\n",
      "Requirement already satisfied: setuptools in c:\\users\\aaron\\anaconda3\\envs\\dojo-env\\lib\\site-packages (from jupyter-contrib-core>=0.3.3->jupyter-contrib-nbextensions==0.5.*) (65.4.1)\n",
      "Requirement already satisfied: ipython in c:\\users\\aaron\\anaconda3\\envs\\dojo-env\\lib\\site-packages (from jupyter-latex-envs>=1.3.8->jupyter-contrib-nbextensions==0.5.*) (8.5.0)\n",
      "Requirement already satisfied: jupyterlab-pygments in c:\\users\\aaron\\anaconda3\\envs\\dojo-env\\lib\\site-packages (from nbconvert>=4.2->jupyter-contrib-nbextensions==0.5.*) (0.2.2)\n",
      "Requirement already satisfied: defusedxml in c:\\users\\aaron\\anaconda3\\envs\\dojo-env\\lib\\site-packages (from nbconvert>=4.2->jupyter-contrib-nbextensions==0.5.*) (0.7.1)\n",
      "Requirement already satisfied: entrypoints>=0.2.2 in c:\\users\\aaron\\anaconda3\\envs\\dojo-env\\lib\\site-packages (from nbconvert>=4.2->jupyter-contrib-nbextensions==0.5.*) (0.4)\n",
      "Requirement already satisfied: packaging in c:\\users\\aaron\\anaconda3\\envs\\dojo-env\\lib\\site-packages (from nbconvert>=4.2->jupyter-contrib-nbextensions==0.5.*) (21.3)\n",
      "Requirement already satisfied: pygments>=2.4.1 in c:\\users\\aaron\\anaconda3\\envs\\dojo-env\\lib\\site-packages (from nbconvert>=4.2->jupyter-contrib-nbextensions==0.5.*) (2.13.0)\n",
      "Requirement already satisfied: MarkupSafe>=2.0 in c:\\users\\aaron\\anaconda3\\envs\\dojo-env\\lib\\site-packages (from nbconvert>=4.2->jupyter-contrib-nbextensions==0.5.*) (2.1.1)\n",
      "Requirement already satisfied: jinja2>=3.0 in c:\\users\\aaron\\anaconda3\\envs\\dojo-env\\lib\\site-packages (from nbconvert>=4.2->jupyter-contrib-nbextensions==0.5.*) (3.1.2)\n",
      "Requirement already satisfied: mistune<2,>=0.8.1 in c:\\users\\aaron\\anaconda3\\envs\\dojo-env\\lib\\site-packages (from nbconvert>=4.2->jupyter-contrib-nbextensions==0.5.*) (0.8.4)\n",
      "Requirement already satisfied: bleach in c:\\users\\aaron\\anaconda3\\envs\\dojo-env\\lib\\site-packages (from nbconvert>=4.2->jupyter-contrib-nbextensions==0.5.*) (5.0.1)\n",
      "Requirement already satisfied: beautifulsoup4 in c:\\users\\aaron\\anaconda3\\envs\\dojo-env\\lib\\site-packages (from nbconvert>=4.2->jupyter-contrib-nbextensions==0.5.*) (4.11.1)\n",
      "Requirement already satisfied: pandocfilters>=1.4.1 in c:\\users\\aaron\\anaconda3\\envs\\dojo-env\\lib\\site-packages (from nbconvert>=4.2->jupyter-contrib-nbextensions==0.5.*) (1.5.0)\n",
      "Requirement already satisfied: tinycss2 in c:\\users\\aaron\\anaconda3\\envs\\dojo-env\\lib\\site-packages (from nbconvert>=4.2->jupyter-contrib-nbextensions==0.5.*) (1.1.1)\n",
      "Requirement already satisfied: nbclient>=0.5.0 in c:\\users\\aaron\\anaconda3\\envs\\dojo-env\\lib\\site-packages (from nbconvert>=4.2->jupyter-contrib-nbextensions==0.5.*) (0.6.8)\n",
      "Requirement already satisfied: nbformat>=5.1 in c:\\users\\aaron\\anaconda3\\envs\\dojo-env\\lib\\site-packages (from nbconvert>=4.2->jupyter-contrib-nbextensions==0.5.*) (5.6.1)\n",
      "Requirement already satisfied: pywin32>=1.0 in c:\\users\\aaron\\anaconda3\\envs\\dojo-env\\lib\\site-packages (from jupyter-core->jupyter-contrib-nbextensions==0.5.*) (303)\n",
      "Requirement already satisfied: Send2Trash>=1.8.0 in c:\\users\\aaron\\anaconda3\\envs\\dojo-env\\lib\\site-packages (from notebook>=4.0->jupyter-contrib-nbextensions==0.5.*) (1.8.0)\n",
      "Requirement already satisfied: terminado>=0.8.3 in c:\\users\\aaron\\anaconda3\\envs\\dojo-env\\lib\\site-packages (from notebook>=4.0->jupyter-contrib-nbextensions==0.5.*) (0.16.0)\n",
      "Requirement already satisfied: prometheus-client in c:\\users\\aaron\\anaconda3\\envs\\dojo-env\\lib\\site-packages (from notebook>=4.0->jupyter-contrib-nbextensions==0.5.*) (0.14.1)\n",
      "Requirement already satisfied: argon2-cffi in c:\\users\\aaron\\anaconda3\\envs\\dojo-env\\lib\\site-packages (from notebook>=4.0->jupyter-contrib-nbextensions==0.5.*) (21.3.0)\n",
      "Requirement already satisfied: ipykernel in c:\\users\\aaron\\anaconda3\\envs\\dojo-env\\lib\\site-packages (from notebook>=4.0->jupyter-contrib-nbextensions==0.5.*) (6.16.0)\n",
      "Requirement already satisfied: nest-asyncio>=1.5 in c:\\users\\aaron\\anaconda3\\envs\\dojo-env\\lib\\site-packages (from notebook>=4.0->jupyter-contrib-nbextensions==0.5.*) (1.5.6)\n",
      "Requirement already satisfied: jupyter-client>=5.3.4 in c:\\users\\aaron\\anaconda3\\envs\\dojo-env\\lib\\site-packages (from notebook>=4.0->jupyter-contrib-nbextensions==0.5.*) (7.3.5)\n",
      "Requirement already satisfied: pyzmq>=17 in c:\\users\\aaron\\anaconda3\\envs\\dojo-env\\lib\\site-packages (from notebook>=4.0->jupyter-contrib-nbextensions==0.5.*) (24.0.1)\n",
      "Requirement already satisfied: python-dateutil>=2.8.2 in c:\\users\\aaron\\anaconda3\\envs\\dojo-env\\lib\\site-packages (from jupyter-client>=5.3.4->notebook>=4.0->jupyter-contrib-nbextensions==0.5.*) (2.8.2)\n",
      "Requirement already satisfied: jsonschema>=2.6 in c:\\users\\aaron\\anaconda3\\envs\\dojo-env\\lib\\site-packages (from nbformat>=5.1->nbconvert>=4.2->jupyter-contrib-nbextensions==0.5.*) (4.16.0)\n",
      "Requirement already satisfied: fastjsonschema in c:\\users\\aaron\\anaconda3\\envs\\dojo-env\\lib\\site-packages (from nbformat>=5.1->nbconvert>=4.2->jupyter-contrib-nbextensions==0.5.*) (2.16.2)\n",
      "Requirement already satisfied: pywinpty>=1.1.0 in c:\\users\\aaron\\anaconda3\\envs\\dojo-env\\lib\\site-packages (from terminado>=0.8.3->notebook>=4.0->jupyter-contrib-nbextensions==0.5.*) (2.0.8)\n",
      "Requirement already satisfied: argon2-cffi-bindings in c:\\users\\aaron\\anaconda3\\envs\\dojo-env\\lib\\site-packages (from argon2-cffi->notebook>=4.0->jupyter-contrib-nbextensions==0.5.*) (21.2.0)\n",
      "Requirement already satisfied: soupsieve>1.2 in c:\\users\\aaron\\anaconda3\\envs\\dojo-env\\lib\\site-packages (from beautifulsoup4->nbconvert>=4.2->jupyter-contrib-nbextensions==0.5.*) (2.3.1)\n",
      "Requirement already satisfied: six>=1.9.0 in c:\\users\\aaron\\anaconda3\\envs\\dojo-env\\lib\\site-packages (from bleach->nbconvert>=4.2->jupyter-contrib-nbextensions==0.5.*) (1.16.0)\n",
      "Requirement already satisfied: webencodings in c:\\users\\aaron\\anaconda3\\envs\\dojo-env\\lib\\site-packages (from bleach->nbconvert>=4.2->jupyter-contrib-nbextensions==0.5.*) (0.5.1)\n",
      "Requirement already satisfied: matplotlib-inline>=0.1 in c:\\users\\aaron\\anaconda3\\envs\\dojo-env\\lib\\site-packages (from ipykernel->notebook>=4.0->jupyter-contrib-nbextensions==0.5.*) (0.1.6)\n",
      "Requirement already satisfied: debugpy>=1.0 in c:\\users\\aaron\\anaconda3\\envs\\dojo-env\\lib\\site-packages (from ipykernel->notebook>=4.0->jupyter-contrib-nbextensions==0.5.*) (1.6.3)\n",
      "Requirement already satisfied: psutil in c:\\users\\aaron\\anaconda3\\envs\\dojo-env\\lib\\site-packages (from ipykernel->notebook>=4.0->jupyter-contrib-nbextensions==0.5.*) (5.9.2)\n",
      "Requirement already satisfied: decorator in c:\\users\\aaron\\anaconda3\\envs\\dojo-env\\lib\\site-packages (from ipython->jupyter-latex-envs>=1.3.8->jupyter-contrib-nbextensions==0.5.*) (5.1.1)\n",
      "Requirement already satisfied: prompt-toolkit<3.1.0,>3.0.1 in c:\\users\\aaron\\anaconda3\\envs\\dojo-env\\lib\\site-packages (from ipython->jupyter-latex-envs>=1.3.8->jupyter-contrib-nbextensions==0.5.*) (3.0.31)\n",
      "Requirement already satisfied: backcall in c:\\users\\aaron\\anaconda3\\envs\\dojo-env\\lib\\site-packages (from ipython->jupyter-latex-envs>=1.3.8->jupyter-contrib-nbextensions==0.5.*) (0.2.0)\n",
      "Requirement already satisfied: jedi>=0.16 in c:\\users\\aaron\\anaconda3\\envs\\dojo-env\\lib\\site-packages (from ipython->jupyter-latex-envs>=1.3.8->jupyter-contrib-nbextensions==0.5.*) (0.18.1)\n",
      "Requirement already satisfied: stack-data in c:\\users\\aaron\\anaconda3\\envs\\dojo-env\\lib\\site-packages (from ipython->jupyter-latex-envs>=1.3.8->jupyter-contrib-nbextensions==0.5.*) (0.5.1)\n",
      "Requirement already satisfied: colorama in c:\\users\\aaron\\anaconda3\\envs\\dojo-env\\lib\\site-packages (from ipython->jupyter-latex-envs>=1.3.8->jupyter-contrib-nbextensions==0.5.*) (0.4.5)\n",
      "Requirement already satisfied: pickleshare in c:\\users\\aaron\\anaconda3\\envs\\dojo-env\\lib\\site-packages (from ipython->jupyter-latex-envs>=1.3.8->jupyter-contrib-nbextensions==0.5.*) (0.7.5)\n",
      "Requirement already satisfied: pyparsing!=3.0.5,>=2.0.2 in c:\\users\\aaron\\anaconda3\\envs\\dojo-env\\lib\\site-packages (from packaging->nbconvert>=4.2->jupyter-contrib-nbextensions==0.5.*) (3.0.9)\n",
      "Requirement already satisfied: parso<0.9.0,>=0.8.0 in c:\\users\\aaron\\anaconda3\\envs\\dojo-env\\lib\\site-packages (from jedi>=0.16->ipython->jupyter-latex-envs>=1.3.8->jupyter-contrib-nbextensions==0.5.*) (0.8.3)\n",
      "Requirement already satisfied: pkgutil-resolve-name>=1.3.10 in c:\\users\\aaron\\anaconda3\\envs\\dojo-env\\lib\\site-packages (from jsonschema>=2.6->nbformat>=5.1->nbconvert>=4.2->jupyter-contrib-nbextensions==0.5.*) (1.3.10)\n",
      "Requirement already satisfied: importlib-resources>=1.4.0 in c:\\users\\aaron\\anaconda3\\envs\\dojo-env\\lib\\site-packages (from jsonschema>=2.6->nbformat>=5.1->nbconvert>=4.2->jupyter-contrib-nbextensions==0.5.*) (5.9.0)\n",
      "Requirement already satisfied: attrs>=17.4.0 in c:\\users\\aaron\\anaconda3\\envs\\dojo-env\\lib\\site-packages (from jsonschema>=2.6->nbformat>=5.1->nbconvert>=4.2->jupyter-contrib-nbextensions==0.5.*) (22.1.0)\n",
      "Requirement already satisfied: pyrsistent!=0.17.0,!=0.17.1,!=0.17.2,>=0.14.0 in c:\\users\\aaron\\anaconda3\\envs\\dojo-env\\lib\\site-packages (from jsonschema>=2.6->nbformat>=5.1->nbconvert>=4.2->jupyter-contrib-nbextensions==0.5.*) (0.18.1)\n",
      "Requirement already satisfied: wcwidth in c:\\users\\aaron\\anaconda3\\envs\\dojo-env\\lib\\site-packages (from prompt-toolkit<3.1.0,>3.0.1->ipython->jupyter-latex-envs>=1.3.8->jupyter-contrib-nbextensions==0.5.*) (0.2.5)\n",
      "Requirement already satisfied: cffi>=1.0.1 in c:\\users\\aaron\\anaconda3\\envs\\dojo-env\\lib\\site-packages (from argon2-cffi-bindings->argon2-cffi->notebook>=4.0->jupyter-contrib-nbextensions==0.5.*) (1.15.1)\n",
      "Requirement already satisfied: executing in c:\\users\\aaron\\anaconda3\\envs\\dojo-env\\lib\\site-packages (from stack-data->ipython->jupyter-latex-envs>=1.3.8->jupyter-contrib-nbextensions==0.5.*) (1.1.0)\n",
      "Requirement already satisfied: asttokens in c:\\users\\aaron\\anaconda3\\envs\\dojo-env\\lib\\site-packages (from stack-data->ipython->jupyter-latex-envs>=1.3.8->jupyter-contrib-nbextensions==0.5.*) (2.0.8)\n",
      "Requirement already satisfied: pure-eval in c:\\users\\aaron\\anaconda3\\envs\\dojo-env\\lib\\site-packages (from stack-data->ipython->jupyter-latex-envs>=1.3.8->jupyter-contrib-nbextensions==0.5.*) (0.2.2)\n",
      "Requirement already satisfied: pycparser in c:\\users\\aaron\\anaconda3\\envs\\dojo-env\\lib\\site-packages (from cffi>=1.0.1->argon2-cffi-bindings->argon2-cffi->notebook>=4.0->jupyter-contrib-nbextensions==0.5.*) (2.21)\n",
      "Requirement already satisfied: zipp>=3.1.0 in c:\\users\\aaron\\anaconda3\\envs\\dojo-env\\lib\\site-packages (from importlib-resources>=1.4.0->jsonschema>=2.6->nbformat>=5.1->nbconvert>=4.2->jupyter-contrib-nbextensions==0.5.*) (3.8.1)\n"
     ]
    }
   ],
   "source": [
    "!pip install jupyter-contrib-nbextensions==0.5.* --user\n"
   ]
  },
  {
   "cell_type": "code",
   "execution_count": 39,
   "metadata": {},
   "outputs": [
    {
     "name": "stdout",
     "output_type": "stream",
     "text": [
      "Requirement already satisfied: jupyter-nbextensions-configurator==0.4.* in c:\\users\\aaron\\anaconda3\\envs\\dojo-env\\lib\\site-packages (0.4.1)\n",
      "Requirement already satisfied: jupyter-core in c:\\users\\aaron\\anaconda3\\envs\\dojo-env\\lib\\site-packages (from jupyter-nbextensions-configurator==0.4.*) (4.11.1)\n",
      "Requirement already satisfied: pyyaml in c:\\users\\aaron\\anaconda3\\envs\\dojo-env\\lib\\site-packages (from jupyter-nbextensions-configurator==0.4.*) (6.0)\n",
      "Requirement already satisfied: traitlets in c:\\users\\aaron\\anaconda3\\envs\\dojo-env\\lib\\site-packages (from jupyter-nbextensions-configurator==0.4.*) (5.4.0)\n",
      "Requirement already satisfied: notebook>=4.0 in c:\\users\\aaron\\anaconda3\\envs\\dojo-env\\lib\\site-packages (from jupyter-nbextensions-configurator==0.4.*) (6.4.12)\n",
      "Requirement already satisfied: tornado in c:\\users\\aaron\\anaconda3\\envs\\dojo-env\\lib\\site-packages (from jupyter-nbextensions-configurator==0.4.*) (6.2)\n",
      "Requirement already satisfied: jupyter-contrib-core>=0.3.3 in c:\\users\\aaron\\anaconda3\\envs\\dojo-env\\lib\\site-packages (from jupyter-nbextensions-configurator==0.4.*) (0.4.0)\n",
      "Requirement already satisfied: setuptools in c:\\users\\aaron\\anaconda3\\envs\\dojo-env\\lib\\site-packages (from jupyter-contrib-core>=0.3.3->jupyter-nbextensions-configurator==0.4.*) (65.4.1)\n",
      "Requirement already satisfied: jinja2 in c:\\users\\aaron\\anaconda3\\envs\\dojo-env\\lib\\site-packages (from notebook>=4.0->jupyter-nbextensions-configurator==0.4.*) (3.1.2)\n",
      "Requirement already satisfied: nbconvert>=5 in c:\\users\\aaron\\anaconda3\\envs\\dojo-env\\lib\\site-packages (from notebook>=4.0->jupyter-nbextensions-configurator==0.4.*) (6.5.0)\n",
      "Requirement already satisfied: pyzmq>=17 in c:\\users\\aaron\\anaconda3\\envs\\dojo-env\\lib\\site-packages (from notebook>=4.0->jupyter-nbextensions-configurator==0.4.*) (24.0.1)\n",
      "Requirement already satisfied: prometheus-client in c:\\users\\aaron\\anaconda3\\envs\\dojo-env\\lib\\site-packages (from notebook>=4.0->jupyter-nbextensions-configurator==0.4.*) (0.14.1)\n",
      "Requirement already satisfied: ipython-genutils in c:\\users\\aaron\\anaconda3\\envs\\dojo-env\\lib\\site-packages (from notebook>=4.0->jupyter-nbextensions-configurator==0.4.*) (0.2.0)\n",
      "Requirement already satisfied: nbformat in c:\\users\\aaron\\anaconda3\\envs\\dojo-env\\lib\\site-packages (from notebook>=4.0->jupyter-nbextensions-configurator==0.4.*) (5.6.1)\n",
      "Requirement already satisfied: nest-asyncio>=1.5 in c:\\users\\aaron\\anaconda3\\envs\\dojo-env\\lib\\site-packages (from notebook>=4.0->jupyter-nbextensions-configurator==0.4.*) (1.5.6)\n",
      "Requirement already satisfied: terminado>=0.8.3 in c:\\users\\aaron\\anaconda3\\envs\\dojo-env\\lib\\site-packages (from notebook>=4.0->jupyter-nbextensions-configurator==0.4.*) (0.16.0)\n",
      "Requirement already satisfied: argon2-cffi in c:\\users\\aaron\\anaconda3\\envs\\dojo-env\\lib\\site-packages (from notebook>=4.0->jupyter-nbextensions-configurator==0.4.*) (21.3.0)\n",
      "Requirement already satisfied: ipykernel in c:\\users\\aaron\\anaconda3\\envs\\dojo-env\\lib\\site-packages (from notebook>=4.0->jupyter-nbextensions-configurator==0.4.*) (6.16.0)\n",
      "Requirement already satisfied: jupyter-client>=5.3.4 in c:\\users\\aaron\\anaconda3\\envs\\dojo-env\\lib\\site-packages (from notebook>=4.0->jupyter-nbextensions-configurator==0.4.*) (7.3.5)\n",
      "Requirement already satisfied: Send2Trash>=1.8.0 in c:\\users\\aaron\\anaconda3\\envs\\dojo-env\\lib\\site-packages (from notebook>=4.0->jupyter-nbextensions-configurator==0.4.*) (1.8.0)\n",
      "Requirement already satisfied: pywin32>=1.0 in c:\\users\\aaron\\anaconda3\\envs\\dojo-env\\lib\\site-packages (from jupyter-core->jupyter-nbextensions-configurator==0.4.*) (303)\n",
      "Requirement already satisfied: python-dateutil>=2.8.2 in c:\\users\\aaron\\anaconda3\\envs\\dojo-env\\lib\\site-packages (from jupyter-client>=5.3.4->notebook>=4.0->jupyter-nbextensions-configurator==0.4.*) (2.8.2)\n",
      "Requirement already satisfied: entrypoints in c:\\users\\aaron\\anaconda3\\envs\\dojo-env\\lib\\site-packages (from jupyter-client>=5.3.4->notebook>=4.0->jupyter-nbextensions-configurator==0.4.*) (0.4)\n",
      "Requirement already satisfied: packaging in c:\\users\\aaron\\anaconda3\\envs\\dojo-env\\lib\\site-packages (from nbconvert>=5->notebook>=4.0->jupyter-nbextensions-configurator==0.4.*) (21.3)\n",
      "Requirement already satisfied: bleach in c:\\users\\aaron\\anaconda3\\envs\\dojo-env\\lib\\site-packages (from nbconvert>=5->notebook>=4.0->jupyter-nbextensions-configurator==0.4.*) (5.0.1)\n",
      "Requirement already satisfied: pygments>=2.4.1 in c:\\users\\aaron\\anaconda3\\envs\\dojo-env\\lib\\site-packages (from nbconvert>=5->notebook>=4.0->jupyter-nbextensions-configurator==0.4.*) (2.13.0)\n",
      "Requirement already satisfied: nbclient>=0.5.0 in c:\\users\\aaron\\anaconda3\\envs\\dojo-env\\lib\\site-packages (from nbconvert>=5->notebook>=4.0->jupyter-nbextensions-configurator==0.4.*) (0.6.8)\n",
      "Requirement already satisfied: jupyterlab-pygments in c:\\users\\aaron\\anaconda3\\envs\\dojo-env\\lib\\site-packages (from nbconvert>=5->notebook>=4.0->jupyter-nbextensions-configurator==0.4.*) (0.2.2)\n",
      "Requirement already satisfied: beautifulsoup4 in c:\\users\\aaron\\anaconda3\\envs\\dojo-env\\lib\\site-packages (from nbconvert>=5->notebook>=4.0->jupyter-nbextensions-configurator==0.4.*) (4.11.1)\n",
      "Requirement already satisfied: mistune<2,>=0.8.1 in c:\\users\\aaron\\anaconda3\\envs\\dojo-env\\lib\\site-packages (from nbconvert>=5->notebook>=4.0->jupyter-nbextensions-configurator==0.4.*) (0.8.4)\n",
      "Requirement already satisfied: MarkupSafe>=2.0 in c:\\users\\aaron\\anaconda3\\envs\\dojo-env\\lib\\site-packages (from nbconvert>=5->notebook>=4.0->jupyter-nbextensions-configurator==0.4.*) (2.1.1)\n",
      "Requirement already satisfied: pandocfilters>=1.4.1 in c:\\users\\aaron\\anaconda3\\envs\\dojo-env\\lib\\site-packages (from nbconvert>=5->notebook>=4.0->jupyter-nbextensions-configurator==0.4.*) (1.5.0)\n",
      "Requirement already satisfied: defusedxml in c:\\users\\aaron\\anaconda3\\envs\\dojo-env\\lib\\site-packages (from nbconvert>=5->notebook>=4.0->jupyter-nbextensions-configurator==0.4.*) (0.7.1)\n",
      "Requirement already satisfied: tinycss2 in c:\\users\\aaron\\anaconda3\\envs\\dojo-env\\lib\\site-packages (from nbconvert>=5->notebook>=4.0->jupyter-nbextensions-configurator==0.4.*) (1.1.1)\n",
      "Requirement already satisfied: fastjsonschema in c:\\users\\aaron\\anaconda3\\envs\\dojo-env\\lib\\site-packages (from nbformat->notebook>=4.0->jupyter-nbextensions-configurator==0.4.*) (2.16.2)\n",
      "Requirement already satisfied: jsonschema>=2.6 in c:\\users\\aaron\\anaconda3\\envs\\dojo-env\\lib\\site-packages (from nbformat->notebook>=4.0->jupyter-nbextensions-configurator==0.4.*) (4.16.0)\n",
      "Requirement already satisfied: pywinpty>=1.1.0 in c:\\users\\aaron\\anaconda3\\envs\\dojo-env\\lib\\site-packages (from terminado>=0.8.3->notebook>=4.0->jupyter-nbextensions-configurator==0.4.*) (2.0.8)\n",
      "Requirement already satisfied: argon2-cffi-bindings in c:\\users\\aaron\\anaconda3\\envs\\dojo-env\\lib\\site-packages (from argon2-cffi->notebook>=4.0->jupyter-nbextensions-configurator==0.4.*) (21.2.0)\n",
      "Requirement already satisfied: debugpy>=1.0 in c:\\users\\aaron\\anaconda3\\envs\\dojo-env\\lib\\site-packages (from ipykernel->notebook>=4.0->jupyter-nbextensions-configurator==0.4.*) (1.6.3)\n",
      "Requirement already satisfied: psutil in c:\\users\\aaron\\anaconda3\\envs\\dojo-env\\lib\\site-packages (from ipykernel->notebook>=4.0->jupyter-nbextensions-configurator==0.4.*) (5.9.2)\n",
      "Requirement already satisfied: matplotlib-inline>=0.1 in c:\\users\\aaron\\anaconda3\\envs\\dojo-env\\lib\\site-packages (from ipykernel->notebook>=4.0->jupyter-nbextensions-configurator==0.4.*) (0.1.6)\n",
      "Requirement already satisfied: ipython>=7.23.1 in c:\\users\\aaron\\anaconda3\\envs\\dojo-env\\lib\\site-packages (from ipykernel->notebook>=4.0->jupyter-nbextensions-configurator==0.4.*) (8.5.0)\n",
      "Requirement already satisfied: stack-data in c:\\users\\aaron\\anaconda3\\envs\\dojo-env\\lib\\site-packages (from ipython>=7.23.1->ipykernel->notebook>=4.0->jupyter-nbextensions-configurator==0.4.*) (0.5.1)\n",
      "Requirement already satisfied: colorama in c:\\users\\aaron\\anaconda3\\envs\\dojo-env\\lib\\site-packages (from ipython>=7.23.1->ipykernel->notebook>=4.0->jupyter-nbextensions-configurator==0.4.*) (0.4.5)\n",
      "Requirement already satisfied: pickleshare in c:\\users\\aaron\\anaconda3\\envs\\dojo-env\\lib\\site-packages (from ipython>=7.23.1->ipykernel->notebook>=4.0->jupyter-nbextensions-configurator==0.4.*) (0.7.5)\n",
      "Requirement already satisfied: backcall in c:\\users\\aaron\\anaconda3\\envs\\dojo-env\\lib\\site-packages (from ipython>=7.23.1->ipykernel->notebook>=4.0->jupyter-nbextensions-configurator==0.4.*) (0.2.0)\n",
      "Requirement already satisfied: jedi>=0.16 in c:\\users\\aaron\\anaconda3\\envs\\dojo-env\\lib\\site-packages (from ipython>=7.23.1->ipykernel->notebook>=4.0->jupyter-nbextensions-configurator==0.4.*) (0.18.1)\n",
      "Requirement already satisfied: prompt-toolkit<3.1.0,>3.0.1 in c:\\users\\aaron\\anaconda3\\envs\\dojo-env\\lib\\site-packages (from ipython>=7.23.1->ipykernel->notebook>=4.0->jupyter-nbextensions-configurator==0.4.*) (3.0.31)\n",
      "Requirement already satisfied: decorator in c:\\users\\aaron\\anaconda3\\envs\\dojo-env\\lib\\site-packages (from ipython>=7.23.1->ipykernel->notebook>=4.0->jupyter-nbextensions-configurator==0.4.*) (5.1.1)\n",
      "Requirement already satisfied: importlib-resources>=1.4.0 in c:\\users\\aaron\\anaconda3\\envs\\dojo-env\\lib\\site-packages (from jsonschema>=2.6->nbformat->notebook>=4.0->jupyter-nbextensions-configurator==0.4.*) (5.9.0)\n",
      "Requirement already satisfied: pyrsistent!=0.17.0,!=0.17.1,!=0.17.2,>=0.14.0 in c:\\users\\aaron\\anaconda3\\envs\\dojo-env\\lib\\site-packages (from jsonschema>=2.6->nbformat->notebook>=4.0->jupyter-nbextensions-configurator==0.4.*) (0.18.1)\n",
      "Requirement already satisfied: attrs>=17.4.0 in c:\\users\\aaron\\anaconda3\\envs\\dojo-env\\lib\\site-packages (from jsonschema>=2.6->nbformat->notebook>=4.0->jupyter-nbextensions-configurator==0.4.*) (22.1.0)\n",
      "Requirement already satisfied: pkgutil-resolve-name>=1.3.10 in c:\\users\\aaron\\anaconda3\\envs\\dojo-env\\lib\\site-packages (from jsonschema>=2.6->nbformat->notebook>=4.0->jupyter-nbextensions-configurator==0.4.*) (1.3.10)\n",
      "Requirement already satisfied: six>=1.5 in c:\\users\\aaron\\anaconda3\\envs\\dojo-env\\lib\\site-packages (from python-dateutil>=2.8.2->jupyter-client>=5.3.4->notebook>=4.0->jupyter-nbextensions-configurator==0.4.*) (1.16.0)\n",
      "Requirement already satisfied: cffi>=1.0.1 in c:\\users\\aaron\\anaconda3\\envs\\dojo-env\\lib\\site-packages (from argon2-cffi-bindings->argon2-cffi->notebook>=4.0->jupyter-nbextensions-configurator==0.4.*) (1.15.1)\n",
      "Requirement already satisfied: soupsieve>1.2 in c:\\users\\aaron\\anaconda3\\envs\\dojo-env\\lib\\site-packages (from beautifulsoup4->nbconvert>=5->notebook>=4.0->jupyter-nbextensions-configurator==0.4.*) (2.3.1)\n",
      "Requirement already satisfied: webencodings in c:\\users\\aaron\\anaconda3\\envs\\dojo-env\\lib\\site-packages (from bleach->nbconvert>=5->notebook>=4.0->jupyter-nbextensions-configurator==0.4.*) (0.5.1)\n",
      "Requirement already satisfied: pyparsing!=3.0.5,>=2.0.2 in c:\\users\\aaron\\anaconda3\\envs\\dojo-env\\lib\\site-packages (from packaging->nbconvert>=5->notebook>=4.0->jupyter-nbextensions-configurator==0.4.*) (3.0.9)\n",
      "Requirement already satisfied: pycparser in c:\\users\\aaron\\anaconda3\\envs\\dojo-env\\lib\\site-packages (from cffi>=1.0.1->argon2-cffi-bindings->argon2-cffi->notebook>=4.0->jupyter-nbextensions-configurator==0.4.*) (2.21)\n",
      "Requirement already satisfied: zipp>=3.1.0 in c:\\users\\aaron\\anaconda3\\envs\\dojo-env\\lib\\site-packages (from importlib-resources>=1.4.0->jsonschema>=2.6->nbformat->notebook>=4.0->jupyter-nbextensions-configurator==0.4.*) (3.8.1)\n",
      "Requirement already satisfied: parso<0.9.0,>=0.8.0 in c:\\users\\aaron\\anaconda3\\envs\\dojo-env\\lib\\site-packages (from jedi>=0.16->ipython>=7.23.1->ipykernel->notebook>=4.0->jupyter-nbextensions-configurator==0.4.*) (0.8.3)\n",
      "Requirement already satisfied: wcwidth in c:\\users\\aaron\\anaconda3\\envs\\dojo-env\\lib\\site-packages (from prompt-toolkit<3.1.0,>3.0.1->ipython>=7.23.1->ipykernel->notebook>=4.0->jupyter-nbextensions-configurator==0.4.*) (0.2.5)\n",
      "Requirement already satisfied: pure-eval in c:\\users\\aaron\\anaconda3\\envs\\dojo-env\\lib\\site-packages (from stack-data->ipython>=7.23.1->ipykernel->notebook>=4.0->jupyter-nbextensions-configurator==0.4.*) (0.2.2)\n",
      "Requirement already satisfied: asttokens in c:\\users\\aaron\\anaconda3\\envs\\dojo-env\\lib\\site-packages (from stack-data->ipython>=7.23.1->ipykernel->notebook>=4.0->jupyter-nbextensions-configurator==0.4.*) (2.0.8)\n",
      "Requirement already satisfied: executing in c:\\users\\aaron\\anaconda3\\envs\\dojo-env\\lib\\site-packages (from stack-data->ipython>=7.23.1->ipykernel->notebook>=4.0->jupyter-nbextensions-configurator==0.4.*) (1.1.0)\n"
     ]
    }
   ],
   "source": [
    "!pip install jupyter-nbextensions-configurator==0.4.* --user"
   ]
  }
 ],
 "metadata": {
  "kernelspec": {
   "display_name": "Python (dojo-env)",
   "language": "python",
   "name": "dojo-env"
  },
  "language_info": {
   "codemirror_mode": {
    "name": "ipython",
    "version": 3
   },
   "file_extension": ".py",
   "mimetype": "text/x-python",
   "name": "python",
   "nbconvert_exporter": "python",
   "pygments_lexer": "ipython3",
   "version": "3.8.13"
  },
  "toc": {
   "base_numbering": 1,
   "nav_menu": {},
   "number_sections": false,
   "sideBar": true,
   "skip_h1_title": false,
   "title_cell": "Table of Contents",
   "title_sidebar": "Contents",
   "toc_cell": false,
   "toc_position": {},
   "toc_section_display": true,
   "toc_window_display": false
  },
  "vscode": {
   "interpreter": {
    "hash": "295804e8e014c2a214e7062c757c6b8addd86bbffb9090c97cdc9a271490da83"
   }
  }
 },
 "nbformat": 4,
 "nbformat_minor": 2
}
