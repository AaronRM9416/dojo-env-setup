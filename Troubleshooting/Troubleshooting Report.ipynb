{
 "cells": [
  {
   "cell_type": "markdown",
   "metadata": {},
   "source": [
    "# Env Troubleshooting Report"
   ]
  },
  {
   "cell_type": "markdown",
   "metadata": {},
   "source": [
    "> This notebook is a bare bones snippet from the main environment testing notebooks.\n",
    "- **Ideally, you should first open and run all of the cells in the appropriate environment tester notebook** (see list of file names below)\n",
    "- In the main folder of this repo (above this Troubleshooting folder):\n",
    "\t- \"EnvironmentTester-mac.ipynb\" \n",
    "\t- \"EnvironmentTester-windows.ipynb\"\n",
    "\t\n",
    "\n",
    "- You can also just run the first code cells in this notebook to get a barebones report about your environment.\n",
    "\n",
    "> - **You should show the output of both notebooks to your instructor or TA when troubleshooting.**\n",
    "\n",
    "\n"
   ]
  },
  {
   "cell_type": "markdown",
   "metadata": {},
   "source": [
    "### Set the Output Folder And Delete Previous .txt files"
   ]
  },
  {
   "cell_type": "code",
   "execution_count": null,
   "metadata": {},
   "outputs": [],
   "source": [
    "import os, glob, sys\n",
    "VERBOSE = True\n",
    "\n",
    "## Make sure troubleshooting folder exists\n",
    "filepath = os.path.abspath(os.path.curdir)\n",
    "if filepath.endswith('Troubleshooting') == False:\n",
    "\tos.makedirs('Troubleshooting',exist_ok=True)\n",
    "\toutput_folder = os.path.abspath('./Troubleshooting/')\n",
    "else:\n",
    "\toutput_folder = os.path.abspath(os.path.curdir)\n",
    "\t# relative_folder = os.path.curdir()\n",
    "\n",
    "## Normalize file path for Windows compatibility\n",
    "output_folder = os.path.normpath(output_folder)\n",
    "if VERBOSE:\n",
    "\tprint(f'- The report will be saved in this folder: \"{output_folder}\"')"
   ]
  },
  {
   "cell_type": "code",
   "execution_count": null,
   "metadata": {},
   "outputs": [],
   "source": [
    "os.path.normpath(output_folder)"
   ]
  },
  {
   "cell_type": "code",
   "execution_count": null,
   "metadata": {},
   "outputs": [],
   "source": [
    "## check if txt files already exist\n",
    " \n",
    "## if so, delete the files (list comprehensions way)\n",
    "txt_files = glob.glob(output_folder+\"/*.txt\")\n",
    "[os.remove(f) for f in txt_files]\t\t\n",
    "\n",
    "# ## Loop to Remove\n",
    "# for file in txt_files:\n",
    "# \tif os.path.isfile(file):\n",
    "# \t\tos.remove(file)\n",
    "\n",
    "## Confirm they're deleted\t\t\n",
    "txt_files = glob.glob(output_folder+\"/*.txt\")\n",
    "\n",
    "if VERBOSE:\n",
    "\tif len(txt_files) == 0:\n",
    "\t\tprint('- [i] Previous text files successfully deleted.')\n",
    "\telse:\n",
    "\t\tprint(f'[!] Previous text files not fully delted ({len(txt_files)} files remain)')"
   ]
  },
  {
   "cell_type": "markdown",
   "metadata": {},
   "source": [
    "### Save Environment Info from Terminal Commands"
   ]
  },
  {
   "cell_type": "code",
   "execution_count": null,
   "metadata": {},
   "outputs": [],
   "source": [
    "## Exporting Troubleshooting reports \n",
    "# (just in case you need help troubleshooting with an instrutor)\n",
    "\n",
    "!echo $PATH >> shell_path.txt\n",
    "\n",
    "!conda info >> \"$output_folder/conda info.txt\"\n",
    "!conda env list >> \"$output_folder/conda env list.txt\"\n",
    "!conda list >> \"$output_folder/conda list.txt\"\n",
    "\n",
    "!jupyter kernelspec list >> \"$output_folder/jupyter kernelspec list.txt\"\n",
    "!which python >>\"$output_folder/which python.txt\"\n",
    "!whoami >> \"$output_folder/whoami.txt\"\n",
    "\n",
    "## get all .txt files\n",
    "txt_files = sorted(glob.glob(output_folder+\"/*.txt\"))\n",
    "len(txt_files)\n"
   ]
  },
  {
   "cell_type": "code",
   "execution_count": null,
   "metadata": {},
   "outputs": [],
   "source": [
    "# ## test getting simple name from fpath\n",
    "# os.path.basename(txt_files[0])"
   ]
  },
  {
   "cell_type": "markdown",
   "metadata": {},
   "source": [
    "### Combine Text File Outputs into 1 Report"
   ]
  },
  {
   "cell_type": "code",
   "execution_count": null,
   "metadata": {},
   "outputs": [],
   "source": [
    "## Combine Text Files into a Dictionary with filename as the keyd\n",
    "raw_report = {}\n",
    "for file in txt_files:\n",
    "\t## simple filename for key\n",
    "\tsimple_fname = os.path.basename(file).replace('.txt','')\n",
    "\t\n",
    "\t# Open file and save its contents into dict\n",
    "\twith open(file) as f:\n",
    "\t\traw_report[simple_fname] =f.read()\n",
    "\t\t\n",
    "raw_report.keys()"
   ]
  },
  {
   "cell_type": "code",
   "execution_count": null,
   "metadata": {},
   "outputs": [],
   "source": [
    "## Setting Preferred Order (conda list last) using orderd_report list\n",
    "if \"conda list\" in raw_report.keys():\n",
    "\tconda_list = raw_report.pop('conda list')\n",
    "\n",
    "ordered_report = []\n",
    "for key, data in raw_report.items():\n",
    "\tordered_report.append({key:data})\n",
    "ordered_report.append({'conda list':conda_list})"
   ]
  },
  {
   "cell_type": "code",
   "execution_count": null,
   "metadata": {},
   "outputs": [],
   "source": [
    "## Generating final report \n",
    "report_list = []\n",
    "banner = \"====\"*20\n",
    "\n",
    "for report_dict in ordered_report:\n",
    "\tfor name, txt_report in report_dict.items():\n",
    "\t\t\n",
    "\t\t## Start report piece with banner\n",
    "\t\treport_piece = f\"{banner}\\n- [i] {name}:\\n{banner}\\n\"\n",
    "\t\t\n",
    "\t\t## Split System Path for readability\n",
    "\t\tif name == \"shell_path\":\n",
    "\t\t\ttxt_report = txt_report.replace(\":\",\"\\n:\")\n",
    "\t\t\t\n",
    "\t\t## Append file's contents\n",
    "\t\treport_piece += txt_report\n",
    "\t\treport_piece+=f\"{banner}\\n\\n\"\n",
    "\t\t\n",
    "\t\treport_list.append(report_piece)\n",
    "\n",
    "## Deleting individual text files before saving combined file\n",
    "txt_files = glob.glob(output_folder+\"/*.txt\")\t\t\n",
    "[os.remove(f) for f in txt_files]\n"
   ]
  },
  {
   "cell_type": "code",
   "execution_count": null,
   "metadata": {},
   "outputs": [],
   "source": [
    "## Saving as FINAL REPORT.txt\n",
    "report_fname = output_folder+\"/\" + \"FINAL_REPORT.txt\"\n",
    "report_fname = os.path.normpath(report_fname)\n",
    "with open(report_fname,'w') as f:\n",
    "\tf.write(f\"\\n\".join(report_list))\n",
    "\n",
    "\n",
    "## Getting relative filepath for display in env testing notebooks\n",
    "report_rel_fname= \"dojo-env-setup/\" + report_fname.split(os.path.normpath(\"dojo-env-setup/\"))[1]\n",
    "print(f'- [i] Final report saved as {report_rel_fname}')"
   ]
  },
  {
   "cell_type": "code",
   "execution_count": null,
   "metadata": {},
   "outputs": [],
   "source": [
    "with open(report_fname) as f:\n",
    "\tfinal_report = f.read()\n",
    "\n",
    "\n",
    "if VERBOSE:\n",
    "\tprint('- [i] FINAL REPORT:\\n')\n",
    "\tprint(final_report)\n",
    "else:\n",
    "\tprint('- [i] Short Preview of FINAL REPORT:\\n')\n",
    "\tprint(final_report[:1000])\n",
    "# print(final_report)"
   ]
  },
  {
   "cell_type": "markdown",
   "metadata": {
    "heading_collapsed": true
   },
   "source": [
    "## BOOKMARK: FUTURE TO-DOs BELOW"
   ]
  },
  {
   "cell_type": "code",
   "execution_count": null,
   "metadata": {
    "hidden": true
   },
   "outputs": [],
   "source": [
    "# raise Exception(\"WIP Below.\")"
   ]
  },
  {
   "cell_type": "markdown",
   "metadata": {
    "hidden": true
   },
   "source": [
    "### Trying to Programatically Determine what the settings file is for your terminal"
   ]
  },
  {
   "cell_type": "code",
   "execution_count": null,
   "metadata": {
    "hidden": true
   },
   "outputs": [],
   "source": [
    "# ## check if txt files already exist\n",
    "# ## if so, delete the files\n",
    "# txt_files = glob.glob(output_folder+\"/*.txt\")\n",
    "\n",
    "# ## Loop Way\n",
    "# for file in txt_files:\n",
    "# \tif os.path.isfile(file):\n",
    "# \t\tos.remove(file)\n",
    "\n",
    "# ## Confirm they're deleted\t\t\n",
    "# txt_files = glob.glob(output_folder+\"/*.txt\")\n",
    "# assert len(txt_files) == 0\n",
    "\n",
    "# ## combine into 1 list of strings\n",
    "# raw_report = {}\n",
    "# for file in txt_files:\n",
    "# \tsimple_fname = os.path.basename(file).replace('.txt','')\n",
    "# \twith open(file) as f:\n",
    "# \t\traw_report[simple_fname] =f.read()\n",
    "\t\t\n",
    "# raw_report.keys()"
   ]
  },
  {
   "cell_type": "code",
   "execution_count": null,
   "metadata": {
    "hidden": true
   },
   "outputs": [],
   "source": [
    "# ## Setting Preferred Order\n",
    "# if \"conda list\" in raw_report.keys():\n",
    "# \tconda_list = raw_report.pop('conda list')\n",
    "\n",
    "# ordered_report = []\n",
    "# for key, data in raw_report.items():\n",
    "# \tordered_report.append({key:data})\n",
    "# ordered_report.append({'conda list':conda_list})"
   ]
  },
  {
   "cell_type": "code",
   "execution_count": null,
   "metadata": {
    "hidden": true
   },
   "outputs": [],
   "source": [
    "\n",
    "# ## TO DO: Get .bash_profile contents added\n",
    "# ## Which shell - mac users (zsh or bash?)\n",
    "# try:\n",
    "# \tshell = !echo $SHELL\n",
    "\n",
    "\n",
    "# \t## Checking .bash_profile or .zshrc\n",
    "# \tif 'zsh' in shell[0]:\n",
    "# \t\tprint(f'[i] Using .zshrc')\n",
    "# \t\tfname = r\"~/.zshrc\"\n",
    "# \telse:\n",
    "# \t\tprint(f'[i] Using .bash_profile')\n",
    "# \t\tfname = r\"~/.bash_profile\"\n",
    "\t\t\n",
    "# \tshell_profile = !cat {fname}\n",
    "# \tshell_profile ='\\n'.join(shell_profile)\n",
    "# \tordered_report.append({shell:shell_profile})\n",
    "# except:\n",
    "# \tprint('Error :-(')\n"
   ]
  },
  {
   "cell_type": "code",
   "execution_count": null,
   "metadata": {
    "hidden": true
   },
   "outputs": [],
   "source": [
    "# ## combine into 1 list of strings\n",
    "# report = {}\n",
    "# for file in txt_files:\n",
    "# \tsimple_fname = os.path.basename(file).replace('.txt','')\n",
    "# \twith open(file) as f:\n",
    "# \t\treport[simple_fname] =f.read()\n",
    "\t\t\n",
    "# report.keys()"
   ]
  },
  {
   "cell_type": "code",
   "execution_count": null,
   "metadata": {
    "hidden": true
   },
   "outputs": [],
   "source": [
    "\n",
    "# if os.path.isfile(bash_profile):\n",
    "# \tshell_profile = bash_profile\n",
    "# elif os.path.isfile(zshrc):\n",
    "# \tshell_profile = zshrc\n",
    "# else:\n",
    "# \traise Exception(\"Neither exists\")\n",
    "\n",
    "# with open(shell_profile) as f:\n",
    "# \tordered_report.append({shell_profile:f.read()})\n",
    "# ## As long as its \n",
    "# ordered_report[0]"
   ]
  },
  {
   "cell_type": "code",
   "execution_count": null,
   "metadata": {
    "hidden": true
   },
   "outputs": [],
   "source": [
    "# report_list = []\n",
    "# banner = \"====\"*20\n",
    "\n",
    "# for report_dict in ordered_report:\n",
    "# \tfor name, txt_report in report_dict.items():\n",
    "\t\t\n",
    "# \t\t## Start report piece with banner\n",
    "# \t\treport_piece = f\"{banner}\\n- [i] {name}:\\n{banner}\\n\"\n",
    "\t\t\n",
    "# \t\t## Split System Path for readability\n",
    "# \t\tif name == \"shell_path\":\n",
    "# \t\t\ttxt_report = txt_report.replace(\":\",\"\\n:\")\n",
    "\t\t\t\n",
    "# \t\t## Append file's contents\n",
    "# \t\treport_piece += txt_report\n",
    "\t\t\n",
    "# \t\treport_list.append(report_piece)\n",
    "\t\t\n",
    "\n",
    "\n",
    "# with open('FINAL_REPORT.txt','w') as f:\n",
    "# \tf.write(f\"{banner}\\n\\n\".join(report_list))\n",
    "# # print()"
   ]
  },
  {
   "cell_type": "markdown",
   "metadata": {
    "hidden": true
   },
   "source": [
    "### Testing getting $PATH saved to file."
   ]
  },
  {
   "cell_type": "markdown",
   "metadata": {
    "hidden": true
   },
   "source": [
    "- Got it working, but only by not programmatically seting the output_folder"
   ]
  },
  {
   "cell_type": "code",
   "execution_count": null,
   "metadata": {
    "hidden": true
   },
   "outputs": [],
   "source": [
    "# import sys\n",
    "# sorted(sys.path)"
   ]
  },
  {
   "cell_type": "code",
   "execution_count": null,
   "metadata": {
    "hidden": true
   },
   "outputs": [],
   "source": [
    "# import sys\n",
    "# print(':'.join(x for x in sorted(sys.path) if x))\n"
   ]
  },
  {
   "cell_type": "markdown",
   "metadata": {},
   "source": [
    "##"
   ]
  }
 ],
 "metadata": {
  "kernelspec": {
   "display_name": "Python 3 (ipykernel)",
   "language": "python",
   "name": "python3"
  },
  "language_info": {
   "codemirror_mode": {
    "name": "ipython",
    "version": 3
   },
   "file_extension": ".py",
   "mimetype": "text/x-python",
   "name": "python",
   "nbconvert_exporter": "python",
   "pygments_lexer": "ipython3",
   "version": "3.8.13"
  },
  "toc": {
   "base_numbering": 1,
   "nav_menu": {},
   "number_sections": true,
   "sideBar": true,
   "skip_h1_title": false,
   "title_cell": "Table of Contents",
   "title_sidebar": "Contents",
   "toc_cell": false,
   "toc_position": {},
   "toc_section_display": true,
   "toc_window_display": false
  },
  "vscode": {
   "interpreter": {
    "hash": "295804e8e014c2a214e7062c757c6b8addd86bbffb9090c97cdc9a271490da83"
   }
  }
 },
 "nbformat": 4,
 "nbformat_minor": 2
}
