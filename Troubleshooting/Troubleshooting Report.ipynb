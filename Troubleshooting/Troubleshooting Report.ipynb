{
 "cells": [
  {
   "cell_type": "markdown",
   "metadata": {},
   "source": [
    "# Env Troubleshooting Report"
   ]
  },
  {
   "cell_type": "markdown",
   "metadata": {},
   "source": [
    "> This notebook is a bare bones snippet from the main environment testing notebooks.\n",
    "- **Ideally, you should first open and run all of the cells in the appropriate environment tester notebook** (see list of file names below)\n",
    "- In the main folder of this repo (above this Troubleshooting folder):\n",
    "\t- \"EnvironmentTester-mac.ipynb\" \n",
    "\t- \"EnvironmentTester-windows.ipynb\"\n",
    "\t\n",
    "\n",
    "- You can also just run the first code cells in this notebook to get a barebones report about your environment.\n",
    "\n",
    "> - **You should show the output of both notebooks to your instructor or TA when troubleshooting.**\n",
    "\n",
    "\n"
   ]
  },
  {
   "cell_type": "markdown",
   "metadata": {},
   "source": [
    "### Set the Output Folder And Delete Previous .txt files"
   ]
  },
  {
   "cell_type": "code",
   "execution_count": 1,
   "metadata": {
    "ExecuteTime": {
     "end_time": "2022-07-03T03:43:30.423313Z",
     "start_time": "2022-07-03T03:43:30.417482Z"
    }
   },
   "outputs": [
    {
     "name": "stdout",
     "output_type": "stream",
     "text": [
      "- The report will be saved in this folder: \"/Users/codingdojo/Documents/GitHub/_CURRICULUM/dojo-env-setup/Troubleshooting\"\n"
     ]
    }
   ],
   "source": [
    "import os, glob, sys\n",
    "VERBOSE = False\n",
    "\n",
    "## Make sure troubleshooting folder exists\n",
    "filepath = os.path.abspath(os.path.curdir)\n",
    "if filepath.endswith('Troubleshooting') == False:\n",
    "\tos.makedirs('Troubleshooting',exist_ok=True)\n",
    "\toutput_folder = os.path.abspath('./Troubleshooting/')\n",
    "else:\n",
    "\toutput_folder = os.path.abspath(os.path.curdir)\n",
    "\t# relative_folder = os.path.curdir()\n",
    "\n",
    "## Normalize file path for Windows compatibility\n",
    "output_folder = os.path.normpath(output_folder)\n",
    "if VERBOSE:\n",
    "\tprint(f'- The report will be saved in this folder: \"{output_folder}\"')"
   ]
  },
  {
   "cell_type": "code",
   "execution_count": 2,
   "metadata": {
    "ExecuteTime": {
     "end_time": "2022-07-03T03:43:30.429041Z",
     "start_time": "2022-07-03T03:43:30.424572Z"
    }
   },
   "outputs": [
    {
     "data": {
      "text/plain": [
       "'/Users/codingdojo/Documents/GitHub/_CURRICULUM/dojo-env-setup/Troubleshooting'"
      ]
     },
     "execution_count": 2,
     "metadata": {},
     "output_type": "execute_result"
    }
   ],
   "source": [
    "os.path.normpath(output_folder)"
   ]
  },
  {
   "cell_type": "code",
   "execution_count": 3,
   "metadata": {
    "ExecuteTime": {
     "end_time": "2022-07-03T03:43:30.432989Z",
     "start_time": "2022-07-03T03:43:30.430197Z"
    }
   },
   "outputs": [
    {
     "name": "stdout",
     "output_type": "stream",
     "text": [
      "- [i] Previous text files successfully deleted.\n"
     ]
    }
   ],
   "source": [
    "## check if txt files already exist\n",
    " \n",
    "## if so, delete the files (list comprehensions way)\n",
    "txt_files = glob.glob(output_folder+\"/*.txt\")\n",
    "[os.remove(f) for f in txt_files]\t\t\n",
    "\n",
    "# ## Loop to Remove\n",
    "# for file in txt_files:\n",
    "# \tif os.path.isfile(file):\n",
    "# \t\tos.remove(file)\n",
    "\n",
    "## Confirm they're deleted\t\t\n",
    "txt_files = glob.glob(output_folder+\"/*.txt\")\n",
    "\n",
    "if VERBOSE:\n",
    "\tif len(txt_files) == 0:\n",
    "\t\tprint('- [i] Previous text files successfully deleted.')\n",
    "\telse:\n",
    "\t\tprint(f'[!] Previous text files not fully delted ({len(txt_files)} files remain)')"
   ]
  },
  {
   "cell_type": "markdown",
   "metadata": {},
   "source": [
    "### Save Environment Info from Terminal Commands"
   ]
  },
  {
   "cell_type": "code",
   "execution_count": 4,
   "metadata": {
    "ExecuteTime": {
     "end_time": "2022-07-03T03:43:38.073877Z",
     "start_time": "2022-07-03T03:43:30.434463Z"
    }
   },
   "outputs": [
    {
     "data": {
      "text/plain": [
       "7"
      ]
     },
     "execution_count": 4,
     "metadata": {},
     "output_type": "execute_result"
    }
   ],
   "source": [
    "## Exporting Troubleshooting reports \n",
    "# (just in case you need help troubleshooting with an instrutor)\n",
    "\n",
    "!echo $PATH >> shell_path.txt\n",
    "\n",
    "!conda info >> \"$output_folder/conda info.txt\"\n",
    "!conda env list >> \"$output_folder/conda env list.txt\"\n",
    "!conda list >> \"$output_folder/conda list.txt\"\n",
    "\n",
    "!jupyter kernelspec list >> \"$output_folder/jupyter kernelspec list.txt\"\n",
    "!which python >>\"$output_folder/which python.txt\"\n",
    "!whoami >> \"$output_folder/whoami.txt\"\n",
    "\n",
    "## get all .txt files\n",
    "txt_files = sorted(glob.glob(output_folder+\"/*.txt\"))\n",
    "len(txt_files)\n"
   ]
  },
  {
   "cell_type": "code",
   "execution_count": 5,
   "metadata": {
    "ExecuteTime": {
     "end_time": "2022-07-03T03:43:38.092344Z",
     "start_time": "2022-07-03T03:43:38.083940Z"
    }
   },
   "outputs": [],
   "source": [
    "# ## test getting simple name from fpath\n",
    "# os.path.basename(txt_files[0])"
   ]
  },
  {
   "cell_type": "markdown",
   "metadata": {},
   "source": [
    "### Combine Text File Outputs into 1 Report"
   ]
  },
  {
   "cell_type": "code",
   "execution_count": 6,
   "metadata": {
    "ExecuteTime": {
     "end_time": "2022-07-03T03:43:38.102859Z",
     "start_time": "2022-07-03T03:43:38.095137Z"
    }
   },
   "outputs": [
    {
     "data": {
      "text/plain": [
       "dict_keys(['conda env list', 'conda info', 'conda list', 'jupyter kernelspec list', 'shell_path', 'which python', 'whoami'])"
      ]
     },
     "execution_count": 6,
     "metadata": {},
     "output_type": "execute_result"
    }
   ],
   "source": [
    "## Combine Text Files into a Dictionary with filename as the keyd\n",
    "raw_report = {}\n",
    "for file in txt_files:\n",
    "\t## simple filename for key\n",
    "\tsimple_fname = os.path.basename(file).replace('.txt','')\n",
    "\t\n",
    "\t# Open file and save its contents into dict\n",
    "\twith open(file) as f:\n",
    "\t\traw_report[simple_fname] =f.read()\n",
    "\t\t\n",
    "raw_report.keys()"
   ]
  },
  {
   "cell_type": "code",
   "execution_count": 7,
   "metadata": {
    "ExecuteTime": {
     "end_time": "2022-07-03T03:43:38.107588Z",
     "start_time": "2022-07-03T03:43:38.104811Z"
    }
   },
   "outputs": [],
   "source": [
    "## Setting Preferred Order (conda list last) using orderd_report list\n",
    "if \"conda list\" in raw_report.keys():\n",
    "\tconda_list = raw_report.pop('conda list')\n",
    "\n",
    "ordered_report = []\n",
    "for key, data in raw_report.items():\n",
    "\tordered_report.append({key:data})\n",
    "ordered_report.append({'conda list':conda_list})"
   ]
  },
  {
   "cell_type": "code",
   "execution_count": 8,
   "metadata": {
    "ExecuteTime": {
     "end_time": "2022-07-03T03:43:38.119298Z",
     "start_time": "2022-07-03T03:43:38.109291Z"
    }
   },
   "outputs": [],
   "source": [
    "## Generating final report \n",
    "report_list = []\n",
    "banner = \"====\"*20\n",
    "\n",
    "for report_dict in ordered_report:\n",
    "\tfor name, txt_report in report_dict.items():\n",
    "\t\t\n",
    "\t\t## Start report piece with banner\n",
    "\t\treport_piece = f\"{banner}\\n- [i] {name}:\\n{banner}\\n\"\n",
    "\t\t\n",
    "\t\t## Split System Path for readability\n",
    "\t\tif name == \"shell_path\":\n",
    "\t\t\ttxt_report = txt_report.replace(\":\",\"\\n:\")\n",
    "\t\t\t\n",
    "\t\t## Append file's contents\n",
    "\t\treport_piece += txt_report\n",
    "\t\treport_piece+=f\"{banner}\\n\\n\"\n",
    "\t\t\n",
    "\t\treport_list.append(report_piece)\n",
    "\n",
    "## Deleting individual text files before saving combined file\n",
    "txt_files = glob.glob(output_folder+\"/*.txt\")\t\t\n",
    "[os.remove(f) for f in txt_files];\n"
   ]
  },
  {
   "cell_type": "code",
   "execution_count": 9,
   "metadata": {
    "ExecuteTime": {
     "end_time": "2022-07-03T03:43:38.132732Z",
     "start_time": "2022-07-03T03:43:38.120509Z"
    }
   },
   "outputs": [
    {
     "data": {
      "text/plain": [
       "'07/02/2022 @ 11:43:38 PM (tz=New_York)'"
      ]
     },
     "execution_count": 9,
     "metadata": {},
     "output_type": "execute_result"
    }
   ],
   "source": [
    "## Recording time notebook was run\n",
    "import datetime as dt\n",
    "from tzlocal import get_localzone, get_localzone_name\n",
    "now = dt.datetime.now(get_localzone())\n",
    "now_nice = now.strftime(\"%m/%d/%Y @ %I:%M:%S %p \") + f\"(tz={get_localzone_name().split('/')[-1]})\"\n",
    "now_nice"
   ]
  },
  {
   "cell_type": "code",
   "execution_count": 10,
   "metadata": {
    "ExecuteTime": {
     "end_time": "2022-07-03T03:43:38.138094Z",
     "start_time": "2022-07-03T03:43:38.135532Z"
    }
   },
   "outputs": [
    {
     "data": {
      "text/plain": [
       "'/Users/codingdojo/Documents/GitHub/_CURRICULUM/dojo-env-setup/Troubleshooting/FINAL_REPORT.txt'"
      ]
     },
     "execution_count": 10,
     "metadata": {},
     "output_type": "execute_result"
    }
   ],
   "source": [
    "os.path.normpath(os.path.join(output_folder , \"FINAL_REPORT.txt\"))"
   ]
  },
  {
   "cell_type": "code",
   "execution_count": 22,
   "metadata": {
    "ExecuteTime": {
     "end_time": "2022-07-03T03:43:47.632066Z",
     "start_time": "2022-07-03T03:43:47.625119Z"
    }
   },
   "outputs": [
    {
     "name": "stdout",
     "output_type": "stream",
     "text": [
      "- [i] Final report saved as dojo-env-setup/Troubleshooting/FINAL_REPORT.txt\n"
     ]
    }
   ],
   "source": [
    "## Saving as FINAL REPORT.txt\n",
    "report_fname = os.path.normpath(os.path.join(output_folder , \"FINAL_REPORT.txt\"))\n",
    "with open(report_fname,'w') as f:\n",
    "    final_txt = \"\\n\".join(report_list)\n",
    "    final_txt += banner\n",
    "    final_txt += f\"\\n - Report created at: {now_nice}\"\n",
    "    final_txt += '\\n'+banner\n",
    "    f.write(final_txt)\n",
    "\n",
    "\n",
    "## Getting relative filepath for display in env testing notebooks\n",
    "report_rel_fname= \"dojo-env-setup\" + report_fname.split(os.path.normpath(\"dojo-env-setup/\"))[1]\n",
    "print(f'- [i] Final report saved as {report_rel_fname}')"
   ]
  },
  {
   "cell_type": "code",
   "execution_count": 23,
   "metadata": {
    "ExecuteTime": {
     "end_time": "2022-07-03T03:43:48.107375Z",
     "start_time": "2022-07-03T03:43:48.096936Z"
    }
   },
   "outputs": [
    {
     "name": "stdout",
     "output_type": "stream",
     "text": [
      "- [i] FINAL REPORT:\n",
      "\n",
      "================================================================================\n",
      "- [i] conda env list:\n",
      "================================================================================\n",
      "# conda environments:\n",
      "#\n",
      "base                     /opt/homebrew/Caskroom/miniforge/base\n",
      "dojo-env              *  /opt/homebrew/Caskroom/miniforge/base/envs/dojo-env\n",
      "\n",
      "================================================================================\n",
      "\n",
      "\n",
      "================================================================================\n",
      "- [i] conda info:\n",
      "================================================================================\n",
      "\n",
      "     active environment : dojo-env\n",
      "    active env location : /opt/homebrew/Caskroom/miniforge/base/envs/dojo-env\n",
      "            shell level : 2\n",
      "       user config file : /Users/codingdojo/.condarc\n",
      " populated config files : /opt/homebrew/Caskroom/miniforge/base/.condarc\n",
      "                          /Users/codingdojo/.condarc\n",
      "          conda version : 4.13.0\n",
      "    conda-build version : not installed\n",
      "         python version : 3.9.10.final.0\n",
      "       virtual packages : __osx=12.4=0\n",
      "                          __unix=0=0\n",
      "                          __archspec=1=arm64\n",
      "       base environment : /opt/homebrew/Caskroom/miniforge/base  (writable)\n",
      "      conda av data dir : /opt/homebrew/Caskroom/miniforge/base/etc/conda\n",
      "  conda av metadata url : None\n",
      "           channel URLs : https://repo.anaconda.com/pkgs/main/osx-arm64\n",
      "                          https://repo.anaconda.com/pkgs/main/noarch\n",
      "                          https://repo.anaconda.com/pkgs/r/osx-arm64\n",
      "                          https://repo.anaconda.com/pkgs/r/noarch\n",
      "                          https://conda.anaconda.org/conda-forge/osx-arm64\n",
      "                          https://conda.anaconda.org/conda-forge/noarch\n",
      "          package cache : /opt/homebrew/Caskroom/miniforge/base/pkgs\n",
      "                          /Users/codingdojo/.conda/pkgs\n",
      "       envs directories : /opt/homebrew/Caskroom/miniforge/base/envs\n",
      "                          /Users/codingdojo/.conda/envs\n",
      "               platform : osx-arm64\n",
      "             user-agent : conda/4.13.0 requests/2.27.1 CPython/3.9.10 Darwin/21.5.0 OSX/12.4\n",
      "                UID:GID : 502:20\n",
      "             netrc file : None\n",
      "           offline mode : False\n",
      "\n",
      "================================================================================\n",
      "\n",
      "\n",
      "================================================================================\n",
      "- [i] jupyter kernelspec list:\n",
      "================================================================================\n",
      "Available kernels:\n",
      "  dojo-env    /Users/codingdojo/Library/Jupyter/kernels/dojo-env\n",
      "  python3     /Users/codingdojo/Library/Jupyter/kernels/python3\n",
      "================================================================================\n",
      "\n",
      "\n",
      "================================================================================\n",
      "- [i] shell_path:\n",
      "================================================================================\n",
      "/opt/homebrew/bin\n",
      ":/opt/homebrew/sbin\n",
      ":/opt/homebrew/Caskroom/miniforge/base/envs/dojo-env/bin\n",
      ":/usr/local/bin\n",
      ":/usr/bin\n",
      ":/bin\n",
      ":/usr/sbin\n",
      ":/sbin\n",
      ":/Library/TeX/texbin\n",
      ":/Library/Apple/usr/bin\n",
      "================================================================================\n",
      "\n",
      "\n",
      "================================================================================\n",
      "- [i] which python:\n",
      "================================================================================\n",
      "/opt/homebrew/Caskroom/miniforge/base/envs/dojo-env/bin/python\n",
      "================================================================================\n",
      "\n",
      "\n",
      "================================================================================\n",
      "- [i] whoami:\n",
      "================================================================================\n",
      "codingdojo\n",
      "================================================================================\n",
      "\n",
      "\n",
      "================================================================================\n",
      "- [i] conda list:\n",
      "================================================================================\n",
      "# packages in environment at /opt/homebrew/Caskroom/miniforge/base/envs/dojo-env:\n",
      "#\n",
      "# Name                    Version                   Build  Channel\n",
      "abseil-cpp                20211102.0           h6b3803e_1    conda-forge\n",
      "absl-py                   1.1.0                    pypi_0    pypi\n",
      "anyio                     3.6.1            py38h10201cd_0    conda-forge\n",
      "appnope                   0.1.3              pyhd8ed1ab_0    conda-forge\n",
      "argon2-cffi               21.3.0             pyhd8ed1ab_0    conda-forge\n",
      "argon2-cffi-bindings      21.2.0           py38h33210d7_2    conda-forge\n",
      "asttokens                 2.0.5              pyhd8ed1ab_0    conda-forge\n",
      "astunparse                1.6.3                    pypi_0    pypi\n",
      "atk-1.0                   2.36.0               heb41896_4    conda-forge\n",
      "attrs                     21.4.0             pyhd8ed1ab_0    conda-forge\n",
      "babel                     2.10.3             pyhd8ed1ab_0    conda-forge\n",
      "backcall                  0.2.0              pyh9f0ad1d_0    conda-forge\n",
      "backports                 1.0                        py_2    conda-forge\n",
      "backports.functools_lru_cache 1.6.4              pyhd8ed1ab_0    conda-forge\n",
      "beautifulsoup4            4.11.1             pyha770c72_0    conda-forge\n",
      "bleach                    5.0.1              pyhd8ed1ab_0    conda-forge\n",
      "brotli                    1.0.9                h1c322ee_7    conda-forge\n",
      "brotli-bin                1.0.9                h1c322ee_7    conda-forge\n",
      "brotlipy                  0.7.0           py38h33210d7_1004    conda-forge\n",
      "bs4                       0.0.1                    pypi_0    pypi\n",
      "bzip2                     1.0.8                h3422bc3_4    conda-forge\n",
      "c-ares                    1.18.1               h3422bc3_0    conda-forge\n",
      "ca-certificates           2022.6.15            h4653dfc_0    conda-forge\n",
      "cached-property           1.5.2                hd8ed1ab_1    conda-forge\n",
      "cached_property           1.5.2              pyha770c72_1    conda-forge\n",
      "cachetools                5.2.0                    pypi_0    pypi\n",
      "cairo                     1.16.0            h3e596be_1011    conda-forge\n",
      "certifi                   2022.6.15        py38h10201cd_0    conda-forge\n",
      "cffi                      1.15.0           py38hc67bbb8_0    conda-forge\n",
      "charset-normalizer        2.1.0              pyhd8ed1ab_0    conda-forge\n",
      "cloudpickle               2.1.0              pyhd8ed1ab_0    conda-forge\n",
      "cmdstanpy                 0.9.68                   pypi_0    pypi\n",
      "colorama                  0.4.5              pyhd8ed1ab_0    conda-forge\n",
      "convertdate               2.4.0                    pypi_0    pypi\n",
      "cryptography              37.0.2           py38h530bd25_0    conda-forge\n",
      "cycler                    0.11.0             pyhd8ed1ab_0    conda-forge\n",
      "cython                    0.29.30                  pypi_0    pypi\n",
      "debugpy                   1.6.0            py38hea55cf5_0    conda-forge\n",
      "decorator                 5.1.1              pyhd8ed1ab_0    conda-forge\n",
      "defusedxml                0.7.1              pyhd8ed1ab_0    conda-forge\n",
      "deprecated                1.2.13             pyh6c4a22f_0    conda-forge\n",
      "dill                      0.3.5.1                  pypi_0    pypi\n",
      "dython                    0.7.1.post3        pyhd8ed1ab_0    conda-forge\n",
      "entrypoints               0.4                pyhd8ed1ab_0    conda-forge\n",
      "ephem                     4.1.3                    pypi_0    pypi\n",
      "et-xmlfile                1.1.0                    pypi_0    pypi\n",
      "etils                     0.6.0                    pypi_0    pypi\n",
      "executing                 0.8.3              pyhd8ed1ab_0    conda-forge\n",
      "expat                     2.4.8                h6b3803e_0    conda-forge\n",
      "flatbuffers               1.12                     pypi_0    pypi\n",
      "flit-core                 3.7.1              pyhd8ed1ab_0    conda-forge\n",
      "font-ttf-dejavu-sans-mono 2.37                 hab24e00_0    conda-forge\n",
      "font-ttf-inconsolata      3.000                h77eed37_0    conda-forge\n",
      "font-ttf-source-code-pro  2.038                h77eed37_0    conda-forge\n",
      "font-ttf-ubuntu           0.83                 hab24e00_0    conda-forge\n",
      "fontconfig                2.14.0               hfb34624_0    conda-forge\n",
      "fonts-conda-ecosystem     1                             0    conda-forge\n",
      "fonts-conda-forge         1                             0    conda-forge\n",
      "fonttools                 4.29.1                   pypi_0    pypi\n",
      "freetype                  2.10.4               h17b34a0_1    conda-forge\n",
      "fribidi                   1.0.10               h27ca646_0    conda-forge\n",
      "gast                      0.4.0                    pypi_0    pypi\n",
      "gdk-pixbuf                2.42.8               hdded42e_0    conda-forge\n",
      "geographiclib             1.52                     pypi_0    pypi\n",
      "geopy                     2.2.0                    pypi_0    pypi\n",
      "gettext                   0.19.8.1          h049c9fb_1008    conda-forge\n",
      "giflib                    5.2.1                h27ca646_2    conda-forge\n",
      "gitdb                     4.0.9                    pypi_0    pypi\n",
      "gitpython                 3.1.27                   pypi_0    pypi\n",
      "google-auth               2.9.0                    pypi_0    pypi\n",
      "google-auth-oauthlib      0.4.6                    pypi_0    pypi\n",
      "google-pasta              0.2.0                    pypi_0    pypi\n",
      "googleapis-common-protos  1.56.3                   pypi_0    pypi\n",
      "graphite2                 1.3.13            h9f76cd9_1001    conda-forge\n",
      "graphviz                  4.0.0                hc7d6d94_0    conda-forge\n",
      "grpc-cpp                  1.47.0               h7d90225_1    conda-forge\n",
      "grpcio                    1.47.0           py38h99d7ba6_1    conda-forge\n",
      "gtk2                      2.24.33              h57013de_2    conda-forge\n",
      "gts                       0.7.6                h4b6d4d6_2    conda-forge\n",
      "h5py                      3.6.0           nompi_py38hacf61ce_100    conda-forge\n",
      "harfbuzz                  4.4.1                hd36a07e_0    conda-forge\n",
      "hdf5                      1.12.1          nompi_hf9525e8_104    conda-forge\n",
      "hijri-converter           2.2.4                    pypi_0    pypi\n",
      "holidays                  0.14.2                   pypi_0    pypi\n",
      "htmlmin                   0.1.12                     py_1    conda-forge\n",
      "icu                       70.1                 h6b3803e_0    conda-forge\n",
      "idna                      3.3                pyhd8ed1ab_0    conda-forge\n",
      "imagehash                 4.2.1              pyhd8ed1ab_0    conda-forge\n",
      "imageio                   2.19.3                   pypi_0    pypi\n",
      "imbalanced-learn          0.9.1                    pypi_0    pypi\n",
      "importlib-metadata        4.11.4           py38h10201cd_0    conda-forge\n",
      "importlib_metadata        4.11.4               hd8ed1ab_0    conda-forge\n",
      "importlib_resources       5.8.0              pyhd8ed1ab_0    conda-forge\n",
      "ipykernel                 6.15.0             pyh736e0ef_0    conda-forge\n",
      "ipython                   8.4.0            py38h10201cd_0    conda-forge\n",
      "ipython_genutils          0.2.0                      py_1    conda-forge\n",
      "ipywidgets                7.7.1                    pypi_0    pypi\n",
      "jedi                      0.18.1           py38h10201cd_1    conda-forge\n",
      "jinja2                    3.1.2              pyhd8ed1ab_1    conda-forge\n",
      "joblib                    1.1.0              pyhd8ed1ab_0    conda-forge\n",
      "jpeg                      9e                   he4db4b2_2    conda-forge\n",
      "json5                     0.9.5              pyh9f0ad1d_0    conda-forge\n",
      "jsonschema                4.6.1              pyhd8ed1ab_0    conda-forge\n",
      "jupyter-contrib-core      0.3.3                    pypi_0    pypi\n",
      "jupyter-contrib-nbextensions 0.5.1                    pypi_0    pypi\n",
      "jupyter-highlight-selected-word 0.2.0                    pypi_0    pypi\n",
      "jupyter-latex-envs        1.4.6                    pypi_0    pypi\n",
      "jupyter-nbextensions-configurator 0.4.1                    pypi_0    pypi\n",
      "jupyter-server-mathjax    0.2.5                    pypi_0    pypi\n",
      "jupyter_client            7.3.4              pyhd8ed1ab_0    conda-forge\n",
      "jupyter_core              4.10.0           py38h10201cd_0    conda-forge\n",
      "jupyter_server            1.18.0             pyhd8ed1ab_1    conda-forge\n",
      "jupyterlab                3.4.3              pyhd8ed1ab_0    conda-forge\n",
      "jupyterlab-widgets        1.1.1                    pypi_0    pypi\n",
      "jupyterlab_pygments       0.2.2              pyhd8ed1ab_0    conda-forge\n",
      "jupyterlab_server         2.14.0             pyhd8ed1ab_1    conda-forge\n",
      "kaggle                    1.5.12                   pypi_0    pypi\n",
      "keras                     2.9.0                    pypi_0    pypi\n",
      "keras-preprocessing       1.1.2                    pypi_0    pypi\n",
      "kiwisolver                1.3.2                    pypi_0    pypi\n",
      "korean-lunar-calendar     0.2.1                    pypi_0    pypi\n",
      "krb5                      1.19.3               hf9b2bbe_0    conda-forge\n",
      "lcms2                     2.12                 had6a04f_0    conda-forge\n",
      "lerc                      3.0                  hbdafb3b_0    conda-forge\n",
      "libblas                   3.9.0           15_osxarm64_openblas    conda-forge\n",
      "libbrotlicommon           1.0.9                h1c322ee_7    conda-forge\n",
      "libbrotlidec              1.0.9                h1c322ee_7    conda-forge\n",
      "libbrotlienc              1.0.9                h1c322ee_7    conda-forge\n",
      "libcblas                  3.9.0           15_osxarm64_openblas    conda-forge\n",
      "libclang                  14.0.1                   pypi_0    pypi\n",
      "libcurl                   7.83.1               h2fcd78c_0    conda-forge\n",
      "libcxx                    14.0.6               h04bba0f_0    conda-forge\n",
      "libdeflate                1.12                 he4db4b2_0    conda-forge\n",
      "libedit                   3.1.20191231         hc8eb9b7_2    conda-forge\n",
      "libev                     4.33                 h642e427_1    conda-forge\n",
      "libffi                    3.4.2                h3422bc3_5    conda-forge\n",
      "libgd                     2.3.3                hede1055_3    conda-forge\n",
      "libgfortran               5.0.0.dev0      11_0_1_hf114ba7_23    conda-forge\n",
      "libgfortran5              11.0.1.dev0         hf114ba7_23    conda-forge\n",
      "libglib                   2.70.2               h67e64d8_4    conda-forge\n",
      "libiconv                  1.16                 h642e427_0    conda-forge\n",
      "liblapack                 3.9.0           15_osxarm64_openblas    conda-forge\n",
      "libllvm10                 10.0.1               h4468dd5_2    conda-forge\n",
      "libnghttp2                1.47.0               he723fca_0    conda-forge\n",
      "libopenblas               0.3.20          openmp_h2209c59_0    conda-forge\n",
      "libpng                    1.6.37               hf7e6567_2    conda-forge\n",
      "libprotobuf               3.20.1               h332123e_0    conda-forge\n",
      "librsvg                   2.54.4               ha2634a2_0    conda-forge\n",
      "libsodium                 1.0.18               h27ca646_1    conda-forge\n",
      "libssh2                   1.10.0               hb80f160_2    conda-forge\n",
      "libtiff                   4.4.0                hcbbed22_1    conda-forge\n",
      "libtool                   2.4.6             hbdafb3b_1008    conda-forge\n",
      "libwebp                   1.2.2                h0d20362_0    conda-forge\n",
      "libwebp-base              1.2.2                h3422bc3_1    conda-forge\n",
      "libxcb                    1.13              h9b22ae9_1004    conda-forge\n",
      "libxml2                   2.9.14               h035c1df_0    conda-forge\n",
      "libzlib                   1.2.12               ha287fd2_1    conda-forge\n",
      "lightgbm                  3.3.2            py38hb2dfaa5_0    conda-forge\n",
      "lime                      0.2.0.1                  pypi_0    pypi\n",
      "llvm-openmp               14.0.4               hd125106_0    conda-forge\n",
      "llvmlite                  0.36.0           py38h57246dd_0    conda-forge\n",
      "lunarcalendar             0.0.9                    pypi_0    pypi\n",
      "lxml                      4.9.0                    pypi_0    pypi\n",
      "lz4-c                     1.9.3                hbdafb3b_1    conda-forge\n",
      "markdown                  3.3.7                    pypi_0    pypi\n",
      "markupsafe                2.1.1            py38h33210d7_1    conda-forge\n",
      "matplotlib                3.4.3                    pypi_0    pypi\n",
      "matplotlib-inline         0.1.3              pyhd8ed1ab_0    conda-forge\n",
      "missingno                 0.5.1                    pypi_0    pypi\n",
      "mistune                   0.8.4           py38hea4295b_1005    conda-forge\n",
      "multimethod               1.4                        py_0    conda-forge\n",
      "munkres                   1.1.4              pyh9f0ad1d_0    conda-forge\n",
      "nbclassic                 0.3.7              pyhd8ed1ab_0    conda-forge\n",
      "nbclient                  0.6.6              pyhd8ed1ab_0    conda-forge\n",
      "nbconvert                 6.5.0              pyhd8ed1ab_0    conda-forge\n",
      "nbconvert-core            6.5.0              pyhd8ed1ab_0    conda-forge\n",
      "nbconvert-pandoc          6.5.0              pyhd8ed1ab_0    conda-forge\n",
      "nbdime                    3.1.1                    pypi_0    pypi\n",
      "nbformat                  5.4.0              pyhd8ed1ab_0    conda-forge\n",
      "ncurses                   6.3                  h07bb92c_1    conda-forge\n",
      "nest-asyncio              1.5.5              pyhd8ed1ab_0    conda-forge\n",
      "networkx                  2.8.4              pyhd8ed1ab_0    conda-forge\n",
      "nltk                      3.7                      pypi_0    pypi\n",
      "notebook                  6.4.12             pyha770c72_0    conda-forge\n",
      "notebook-shim             0.1.0              pyhd8ed1ab_0    conda-forge\n",
      "numba                     0.53.1           py38h5eaf91a_1    conda-forge\n",
      "numpy                     1.22.4           py38he1fcd3f_0    conda-forge\n",
      "oauthlib                  3.2.0                    pypi_0    pypi\n",
      "openjpeg                  2.4.0                h062765e_1    conda-forge\n",
      "openpyxl                  3.0.10                   pypi_0    pypi\n",
      "openssl                   1.1.1p               ha287fd2_0    conda-forge\n",
      "opt-einsum                3.3.0                    pypi_0    pypi\n",
      "packaging                 21.3               pyhd8ed1ab_0    conda-forge\n",
      "pandas                    1.4.2            py38h6724fcd_2    conda-forge\n",
      "pandas-datareader         0.10.0                   pypi_0    pypi\n",
      "pandas-profiling          3.2.0              pyhd8ed1ab_0    conda-forge\n",
      "pandoc                    2.12                 hca03da5_0  \n",
      "pandocfilters             1.5.0              pyhd8ed1ab_0    conda-forge\n",
      "pango                     1.50.7               h9fd36ab_0    conda-forge\n",
      "parso                     0.8.3              pyhd8ed1ab_0    conda-forge\n",
      "patsy                     0.5.2              pyhd8ed1ab_0    conda-forge\n",
      "pcre                      8.45                 hbdafb3b_0    conda-forge\n",
      "pexpect                   4.8.0              pyh9f0ad1d_2    conda-forge\n",
      "phik                      0.11.2             pyhd8ed1ab_0    conda-forge\n",
      "pickleshare               0.7.5                   py_1003    conda-forge\n",
      "pillow                    9.2.0                    pypi_0    pypi\n",
      "pip                       22.1.2             pyhd8ed1ab_0    conda-forge\n",
      "pixman                    0.40.0               h27ca646_0    conda-forge\n",
      "plotly                    5.8.2                    pypi_0    pypi\n",
      "pmdarima                  1.8.5                    pypi_0    pypi\n",
      "prometheus_client         0.14.1             pyhd8ed1ab_0    conda-forge\n",
      "promise                   2.3                      pypi_0    pypi\n",
      "prompt-toolkit            3.0.30             pyha770c72_0    conda-forge\n",
      "prophet                   1.0.1                    pypi_0    pypi\n",
      "protobuf                  3.19.4                   pypi_0    pypi\n",
      "psutil                    5.9.1            py38he5c2ac2_0    conda-forge\n",
      "pthread-stubs             0.4               h27ca646_1001    conda-forge\n",
      "ptyprocess                0.7.0              pyhd3deb0d_0    conda-forge\n",
      "pure_eval                 0.2.2              pyhd8ed1ab_0    conda-forge\n",
      "pyasn1                    0.4.8                    pypi_0    pypi\n",
      "pyasn1-modules            0.2.8                    pypi_0    pypi\n",
      "pycparser                 2.21               pyhd8ed1ab_0    conda-forge\n",
      "pydantic                  1.9.1            py38he5c2ac2_0    conda-forge\n",
      "pygments                  2.12.0             pyhd8ed1ab_0    conda-forge\n",
      "pymeeus                   0.5.11                   pypi_0    pypi\n",
      "pymysql                   1.0.2                    pypi_0    pypi\n",
      "pyopenssl                 22.0.0             pyhd8ed1ab_0    conda-forge\n",
      "pyparsing                 3.0.9              pyhd8ed1ab_0    conda-forge\n",
      "pyrsistent                0.18.1           py38h33210d7_1    conda-forge\n",
      "pysocks                   1.7.1            py38h10201cd_5    conda-forge\n",
      "pystan                    2.19.1.1                 pypi_0    pypi\n",
      "python                    3.8.13          h7e095e3_0_cpython    conda-forge\n",
      "python-dateutil           2.8.2              pyhd8ed1ab_0    conda-forge\n",
      "python-fastjsonschema     2.15.3             pyhd8ed1ab_0    conda-forge\n",
      "python-graphviz           0.20               pyhaef67bd_0    conda-forge\n",
      "python-slugify            6.1.2                    pypi_0    pypi\n",
      "python_abi                3.8                      2_cp38    conda-forge\n",
      "pytz                      2022.1             pyhd8ed1ab_0    conda-forge\n",
      "pywavelets                1.3.0            py38hcd20c4b_1    conda-forge\n",
      "pyyaml                    6.0              py38h33210d7_4    conda-forge\n",
      "pyzmq                     23.2.0           py38hc61cae3_0    conda-forge\n",
      "re2                       2022.06.01           h9a09cb3_0    conda-forge\n",
      "readline                  8.1.2                h46ed386_0    conda-forge\n",
      "regex                     2022.6.2                 pypi_0    pypi\n",
      "requests                  2.28.1             pyhd8ed1ab_0    conda-forge\n",
      "requests-oauthlib         1.3.1                    pypi_0    pypi\n",
      "rsa                       4.8                      pypi_0    pypi\n",
      "scikit-image              0.19.3                   pypi_0    pypi\n",
      "scikit-learn              1.1.1            py38hddc176c_0    conda-forge\n",
      "scikit-plot               0.3.7                      py_1    conda-forge\n",
      "scipy                     1.8.1            py38h4f188a7_0    conda-forge\n",
      "seaborn                   0.11.2               hd8ed1ab_0    conda-forge\n",
      "seaborn-base              0.11.2             pyhd8ed1ab_0    conda-forge\n",
      "send2trash                1.8.0              pyhd8ed1ab_0    conda-forge\n",
      "setuptools                62.6.0           py38h10201cd_0    conda-forge\n",
      "setuptools-git            1.2                      pypi_0    pypi\n",
      "shap                      0.41.0           py38h6724fcd_0    conda-forge\n",
      "six                       1.15.0                   pypi_0    pypi\n",
      "sktime                    0.12.0           py38h03459ef_1    conda-forge\n",
      "slicer                    0.0.7              pyhd8ed1ab_0    conda-forge\n",
      "smmap                     5.0.0                    pypi_0    pypi\n",
      "sniffio                   1.2.0            py38h10201cd_3    conda-forge\n",
      "soupsieve                 2.3.1              pyhd8ed1ab_0    conda-forge\n",
      "sqlalchemy                1.4.37                   pypi_0    pypi\n",
      "sqlalchemy-utils          0.38.2                   pypi_0    pypi\n",
      "sqlite                    3.39.0               h40dfcc0_0    conda-forge\n",
      "stack_data                0.3.0              pyhd8ed1ab_0    conda-forge\n",
      "statsmodels               0.13.2           py38hd91e067_0    conda-forge\n",
      "tabulate                  0.8.9                    pypi_0    pypi\n",
      "tangled-up-in-unicode     0.2.0              pyhd8ed1ab_0    conda-forge\n",
      "tenacity                  8.0.1                    pypi_0    pypi\n",
      "tensorboard               2.9.1                    pypi_0    pypi\n",
      "tensorboard-data-server   0.6.1                    pypi_0    pypi\n",
      "tensorboard-plugin-wit    1.8.1                    pypi_0    pypi\n",
      "tensorflow-datasets       4.6.0                    pypi_0    pypi\n",
      "tensorflow-deps           2.9.0                         0    apple\n",
      "tensorflow-estimator      2.9.0                    pypi_0    pypi\n",
      "tensorflow-macos          2.9.2                    pypi_0    pypi\n",
      "tensorflow-metadata       1.9.0                    pypi_0    pypi\n",
      "tensorflow-metal          0.5.0                    pypi_0    pypi\n",
      "termcolor                 1.1.0                    pypi_0    pypi\n",
      "terminado                 0.15.0           py38h10201cd_0    conda-forge\n",
      "text-unidecode            1.3                      pypi_0    pypi\n",
      "threadpoolctl             3.1.0              pyh8a188c0_0    conda-forge\n",
      "tifffile                  2022.5.4                 pypi_0    pypi\n",
      "tinycss2                  1.1.1              pyhd8ed1ab_0    conda-forge\n",
      "tk                        8.6.12               he1e0b03_0    conda-forge\n",
      "tmdbsimple                2.9.1                    pypi_0    pypi\n",
      "toml                      0.10.2                   pypi_0    pypi\n",
      "tornado                   6.1              py38h33210d7_3    conda-forge\n",
      "tqdm                      4.64.0             pyhd8ed1ab_0    conda-forge\n",
      "traitlets                 5.3.0              pyhd8ed1ab_0    conda-forge\n",
      "typing-extensions         4.3.0                hd8ed1ab_0    conda-forge\n",
      "typing_extensions         4.3.0              pyha770c72_0    conda-forge\n",
      "ujson                     5.3.0                    pypi_0    pypi\n",
      "unicodedata2              14.0.0           py38h33210d7_1    conda-forge\n",
      "urllib3                   1.26.8                   pypi_0    pypi\n",
      "visions                   0.7.4              pyhd8ed1ab_0    conda-forge\n",
      "wcwidth                   0.2.5              pyh9f0ad1d_2    conda-forge\n",
      "webencodings              0.5.1                      py_1    conda-forge\n",
      "websocket-client          1.3.3              pyhd8ed1ab_0    conda-forge\n",
      "werkzeug                  2.1.2                    pypi_0    pypi\n",
      "wheel                     0.37.1             pyhd8ed1ab_0    conda-forge\n",
      "widgetsnbextension        3.6.1                    pypi_0    pypi\n",
      "wrapt                     1.14.1           py38he5c2ac2_0    conda-forge\n",
      "xorg-libxau               1.0.9                h27ca646_0    conda-forge\n",
      "xorg-libxdmcp             1.1.3                h27ca646_0    conda-forge\n",
      "xz                        5.2.5                h642e427_1    conda-forge\n",
      "yaml                      0.2.5                h3422bc3_2    conda-forge\n",
      "yellowbrick               1.4                      pypi_0    pypi\n",
      "yelpapi                   2.4.0                    pypi_0    pypi\n",
      "zeromq                    4.3.4                hbdafb3b_1    conda-forge\n",
      "zipp                      3.8.0              pyhd8ed1ab_0    conda-forge\n",
      "zlib                      1.2.12               ha287fd2_1    conda-forge\n",
      "zstd                      1.5.2                hd705a24_2    conda-forge\n",
      "================================================================================\n",
      "\n",
      "================================================================================\n",
      " - Report created at: 07/02/2022 @ 11:43:38 PM (tz=New_York)\n",
      "================================================================================\n"
     ]
    }
   ],
   "source": [
    "with open(report_fname) as f:\n",
    "\tfinal_report = f.read()\n",
    "\n",
    "\n",
    "if VERBOSE:\n",
    "\tprint('- [i] FINAL REPORT:\\n')\n",
    "\tprint(final_report)\n",
    "else:\n",
    "\tprint('- [i] Short Preview of FINAL REPORT:\\n')\n",
    "\tprint(final_report[:1000])\n",
    "# print(final_report)"
   ]
  }
 ],
 "metadata": {
  "kernelspec": {
   "display_name": "Python (dojo-env)",
   "language": "python",
   "name": "dojo-env"
  },
  "language_info": {
   "codemirror_mode": {
    "name": "ipython",
    "version": 3
   },
   "file_extension": ".py",
   "mimetype": "text/x-python",
   "name": "python",
   "nbconvert_exporter": "python",
   "pygments_lexer": "ipython3",
   "version": "3.8.13"
  },
  "toc": {
   "base_numbering": 1,
   "nav_menu": {},
   "number_sections": true,
   "sideBar": true,
   "skip_h1_title": false,
   "title_cell": "Table of Contents",
   "title_sidebar": "Contents",
   "toc_cell": false,
   "toc_position": {},
   "toc_section_display": true,
   "toc_window_display": false
  },
  "vscode": {
   "interpreter": {
    "hash": "295804e8e014c2a214e7062c757c6b8addd86bbffb9090c97cdc9a271490da83"
   }
  }
 },
 "nbformat": 4,
 "nbformat_minor": 2
}
