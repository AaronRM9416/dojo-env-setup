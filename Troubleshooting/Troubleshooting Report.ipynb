{
 "cells": [
  {
   "cell_type": "markdown",
   "metadata": {},
   "source": [
    "# Env Troubleshooting Report"
   ]
  },
  {
   "cell_type": "markdown",
   "metadata": {},
   "source": [
    "> This notebook is a bare bones snippet from the main environment testing notebooks.\n",
    "- **Ideally, you should first open and run all of the cells in the appropriate environment tester notebook** (see list of file names below)\n",
    "- In the main folder of this repo (above this Troubleshooting folder):\n",
    "\t- \"EnvironmentTester-mac.ipynb\" \n",
    "\t- \"EnvironmentTester-windows.ipynb\"\n",
    "\t\n",
    "\n",
    "- You can also just run the first code cells in this notebook to get a barebones report about your environment.\n",
    "\n",
    "> - **You should show the output of both notebooks to your instructor or TA when troubleshooting.**\n",
    "\n",
    "\n"
   ]
  },
  {
   "cell_type": "code",
   "execution_count": null,
   "metadata": {},
   "outputs": [],
   "source": [
    "import os, glob, sys\n",
    "\n",
    "## Make sure troubleshooting folder exists\n",
    "filepath = os.path.abspath(os.path.curdir)\n",
    "if filepath.endswith('Troubleshooting') == False:\n",
    "\tos.makedirs('Troubleshooting',exist_ok=True)\n",
    "\toutput_folder = os.path.abspath('./Troubleshooting/')\n",
    "else:\n",
    "\toutput_folder = os.path.abspath(os.path.curdir)\n",
    "\t# relative_folder = os.path.curdir()\n",
    "output_folder"
   ]
  },
  {
   "cell_type": "code",
   "execution_count": null,
   "metadata": {},
   "outputs": [],
   "source": [
    "## check if txt files already exist\n",
    "## if so, delete the files\n",
    "txt_files = glob.glob(output_folder+\"/*.txt\")\n",
    "\n",
    "## Loop Way\n",
    "for file in txt_files:\n",
    "\tif os.path.isfile(file):\n",
    "\t\tos.remove(file)\n",
    "\n",
    "## Confirm they're deleted\t\t\n",
    "txt_files = glob.glob(output_folder+\"/*.txt\")\n",
    "len(txt_files)"
   ]
  },
  {
   "cell_type": "markdown",
   "metadata": {},
   "source": []
  },
  {
   "cell_type": "code",
   "execution_count": null,
   "metadata": {},
   "outputs": [],
   "source": [
    "## Exporting Troubleshooting reports \n",
    "# (just in case you need help troubleshooting with an instrutor)\n",
    "\n",
    "!echo $PATH >> shell_path.txt\n",
    "\n",
    "!conda info >> \"$output_folder/conda info.txt\"\n",
    "!conda env list >> \"$output_folder/conda env list.txt\"\n",
    "!conda list >> \"$output_folder/conda list.txt\"\n",
    "\n",
    "!jupyter kernelspec list >> \"$output_folder/jupyter kernelspec list.txt\"\n",
    "!which python >>\"$output_folder/which python.txt\"\n",
    "!whoami >> \"$output_folder/whoami.txt\"\n",
    "\n",
    "## get all .txt files\n",
    "txt_files = sorted(glob.glob(output_folder+\"/*.txt\"))\n",
    "len(txt_files)\n",
    "\n"
   ]
  },
  {
   "cell_type": "code",
   "execution_count": null,
   "metadata": {},
   "outputs": [],
   "source": [
    "## test getting simple name from fpath\n",
    "os.path.basename(txt_files[0])"
   ]
  },
  {
   "cell_type": "markdown",
   "metadata": {},
   "source": []
  },
  {
   "cell_type": "code",
   "execution_count": null,
   "metadata": {},
   "outputs": [],
   "source": [
    "## combine into 1 list of strings\n",
    "raw_report = {}\n",
    "for file in txt_files:\n",
    "\tsimple_fname = os.path.basename(file).replace('.txt','')\n",
    "\twith open(file) as f:\n",
    "\t\traw_report[simple_fname] =f.read()\n",
    "\t\t\n",
    "raw_report.keys()"
   ]
  },
  {
   "cell_type": "code",
   "execution_count": null,
   "metadata": {},
   "outputs": [],
   "source": [
    "## Setting Preferred Order\n",
    "if \"conda list\" in raw_report.keys():\n",
    "\tconda_list = raw_report.pop('conda list')\n",
    "\n",
    "ordered_report = []\n",
    "for key, data in raw_report.items():\n",
    "\tordered_report.append({key:data})\n",
    "ordered_report.append({'conda list':conda_list})\n"
   ]
  },
  {
   "cell_type": "code",
   "execution_count": null,
   "metadata": {},
   "outputs": [],
   "source": [
    "\n",
    "# ## TO DO: Get .bash_profile contents added\n",
    "# ## Which shell - mac users (zsh or bash?)\n",
    "# try:\n",
    "# \tshell = !echo $SHELL\n",
    "\n",
    "\n",
    "# \t## Checking .bash_profile or .zshrc\n",
    "# \tif 'zsh' in shell[0]:\n",
    "# \t\tprint(f'[i] Using .zshrc')\n",
    "# \t\tfname = r\"~/.zshrc\"\n",
    "# \telse:\n",
    "# \t\tprint(f'[i] Using .bash_profile')\n",
    "# \t\tfname = r\"~/.bash_profile\"\n",
    "\t\t\n",
    "# \tshell_profile = !cat {fname}\n",
    "# \tshell_profile ='\\n'.join(shell_profile)\n",
    "# \tordered_report.append({shell:shell_profile})\n",
    "# except:\n",
    "# \tprint('Error :-(')\n",
    "\n"
   ]
  },
  {
   "cell_type": "code",
   "execution_count": null,
   "metadata": {},
   "outputs": [],
   "source": [
    "## test getting simple name from fpath\n",
    "os.path.basename(txt_files[0])"
   ]
  },
  {
   "cell_type": "code",
   "execution_count": null,
   "metadata": {},
   "outputs": [],
   "source": [
    "## combine into 1 list of strings\n",
    "report = {}\n",
    "for file in txt_files:\n",
    "\tsimple_fname = os.path.basename(file).replace('.txt','')\n",
    "\twith open(file) as f:\n",
    "\t\treport[simple_fname] =f.read()\n",
    "\t\t\n",
    "report.keys()"
   ]
  },
  {
   "cell_type": "code",
   "execution_count": null,
   "metadata": {},
   "outputs": [],
   "source": [
    "\n",
    "if os.path.isfile(bash_profile):\n",
    "\tshell_profile = bash_profile\n",
    "elif os.path.isfile(zshrc):\n",
    "\tshell_profile = zshrc\n",
    "else:\n",
    "\traise Exception(\"Neither exists\")\n",
    "\n",
    "with open(shell_profile) as f:\n",
    "\tordered_report.append({shell_profile:f.read()})\n",
    "## As long as its \n",
    "ordered_report[0]"
   ]
  },
  {
   "cell_type": "code",
   "execution_count": null,
   "metadata": {},
   "outputs": [],
   "source": [
    "report_list = []\n",
    "banner = \"====\"*20\n",
    "\n",
    "for report_dict in ordered_report:\n",
    "\tfor name, txt_report in report_dict.items():\n",
    "\t\t\n",
    "\t\t## Start report piece with banner\n",
    "\t\treport_piece = f\"{banner}\\n- [i] {name}:\\n{banner}\\n\"\n",
    "\t\t\n",
    "\t\t## Split System Path for readability\n",
    "\t\tif name == \"shell_path\":\n",
    "\t\t\ttxt_report = txt_report.replace(\":\",\"\\n:\")\n",
    "\t\t\t\n",
    "\t\t## Append file's contents\n",
    "\t\treport_piece += txt_report\n",
    "\t\t\n",
    "\t\treport_list.append(report_piece)\n",
    "\t\t\n",
    "\n",
    "\n",
    "with open('FINAL_REPORT.txt','w') as f:\n",
    "\tf.write(f\"{banner}\\n\\n\".join(report_list))\n",
    "# print()"
   ]
  },
  {
   "cell_type": "code",
   "execution_count": null,
   "metadata": {},
   "outputs": [],
   "source": [
    "with open(\"FINAL_REPORT.txt\") as f:\n",
    "\tfinal_report = f.read()\n",
    "print(final_report)"
   ]
  },
  {
   "cell_type": "code",
   "execution_count": null,
   "metadata": {},
   "outputs": [],
   "source": [
    "raise Exception(\"WIP Below.\")"
   ]
  },
  {
   "cell_type": "markdown",
   "metadata": {},
   "source": [
    "## BOOKMARK: WIP BELOW"
   ]
  },
  {
   "cell_type": "markdown",
   "metadata": {},
   "source": [
    "- Testing getting $PATH saved to file."
   ]
  },
  {
   "cell_type": "code",
   "execution_count": null,
   "metadata": {},
   "outputs": [],
   "source": [
    "import sys\n",
    "sorted(sys.path)"
   ]
  },
  {
   "cell_type": "code",
   "execution_count": null,
   "metadata": {},
   "outputs": [],
   "source": [
    "import sys\n",
    "print(':'.join(x for x in sorted(sys.path) if x))\n"
   ]
  },
  {
   "cell_type": "markdown",
   "metadata": {},
   "source": [
    "##"
   ]
  }
 ],
 "metadata": {
  "kernelspec": {
   "display_name": "Python 3.8.13 ('dojo-env')",
   "language": "python",
   "name": "python3"
  },
  "language_info": {
   "codemirror_mode": {
    "name": "ipython",
    "version": 3
   },
   "file_extension": ".py",
   "mimetype": "text/x-python",
   "name": "python",
   "nbconvert_exporter": "python",
   "pygments_lexer": "ipython3",
   "version": "3.8.13"
  },
  "orig_nbformat": 4,
  "vscode": {
   "interpreter": {
    "hash": "295804e8e014c2a214e7062c757c6b8addd86bbffb9090c97cdc9a271490da83"
   }
  }
 },
 "nbformat": 4,
 "nbformat_minor": 2
}
